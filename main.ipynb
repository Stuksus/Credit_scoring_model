{
 "cells": [
  {
   "cell_type": "markdown",
   "metadata": {
    "toc": true
   },
   "source": [
    "<h1>Содержание<span class=\"tocSkip\"></span></h1>\n",
    "<div class=\"toc\"><ul class=\"toc-item\"><li><span><a href=\"#Импорт-библиотек\" data-toc-modified-id=\"Импорт-библиотек-1\"><span class=\"toc-item-num\">1&nbsp;&nbsp;</span>Импорт библиотек</a></span></li><li><span><a href=\"#Дополнительные-функции\" data-toc-modified-id=\"Дополнительные-функции-2\"><span class=\"toc-item-num\">2&nbsp;&nbsp;</span>Дополнительные функции</a></span></li><li><span><a href=\"#Загрузка-данных\" data-toc-modified-id=\"Загрузка-данных-3\"><span class=\"toc-item-num\">3&nbsp;&nbsp;</span>Загрузка данных</a></span><ul class=\"toc-item\"><li><span><a href=\"#Посмотрим-все-фалы-в-нашем-распоряжении\" data-toc-modified-id=\"Посмотрим-все-фалы-в-нашем-распоряжении-3.1\"><span class=\"toc-item-num\">3.1&nbsp;&nbsp;</span>Посмотрим все фалы в нашем распоряжении</a></span><ul class=\"toc-item\"><li><span><a href=\"#data-dict\" data-toc-modified-id=\"data-dict-3.1.1\"><span class=\"toc-item-num\">3.1.1&nbsp;&nbsp;</span>data-dict</a></span><ul class=\"toc-item\"><li><span><a href=\"#Вывод:\" data-toc-modified-id=\"Вывод:-3.1.1.1\"><span class=\"toc-item-num\">3.1.1.1&nbsp;&nbsp;</span>Вывод:</a></span></li></ul></li><li><span><a href=\"#sampleEntry\" data-toc-modified-id=\"sampleEntry-3.1.2\"><span class=\"toc-item-num\">3.1.2&nbsp;&nbsp;</span>sampleEntry</a></span><ul class=\"toc-item\"><li><span><a href=\"#Вывод:\" data-toc-modified-id=\"Вывод:-3.1.2.1\"><span class=\"toc-item-num\">3.1.2.1&nbsp;&nbsp;</span>Вывод:</a></span></li></ul></li><li><span><a href=\"#cs-test\" data-toc-modified-id=\"cs-test-3.1.3\"><span class=\"toc-item-num\">3.1.3&nbsp;&nbsp;</span>cs-test</a></span><ul class=\"toc-item\"><li><span><a href=\"#Выводы\" data-toc-modified-id=\"Выводы-3.1.3.1\"><span class=\"toc-item-num\">3.1.3.1&nbsp;&nbsp;</span>Выводы</a></span></li></ul></li><li><span><a href=\"#cs-training\" data-toc-modified-id=\"cs-training-3.1.4\"><span class=\"toc-item-num\">3.1.4&nbsp;&nbsp;</span>cs-training</a></span><ul class=\"toc-item\"><li><span><a href=\"#Выводы\" data-toc-modified-id=\"Выводы-3.1.4.1\"><span class=\"toc-item-num\">3.1.4.1&nbsp;&nbsp;</span>Выводы</a></span></li></ul></li></ul></li><li><span><a href=\"#Выводы\" data-toc-modified-id=\"Выводы-3.2\"><span class=\"toc-item-num\">3.2&nbsp;&nbsp;</span>Выводы</a></span></li><li><span><a href=\"#Текст-до-обработки\" data-toc-modified-id=\"Текст-до-обработки-3.3\"><span class=\"toc-item-num\">3.3&nbsp;&nbsp;</span>Текст до обработки</a></span></li></ul></li><li><span><a href=\"#Анализ-данных\" data-toc-modified-id=\"Анализ-данных-4\"><span class=\"toc-item-num\">4&nbsp;&nbsp;</span>Анализ данных</a></span><ul class=\"toc-item\"><li><span><a href=\"#Анализ-параметра-serious_loan\" data-toc-modified-id=\"Анализ-параметра-serious_loan-4.1\"><span class=\"toc-item-num\">4.1&nbsp;&nbsp;</span>Анализ параметра serious_loan</a></span></li><li><span><a href=\"#Анализ-параметра-age\" data-toc-modified-id=\"Анализ-параметра-age-4.2\"><span class=\"toc-item-num\">4.2&nbsp;&nbsp;</span>Анализ параметра age</a></span></li><li><span><a href=\"#Анализ-параметра-financial_state_rate\" data-toc-modified-id=\"Анализ-параметра-financial_state_rate-4.3\"><span class=\"toc-item-num\">4.3&nbsp;&nbsp;</span>Анализ параметра financial_state_rate</a></span></li><li><span><a href=\"#Анализ-параметра-count_of_small_past_due\" data-toc-modified-id=\"Анализ-параметра-count_of_small_past_due-4.4\"><span class=\"toc-item-num\">4.4&nbsp;&nbsp;</span>Анализ параметра count_of_small_past_due</a></span></li><li><span><a href=\"#Анализ-параметра-debt_ratio\" data-toc-modified-id=\"Анализ-параметра-debt_ratio-4.5\"><span class=\"toc-item-num\">4.5&nbsp;&nbsp;</span>Анализ параметра debt_ratio</a></span></li><li><span><a href=\"#Анализ-параметра-monthly_income\" data-toc-modified-id=\"Анализ-параметра-monthly_income-4.6\"><span class=\"toc-item-num\">4.6&nbsp;&nbsp;</span>Анализ параметра monthly_income</a></span></li><li><span><a href=\"#Анализ-параметра-number_of_credit_lines\" data-toc-modified-id=\"Анализ-параметра-number_of_credit_lines-4.7\"><span class=\"toc-item-num\">4.7&nbsp;&nbsp;</span>Анализ параметра number_of_credit_lines</a></span></li><li><span><a href=\"#Анализ-параметра-count_of_big_past_due\" data-toc-modified-id=\"Анализ-параметра-count_of_big_past_due-4.8\"><span class=\"toc-item-num\">4.8&nbsp;&nbsp;</span>Анализ параметра count_of_big_past_due</a></span></li><li><span><a href=\"#Анализ-параметра-number_of_estate_loans\" data-toc-modified-id=\"Анализ-параметра-number_of_estate_loans-4.9\"><span class=\"toc-item-num\">4.9&nbsp;&nbsp;</span>Анализ параметра number_of_estate_loans</a></span></li><li><span><a href=\"#Анализ-параметра-count_of_medium_past_due\" data-toc-modified-id=\"Анализ-параметра-count_of_medium_past_due-4.10\"><span class=\"toc-item-num\">4.10&nbsp;&nbsp;</span>Анализ параметра count_of_medium_past_due</a></span></li><li><span><a href=\"#Анализ-параметра-number_of_dependents\" data-toc-modified-id=\"Анализ-параметра-number_of_dependents-4.11\"><span class=\"toc-item-num\">4.11&nbsp;&nbsp;</span>Анализ параметра number_of_dependents</a></span></li><li><span><a href=\"#Проверка-на-дубликаты\" data-toc-modified-id=\"Проверка-на-дубликаты-4.12\"><span class=\"toc-item-num\">4.12&nbsp;&nbsp;</span>Проверка на дубликаты</a></span></li><li><span><a href=\"#Посмотрим-на-выбросы\" data-toc-modified-id=\"Посмотрим-на-выбросы-4.13\"><span class=\"toc-item-num\">4.13&nbsp;&nbsp;</span>Посмотрим на выбросы</a></span></li><li><span><a href=\"#Анализ-пременных-по-WOE-и-IV\" data-toc-modified-id=\"Анализ-пременных-по-WOE-и-IV-4.14\"><span class=\"toc-item-num\">4.14&nbsp;&nbsp;</span>Анализ пременных по WOE и IV</a></span><ul class=\"toc-item\"><li><span><a href=\"#IV-diagram\" data-toc-modified-id=\"IV-diagram-4.14.1\"><span class=\"toc-item-num\">4.14.1&nbsp;&nbsp;</span>IV diagram</a></span></li></ul></li><li><span><a href=\"#Теперь,-когда-выборка-обработана-перейдем-к-более-подробному-ее-разбору\" data-toc-modified-id=\"Теперь,-когда-выборка-обработана-перейдем-к-более-подробному-ее-разбору-4.15\"><span class=\"toc-item-num\">4.15&nbsp;&nbsp;</span>Теперь, когда выборка обработана перейдем к более подробному ее разбору</a></span></li></ul></li><li><span><a href=\"#Разделение-на-выборки\" data-toc-modified-id=\"Разделение-на-выборки-5\"><span class=\"toc-item-num\">5&nbsp;&nbsp;</span>Разделение на выборки</a></span></li><li><span><a href=\"#Обучение\" data-toc-modified-id=\"Обучение-6\"><span class=\"toc-item-num\">6&nbsp;&nbsp;</span>Обучение</a></span><ul class=\"toc-item\"><li><span><a href=\"#Random-Forest\" data-toc-modified-id=\"Random-Forest-6.1\"><span class=\"toc-item-num\">6.1&nbsp;&nbsp;</span>Random Forest</a></span></li><li><span><a href=\"#SVM\" data-toc-modified-id=\"SVM-6.2\"><span class=\"toc-item-num\">6.2&nbsp;&nbsp;</span>SVM</a></span></li><li><span><a href=\"#Catboost\" data-toc-modified-id=\"Catboost-6.3\"><span class=\"toc-item-num\">6.3&nbsp;&nbsp;</span>Catboost</a></span></li><li><span><a href=\"#Log-reg\" data-toc-modified-id=\"Log-reg-6.4\"><span class=\"toc-item-num\">6.4&nbsp;&nbsp;</span>Log reg</a></span></li><li><span><a href=\"#Произведем-расчет-кредитного-риска\" data-toc-modified-id=\"Произведем-расчет-кредитного-риска-6.5\"><span class=\"toc-item-num\">6.5&nbsp;&nbsp;</span>Произведем расчет кредитного риска</a></span></li><li><span><a href=\"#Baseline-model\" data-toc-modified-id=\"Baseline-model-6.6\"><span class=\"toc-item-num\">6.6&nbsp;&nbsp;</span>Baseline model</a></span></li></ul></li><li><span><a href=\"#Тест\" data-toc-modified-id=\"Тест-7\"><span class=\"toc-item-num\">7&nbsp;&nbsp;</span>Тест</a></span><ul class=\"toc-item\"><li><span><a href=\"#Тест-1\" data-toc-modified-id=\"Тест-1-7.1\"><span class=\"toc-item-num\">7.1&nbsp;&nbsp;</span>Тест 1</a></span></li><li><span><a href=\"#Тест-2\" data-toc-modified-id=\"Тест-2-7.2\"><span class=\"toc-item-num\">7.2&nbsp;&nbsp;</span>Тест 2</a></span></li></ul></li></ul></div>"
   ]
  },
  {
   "cell_type": "markdown",
   "metadata": {},
   "source": [
    "# Импорт библиотек \n"
   ]
  },
  {
   "cell_type": "code",
   "execution_count": 117,
   "metadata": {},
   "outputs": [],
   "source": [
    "import pandas as pd\n",
    "import numpy as np\n",
    "import matplotlib.pyplot as plt\n",
    "import seaborn as sns\n",
    "from sklearn.pipeline import make_pipeline\n",
    "from sklearn.preprocessing import StandardScaler\n",
    "from sklearn.model_selection import train_test_split\n",
    "from sklearn.model_selection import GridSearchCV\n",
    "from sklearn.svm import SVC\n",
    "from sklearn.ensemble import RandomForestClassifier\n",
    "from sklearn.linear_model import LogisticRegression\n",
    "from sklearn.metrics import auc\n",
    "from sklearn.metrics import roc_curve\n",
    "from sklearn.metrics import f1_score\n",
    "from sklearn.metrics import accuracy_score\n",
    "from catboost import CatBoostClassifier, Pool\n",
    "from sklearn.metrics import confusion_matrix\n",
    "from tqdm import tqdm\n",
    "# import imblearn\n",
    "from imblearn.over_sampling import SMOTE\n",
    "from imblearn.pipeline import Pipeline\n",
    "# from wing import WingsOfEvidence\n",
    "from sklearn.metrics import fbeta_score\n",
    "from pdpbox import pdp, get_dataset, info_plots\n",
    "import scipy\n",
    "from sklearn.feature_selection import RFECV\n",
    "from sklearn.model_selection import StratifiedKFold\n",
    "from sklearn.decomposition import PCA\n",
    "import random\n",
    "from sklearn.metrics import roc_auc_score\n",
    "from sklearn.dummy import DummyClassifier"
   ]
  },
  {
   "cell_type": "markdown",
   "metadata": {},
   "source": [
    "# Дополнительные функции"
   ]
  },
  {
   "cell_type": "code",
   "execution_count": 102,
   "metadata": {},
   "outputs": [],
   "source": [
    "def get_info_start(frame):\n",
    "    \"\"\"\n",
    "    Процедура выводит краткую информацию о переданной таблице\n",
    "    \"\"\"\n",
    "    # Размер таблицы\n",
    "    print(\"Размеры данных: \",frame.shape)\n",
    "    # Имена столбцов\n",
    "    print(\"Имена столбцов: \",frame.columns.values)\n",
    "    # Отображение первых пяти строк таблицы\n",
    "    display(frame.head())\n",
    "    \n",
    "def removing_outliers(column,frame, count = 0,total_outliers = 0):\n",
    "        \"\"\"\n",
    "        Метод удаления выбросов с помощью межквартильного размаха\n",
    "        \"\"\"\n",
    "        # Получим квантиль 25%\n",
    "        q25=np.array(frame[column].describe(percentiles=[.25,.75]).loc['25%'])\n",
    "        # Получим квантиль 75%\n",
    "        q75=np.array(frame[column].describe(percentiles=[.25,.75]).loc['75%'])\n",
    "        # Получим первую границу\n",
    "        first_part=q25-1.5*(q75-q25)\n",
    "        # Получим 2 границу\n",
    "        second_part=q75+1.5*(q75-q25)\n",
    "        # Инициализируем список для индексов, подготовленных к удалению\n",
    "        index_del= []\n",
    "        # Переберем все значения и проверим на принадлежность к установленному отрезку\n",
    "        for index, element in enumerate(frame[column]):\n",
    "            if first_part > element or second_part< element:\n",
    "                index_del.extend(frame[frame[column] == element].index)\n",
    "        index_del= list(set(index_del))\n",
    "        leng = len(index_del)\n",
    "        count += 1\n",
    "        \n",
    "        # Удалим выбранные индексы\n",
    "        frame = frame.drop(index_del,axis=0)\n",
    "        if leng > 0:\n",
    "            frame,leng,total_outliers = removing_outliers(column,frame, count,total_outliers+leng)\n",
    "        else:\n",
    "            print('Количество строк, выбранных для удаления {}: {}. Количество итераций {}'.format(column,total_outliers,count),end = \"\\n\\n\")\n",
    "        return frame,leng,total_outliers\n",
    "\n",
    "def best_threshold(target_vector,predictions,model_name,beta = 1):\n",
    "    # Первичное получение данных метрики ROC-кривой\n",
    "    fpr, tpr, thresholds = roc_curve(np.array(target_vector), predictions, pos_label=1)\n",
    "    best_accuracy = 0\n",
    "    best_f1 = 0\n",
    "    best_threshold = -1\n",
    "    best_threshold_f1 = -1\n",
    "    #Найдем площадь под кривой\n",
    "    auc_value = round(auc(fpr,tpr),2)\n",
    "    \n",
    "    #Если площадь будеть меньше 0.5, это означает, что нужно нужно вычесть каждую вероятность из 1\n",
    "    if auc_value < 0.5:\n",
    "        predictions = 1 - predictions\n",
    "        fpr, tpr, thresholds = roc_curve(np.array(target_vector), predictions, pos_label=1)\n",
    "        auc_value = round(auc(fpr,tpr),2)\n",
    "        \n",
    "    # переберем все пороги в поисках наилучшей точности\n",
    "    for threshold in thresholds:\n",
    "        pre_marker = np.array(predictions > threshold)\n",
    "        accuracy = accuracy_score(target_vector,pre_marker)\n",
    "        if accuracy > best_accuracy:\n",
    "            best_accuracy = accuracy\n",
    "            best_threshold = threshold\n",
    "\n",
    "    for threshold in thresholds:\n",
    "        pre_marker = np.array(predictions > threshold)\n",
    "        f1_threshold = fbeta_score(target_vector,pre_marker,beta)\n",
    "        if f1_threshold > best_f1:\n",
    "            best_f1 = f1_threshold\n",
    "            best_threshold_f1 = threshold\n",
    "            \n",
    "    #Построим ROC-кривую\n",
    "    fig,ax = plt.subplots(figsize= (10,5))\n",
    "    ax.plot(np.arange(0,1.1,0.1),np.arange(0,1.1,0.1),label = 'BaseLine',ls = '--')\n",
    "    ax.plot(fpr,\n",
    "            tpr,\n",
    "            label = f\"{model_name} (area = {auc_value}, best_accuracy = {best_accuracy}, best_fbeta = {best_f1},beta = {beta})\")\n",
    "    ax.legend()\n",
    "    ax.set_xlim((0,1))\n",
    "    ax.set_ylim((0,1))\n",
    "    print(\"Best f1: {}, threshold: {}\".format(best_f1,best_threshold_f1))\n",
    "    print(\"Best accuracy: {}, threshold: {}\".format(best_accuracy,best_threshold))\n",
    "\n",
    "    \n",
    "    \n",
    "def graph_for_best_bin(DF,X,Y,n=5,q=20,graph=True):\n",
    "\n",
    "    DF = DF[[X,Y]].copy()\n",
    "    bins_df = 0\n",
    "\n",
    "    # 先把数据分成q箱\n",
    "    DF['qcut'], bins = pd.qcut(DF[X],retbins=True,q=q,duplicates='drop')\n",
    "    count_y0 = DF[DF[Y]==0].groupby(by='qcut').count()[Y]\n",
    "    count_y1 = DF[DF[Y]==1].groupby(by='qcut').count()[Y]\n",
    "    num_bins = [*zip(bins,bins[1:],count_y0,count_y1)]\n",
    "    # разобрать\n",
    "    for i in range(q):\n",
    "        if 0 in num_bins[0][2:]:\n",
    "            num_bins[0:2] = [(num_bins[0][0],\n",
    "                    num_bins[1][1],\n",
    "                    num_bins[0][2]+num_bins[1][2],\n",
    "                    num_bins[0][3]+num_bins[1][3]\n",
    "                    )]\n",
    "            continue\n",
    "\n",
    "        for i in range(len(num_bins)):\n",
    "            if 0 in num_bins[i][2:]:\n",
    "                num_bins[i-1:i+1] = [(num_bins[i-1][0],\n",
    "                        num_bins[i][1],\n",
    "                        num_bins[i-1][2]+num_bins[i][2],\n",
    "                        num_bins[i-1][3]+num_bins[i][3]\n",
    "                        )]\n",
    "            break\n",
    "        else:\n",
    "            break\n",
    "\n",
    "    \n",
    "    def get_woe(num_bins):\n",
    "        columns = ['min','max','count_0','count_1']\n",
    "        df = pd.DataFrame(num_bins,columns=columns)\n",
    "\n",
    "        df['total'] = df.count_0 + df.count_1   \n",
    "        df['percentage'] = df.total / df.total.sum()    \n",
    "        df['bad_rate'] = df.count_1 / df.total  \n",
    "        df['good%'] = df.count_0 / df.count_0.sum()\n",
    "        df['bad%'] = df.count_1 / df.count_1.sum()\n",
    "        df['woe'] = np.log(df['good%']/df['bad%'])\n",
    "        return df\n",
    "\n",
    "    \n",
    "    def get_iv(df):\n",
    "        rate = df['good%'] - df['bad%']\n",
    "        iv = np.sum(rate * df.woe)\n",
    "        return iv\n",
    "\n",
    "    \n",
    "    IV = []\n",
    "    axisx = []\n",
    "\n",
    "    while len(num_bins) > n:\n",
    "        pvs = []\n",
    "        for i in range(len(num_bins)-1):\n",
    "            x1 = num_bins[i][2:]\n",
    "            x2 = num_bins[i+1][2:]\n",
    "            pv = scipy.stats.chi2_contingency([x1,x2])[1]\n",
    "            pvs.append(pv)\n",
    "\n",
    "        i = pvs.index(max(pvs))\n",
    "        num_bins[i:i+2] = [( num_bins[i][0],\n",
    "                    num_bins[i+1][1],\n",
    "                    num_bins[i][2]+num_bins[i+1][2],\n",
    "                    num_bins[i][3]+num_bins[i+1][3])]\n",
    "        bins_df = get_woe(num_bins)\n",
    "        axisx.append(len(num_bins))\n",
    "        IV.append(get_iv(bins_df))\n",
    "\n",
    "    if graph:\n",
    "            plt.figure()\n",
    "            plt.plot(axisx,IV)\n",
    "\n",
    "            plt.xticks(axisx)\n",
    "            plt.xlabel('number of box')\n",
    "            plt.ylabel('IV value')\n",
    "            plt.show()\n",
    "\n",
    "    return bins_df\n",
    "\n",
    "def calculate_woe_iv(dataset, feature, target):\n",
    "    lst = []\n",
    "    for i in range(dataset[feature].nunique()):\n",
    "        val = list(dataset[feature].unique())[i]\n",
    "        lst.append({\n",
    "            'Value': val,\n",
    "            'All': dataset[dataset[feature] == val].count()[feature],\n",
    "            'Good': dataset[(dataset[feature] == val) & (dataset[target] == 0)].count()[feature],\n",
    "            'Bad': dataset[(dataset[feature] == val) & (dataset[target] == 1)].count()[feature]\n",
    "        })\n",
    "        \n",
    "    dset = pd.DataFrame(lst)\n",
    "    dset['Distr_Good'] = dset['Good'] / dset['Good'].sum()\n",
    "    dset['Distr_Bad'] = dset['Bad'] / dset['Bad'].sum()\n",
    "    dset['WoE'] = np.log(dset['Distr_Good'] / dset['Distr_Bad'])\n",
    "    dset = dset.replace({'WoE': {np.inf: 0, -np.inf: 0}})\n",
    "    dset['IV'] = (dset['Distr_Good'] - dset['Distr_Bad']) * dset['WoE']\n",
    "    iv = dset['IV'].sum()\n",
    "    \n",
    "    dset = dset.sort_values(by='WoE')\n",
    "    \n",
    "    return dset, iv\n",
    "\n",
    "def RFE_feature_selection(clf_lr, X, y):\n",
    "    rfecv = RFECV(estimator=clf_lr, step=1, cv=StratifiedKFold(5), verbose=0, scoring='roc_auc')\n",
    "    rfecv.fit(X, y)\n",
    "\n",
    "    print(\"Optimal number of features : %d\" % rfecv.n_features_)\n",
    "\n",
    "    # Plot number of features VS. cross-validation scores\n",
    "    f, ax = plt.subplots(figsize=(14, 9))\n",
    "    plt.xlabel(\"Number of features selected\")\n",
    "    plt.ylabel(\"Cross validation score (nb of correct classifications)\")\n",
    "    plt.plot(range(1, len(rfecv.grid_scores_) + 1), rfecv.grid_scores_)\n",
    "    plt.show()\n",
    "    mask = rfecv.get_support()\n",
    "    X = X.iloc[:, mask]\n",
    "    return X\n",
    "def gen_debt(mu,sigma,return_count,total_count):\n",
    "    mu, sigma = mu, sigma\n",
    "    s = np.random.normal(mu, sigma, total_count)\n",
    "    plt.hist(s)\n",
    "    debt = s[random.sample(range(total_count), return_count)]\n",
    "    return debt\n",
    "def benefit_plot(design_matrix,target,\n",
    "                 proba,thr_counts,debt_for_target,\n",
    "                 r=0.05,lgd= 0.2):\n",
    "    \"\"\"\n",
    "    \n",
    "    \"\"\"\n",
    "\n",
    "\n",
    "    thr = np.linspace(0,1,thr_counts)\n",
    "    plt.subplots(figsize = (20,5))\n",
    "\n",
    "    benefit = []\n",
    "    c_acceptance_rate = []\n",
    "    for t in thr:\n",
    "        c_acceptance_rate += [(len(proba) - np.sum((proba>t)*1.))/len(proba)]\n",
    "        TN_sum = 0\n",
    "        FN_sum = 0\n",
    "        for y,prob,debt in zip(target,proba,debt_for_target):\n",
    "                e_fp = r*debt\n",
    "                e_fn = lgd*debt\n",
    "                if (prob > t)*1. == 0 and y ==0:\n",
    "                    TN_sum += e_fp\n",
    "                elif (prob > t)*1. == 0 and y == 1:\n",
    "                    FN_sum += e_fn\n",
    "        benefit += [(TN_sum - FN_sum,t)]\n",
    "            \n",
    "    \n",
    "    fpr,tpr,_ = roc_curve(target,proba)\n",
    "    gini = 2 * roc_auc_score(target,proba) - 1\n",
    "    max_benefit_params = sorted(benefit,reverse=True, key = lambda x: x[0])[0]\n",
    "    print('gini',np.round(gini,2))\n",
    "    print('max benefit',max_benefit_params[0])\n",
    "    print('best_threshold',max_benefit_params[1])\n",
    "    benefit_for_plot = [x[0] for x in benefit]\n",
    "    plt.plot(thr,benefit_for_plot)\n",
    "    plt.plot(c_acceptance_rate[np.argmax(benefit_for_plot)],\n",
    "            np.max(benefit_for_plot))\n",
    "    plt.title('benefit curve')\n",
    "    plt.xlabel('threshold')\n",
    "    plt.ylabel('benefit')\n",
    "    plt.grid()\n",
    "\n",
    "    \n",
    "def get_gini(target,proba):\n",
    "    return 2 * roc_auc_score(target,proba) - 1\n",
    "\n",
    "def get_TR(target):\n",
    "    return sum(target)/target.shape[0]\n",
    "\n",
    "def target_rate_test(fact_target,pred_target):\n",
    "    return abs(get_TR(fact_target) - get_TR(pred_target))/get_TR(fact_target)"
   ]
  },
  {
   "cell_type": "markdown",
   "metadata": {},
   "source": [
    "# Загрузка данных"
   ]
  },
  {
   "cell_type": "markdown",
   "metadata": {},
   "source": [
    "## Посмотрим все фалы в нашем распоряжении"
   ]
  },
  {
   "cell_type": "code",
   "execution_count": 3,
   "metadata": {},
   "outputs": [
    {
     "name": "stdout",
     "output_type": "stream",
     "text": [
      "bank-additional-full.csv cs-training.csv          sampleEntry.csv\r\n",
      "cs-test.csv              data-dict.xls\r\n"
     ]
    }
   ],
   "source": [
    "!ls ./datasets"
   ]
  },
  {
   "cell_type": "markdown",
   "metadata": {},
   "source": [
    "Мне предоставлено 4 файла. Рассмотрим каждый из них"
   ]
  },
  {
   "cell_type": "markdown",
   "metadata": {},
   "source": [
    "### data-dict\n"
   ]
  },
  {
   "cell_type": "code",
   "execution_count": 4,
   "metadata": {},
   "outputs": [],
   "source": [
    "# укажем параметры header = 1, чтобы корректно отобразить заголовки столбцов \n",
    "data_dict = pd.read_excel('./datasets/data-dict.xls',header=1)"
   ]
  },
  {
   "cell_type": "code",
   "execution_count": 5,
   "metadata": {
    "scrolled": true
   },
   "outputs": [
    {
     "name": "stdout",
     "output_type": "stream",
     "text": [
      "Размеры данных:  (11, 3)\n",
      "Имена столбцов:  ['Variable Name' 'Description' 'Type']\n"
     ]
    },
    {
     "data": {
      "text/html": [
       "<div>\n",
       "<style scoped>\n",
       "    .dataframe tbody tr th:only-of-type {\n",
       "        vertical-align: middle;\n",
       "    }\n",
       "\n",
       "    .dataframe tbody tr th {\n",
       "        vertical-align: top;\n",
       "    }\n",
       "\n",
       "    .dataframe thead th {\n",
       "        text-align: right;\n",
       "    }\n",
       "</style>\n",
       "<table border=\"1\" class=\"dataframe\">\n",
       "  <thead>\n",
       "    <tr style=\"text-align: right;\">\n",
       "      <th></th>\n",
       "      <th>Variable Name</th>\n",
       "      <th>Description</th>\n",
       "      <th>Type</th>\n",
       "    </tr>\n",
       "  </thead>\n",
       "  <tbody>\n",
       "    <tr>\n",
       "      <th>0</th>\n",
       "      <td>SeriousDlqin2yrs</td>\n",
       "      <td>Person experienced 90 days past due delinquenc...</td>\n",
       "      <td>Y/N</td>\n",
       "    </tr>\n",
       "    <tr>\n",
       "      <th>1</th>\n",
       "      <td>RevolvingUtilizationOfUnsecuredLines</td>\n",
       "      <td>Total balance on credit cards and personal lin...</td>\n",
       "      <td>percentage</td>\n",
       "    </tr>\n",
       "    <tr>\n",
       "      <th>2</th>\n",
       "      <td>age</td>\n",
       "      <td>Age of borrower in years</td>\n",
       "      <td>integer</td>\n",
       "    </tr>\n",
       "    <tr>\n",
       "      <th>3</th>\n",
       "      <td>NumberOfTime30-59DaysPastDueNotWorse</td>\n",
       "      <td>Number of times borrower has been 30-59 days p...</td>\n",
       "      <td>integer</td>\n",
       "    </tr>\n",
       "    <tr>\n",
       "      <th>4</th>\n",
       "      <td>DebtRatio</td>\n",
       "      <td>Monthly debt payments, alimony,living costs di...</td>\n",
       "      <td>percentage</td>\n",
       "    </tr>\n",
       "  </tbody>\n",
       "</table>\n",
       "</div>"
      ],
      "text/plain": [
       "                          Variable Name  \\\n",
       "0                      SeriousDlqin2yrs   \n",
       "1  RevolvingUtilizationOfUnsecuredLines   \n",
       "2                                   age   \n",
       "3  NumberOfTime30-59DaysPastDueNotWorse   \n",
       "4                             DebtRatio   \n",
       "\n",
       "                                         Description        Type  \n",
       "0  Person experienced 90 days past due delinquenc...         Y/N  \n",
       "1  Total balance on credit cards and personal lin...  percentage  \n",
       "2                           Age of borrower in years     integer  \n",
       "3  Number of times borrower has been 30-59 days p...     integer  \n",
       "4  Monthly debt payments, alimony,living costs di...  percentage  "
      ]
     },
     "metadata": {},
     "output_type": "display_data"
    }
   ],
   "source": [
    "get_info_start(data_dict)"
   ]
  },
  {
   "cell_type": "markdown",
   "metadata": {},
   "source": [
    "В данной таблице 3 столбца и 11 строк. Выведем их все"
   ]
  },
  {
   "cell_type": "code",
   "execution_count": 6,
   "metadata": {},
   "outputs": [
    {
     "data": {
      "text/html": [
       "<div>\n",
       "<style scoped>\n",
       "    .dataframe tbody tr th:only-of-type {\n",
       "        vertical-align: middle;\n",
       "    }\n",
       "\n",
       "    .dataframe tbody tr th {\n",
       "        vertical-align: top;\n",
       "    }\n",
       "\n",
       "    .dataframe thead th {\n",
       "        text-align: right;\n",
       "    }\n",
       "</style>\n",
       "<table border=\"1\" class=\"dataframe\">\n",
       "  <thead>\n",
       "    <tr style=\"text-align: right;\">\n",
       "      <th></th>\n",
       "      <th>Variable Name</th>\n",
       "      <th>Description</th>\n",
       "      <th>Type</th>\n",
       "    </tr>\n",
       "  </thead>\n",
       "  <tbody>\n",
       "    <tr>\n",
       "      <th>0</th>\n",
       "      <td>SeriousDlqin2yrs</td>\n",
       "      <td>Person experienced 90 days past due delinquenc...</td>\n",
       "      <td>Y/N</td>\n",
       "    </tr>\n",
       "    <tr>\n",
       "      <th>1</th>\n",
       "      <td>RevolvingUtilizationOfUnsecuredLines</td>\n",
       "      <td>Total balance on credit cards and personal lin...</td>\n",
       "      <td>percentage</td>\n",
       "    </tr>\n",
       "    <tr>\n",
       "      <th>2</th>\n",
       "      <td>age</td>\n",
       "      <td>Age of borrower in years</td>\n",
       "      <td>integer</td>\n",
       "    </tr>\n",
       "    <tr>\n",
       "      <th>3</th>\n",
       "      <td>NumberOfTime30-59DaysPastDueNotWorse</td>\n",
       "      <td>Number of times borrower has been 30-59 days p...</td>\n",
       "      <td>integer</td>\n",
       "    </tr>\n",
       "    <tr>\n",
       "      <th>4</th>\n",
       "      <td>DebtRatio</td>\n",
       "      <td>Monthly debt payments, alimony,living costs di...</td>\n",
       "      <td>percentage</td>\n",
       "    </tr>\n",
       "    <tr>\n",
       "      <th>5</th>\n",
       "      <td>MonthlyIncome</td>\n",
       "      <td>Monthly income</td>\n",
       "      <td>real</td>\n",
       "    </tr>\n",
       "    <tr>\n",
       "      <th>6</th>\n",
       "      <td>NumberOfOpenCreditLinesAndLoans</td>\n",
       "      <td>Number of Open loans (installment like car loa...</td>\n",
       "      <td>integer</td>\n",
       "    </tr>\n",
       "    <tr>\n",
       "      <th>7</th>\n",
       "      <td>NumberOfTimes90DaysLate</td>\n",
       "      <td>Number of times borrower has been 90 days or m...</td>\n",
       "      <td>integer</td>\n",
       "    </tr>\n",
       "    <tr>\n",
       "      <th>8</th>\n",
       "      <td>NumberRealEstateLoansOrLines</td>\n",
       "      <td>Number of mortgage and real estate loans inclu...</td>\n",
       "      <td>integer</td>\n",
       "    </tr>\n",
       "    <tr>\n",
       "      <th>9</th>\n",
       "      <td>NumberOfTime60-89DaysPastDueNotWorse</td>\n",
       "      <td>Number of times borrower has been 60-89 days p...</td>\n",
       "      <td>integer</td>\n",
       "    </tr>\n",
       "    <tr>\n",
       "      <th>10</th>\n",
       "      <td>NumberOfDependents</td>\n",
       "      <td>Number of dependents in family excluding thems...</td>\n",
       "      <td>integer</td>\n",
       "    </tr>\n",
       "  </tbody>\n",
       "</table>\n",
       "</div>"
      ],
      "text/plain": [
       "                           Variable Name  \\\n",
       "0                       SeriousDlqin2yrs   \n",
       "1   RevolvingUtilizationOfUnsecuredLines   \n",
       "2                                    age   \n",
       "3   NumberOfTime30-59DaysPastDueNotWorse   \n",
       "4                              DebtRatio   \n",
       "5                          MonthlyIncome   \n",
       "6        NumberOfOpenCreditLinesAndLoans   \n",
       "7                NumberOfTimes90DaysLate   \n",
       "8           NumberRealEstateLoansOrLines   \n",
       "9   NumberOfTime60-89DaysPastDueNotWorse   \n",
       "10                    NumberOfDependents   \n",
       "\n",
       "                                          Description        Type  \n",
       "0   Person experienced 90 days past due delinquenc...         Y/N  \n",
       "1   Total balance on credit cards and personal lin...  percentage  \n",
       "2                            Age of borrower in years     integer  \n",
       "3   Number of times borrower has been 30-59 days p...     integer  \n",
       "4   Monthly debt payments, alimony,living costs di...  percentage  \n",
       "5                                      Monthly income        real  \n",
       "6   Number of Open loans (installment like car loa...     integer  \n",
       "7   Number of times borrower has been 90 days or m...     integer  \n",
       "8   Number of mortgage and real estate loans inclu...     integer  \n",
       "9   Number of times borrower has been 60-89 days p...     integer  \n",
       "10  Number of dependents in family excluding thems...     integer  "
      ]
     },
     "execution_count": 6,
     "metadata": {},
     "output_type": "execute_result"
    }
   ],
   "source": [
    "data_dict"
   ]
  },
  {
   "cell_type": "markdown",
   "metadata": {},
   "source": [
    "#### Вывод: \n",
    "В данной таблице указаны имена переменных, их описание и тип"
   ]
  },
  {
   "cell_type": "markdown",
   "metadata": {},
   "source": [
    "### sampleEntry"
   ]
  },
  {
   "cell_type": "code",
   "execution_count": 7,
   "metadata": {},
   "outputs": [],
   "source": [
    "sampleEntry = pd.read_csv('./datasets/sampleEntry.csv')"
   ]
  },
  {
   "cell_type": "code",
   "execution_count": 8,
   "metadata": {},
   "outputs": [
    {
     "name": "stdout",
     "output_type": "stream",
     "text": [
      "Размеры данных:  (101503, 2)\n",
      "Имена столбцов:  ['Id' 'Probability']\n"
     ]
    },
    {
     "data": {
      "text/html": [
       "<div>\n",
       "<style scoped>\n",
       "    .dataframe tbody tr th:only-of-type {\n",
       "        vertical-align: middle;\n",
       "    }\n",
       "\n",
       "    .dataframe tbody tr th {\n",
       "        vertical-align: top;\n",
       "    }\n",
       "\n",
       "    .dataframe thead th {\n",
       "        text-align: right;\n",
       "    }\n",
       "</style>\n",
       "<table border=\"1\" class=\"dataframe\">\n",
       "  <thead>\n",
       "    <tr style=\"text-align: right;\">\n",
       "      <th></th>\n",
       "      <th>Id</th>\n",
       "      <th>Probability</th>\n",
       "    </tr>\n",
       "  </thead>\n",
       "  <tbody>\n",
       "    <tr>\n",
       "      <th>0</th>\n",
       "      <td>1</td>\n",
       "      <td>0.080807</td>\n",
       "    </tr>\n",
       "    <tr>\n",
       "      <th>1</th>\n",
       "      <td>2</td>\n",
       "      <td>0.040719</td>\n",
       "    </tr>\n",
       "    <tr>\n",
       "      <th>2</th>\n",
       "      <td>3</td>\n",
       "      <td>0.011968</td>\n",
       "    </tr>\n",
       "    <tr>\n",
       "      <th>3</th>\n",
       "      <td>4</td>\n",
       "      <td>0.067640</td>\n",
       "    </tr>\n",
       "    <tr>\n",
       "      <th>4</th>\n",
       "      <td>5</td>\n",
       "      <td>0.108264</td>\n",
       "    </tr>\n",
       "  </tbody>\n",
       "</table>\n",
       "</div>"
      ],
      "text/plain": [
       "   Id  Probability\n",
       "0   1     0.080807\n",
       "1   2     0.040719\n",
       "2   3     0.011968\n",
       "3   4     0.067640\n",
       "4   5     0.108264"
      ]
     },
     "metadata": {},
     "output_type": "display_data"
    }
   ],
   "source": [
    "get_info_start(sampleEntry)"
   ]
  },
  {
   "cell_type": "markdown",
   "metadata": {},
   "source": [
    "#### Вывод:\n",
    "Основываясь на полученных выше параметрах можно заключить, что в данной таблице храниться пример сабмита. В дальнейшем эта таблица нам не понадобиться, поэтому ее можно удалить"
   ]
  },
  {
   "cell_type": "code",
   "execution_count": 9,
   "metadata": {},
   "outputs": [],
   "source": [
    "del sampleEntry"
   ]
  },
  {
   "cell_type": "markdown",
   "metadata": {},
   "source": [
    "### cs-test"
   ]
  },
  {
   "cell_type": "code",
   "execution_count": 10,
   "metadata": {},
   "outputs": [],
   "source": [
    "cs_test = pd.read_csv(\"./datasets/cs-test.csv\")"
   ]
  },
  {
   "cell_type": "code",
   "execution_count": 11,
   "metadata": {},
   "outputs": [
    {
     "name": "stdout",
     "output_type": "stream",
     "text": [
      "Размеры данных:  (101503, 12)\n",
      "Имена столбцов:  ['Unnamed: 0' 'SeriousDlqin2yrs' 'RevolvingUtilizationOfUnsecuredLines'\n",
      " 'age' 'NumberOfTime30-59DaysPastDueNotWorse' 'DebtRatio' 'MonthlyIncome'\n",
      " 'NumberOfOpenCreditLinesAndLoans' 'NumberOfTimes90DaysLate'\n",
      " 'NumberRealEstateLoansOrLines' 'NumberOfTime60-89DaysPastDueNotWorse'\n",
      " 'NumberOfDependents']\n"
     ]
    },
    {
     "data": {
      "text/html": [
       "<div>\n",
       "<style scoped>\n",
       "    .dataframe tbody tr th:only-of-type {\n",
       "        vertical-align: middle;\n",
       "    }\n",
       "\n",
       "    .dataframe tbody tr th {\n",
       "        vertical-align: top;\n",
       "    }\n",
       "\n",
       "    .dataframe thead th {\n",
       "        text-align: right;\n",
       "    }\n",
       "</style>\n",
       "<table border=\"1\" class=\"dataframe\">\n",
       "  <thead>\n",
       "    <tr style=\"text-align: right;\">\n",
       "      <th></th>\n",
       "      <th>Unnamed: 0</th>\n",
       "      <th>SeriousDlqin2yrs</th>\n",
       "      <th>RevolvingUtilizationOfUnsecuredLines</th>\n",
       "      <th>age</th>\n",
       "      <th>NumberOfTime30-59DaysPastDueNotWorse</th>\n",
       "      <th>DebtRatio</th>\n",
       "      <th>MonthlyIncome</th>\n",
       "      <th>NumberOfOpenCreditLinesAndLoans</th>\n",
       "      <th>NumberOfTimes90DaysLate</th>\n",
       "      <th>NumberRealEstateLoansOrLines</th>\n",
       "      <th>NumberOfTime60-89DaysPastDueNotWorse</th>\n",
       "      <th>NumberOfDependents</th>\n",
       "    </tr>\n",
       "  </thead>\n",
       "  <tbody>\n",
       "    <tr>\n",
       "      <th>0</th>\n",
       "      <td>1</td>\n",
       "      <td>NaN</td>\n",
       "      <td>0.885519</td>\n",
       "      <td>43</td>\n",
       "      <td>0</td>\n",
       "      <td>0.177513</td>\n",
       "      <td>5700.0</td>\n",
       "      <td>4</td>\n",
       "      <td>0</td>\n",
       "      <td>0</td>\n",
       "      <td>0</td>\n",
       "      <td>0.0</td>\n",
       "    </tr>\n",
       "    <tr>\n",
       "      <th>1</th>\n",
       "      <td>2</td>\n",
       "      <td>NaN</td>\n",
       "      <td>0.463295</td>\n",
       "      <td>57</td>\n",
       "      <td>0</td>\n",
       "      <td>0.527237</td>\n",
       "      <td>9141.0</td>\n",
       "      <td>15</td>\n",
       "      <td>0</td>\n",
       "      <td>4</td>\n",
       "      <td>0</td>\n",
       "      <td>2.0</td>\n",
       "    </tr>\n",
       "    <tr>\n",
       "      <th>2</th>\n",
       "      <td>3</td>\n",
       "      <td>NaN</td>\n",
       "      <td>0.043275</td>\n",
       "      <td>59</td>\n",
       "      <td>0</td>\n",
       "      <td>0.687648</td>\n",
       "      <td>5083.0</td>\n",
       "      <td>12</td>\n",
       "      <td>0</td>\n",
       "      <td>1</td>\n",
       "      <td>0</td>\n",
       "      <td>2.0</td>\n",
       "    </tr>\n",
       "    <tr>\n",
       "      <th>3</th>\n",
       "      <td>4</td>\n",
       "      <td>NaN</td>\n",
       "      <td>0.280308</td>\n",
       "      <td>38</td>\n",
       "      <td>1</td>\n",
       "      <td>0.925961</td>\n",
       "      <td>3200.0</td>\n",
       "      <td>7</td>\n",
       "      <td>0</td>\n",
       "      <td>2</td>\n",
       "      <td>0</td>\n",
       "      <td>0.0</td>\n",
       "    </tr>\n",
       "    <tr>\n",
       "      <th>4</th>\n",
       "      <td>5</td>\n",
       "      <td>NaN</td>\n",
       "      <td>1.000000</td>\n",
       "      <td>27</td>\n",
       "      <td>0</td>\n",
       "      <td>0.019917</td>\n",
       "      <td>3865.0</td>\n",
       "      <td>4</td>\n",
       "      <td>0</td>\n",
       "      <td>0</td>\n",
       "      <td>0</td>\n",
       "      <td>1.0</td>\n",
       "    </tr>\n",
       "  </tbody>\n",
       "</table>\n",
       "</div>"
      ],
      "text/plain": [
       "   Unnamed: 0  SeriousDlqin2yrs  RevolvingUtilizationOfUnsecuredLines  age  \\\n",
       "0           1               NaN                              0.885519   43   \n",
       "1           2               NaN                              0.463295   57   \n",
       "2           3               NaN                              0.043275   59   \n",
       "3           4               NaN                              0.280308   38   \n",
       "4           5               NaN                              1.000000   27   \n",
       "\n",
       "   NumberOfTime30-59DaysPastDueNotWorse  DebtRatio  MonthlyIncome  \\\n",
       "0                                     0   0.177513         5700.0   \n",
       "1                                     0   0.527237         9141.0   \n",
       "2                                     0   0.687648         5083.0   \n",
       "3                                     1   0.925961         3200.0   \n",
       "4                                     0   0.019917         3865.0   \n",
       "\n",
       "   NumberOfOpenCreditLinesAndLoans  NumberOfTimes90DaysLate  \\\n",
       "0                                4                        0   \n",
       "1                               15                        0   \n",
       "2                               12                        0   \n",
       "3                                7                        0   \n",
       "4                                4                        0   \n",
       "\n",
       "   NumberRealEstateLoansOrLines  NumberOfTime60-89DaysPastDueNotWorse  \\\n",
       "0                             0                                     0   \n",
       "1                             4                                     0   \n",
       "2                             1                                     0   \n",
       "3                             2                                     0   \n",
       "4                             0                                     0   \n",
       "\n",
       "   NumberOfDependents  \n",
       "0                 0.0  \n",
       "1                 2.0  \n",
       "2                 2.0  \n",
       "3                 0.0  \n",
       "4                 1.0  "
      ]
     },
     "metadata": {},
     "output_type": "display_data"
    }
   ],
   "source": [
    "get_info_start(cs_test)"
   ]
  },
  {
   "cell_type": "markdown",
   "metadata": {},
   "source": [
    "Можно заметить, что у нас присутствует неизвестный признак \"Unnamed: 0\", который вероятнее всего является id объекта. Наилучшим способом сохранить его и при этом не дать ему повлиять на качество дальнейшего обучение, это установить его как индекс строк в таблице."
   ]
  },
  {
   "cell_type": "code",
   "execution_count": 12,
   "metadata": {},
   "outputs": [],
   "source": [
    "cs_test = cs_test.set_index('Unnamed: 0')\n",
    "cs_test.index.name = 'id'"
   ]
  },
  {
   "cell_type": "markdown",
   "metadata": {},
   "source": [
    "Повторно отобразим данные после внесенных изменений"
   ]
  },
  {
   "cell_type": "code",
   "execution_count": 13,
   "metadata": {},
   "outputs": [
    {
     "name": "stdout",
     "output_type": "stream",
     "text": [
      "Размеры данных:  (101503, 11)\n",
      "Имена столбцов:  ['SeriousDlqin2yrs' 'RevolvingUtilizationOfUnsecuredLines' 'age'\n",
      " 'NumberOfTime30-59DaysPastDueNotWorse' 'DebtRatio' 'MonthlyIncome'\n",
      " 'NumberOfOpenCreditLinesAndLoans' 'NumberOfTimes90DaysLate'\n",
      " 'NumberRealEstateLoansOrLines' 'NumberOfTime60-89DaysPastDueNotWorse'\n",
      " 'NumberOfDependents']\n"
     ]
    },
    {
     "data": {
      "text/html": [
       "<div>\n",
       "<style scoped>\n",
       "    .dataframe tbody tr th:only-of-type {\n",
       "        vertical-align: middle;\n",
       "    }\n",
       "\n",
       "    .dataframe tbody tr th {\n",
       "        vertical-align: top;\n",
       "    }\n",
       "\n",
       "    .dataframe thead th {\n",
       "        text-align: right;\n",
       "    }\n",
       "</style>\n",
       "<table border=\"1\" class=\"dataframe\">\n",
       "  <thead>\n",
       "    <tr style=\"text-align: right;\">\n",
       "      <th></th>\n",
       "      <th>SeriousDlqin2yrs</th>\n",
       "      <th>RevolvingUtilizationOfUnsecuredLines</th>\n",
       "      <th>age</th>\n",
       "      <th>NumberOfTime30-59DaysPastDueNotWorse</th>\n",
       "      <th>DebtRatio</th>\n",
       "      <th>MonthlyIncome</th>\n",
       "      <th>NumberOfOpenCreditLinesAndLoans</th>\n",
       "      <th>NumberOfTimes90DaysLate</th>\n",
       "      <th>NumberRealEstateLoansOrLines</th>\n",
       "      <th>NumberOfTime60-89DaysPastDueNotWorse</th>\n",
       "      <th>NumberOfDependents</th>\n",
       "    </tr>\n",
       "    <tr>\n",
       "      <th>id</th>\n",
       "      <th></th>\n",
       "      <th></th>\n",
       "      <th></th>\n",
       "      <th></th>\n",
       "      <th></th>\n",
       "      <th></th>\n",
       "      <th></th>\n",
       "      <th></th>\n",
       "      <th></th>\n",
       "      <th></th>\n",
       "      <th></th>\n",
       "    </tr>\n",
       "  </thead>\n",
       "  <tbody>\n",
       "    <tr>\n",
       "      <th>1</th>\n",
       "      <td>NaN</td>\n",
       "      <td>0.885519</td>\n",
       "      <td>43</td>\n",
       "      <td>0</td>\n",
       "      <td>0.177513</td>\n",
       "      <td>5700.0</td>\n",
       "      <td>4</td>\n",
       "      <td>0</td>\n",
       "      <td>0</td>\n",
       "      <td>0</td>\n",
       "      <td>0.0</td>\n",
       "    </tr>\n",
       "    <tr>\n",
       "      <th>2</th>\n",
       "      <td>NaN</td>\n",
       "      <td>0.463295</td>\n",
       "      <td>57</td>\n",
       "      <td>0</td>\n",
       "      <td>0.527237</td>\n",
       "      <td>9141.0</td>\n",
       "      <td>15</td>\n",
       "      <td>0</td>\n",
       "      <td>4</td>\n",
       "      <td>0</td>\n",
       "      <td>2.0</td>\n",
       "    </tr>\n",
       "    <tr>\n",
       "      <th>3</th>\n",
       "      <td>NaN</td>\n",
       "      <td>0.043275</td>\n",
       "      <td>59</td>\n",
       "      <td>0</td>\n",
       "      <td>0.687648</td>\n",
       "      <td>5083.0</td>\n",
       "      <td>12</td>\n",
       "      <td>0</td>\n",
       "      <td>1</td>\n",
       "      <td>0</td>\n",
       "      <td>2.0</td>\n",
       "    </tr>\n",
       "    <tr>\n",
       "      <th>4</th>\n",
       "      <td>NaN</td>\n",
       "      <td>0.280308</td>\n",
       "      <td>38</td>\n",
       "      <td>1</td>\n",
       "      <td>0.925961</td>\n",
       "      <td>3200.0</td>\n",
       "      <td>7</td>\n",
       "      <td>0</td>\n",
       "      <td>2</td>\n",
       "      <td>0</td>\n",
       "      <td>0.0</td>\n",
       "    </tr>\n",
       "    <tr>\n",
       "      <th>5</th>\n",
       "      <td>NaN</td>\n",
       "      <td>1.000000</td>\n",
       "      <td>27</td>\n",
       "      <td>0</td>\n",
       "      <td>0.019917</td>\n",
       "      <td>3865.0</td>\n",
       "      <td>4</td>\n",
       "      <td>0</td>\n",
       "      <td>0</td>\n",
       "      <td>0</td>\n",
       "      <td>1.0</td>\n",
       "    </tr>\n",
       "  </tbody>\n",
       "</table>\n",
       "</div>"
      ],
      "text/plain": [
       "    SeriousDlqin2yrs  RevolvingUtilizationOfUnsecuredLines  age  \\\n",
       "id                                                                \n",
       "1                NaN                              0.885519   43   \n",
       "2                NaN                              0.463295   57   \n",
       "3                NaN                              0.043275   59   \n",
       "4                NaN                              0.280308   38   \n",
       "5                NaN                              1.000000   27   \n",
       "\n",
       "    NumberOfTime30-59DaysPastDueNotWorse  DebtRatio  MonthlyIncome  \\\n",
       "id                                                                   \n",
       "1                                      0   0.177513         5700.0   \n",
       "2                                      0   0.527237         9141.0   \n",
       "3                                      0   0.687648         5083.0   \n",
       "4                                      1   0.925961         3200.0   \n",
       "5                                      0   0.019917         3865.0   \n",
       "\n",
       "    NumberOfOpenCreditLinesAndLoans  NumberOfTimes90DaysLate  \\\n",
       "id                                                             \n",
       "1                                 4                        0   \n",
       "2                                15                        0   \n",
       "3                                12                        0   \n",
       "4                                 7                        0   \n",
       "5                                 4                        0   \n",
       "\n",
       "    NumberRealEstateLoansOrLines  NumberOfTime60-89DaysPastDueNotWorse  \\\n",
       "id                                                                       \n",
       "1                              0                                     0   \n",
       "2                              4                                     0   \n",
       "3                              1                                     0   \n",
       "4                              2                                     0   \n",
       "5                              0                                     0   \n",
       "\n",
       "    NumberOfDependents  \n",
       "id                      \n",
       "1                  0.0  \n",
       "2                  2.0  \n",
       "3                  2.0  \n",
       "4                  0.0  \n",
       "5                  1.0  "
      ]
     },
     "metadata": {},
     "output_type": "display_data"
    }
   ],
   "source": [
    "get_info_start(cs_test)"
   ]
  },
  {
   "cell_type": "markdown",
   "metadata": {},
   "source": [
    "По полученным данным видно, что названия столбцов содержаться в разных регистрах имеют не одну форму записи, это следует исправить. Кроме того, раз мы исправим названия столбцов, следует добавить новые в таблицу \"data-dict\", чтобы сохранить данные в ней актуальными "
   ]
  },
  {
   "cell_type": "code",
   "execution_count": 14,
   "metadata": {},
   "outputs": [],
   "source": [
    "# Исправим и переименуем столбцы\n",
    "cs_test.columns = ['serious_loan','financial_state_rate','age',\n",
    " 'count_of_small_past_due','debt_ratio','monthly_income',\n",
    " 'number_of_credit_lines', 'count_of_big_past_due',\n",
    " 'number_of_estate_loans', 'count_of_medium_past_due',\n",
    " 'number_of_dependents']\n",
    "#  Добавим новые названия в таблицу data-dict\n",
    "data_dict.insert(1,\"new_var_name\",cs_test.columns)"
   ]
  },
  {
   "cell_type": "markdown",
   "metadata": {},
   "source": [
    "Посмотрим что у нас получилось "
   ]
  },
  {
   "cell_type": "code",
   "execution_count": 15,
   "metadata": {},
   "outputs": [
    {
     "name": "stdout",
     "output_type": "stream",
     "text": [
      "Размеры данных:  (101503, 11)\n",
      "Имена столбцов:  ['serious_loan' 'financial_state_rate' 'age' 'count_of_small_past_due'\n",
      " 'debt_ratio' 'monthly_income' 'number_of_credit_lines'\n",
      " 'count_of_big_past_due' 'number_of_estate_loans'\n",
      " 'count_of_medium_past_due' 'number_of_dependents']\n"
     ]
    },
    {
     "data": {
      "text/html": [
       "<div>\n",
       "<style scoped>\n",
       "    .dataframe tbody tr th:only-of-type {\n",
       "        vertical-align: middle;\n",
       "    }\n",
       "\n",
       "    .dataframe tbody tr th {\n",
       "        vertical-align: top;\n",
       "    }\n",
       "\n",
       "    .dataframe thead th {\n",
       "        text-align: right;\n",
       "    }\n",
       "</style>\n",
       "<table border=\"1\" class=\"dataframe\">\n",
       "  <thead>\n",
       "    <tr style=\"text-align: right;\">\n",
       "      <th></th>\n",
       "      <th>serious_loan</th>\n",
       "      <th>financial_state_rate</th>\n",
       "      <th>age</th>\n",
       "      <th>count_of_small_past_due</th>\n",
       "      <th>debt_ratio</th>\n",
       "      <th>monthly_income</th>\n",
       "      <th>number_of_credit_lines</th>\n",
       "      <th>count_of_big_past_due</th>\n",
       "      <th>number_of_estate_loans</th>\n",
       "      <th>count_of_medium_past_due</th>\n",
       "      <th>number_of_dependents</th>\n",
       "    </tr>\n",
       "    <tr>\n",
       "      <th>id</th>\n",
       "      <th></th>\n",
       "      <th></th>\n",
       "      <th></th>\n",
       "      <th></th>\n",
       "      <th></th>\n",
       "      <th></th>\n",
       "      <th></th>\n",
       "      <th></th>\n",
       "      <th></th>\n",
       "      <th></th>\n",
       "      <th></th>\n",
       "    </tr>\n",
       "  </thead>\n",
       "  <tbody>\n",
       "    <tr>\n",
       "      <th>1</th>\n",
       "      <td>NaN</td>\n",
       "      <td>0.885519</td>\n",
       "      <td>43</td>\n",
       "      <td>0</td>\n",
       "      <td>0.177513</td>\n",
       "      <td>5700.0</td>\n",
       "      <td>4</td>\n",
       "      <td>0</td>\n",
       "      <td>0</td>\n",
       "      <td>0</td>\n",
       "      <td>0.0</td>\n",
       "    </tr>\n",
       "    <tr>\n",
       "      <th>2</th>\n",
       "      <td>NaN</td>\n",
       "      <td>0.463295</td>\n",
       "      <td>57</td>\n",
       "      <td>0</td>\n",
       "      <td>0.527237</td>\n",
       "      <td>9141.0</td>\n",
       "      <td>15</td>\n",
       "      <td>0</td>\n",
       "      <td>4</td>\n",
       "      <td>0</td>\n",
       "      <td>2.0</td>\n",
       "    </tr>\n",
       "    <tr>\n",
       "      <th>3</th>\n",
       "      <td>NaN</td>\n",
       "      <td>0.043275</td>\n",
       "      <td>59</td>\n",
       "      <td>0</td>\n",
       "      <td>0.687648</td>\n",
       "      <td>5083.0</td>\n",
       "      <td>12</td>\n",
       "      <td>0</td>\n",
       "      <td>1</td>\n",
       "      <td>0</td>\n",
       "      <td>2.0</td>\n",
       "    </tr>\n",
       "    <tr>\n",
       "      <th>4</th>\n",
       "      <td>NaN</td>\n",
       "      <td>0.280308</td>\n",
       "      <td>38</td>\n",
       "      <td>1</td>\n",
       "      <td>0.925961</td>\n",
       "      <td>3200.0</td>\n",
       "      <td>7</td>\n",
       "      <td>0</td>\n",
       "      <td>2</td>\n",
       "      <td>0</td>\n",
       "      <td>0.0</td>\n",
       "    </tr>\n",
       "    <tr>\n",
       "      <th>5</th>\n",
       "      <td>NaN</td>\n",
       "      <td>1.000000</td>\n",
       "      <td>27</td>\n",
       "      <td>0</td>\n",
       "      <td>0.019917</td>\n",
       "      <td>3865.0</td>\n",
       "      <td>4</td>\n",
       "      <td>0</td>\n",
       "      <td>0</td>\n",
       "      <td>0</td>\n",
       "      <td>1.0</td>\n",
       "    </tr>\n",
       "  </tbody>\n",
       "</table>\n",
       "</div>"
      ],
      "text/plain": [
       "    serious_loan  financial_state_rate  age  count_of_small_past_due  \\\n",
       "id                                                                     \n",
       "1            NaN              0.885519   43                        0   \n",
       "2            NaN              0.463295   57                        0   \n",
       "3            NaN              0.043275   59                        0   \n",
       "4            NaN              0.280308   38                        1   \n",
       "5            NaN              1.000000   27                        0   \n",
       "\n",
       "    debt_ratio  monthly_income  number_of_credit_lines  count_of_big_past_due  \\\n",
       "id                                                                              \n",
       "1     0.177513          5700.0                       4                      0   \n",
       "2     0.527237          9141.0                      15                      0   \n",
       "3     0.687648          5083.0                      12                      0   \n",
       "4     0.925961          3200.0                       7                      0   \n",
       "5     0.019917          3865.0                       4                      0   \n",
       "\n",
       "    number_of_estate_loans  count_of_medium_past_due  number_of_dependents  \n",
       "id                                                                          \n",
       "1                        0                         0                   0.0  \n",
       "2                        4                         0                   2.0  \n",
       "3                        1                         0                   2.0  \n",
       "4                        2                         0                   0.0  \n",
       "5                        0                         0                   1.0  "
      ]
     },
     "metadata": {},
     "output_type": "display_data"
    }
   ],
   "source": [
    "get_info_start(cs_test)"
   ]
  },
  {
   "cell_type": "code",
   "execution_count": 16,
   "metadata": {
    "scrolled": true
   },
   "outputs": [
    {
     "data": {
      "text/html": [
       "<div>\n",
       "<style scoped>\n",
       "    .dataframe tbody tr th:only-of-type {\n",
       "        vertical-align: middle;\n",
       "    }\n",
       "\n",
       "    .dataframe tbody tr th {\n",
       "        vertical-align: top;\n",
       "    }\n",
       "\n",
       "    .dataframe thead th {\n",
       "        text-align: right;\n",
       "    }\n",
       "</style>\n",
       "<table border=\"1\" class=\"dataframe\">\n",
       "  <thead>\n",
       "    <tr style=\"text-align: right;\">\n",
       "      <th></th>\n",
       "      <th>Variable Name</th>\n",
       "      <th>new_var_name</th>\n",
       "      <th>Description</th>\n",
       "      <th>Type</th>\n",
       "    </tr>\n",
       "  </thead>\n",
       "  <tbody>\n",
       "    <tr>\n",
       "      <th>0</th>\n",
       "      <td>SeriousDlqin2yrs</td>\n",
       "      <td>serious_loan</td>\n",
       "      <td>Person experienced 90 days past due delinquenc...</td>\n",
       "      <td>Y/N</td>\n",
       "    </tr>\n",
       "    <tr>\n",
       "      <th>1</th>\n",
       "      <td>RevolvingUtilizationOfUnsecuredLines</td>\n",
       "      <td>financial_state_rate</td>\n",
       "      <td>Total balance on credit cards and personal lin...</td>\n",
       "      <td>percentage</td>\n",
       "    </tr>\n",
       "    <tr>\n",
       "      <th>2</th>\n",
       "      <td>age</td>\n",
       "      <td>age</td>\n",
       "      <td>Age of borrower in years</td>\n",
       "      <td>integer</td>\n",
       "    </tr>\n",
       "    <tr>\n",
       "      <th>3</th>\n",
       "      <td>NumberOfTime30-59DaysPastDueNotWorse</td>\n",
       "      <td>count_of_small_past_due</td>\n",
       "      <td>Number of times borrower has been 30-59 days p...</td>\n",
       "      <td>integer</td>\n",
       "    </tr>\n",
       "    <tr>\n",
       "      <th>4</th>\n",
       "      <td>DebtRatio</td>\n",
       "      <td>debt_ratio</td>\n",
       "      <td>Monthly debt payments, alimony,living costs di...</td>\n",
       "      <td>percentage</td>\n",
       "    </tr>\n",
       "  </tbody>\n",
       "</table>\n",
       "</div>"
      ],
      "text/plain": [
       "                          Variable Name             new_var_name  \\\n",
       "0                      SeriousDlqin2yrs             serious_loan   \n",
       "1  RevolvingUtilizationOfUnsecuredLines     financial_state_rate   \n",
       "2                                   age                      age   \n",
       "3  NumberOfTime30-59DaysPastDueNotWorse  count_of_small_past_due   \n",
       "4                             DebtRatio               debt_ratio   \n",
       "\n",
       "                                         Description        Type  \n",
       "0  Person experienced 90 days past due delinquenc...         Y/N  \n",
       "1  Total balance on credit cards and personal lin...  percentage  \n",
       "2                           Age of borrower in years     integer  \n",
       "3  Number of times borrower has been 30-59 days p...     integer  \n",
       "4  Monthly debt payments, alimony,living costs di...  percentage  "
      ]
     },
     "execution_count": 16,
     "metadata": {},
     "output_type": "execute_result"
    }
   ],
   "source": [
    "data_dict.head()"
   ]
  },
  {
   "cell_type": "markdown",
   "metadata": {},
   "source": [
    "Как видно из представленных выше результатов, все прошло успешно. Осталось только проверить таблицу на корректность типов данных"
   ]
  },
  {
   "cell_type": "code",
   "execution_count": 17,
   "metadata": {
    "scrolled": true
   },
   "outputs": [
    {
     "name": "stdout",
     "output_type": "stream",
     "text": [
      "<class 'pandas.core.frame.DataFrame'>\n",
      "Int64Index: 101503 entries, 1 to 101503\n",
      "Data columns (total 11 columns):\n",
      " #   Column                    Non-Null Count   Dtype  \n",
      "---  ------                    --------------   -----  \n",
      " 0   serious_loan              0 non-null       float64\n",
      " 1   financial_state_rate      101503 non-null  float64\n",
      " 2   age                       101503 non-null  int64  \n",
      " 3   count_of_small_past_due   101503 non-null  int64  \n",
      " 4   debt_ratio                101503 non-null  float64\n",
      " 5   monthly_income            81400 non-null   float64\n",
      " 6   number_of_credit_lines    101503 non-null  int64  \n",
      " 7   count_of_big_past_due     101503 non-null  int64  \n",
      " 8   number_of_estate_loans    101503 non-null  int64  \n",
      " 9   count_of_medium_past_due  101503 non-null  int64  \n",
      " 10  number_of_dependents      98877 non-null   float64\n",
      "dtypes: float64(5), int64(6)\n",
      "memory usage: 9.3 MB\n"
     ]
    }
   ],
   "source": [
    "cs_test.info()"
   ]
  },
  {
   "cell_type": "markdown",
   "metadata": {},
   "source": [
    "Заметим, что тип в столбце \"number_of_dependents\" не совпадает с эталонным, количество иждивенцев не может быть дробным числом. Прежде чем принимать какие либо действия посмотрим на распределение значение в данном столбце "
   ]
  },
  {
   "cell_type": "code",
   "execution_count": 18,
   "metadata": {
    "scrolled": true
   },
   "outputs": [
    {
     "data": {
      "text/plain": [
       "count    98877.000000\n",
       "mean         0.769046\n",
       "std          1.136778\n",
       "min          0.000000\n",
       "25%          0.000000\n",
       "50%          0.000000\n",
       "75%          1.000000\n",
       "max         43.000000\n",
       "Name: number_of_dependents, dtype: float64"
      ]
     },
     "execution_count": 18,
     "metadata": {},
     "output_type": "execute_result"
    }
   ],
   "source": [
    "cs_test[\"number_of_dependents\"].describe()"
   ]
  },
  {
   "cell_type": "markdown",
   "metadata": {},
   "source": [
    "На значения стоило посмотреть, так как причина неправильного типа могло быть некорректное положение разделителя целой и дробной части, тогда бы значение 2 могло превратиться в (0.2). Но как мы можем видеть выше, в основном это предположительно корректные данные, которые хранятся в не эталонном типе. Если же посмотреть на приведенную выше информацию, то можно заметить, что причиной этому стали пропуски. Поэтому прежде чем приводить данный столбец к эталонному типу стоит обработать пропуски, это будет сделано в следующий разделах, когда мы займемся обработкой данных"
   ]
  },
  {
   "cell_type": "markdown",
   "metadata": {},
   "source": [
    "#### Выводы \n",
    "- Данная таблица содержит тестовые данные для сабмита\n",
    "- Были изменены названия столбцов\n",
    "- Таблица data_dict пополнилась текущими значениями названий столбцов\n",
    "- Обнаружено отклонение типа столбца \"number_of_dependents\" от эталонного "
   ]
  },
  {
   "cell_type": "code",
   "execution_count": null,
   "metadata": {},
   "outputs": [],
   "source": []
  },
  {
   "cell_type": "markdown",
   "metadata": {},
   "source": [
    "### cs-training"
   ]
  },
  {
   "cell_type": "code",
   "execution_count": 19,
   "metadata": {},
   "outputs": [],
   "source": [
    "cs_training = pd.read_csv(\"./datasets/cs-training.csv\")"
   ]
  },
  {
   "cell_type": "code",
   "execution_count": 20,
   "metadata": {},
   "outputs": [
    {
     "name": "stdout",
     "output_type": "stream",
     "text": [
      "Размеры данных:  (150000, 12)\n",
      "Имена столбцов:  ['Unnamed: 0' 'SeriousDlqin2yrs' 'RevolvingUtilizationOfUnsecuredLines'\n",
      " 'age' 'NumberOfTime30-59DaysPastDueNotWorse' 'DebtRatio' 'MonthlyIncome'\n",
      " 'NumberOfOpenCreditLinesAndLoans' 'NumberOfTimes90DaysLate'\n",
      " 'NumberRealEstateLoansOrLines' 'NumberOfTime60-89DaysPastDueNotWorse'\n",
      " 'NumberOfDependents']\n"
     ]
    },
    {
     "data": {
      "text/html": [
       "<div>\n",
       "<style scoped>\n",
       "    .dataframe tbody tr th:only-of-type {\n",
       "        vertical-align: middle;\n",
       "    }\n",
       "\n",
       "    .dataframe tbody tr th {\n",
       "        vertical-align: top;\n",
       "    }\n",
       "\n",
       "    .dataframe thead th {\n",
       "        text-align: right;\n",
       "    }\n",
       "</style>\n",
       "<table border=\"1\" class=\"dataframe\">\n",
       "  <thead>\n",
       "    <tr style=\"text-align: right;\">\n",
       "      <th></th>\n",
       "      <th>Unnamed: 0</th>\n",
       "      <th>SeriousDlqin2yrs</th>\n",
       "      <th>RevolvingUtilizationOfUnsecuredLines</th>\n",
       "      <th>age</th>\n",
       "      <th>NumberOfTime30-59DaysPastDueNotWorse</th>\n",
       "      <th>DebtRatio</th>\n",
       "      <th>MonthlyIncome</th>\n",
       "      <th>NumberOfOpenCreditLinesAndLoans</th>\n",
       "      <th>NumberOfTimes90DaysLate</th>\n",
       "      <th>NumberRealEstateLoansOrLines</th>\n",
       "      <th>NumberOfTime60-89DaysPastDueNotWorse</th>\n",
       "      <th>NumberOfDependents</th>\n",
       "    </tr>\n",
       "  </thead>\n",
       "  <tbody>\n",
       "    <tr>\n",
       "      <th>0</th>\n",
       "      <td>1</td>\n",
       "      <td>1</td>\n",
       "      <td>0.766127</td>\n",
       "      <td>45</td>\n",
       "      <td>2</td>\n",
       "      <td>0.802982</td>\n",
       "      <td>9120.0</td>\n",
       "      <td>13</td>\n",
       "      <td>0</td>\n",
       "      <td>6</td>\n",
       "      <td>0</td>\n",
       "      <td>2.0</td>\n",
       "    </tr>\n",
       "    <tr>\n",
       "      <th>1</th>\n",
       "      <td>2</td>\n",
       "      <td>0</td>\n",
       "      <td>0.957151</td>\n",
       "      <td>40</td>\n",
       "      <td>0</td>\n",
       "      <td>0.121876</td>\n",
       "      <td>2600.0</td>\n",
       "      <td>4</td>\n",
       "      <td>0</td>\n",
       "      <td>0</td>\n",
       "      <td>0</td>\n",
       "      <td>1.0</td>\n",
       "    </tr>\n",
       "    <tr>\n",
       "      <th>2</th>\n",
       "      <td>3</td>\n",
       "      <td>0</td>\n",
       "      <td>0.658180</td>\n",
       "      <td>38</td>\n",
       "      <td>1</td>\n",
       "      <td>0.085113</td>\n",
       "      <td>3042.0</td>\n",
       "      <td>2</td>\n",
       "      <td>1</td>\n",
       "      <td>0</td>\n",
       "      <td>0</td>\n",
       "      <td>0.0</td>\n",
       "    </tr>\n",
       "    <tr>\n",
       "      <th>3</th>\n",
       "      <td>4</td>\n",
       "      <td>0</td>\n",
       "      <td>0.233810</td>\n",
       "      <td>30</td>\n",
       "      <td>0</td>\n",
       "      <td>0.036050</td>\n",
       "      <td>3300.0</td>\n",
       "      <td>5</td>\n",
       "      <td>0</td>\n",
       "      <td>0</td>\n",
       "      <td>0</td>\n",
       "      <td>0.0</td>\n",
       "    </tr>\n",
       "    <tr>\n",
       "      <th>4</th>\n",
       "      <td>5</td>\n",
       "      <td>0</td>\n",
       "      <td>0.907239</td>\n",
       "      <td>49</td>\n",
       "      <td>1</td>\n",
       "      <td>0.024926</td>\n",
       "      <td>63588.0</td>\n",
       "      <td>7</td>\n",
       "      <td>0</td>\n",
       "      <td>1</td>\n",
       "      <td>0</td>\n",
       "      <td>0.0</td>\n",
       "    </tr>\n",
       "  </tbody>\n",
       "</table>\n",
       "</div>"
      ],
      "text/plain": [
       "   Unnamed: 0  SeriousDlqin2yrs  RevolvingUtilizationOfUnsecuredLines  age  \\\n",
       "0           1                 1                              0.766127   45   \n",
       "1           2                 0                              0.957151   40   \n",
       "2           3                 0                              0.658180   38   \n",
       "3           4                 0                              0.233810   30   \n",
       "4           5                 0                              0.907239   49   \n",
       "\n",
       "   NumberOfTime30-59DaysPastDueNotWorse  DebtRatio  MonthlyIncome  \\\n",
       "0                                     2   0.802982         9120.0   \n",
       "1                                     0   0.121876         2600.0   \n",
       "2                                     1   0.085113         3042.0   \n",
       "3                                     0   0.036050         3300.0   \n",
       "4                                     1   0.024926        63588.0   \n",
       "\n",
       "   NumberOfOpenCreditLinesAndLoans  NumberOfTimes90DaysLate  \\\n",
       "0                               13                        0   \n",
       "1                                4                        0   \n",
       "2                                2                        1   \n",
       "3                                5                        0   \n",
       "4                                7                        0   \n",
       "\n",
       "   NumberRealEstateLoansOrLines  NumberOfTime60-89DaysPastDueNotWorse  \\\n",
       "0                             6                                     0   \n",
       "1                             0                                     0   \n",
       "2                             0                                     0   \n",
       "3                             0                                     0   \n",
       "4                             1                                     0   \n",
       "\n",
       "   NumberOfDependents  \n",
       "0                 2.0  \n",
       "1                 1.0  \n",
       "2                 0.0  \n",
       "3                 0.0  \n",
       "4                 0.0  "
      ]
     },
     "metadata": {},
     "output_type": "display_data"
    }
   ],
   "source": [
    "get_info_start(cs_training)"
   ]
  },
  {
   "cell_type": "markdown",
   "metadata": {},
   "source": [
    "Можно заметить, что у нас присутствует неизвестный признак \"Unnamed: 0\", который вероятнее всего является id объекта. Наилучшим способом сохранить его и при этом не дать ему повлиять на качество дальнейшего обучения, это установить его как индекс строк в таблице."
   ]
  },
  {
   "cell_type": "code",
   "execution_count": 21,
   "metadata": {},
   "outputs": [],
   "source": [
    "cs_training = cs_training.set_index('Unnamed: 0')\n",
    "cs_training.index.name = 'id'"
   ]
  },
  {
   "cell_type": "markdown",
   "metadata": {},
   "source": [
    "Посмотрим на данные еще раз"
   ]
  },
  {
   "cell_type": "code",
   "execution_count": 22,
   "metadata": {},
   "outputs": [
    {
     "name": "stdout",
     "output_type": "stream",
     "text": [
      "Размеры данных:  (150000, 11)\n",
      "Имена столбцов:  ['SeriousDlqin2yrs' 'RevolvingUtilizationOfUnsecuredLines' 'age'\n",
      " 'NumberOfTime30-59DaysPastDueNotWorse' 'DebtRatio' 'MonthlyIncome'\n",
      " 'NumberOfOpenCreditLinesAndLoans' 'NumberOfTimes90DaysLate'\n",
      " 'NumberRealEstateLoansOrLines' 'NumberOfTime60-89DaysPastDueNotWorse'\n",
      " 'NumberOfDependents']\n"
     ]
    },
    {
     "data": {
      "text/html": [
       "<div>\n",
       "<style scoped>\n",
       "    .dataframe tbody tr th:only-of-type {\n",
       "        vertical-align: middle;\n",
       "    }\n",
       "\n",
       "    .dataframe tbody tr th {\n",
       "        vertical-align: top;\n",
       "    }\n",
       "\n",
       "    .dataframe thead th {\n",
       "        text-align: right;\n",
       "    }\n",
       "</style>\n",
       "<table border=\"1\" class=\"dataframe\">\n",
       "  <thead>\n",
       "    <tr style=\"text-align: right;\">\n",
       "      <th></th>\n",
       "      <th>SeriousDlqin2yrs</th>\n",
       "      <th>RevolvingUtilizationOfUnsecuredLines</th>\n",
       "      <th>age</th>\n",
       "      <th>NumberOfTime30-59DaysPastDueNotWorse</th>\n",
       "      <th>DebtRatio</th>\n",
       "      <th>MonthlyIncome</th>\n",
       "      <th>NumberOfOpenCreditLinesAndLoans</th>\n",
       "      <th>NumberOfTimes90DaysLate</th>\n",
       "      <th>NumberRealEstateLoansOrLines</th>\n",
       "      <th>NumberOfTime60-89DaysPastDueNotWorse</th>\n",
       "      <th>NumberOfDependents</th>\n",
       "    </tr>\n",
       "    <tr>\n",
       "      <th>id</th>\n",
       "      <th></th>\n",
       "      <th></th>\n",
       "      <th></th>\n",
       "      <th></th>\n",
       "      <th></th>\n",
       "      <th></th>\n",
       "      <th></th>\n",
       "      <th></th>\n",
       "      <th></th>\n",
       "      <th></th>\n",
       "      <th></th>\n",
       "    </tr>\n",
       "  </thead>\n",
       "  <tbody>\n",
       "    <tr>\n",
       "      <th>1</th>\n",
       "      <td>1</td>\n",
       "      <td>0.766127</td>\n",
       "      <td>45</td>\n",
       "      <td>2</td>\n",
       "      <td>0.802982</td>\n",
       "      <td>9120.0</td>\n",
       "      <td>13</td>\n",
       "      <td>0</td>\n",
       "      <td>6</td>\n",
       "      <td>0</td>\n",
       "      <td>2.0</td>\n",
       "    </tr>\n",
       "    <tr>\n",
       "      <th>2</th>\n",
       "      <td>0</td>\n",
       "      <td>0.957151</td>\n",
       "      <td>40</td>\n",
       "      <td>0</td>\n",
       "      <td>0.121876</td>\n",
       "      <td>2600.0</td>\n",
       "      <td>4</td>\n",
       "      <td>0</td>\n",
       "      <td>0</td>\n",
       "      <td>0</td>\n",
       "      <td>1.0</td>\n",
       "    </tr>\n",
       "    <tr>\n",
       "      <th>3</th>\n",
       "      <td>0</td>\n",
       "      <td>0.658180</td>\n",
       "      <td>38</td>\n",
       "      <td>1</td>\n",
       "      <td>0.085113</td>\n",
       "      <td>3042.0</td>\n",
       "      <td>2</td>\n",
       "      <td>1</td>\n",
       "      <td>0</td>\n",
       "      <td>0</td>\n",
       "      <td>0.0</td>\n",
       "    </tr>\n",
       "    <tr>\n",
       "      <th>4</th>\n",
       "      <td>0</td>\n",
       "      <td>0.233810</td>\n",
       "      <td>30</td>\n",
       "      <td>0</td>\n",
       "      <td>0.036050</td>\n",
       "      <td>3300.0</td>\n",
       "      <td>5</td>\n",
       "      <td>0</td>\n",
       "      <td>0</td>\n",
       "      <td>0</td>\n",
       "      <td>0.0</td>\n",
       "    </tr>\n",
       "    <tr>\n",
       "      <th>5</th>\n",
       "      <td>0</td>\n",
       "      <td>0.907239</td>\n",
       "      <td>49</td>\n",
       "      <td>1</td>\n",
       "      <td>0.024926</td>\n",
       "      <td>63588.0</td>\n",
       "      <td>7</td>\n",
       "      <td>0</td>\n",
       "      <td>1</td>\n",
       "      <td>0</td>\n",
       "      <td>0.0</td>\n",
       "    </tr>\n",
       "  </tbody>\n",
       "</table>\n",
       "</div>"
      ],
      "text/plain": [
       "    SeriousDlqin2yrs  RevolvingUtilizationOfUnsecuredLines  age  \\\n",
       "id                                                                \n",
       "1                  1                              0.766127   45   \n",
       "2                  0                              0.957151   40   \n",
       "3                  0                              0.658180   38   \n",
       "4                  0                              0.233810   30   \n",
       "5                  0                              0.907239   49   \n",
       "\n",
       "    NumberOfTime30-59DaysPastDueNotWorse  DebtRatio  MonthlyIncome  \\\n",
       "id                                                                   \n",
       "1                                      2   0.802982         9120.0   \n",
       "2                                      0   0.121876         2600.0   \n",
       "3                                      1   0.085113         3042.0   \n",
       "4                                      0   0.036050         3300.0   \n",
       "5                                      1   0.024926        63588.0   \n",
       "\n",
       "    NumberOfOpenCreditLinesAndLoans  NumberOfTimes90DaysLate  \\\n",
       "id                                                             \n",
       "1                                13                        0   \n",
       "2                                 4                        0   \n",
       "3                                 2                        1   \n",
       "4                                 5                        0   \n",
       "5                                 7                        0   \n",
       "\n",
       "    NumberRealEstateLoansOrLines  NumberOfTime60-89DaysPastDueNotWorse  \\\n",
       "id                                                                       \n",
       "1                              6                                     0   \n",
       "2                              0                                     0   \n",
       "3                              0                                     0   \n",
       "4                              0                                     0   \n",
       "5                              1                                     0   \n",
       "\n",
       "    NumberOfDependents  \n",
       "id                      \n",
       "1                  2.0  \n",
       "2                  1.0  \n",
       "3                  0.0  \n",
       "4                  0.0  \n",
       "5                  0.0  "
      ]
     },
     "metadata": {},
     "output_type": "display_data"
    }
   ],
   "source": [
    "get_info_start(cs_training)"
   ]
  },
  {
   "cell_type": "markdown",
   "metadata": {},
   "source": [
    "Переименуем столбцы в соответствии с предыдущими преобразованиями"
   ]
  },
  {
   "cell_type": "code",
   "execution_count": 23,
   "metadata": {},
   "outputs": [],
   "source": [
    "# Исправим и переименуем столбцы\n",
    "cs_training.columns = ['serious_loan','financial_state_rate','age',\n",
    " 'count_of_small_past_due','debt_ratio','monthly_income',\n",
    " 'number_of_credit_lines', 'count_of_big_past_due',\n",
    " 'number_of_estate_loans', 'count_of_medium_past_due',\n",
    " 'number_of_dependents']"
   ]
  },
  {
   "cell_type": "markdown",
   "metadata": {},
   "source": [
    "Посмотрим на результат"
   ]
  },
  {
   "cell_type": "code",
   "execution_count": 24,
   "metadata": {},
   "outputs": [
    {
     "data": {
      "text/html": [
       "<div>\n",
       "<style scoped>\n",
       "    .dataframe tbody tr th:only-of-type {\n",
       "        vertical-align: middle;\n",
       "    }\n",
       "\n",
       "    .dataframe tbody tr th {\n",
       "        vertical-align: top;\n",
       "    }\n",
       "\n",
       "    .dataframe thead th {\n",
       "        text-align: right;\n",
       "    }\n",
       "</style>\n",
       "<table border=\"1\" class=\"dataframe\">\n",
       "  <thead>\n",
       "    <tr style=\"text-align: right;\">\n",
       "      <th></th>\n",
       "      <th>serious_loan</th>\n",
       "      <th>financial_state_rate</th>\n",
       "      <th>age</th>\n",
       "      <th>count_of_small_past_due</th>\n",
       "      <th>debt_ratio</th>\n",
       "      <th>monthly_income</th>\n",
       "      <th>number_of_credit_lines</th>\n",
       "      <th>count_of_big_past_due</th>\n",
       "      <th>number_of_estate_loans</th>\n",
       "      <th>count_of_medium_past_due</th>\n",
       "      <th>number_of_dependents</th>\n",
       "    </tr>\n",
       "    <tr>\n",
       "      <th>id</th>\n",
       "      <th></th>\n",
       "      <th></th>\n",
       "      <th></th>\n",
       "      <th></th>\n",
       "      <th></th>\n",
       "      <th></th>\n",
       "      <th></th>\n",
       "      <th></th>\n",
       "      <th></th>\n",
       "      <th></th>\n",
       "      <th></th>\n",
       "    </tr>\n",
       "  </thead>\n",
       "  <tbody>\n",
       "    <tr>\n",
       "      <th>1</th>\n",
       "      <td>1</td>\n",
       "      <td>0.766127</td>\n",
       "      <td>45</td>\n",
       "      <td>2</td>\n",
       "      <td>0.802982</td>\n",
       "      <td>9120.0</td>\n",
       "      <td>13</td>\n",
       "      <td>0</td>\n",
       "      <td>6</td>\n",
       "      <td>0</td>\n",
       "      <td>2.0</td>\n",
       "    </tr>\n",
       "    <tr>\n",
       "      <th>2</th>\n",
       "      <td>0</td>\n",
       "      <td>0.957151</td>\n",
       "      <td>40</td>\n",
       "      <td>0</td>\n",
       "      <td>0.121876</td>\n",
       "      <td>2600.0</td>\n",
       "      <td>4</td>\n",
       "      <td>0</td>\n",
       "      <td>0</td>\n",
       "      <td>0</td>\n",
       "      <td>1.0</td>\n",
       "    </tr>\n",
       "    <tr>\n",
       "      <th>3</th>\n",
       "      <td>0</td>\n",
       "      <td>0.658180</td>\n",
       "      <td>38</td>\n",
       "      <td>1</td>\n",
       "      <td>0.085113</td>\n",
       "      <td>3042.0</td>\n",
       "      <td>2</td>\n",
       "      <td>1</td>\n",
       "      <td>0</td>\n",
       "      <td>0</td>\n",
       "      <td>0.0</td>\n",
       "    </tr>\n",
       "    <tr>\n",
       "      <th>4</th>\n",
       "      <td>0</td>\n",
       "      <td>0.233810</td>\n",
       "      <td>30</td>\n",
       "      <td>0</td>\n",
       "      <td>0.036050</td>\n",
       "      <td>3300.0</td>\n",
       "      <td>5</td>\n",
       "      <td>0</td>\n",
       "      <td>0</td>\n",
       "      <td>0</td>\n",
       "      <td>0.0</td>\n",
       "    </tr>\n",
       "    <tr>\n",
       "      <th>5</th>\n",
       "      <td>0</td>\n",
       "      <td>0.907239</td>\n",
       "      <td>49</td>\n",
       "      <td>1</td>\n",
       "      <td>0.024926</td>\n",
       "      <td>63588.0</td>\n",
       "      <td>7</td>\n",
       "      <td>0</td>\n",
       "      <td>1</td>\n",
       "      <td>0</td>\n",
       "      <td>0.0</td>\n",
       "    </tr>\n",
       "  </tbody>\n",
       "</table>\n",
       "</div>"
      ],
      "text/plain": [
       "    serious_loan  financial_state_rate  age  count_of_small_past_due  \\\n",
       "id                                                                     \n",
       "1              1              0.766127   45                        2   \n",
       "2              0              0.957151   40                        0   \n",
       "3              0              0.658180   38                        1   \n",
       "4              0              0.233810   30                        0   \n",
       "5              0              0.907239   49                        1   \n",
       "\n",
       "    debt_ratio  monthly_income  number_of_credit_lines  count_of_big_past_due  \\\n",
       "id                                                                              \n",
       "1     0.802982          9120.0                      13                      0   \n",
       "2     0.121876          2600.0                       4                      0   \n",
       "3     0.085113          3042.0                       2                      1   \n",
       "4     0.036050          3300.0                       5                      0   \n",
       "5     0.024926         63588.0                       7                      0   \n",
       "\n",
       "    number_of_estate_loans  count_of_medium_past_due  number_of_dependents  \n",
       "id                                                                          \n",
       "1                        6                         0                   2.0  \n",
       "2                        0                         0                   1.0  \n",
       "3                        0                         0                   0.0  \n",
       "4                        0                         0                   0.0  \n",
       "5                        1                         0                   0.0  "
      ]
     },
     "execution_count": 24,
     "metadata": {},
     "output_type": "execute_result"
    }
   ],
   "source": [
    "cs_training.head()"
   ]
  },
  {
   "cell_type": "markdown",
   "metadata": {},
   "source": [
    "Теперь проверим типы в данном фрейме"
   ]
  },
  {
   "cell_type": "code",
   "execution_count": 25,
   "metadata": {},
   "outputs": [
    {
     "name": "stdout",
     "output_type": "stream",
     "text": [
      "<class 'pandas.core.frame.DataFrame'>\n",
      "Int64Index: 150000 entries, 1 to 150000\n",
      "Data columns (total 11 columns):\n",
      " #   Column                    Non-Null Count   Dtype  \n",
      "---  ------                    --------------   -----  \n",
      " 0   serious_loan              150000 non-null  int64  \n",
      " 1   financial_state_rate      150000 non-null  float64\n",
      " 2   age                       150000 non-null  int64  \n",
      " 3   count_of_small_past_due   150000 non-null  int64  \n",
      " 4   debt_ratio                150000 non-null  float64\n",
      " 5   monthly_income            120269 non-null  float64\n",
      " 6   number_of_credit_lines    150000 non-null  int64  \n",
      " 7   count_of_big_past_due     150000 non-null  int64  \n",
      " 8   number_of_estate_loans    150000 non-null  int64  \n",
      " 9   count_of_medium_past_due  150000 non-null  int64  \n",
      " 10  number_of_dependents      146076 non-null  float64\n",
      "dtypes: float64(4), int64(7)\n",
      "memory usage: 13.7 MB\n"
     ]
    }
   ],
   "source": [
    "cs_training.info()"
   ]
  },
  {
   "cell_type": "markdown",
   "metadata": {},
   "source": [
    "Заметим, что тут так же как и в предыдущей таблице тип данных в столбце \"number_of_dependents\" отличается от эталонного, в данном случае в столбце так же присутствуют пропуски, которые искажают тип данных. В процессе дальнейшего анализа и обработки данные особенности будут исправлены "
   ]
  },
  {
   "cell_type": "markdown",
   "metadata": {},
   "source": [
    "#### Выводы \n",
    "- Данная таблица содержит тренировочные данные для сабмита\n",
    "- Были изменены названия столбцов\n",
    "- Обнаружено отклонение типа столбца \"number_of_dependents\" от эталонного "
   ]
  },
  {
   "cell_type": "markdown",
   "metadata": {},
   "source": [
    "## Выводы\n",
    "- В нашем распоряжении 3 основных файла:\n",
    "    - \"data-dict.xls\" файл описывающий признаки и их типы\n",
    "    - \"cs-test.csv\" файл с тестовыми данными\n",
    "    - \"cs-training.csv\" файл с тренировочными данными\n",
    "- В процессе изучения данных был выделен целевой признак: \"serious_loan\""
   ]
  },
  {
   "cell_type": "markdown",
   "metadata": {},
   "source": [
    "## Текст до обработки"
   ]
  },
  {
   "cell_type": "code",
   "execution_count": 26,
   "metadata": {
    "scrolled": true
   },
   "outputs": [],
   "source": [
    "# cs_training_before = cs_training.fillna(cs_training.mean())\n",
    "# cs_training_before = pd.get_dummies(cs_training_before)\n",
    "# (design_train_before,\n",
    "#  design_test_before,\n",
    "#  target_train_before,\n",
    "#  target_test_before) = train_test_split(cs_training_before.drop([\"serious_loan\"],axis = 1),\n",
    "#                                  cs_training_before[\"serious_loan\"],random_state = 42, test_size = 0.2)\n",
    "\n",
    "# (design_valid_before,\n",
    "#  design_test_before,\n",
    "#  target_valid_before,\n",
    "#  target_test_before) = train_test_split(design_test_before, target_test_before, random_state = 42, test_size = 0.5)\n",
    "# steps_before = [('smote',SMOTE()),('stand',StandardScaler()), ('model', RandomForestClassifier(n_jobs=-1,\n",
    "#                                                             n_estimators=1000,max_depth=10))]\n",
    "# RF_before = Pipeline(steps=steps_before)\n",
    "# RF_before.fit(design_train_before,target_train_before)\n",
    "# RF_valid_pred_before = RF_before.predict(design_valid_before)\n",
    "# predictions_RandomForest_before = RF_before.predict_proba(design_valid_before)\n",
    "# f1_score(target_valid_before,RF_valid_pred_before)"
   ]
  },
  {
   "cell_type": "code",
   "execution_count": 27,
   "metadata": {
    "scrolled": true
   },
   "outputs": [],
   "source": [
    "# best_threshold(target_valid_before,predictions_RandomForest_before[:,1],\"RandomForest_before\",beta = 1)"
   ]
  },
  {
   "cell_type": "code",
   "execution_count": 28,
   "metadata": {},
   "outputs": [],
   "source": [
    "\n",
    "# new_RF_preds_before = [1 if i >= 0.4604763504480953 else 0 for i in predictions_RandomForest_before[:,1] ]"
   ]
  },
  {
   "cell_type": "code",
   "execution_count": 29,
   "metadata": {},
   "outputs": [],
   "source": [
    "# confusion_matrix(target_valid_before,new_RF_preds_before)"
   ]
  },
  {
   "cell_type": "markdown",
   "metadata": {},
   "source": [
    "# Анализ данных"
   ]
  },
  {
   "cell_type": "code",
   "execution_count": 30,
   "metadata": {
    "scrolled": true
   },
   "outputs": [
    {
     "data": {
      "text/html": [
       "<div>\n",
       "<style scoped>\n",
       "    .dataframe tbody tr th:only-of-type {\n",
       "        vertical-align: middle;\n",
       "    }\n",
       "\n",
       "    .dataframe tbody tr th {\n",
       "        vertical-align: top;\n",
       "    }\n",
       "\n",
       "    .dataframe thead th {\n",
       "        text-align: right;\n",
       "    }\n",
       "</style>\n",
       "<table border=\"1\" class=\"dataframe\">\n",
       "  <thead>\n",
       "    <tr style=\"text-align: right;\">\n",
       "      <th></th>\n",
       "      <th>serious_loan</th>\n",
       "      <th>financial_state_rate</th>\n",
       "      <th>age</th>\n",
       "      <th>count_of_small_past_due</th>\n",
       "      <th>debt_ratio</th>\n",
       "      <th>monthly_income</th>\n",
       "      <th>number_of_credit_lines</th>\n",
       "      <th>count_of_big_past_due</th>\n",
       "      <th>number_of_estate_loans</th>\n",
       "      <th>count_of_medium_past_due</th>\n",
       "      <th>number_of_dependents</th>\n",
       "    </tr>\n",
       "    <tr>\n",
       "      <th>id</th>\n",
       "      <th></th>\n",
       "      <th></th>\n",
       "      <th></th>\n",
       "      <th></th>\n",
       "      <th></th>\n",
       "      <th></th>\n",
       "      <th></th>\n",
       "      <th></th>\n",
       "      <th></th>\n",
       "      <th></th>\n",
       "      <th></th>\n",
       "    </tr>\n",
       "  </thead>\n",
       "  <tbody>\n",
       "    <tr>\n",
       "      <th>1</th>\n",
       "      <td>1</td>\n",
       "      <td>0.766127</td>\n",
       "      <td>45</td>\n",
       "      <td>2</td>\n",
       "      <td>0.802982</td>\n",
       "      <td>9120.0</td>\n",
       "      <td>13</td>\n",
       "      <td>0</td>\n",
       "      <td>6</td>\n",
       "      <td>0</td>\n",
       "      <td>2.0</td>\n",
       "    </tr>\n",
       "    <tr>\n",
       "      <th>2</th>\n",
       "      <td>0</td>\n",
       "      <td>0.957151</td>\n",
       "      <td>40</td>\n",
       "      <td>0</td>\n",
       "      <td>0.121876</td>\n",
       "      <td>2600.0</td>\n",
       "      <td>4</td>\n",
       "      <td>0</td>\n",
       "      <td>0</td>\n",
       "      <td>0</td>\n",
       "      <td>1.0</td>\n",
       "    </tr>\n",
       "    <tr>\n",
       "      <th>3</th>\n",
       "      <td>0</td>\n",
       "      <td>0.658180</td>\n",
       "      <td>38</td>\n",
       "      <td>1</td>\n",
       "      <td>0.085113</td>\n",
       "      <td>3042.0</td>\n",
       "      <td>2</td>\n",
       "      <td>1</td>\n",
       "      <td>0</td>\n",
       "      <td>0</td>\n",
       "      <td>0.0</td>\n",
       "    </tr>\n",
       "    <tr>\n",
       "      <th>4</th>\n",
       "      <td>0</td>\n",
       "      <td>0.233810</td>\n",
       "      <td>30</td>\n",
       "      <td>0</td>\n",
       "      <td>0.036050</td>\n",
       "      <td>3300.0</td>\n",
       "      <td>5</td>\n",
       "      <td>0</td>\n",
       "      <td>0</td>\n",
       "      <td>0</td>\n",
       "      <td>0.0</td>\n",
       "    </tr>\n",
       "    <tr>\n",
       "      <th>5</th>\n",
       "      <td>0</td>\n",
       "      <td>0.907239</td>\n",
       "      <td>49</td>\n",
       "      <td>1</td>\n",
       "      <td>0.024926</td>\n",
       "      <td>63588.0</td>\n",
       "      <td>7</td>\n",
       "      <td>0</td>\n",
       "      <td>1</td>\n",
       "      <td>0</td>\n",
       "      <td>0.0</td>\n",
       "    </tr>\n",
       "  </tbody>\n",
       "</table>\n",
       "</div>"
      ],
      "text/plain": [
       "    serious_loan  financial_state_rate  age  count_of_small_past_due  \\\n",
       "id                                                                     \n",
       "1              1              0.766127   45                        2   \n",
       "2              0              0.957151   40                        0   \n",
       "3              0              0.658180   38                        1   \n",
       "4              0              0.233810   30                        0   \n",
       "5              0              0.907239   49                        1   \n",
       "\n",
       "    debt_ratio  monthly_income  number_of_credit_lines  count_of_big_past_due  \\\n",
       "id                                                                              \n",
       "1     0.802982          9120.0                      13                      0   \n",
       "2     0.121876          2600.0                       4                      0   \n",
       "3     0.085113          3042.0                       2                      1   \n",
       "4     0.036050          3300.0                       5                      0   \n",
       "5     0.024926         63588.0                       7                      0   \n",
       "\n",
       "    number_of_estate_loans  count_of_medium_past_due  number_of_dependents  \n",
       "id                                                                          \n",
       "1                        6                         0                   2.0  \n",
       "2                        0                         0                   1.0  \n",
       "3                        0                         0                   0.0  \n",
       "4                        0                         0                   0.0  \n",
       "5                        1                         0                   0.0  "
      ]
     },
     "execution_count": 30,
     "metadata": {},
     "output_type": "execute_result"
    }
   ],
   "source": [
    "cs_training.head()"
   ]
  },
  {
   "cell_type": "markdown",
   "metadata": {},
   "source": [
    "## Анализ параметра serious_loan"
   ]
  },
  {
   "cell_type": "code",
   "execution_count": 31,
   "metadata": {
    "scrolled": true
   },
   "outputs": [
    {
     "data": {
      "text/plain": [
       "0    0.93316\n",
       "1    0.06684\n",
       "Name: serious_loan, dtype: float64"
      ]
     },
     "execution_count": 31,
     "metadata": {},
     "output_type": "execute_result"
    }
   ],
   "source": [
    "cs_training[\"serious_loan\"].value_counts(normalize=True)"
   ]
  },
  {
   "cell_type": "code",
   "execution_count": 32,
   "metadata": {},
   "outputs": [
    {
     "data": {
      "text/plain": [
       "Text(0.5, 1.0, 'Баланс классов')"
      ]
     },
     "execution_count": 32,
     "metadata": {},
     "output_type": "execute_result"
    },
    {
     "data": {
      "image/png": "[encoded data removed]",
      "text/plain": [
       "<Figure size 432x288 with 1 Axes>"
      ]
     },
     "metadata": {
      "needs_background": "light"
     },
     "output_type": "display_data"
    }
   ],
   "source": [
    "plt.bar([0,1],cs_training[\"serious_loan\"].value_counts(normalize=True))\n",
    "plt.xticks([0,1])\n",
    "plt.title('Баланс классов')"
   ]
  },
  {
   "cell_type": "markdown",
   "metadata": {},
   "source": [
    "Заметим, что тренировочная выборка кране не сбалансирована по классам, 93% принадлежат 1 классу. Эту проблему можно решать несколькими методами:\n",
    "- Downsampling \n",
    "- Upsampling \n",
    "- Генерация синтетические образцов из меньшего класса, с помощью SMOTE\n",
    "\n",
    "\n",
    "Займемся этим в предобработке, в данном разделе мы только изучаем и корректируем предоставленные нам данные"
   ]
  },
  {
   "cell_type": "markdown",
   "metadata": {},
   "source": [
    "## Анализ параметра age"
   ]
  },
  {
   "cell_type": "markdown",
   "metadata": {},
   "source": [
    "Начнем с того, что посмотрим в каком возрасте люди склонны к серьезным долгам. Для удобства преобразуем данные по возрасту к строгим промежуткам, то есть категоризируем возраст. но сначала посмотрим распределение признака"
   ]
  },
  {
   "cell_type": "code",
   "execution_count": 33,
   "metadata": {
    "scrolled": false
   },
   "outputs": [
    {
     "data": {
      "text/plain": [
       "count    150000.000000\n",
       "mean         52.295207\n",
       "std          14.771866\n",
       "min           0.000000\n",
       "25%          41.000000\n",
       "50%          52.000000\n",
       "75%          63.000000\n",
       "max         109.000000\n",
       "Name: age, dtype: float64"
      ]
     },
     "metadata": {},
     "output_type": "display_data"
    }
   ],
   "source": [
    "display(cs_training['age'].describe())"
   ]
  },
  {
   "cell_type": "markdown",
   "metadata": {},
   "source": [
    "Обратим внимание, что минимальное значение 0, что достаточно далеко от реальности, разберемся, сколько таких нулей и какие еще значения встречаются возраста кредитования"
   ]
  },
  {
   "cell_type": "code",
   "execution_count": 34,
   "metadata": {
    "scrolled": true
   },
   "outputs": [
    {
     "name": "stdout",
     "output_type": "stream",
     "text": [
      "Количество объектов с значением параметра возраста равного 0: 1\n"
     ]
    }
   ],
   "source": [
    "print(f\"Количество объектов с значением параметра возраста равного 0: {cs_training.query('age == 0').shape[0]}\")"
   ]
  },
  {
   "cell_type": "code",
   "execution_count": 35,
   "metadata": {},
   "outputs": [
    {
     "data": {
      "text/html": [
       "<div>\n",
       "<style scoped>\n",
       "    .dataframe tbody tr th:only-of-type {\n",
       "        vertical-align: middle;\n",
       "    }\n",
       "\n",
       "    .dataframe tbody tr th {\n",
       "        vertical-align: top;\n",
       "    }\n",
       "\n",
       "    .dataframe thead th {\n",
       "        text-align: right;\n",
       "    }\n",
       "</style>\n",
       "<table border=\"1\" class=\"dataframe\">\n",
       "  <thead>\n",
       "    <tr style=\"text-align: right;\">\n",
       "      <th></th>\n",
       "      <th>serious_loan</th>\n",
       "      <th>financial_state_rate</th>\n",
       "      <th>age</th>\n",
       "      <th>count_of_small_past_due</th>\n",
       "      <th>debt_ratio</th>\n",
       "      <th>monthly_income</th>\n",
       "      <th>number_of_credit_lines</th>\n",
       "      <th>count_of_big_past_due</th>\n",
       "      <th>number_of_estate_loans</th>\n",
       "      <th>count_of_medium_past_due</th>\n",
       "      <th>number_of_dependents</th>\n",
       "    </tr>\n",
       "    <tr>\n",
       "      <th>id</th>\n",
       "      <th></th>\n",
       "      <th></th>\n",
       "      <th></th>\n",
       "      <th></th>\n",
       "      <th></th>\n",
       "      <th></th>\n",
       "      <th></th>\n",
       "      <th></th>\n",
       "      <th></th>\n",
       "      <th></th>\n",
       "      <th></th>\n",
       "    </tr>\n",
       "  </thead>\n",
       "  <tbody>\n",
       "    <tr>\n",
       "      <th>1732</th>\n",
       "      <td>0</td>\n",
       "      <td>0.369472</td>\n",
       "      <td>21</td>\n",
       "      <td>0</td>\n",
       "      <td>7.000000</td>\n",
       "      <td>NaN</td>\n",
       "      <td>1</td>\n",
       "      <td>0</td>\n",
       "      <td>0</td>\n",
       "      <td>0</td>\n",
       "      <td>0.0</td>\n",
       "    </tr>\n",
       "    <tr>\n",
       "      <th>2792</th>\n",
       "      <td>0</td>\n",
       "      <td>1.000000</td>\n",
       "      <td>21</td>\n",
       "      <td>0</td>\n",
       "      <td>0.000000</td>\n",
       "      <td>300.0</td>\n",
       "      <td>1</td>\n",
       "      <td>0</td>\n",
       "      <td>0</td>\n",
       "      <td>0</td>\n",
       "      <td>0.0</td>\n",
       "    </tr>\n",
       "    <tr>\n",
       "      <th>3369</th>\n",
       "      <td>0</td>\n",
       "      <td>1.000000</td>\n",
       "      <td>21</td>\n",
       "      <td>0</td>\n",
       "      <td>10.000000</td>\n",
       "      <td>NaN</td>\n",
       "      <td>0</td>\n",
       "      <td>0</td>\n",
       "      <td>0</td>\n",
       "      <td>0</td>\n",
       "      <td>NaN</td>\n",
       "    </tr>\n",
       "    <tr>\n",
       "      <th>3717</th>\n",
       "      <td>0</td>\n",
       "      <td>1.000000</td>\n",
       "      <td>21</td>\n",
       "      <td>0</td>\n",
       "      <td>0.000000</td>\n",
       "      <td>280.0</td>\n",
       "      <td>1</td>\n",
       "      <td>0</td>\n",
       "      <td>0</td>\n",
       "      <td>0</td>\n",
       "      <td>0.0</td>\n",
       "    </tr>\n",
       "    <tr>\n",
       "      <th>4418</th>\n",
       "      <td>0</td>\n",
       "      <td>1.000000</td>\n",
       "      <td>21</td>\n",
       "      <td>98</td>\n",
       "      <td>0.000000</td>\n",
       "      <td>0.0</td>\n",
       "      <td>0</td>\n",
       "      <td>98</td>\n",
       "      <td>0</td>\n",
       "      <td>98</td>\n",
       "      <td>0.0</td>\n",
       "    </tr>\n",
       "    <tr>\n",
       "      <th>...</th>\n",
       "      <td>...</td>\n",
       "      <td>...</td>\n",
       "      <td>...</td>\n",
       "      <td>...</td>\n",
       "      <td>...</td>\n",
       "      <td>...</td>\n",
       "      <td>...</td>\n",
       "      <td>...</td>\n",
       "      <td>...</td>\n",
       "      <td>...</td>\n",
       "      <td>...</td>\n",
       "    </tr>\n",
       "    <tr>\n",
       "      <th>147496</th>\n",
       "      <td>0</td>\n",
       "      <td>1.000000</td>\n",
       "      <td>21</td>\n",
       "      <td>0</td>\n",
       "      <td>0.000000</td>\n",
       "      <td>700.0</td>\n",
       "      <td>1</td>\n",
       "      <td>0</td>\n",
       "      <td>0</td>\n",
       "      <td>0</td>\n",
       "      <td>0.0</td>\n",
       "    </tr>\n",
       "    <tr>\n",
       "      <th>147521</th>\n",
       "      <td>0</td>\n",
       "      <td>1.107892</td>\n",
       "      <td>21</td>\n",
       "      <td>0</td>\n",
       "      <td>0.008248</td>\n",
       "      <td>4000.0</td>\n",
       "      <td>2</td>\n",
       "      <td>0</td>\n",
       "      <td>0</td>\n",
       "      <td>0</td>\n",
       "      <td>0.0</td>\n",
       "    </tr>\n",
       "    <tr>\n",
       "      <th>148327</th>\n",
       "      <td>0</td>\n",
       "      <td>0.000000</td>\n",
       "      <td>21</td>\n",
       "      <td>0</td>\n",
       "      <td>0.000000</td>\n",
       "      <td>2000.0</td>\n",
       "      <td>1</td>\n",
       "      <td>0</td>\n",
       "      <td>0</td>\n",
       "      <td>0</td>\n",
       "      <td>0.0</td>\n",
       "    </tr>\n",
       "    <tr>\n",
       "      <th>149183</th>\n",
       "      <td>0</td>\n",
       "      <td>0.369630</td>\n",
       "      <td>21</td>\n",
       "      <td>0</td>\n",
       "      <td>0.010989</td>\n",
       "      <td>1000.0</td>\n",
       "      <td>1</td>\n",
       "      <td>0</td>\n",
       "      <td>0</td>\n",
       "      <td>0</td>\n",
       "      <td>0.0</td>\n",
       "    </tr>\n",
       "    <tr>\n",
       "      <th>149687</th>\n",
       "      <td>0</td>\n",
       "      <td>0.000000</td>\n",
       "      <td>21</td>\n",
       "      <td>0</td>\n",
       "      <td>0.082796</td>\n",
       "      <td>929.0</td>\n",
       "      <td>1</td>\n",
       "      <td>0</td>\n",
       "      <td>0</td>\n",
       "      <td>0</td>\n",
       "      <td>0.0</td>\n",
       "    </tr>\n",
       "  </tbody>\n",
       "</table>\n",
       "<p>184 rows × 11 columns</p>\n",
       "</div>"
      ],
      "text/plain": [
       "        serious_loan  financial_state_rate  age  count_of_small_past_due  \\\n",
       "id                                                                         \n",
       "1732               0              0.369472   21                        0   \n",
       "2792               0              1.000000   21                        0   \n",
       "3369               0              1.000000   21                        0   \n",
       "3717               0              1.000000   21                        0   \n",
       "4418               0              1.000000   21                       98   \n",
       "...              ...                   ...  ...                      ...   \n",
       "147496             0              1.000000   21                        0   \n",
       "147521             0              1.107892   21                        0   \n",
       "148327             0              0.000000   21                        0   \n",
       "149183             0              0.369630   21                        0   \n",
       "149687             0              0.000000   21                        0   \n",
       "\n",
       "        debt_ratio  monthly_income  number_of_credit_lines  \\\n",
       "id                                                           \n",
       "1732      7.000000             NaN                       1   \n",
       "2792      0.000000           300.0                       1   \n",
       "3369     10.000000             NaN                       0   \n",
       "3717      0.000000           280.0                       1   \n",
       "4418      0.000000             0.0                       0   \n",
       "...            ...             ...                     ...   \n",
       "147496    0.000000           700.0                       1   \n",
       "147521    0.008248          4000.0                       2   \n",
       "148327    0.000000          2000.0                       1   \n",
       "149183    0.010989          1000.0                       1   \n",
       "149687    0.082796           929.0                       1   \n",
       "\n",
       "        count_of_big_past_due  number_of_estate_loans  \\\n",
       "id                                                      \n",
       "1732                        0                       0   \n",
       "2792                        0                       0   \n",
       "3369                        0                       0   \n",
       "3717                        0                       0   \n",
       "4418                       98                       0   \n",
       "...                       ...                     ...   \n",
       "147496                      0                       0   \n",
       "147521                      0                       0   \n",
       "148327                      0                       0   \n",
       "149183                      0                       0   \n",
       "149687                      0                       0   \n",
       "\n",
       "        count_of_medium_past_due  number_of_dependents  \n",
       "id                                                      \n",
       "1732                           0                   0.0  \n",
       "2792                           0                   0.0  \n",
       "3369                           0                   NaN  \n",
       "3717                           0                   0.0  \n",
       "4418                          98                   0.0  \n",
       "...                          ...                   ...  \n",
       "147496                         0                   0.0  \n",
       "147521                         0                   0.0  \n",
       "148327                         0                   0.0  \n",
       "149183                         0                   0.0  \n",
       "149687                         0                   0.0  \n",
       "\n",
       "[184 rows x 11 columns]"
      ]
     },
     "execution_count": 35,
     "metadata": {},
     "output_type": "execute_result"
    }
   ],
   "source": [
    "cs_training.query(\"age < 22\")"
   ]
  },
  {
   "cell_type": "markdown",
   "metadata": {},
   "source": [
    "Эмпирическим методом мы определили, что стартовый возраст кредитования - 21 год, в выборке так же присутствует 1 объект с возрастом 0 лет, но вероятнее всего это ошибка при заполнении. Удалим данный объект"
   ]
  },
  {
   "cell_type": "code",
   "execution_count": 36,
   "metadata": {},
   "outputs": [],
   "source": [
    "cs_training = cs_training.drop(cs_training.query('age == 0').index.tolist(),axis = 0)"
   ]
  },
  {
   "cell_type": "markdown",
   "metadata": {},
   "source": [
    "В данном признаке отсутствуют пропуски, так что двигаемся дальше "
   ]
  },
  {
   "cell_type": "markdown",
   "metadata": {},
   "source": [
    "## Анализ параметра financial_state_rate"
   ]
  },
  {
   "cell_type": "code",
   "execution_count": 37,
   "metadata": {
    "scrolled": true
   },
   "outputs": [
    {
     "data": {
      "text/plain": [
       "count    149999.000000\n",
       "mean          6.048472\n",
       "std         249.756203\n",
       "min           0.000000\n",
       "25%           0.029867\n",
       "50%           0.154176\n",
       "75%           0.559044\n",
       "max       50708.000000\n",
       "Name: financial_state_rate, dtype: float64"
      ]
     },
     "metadata": {},
     "output_type": "display_data"
    }
   ],
   "source": [
    "display(cs_training['financial_state_rate'].describe())"
   ]
  },
  {
   "cell_type": "code",
   "execution_count": 38,
   "metadata": {
    "scrolled": false
   },
   "outputs": [
    {
     "data": {
      "text/plain": [
       "<matplotlib.axes._subplots.AxesSubplot at 0x7fb97c47a970>"
      ]
     },
     "execution_count": 38,
     "metadata": {},
     "output_type": "execute_result"
    },
    {
     "data": {
      "image/png": "[encoded data removed]",
      "text/plain": [
       "<Figure size 432x288 with 1 Axes>"
      ]
     },
     "metadata": {
      "needs_background": "light"
     },
     "output_type": "display_data"
    }
   ],
   "source": [
    "cs_training.boxplot(column='financial_state_rate')"
   ]
  },
  {
   "cell_type": "code",
   "execution_count": 39,
   "metadata": {},
   "outputs": [
    {
     "name": "stdout",
     "output_type": "stream",
     "text": [
      "Количество строк, выбранных для удаления financial_state_rate: 788. Количество итераций 3\n",
      "\n"
     ]
    }
   ],
   "source": [
    "cs_training,_,_ = removing_outliers(\"financial_state_rate\",cs_training)"
   ]
  },
  {
   "cell_type": "markdown",
   "metadata": {},
   "source": [
    "Посмотрим на результаты"
   ]
  },
  {
   "cell_type": "code",
   "execution_count": 40,
   "metadata": {},
   "outputs": [
    {
     "data": {
      "text/plain": [
       "<matplotlib.axes._subplots.AxesSubplot at 0x7fb97c599460>"
      ]
     },
     "execution_count": 40,
     "metadata": {},
     "output_type": "execute_result"
    },
    {
     "data": {
      "image/png": "[encoded data removed]",
      "text/plain": [
       "<Figure size 432x288 with 1 Axes>"
      ]
     },
     "metadata": {
      "needs_background": "light"
     },
     "output_type": "display_data"
    }
   ],
   "source": [
    "cs_training.boxplot(column='financial_state_rate')"
   ]
  },
  {
   "cell_type": "markdown",
   "metadata": {},
   "source": [
    "В процессе обработки данного признака было удалено 788 объектов, что составило 0.5% от всей выборки"
   ]
  },
  {
   "cell_type": "code",
   "execution_count": 41,
   "metadata": {
    "scrolled": true
   },
   "outputs": [
    {
     "data": {
      "text/plain": [
       "count    149211.000000\n",
       "mean          0.316816\n",
       "std           0.349541\n",
       "min           0.000000\n",
       "25%           0.029570\n",
       "50%           0.151796\n",
       "75%           0.548955\n",
       "max           1.325581\n",
       "Name: financial_state_rate, dtype: float64"
      ]
     },
     "metadata": {},
     "output_type": "display_data"
    }
   ],
   "source": [
    "display(cs_training['financial_state_rate'].describe())"
   ]
  },
  {
   "cell_type": "markdown",
   "metadata": {},
   "source": [
    "Скорректируем данные, в данном признаке не может быть больше 1, так ка сумма лимитов не может быть меньше суммы балансов"
   ]
  },
  {
   "cell_type": "code",
   "execution_count": 42,
   "metadata": {
    "scrolled": true
   },
   "outputs": [],
   "source": [
    "cs_training['financial_state_rate'] = cs_training['financial_state_rate'].apply(lambda x: 1 if x > 1 else x)\n",
    "# cs_training = cs_training.drop(cs_training.query('financial_state_rate > 1').index.tolist())"
   ]
  },
  {
   "cell_type": "markdown",
   "metadata": {},
   "source": [
    "## Анализ параметра count_of_small_past_due"
   ]
  },
  {
   "cell_type": "code",
   "execution_count": 43,
   "metadata": {
    "scrolled": true
   },
   "outputs": [
    {
     "data": {
      "text/plain": [
       "count    149211.000000\n",
       "mean          0.419480\n",
       "std           4.203059\n",
       "min           0.000000\n",
       "25%           0.000000\n",
       "50%           0.000000\n",
       "75%           0.000000\n",
       "max          98.000000\n",
       "Name: count_of_small_past_due, dtype: float64"
      ]
     },
     "metadata": {},
     "output_type": "display_data"
    }
   ],
   "source": [
    "display(cs_training['count_of_small_past_due'].describe())"
   ]
  },
  {
   "cell_type": "code",
   "execution_count": 44,
   "metadata": {
    "scrolled": true
   },
   "outputs": [
    {
     "data": {
      "text/plain": [
       "<matplotlib.axes._subplots.AxesSubplot at 0x7fb9824f4760>"
      ]
     },
     "execution_count": 44,
     "metadata": {},
     "output_type": "execute_result"
    },
    {
     "data": {
      "image/png": "[encoded data removed]",
      "text/plain": [
       "<Figure size 432x288 with 1 Axes>"
      ]
     },
     "metadata": {
      "needs_background": "light"
     },
     "output_type": "display_data"
    }
   ],
   "source": [
    "cs_training.boxplot(column='count_of_small_past_due')"
   ]
  },
  {
   "cell_type": "markdown",
   "metadata": {},
   "source": [
    "Этот признак нельзя однозначно очистить от выбросов, но как мы можем видеть присутствует сильный разрыв, между значениями попадающими в отрезки до 20 и больше 80. Я считаю, что значения больше 80 стоит удалить. Посмотрим много ли их"
   ]
  },
  {
   "cell_type": "code",
   "execution_count": 45,
   "metadata": {
    "scrolled": true
   },
   "outputs": [
    {
     "data": {
      "text/html": [
       "<div>\n",
       "<style scoped>\n",
       "    .dataframe tbody tr th:only-of-type {\n",
       "        vertical-align: middle;\n",
       "    }\n",
       "\n",
       "    .dataframe tbody tr th {\n",
       "        vertical-align: top;\n",
       "    }\n",
       "\n",
       "    .dataframe thead th {\n",
       "        text-align: right;\n",
       "    }\n",
       "</style>\n",
       "<table border=\"1\" class=\"dataframe\">\n",
       "  <thead>\n",
       "    <tr style=\"text-align: right;\">\n",
       "      <th></th>\n",
       "      <th>serious_loan</th>\n",
       "      <th>financial_state_rate</th>\n",
       "      <th>age</th>\n",
       "      <th>count_of_small_past_due</th>\n",
       "      <th>debt_ratio</th>\n",
       "      <th>monthly_income</th>\n",
       "      <th>number_of_credit_lines</th>\n",
       "      <th>count_of_big_past_due</th>\n",
       "      <th>number_of_estate_loans</th>\n",
       "      <th>count_of_medium_past_due</th>\n",
       "      <th>number_of_dependents</th>\n",
       "    </tr>\n",
       "    <tr>\n",
       "      <th>id</th>\n",
       "      <th></th>\n",
       "      <th></th>\n",
       "      <th></th>\n",
       "      <th></th>\n",
       "      <th></th>\n",
       "      <th></th>\n",
       "      <th></th>\n",
       "      <th></th>\n",
       "      <th></th>\n",
       "      <th></th>\n",
       "      <th></th>\n",
       "    </tr>\n",
       "  </thead>\n",
       "  <tbody>\n",
       "    <tr>\n",
       "      <th>1734</th>\n",
       "      <td>1</td>\n",
       "      <td>1.0</td>\n",
       "      <td>27</td>\n",
       "      <td>98</td>\n",
       "      <td>0.0</td>\n",
       "      <td>2700.0</td>\n",
       "      <td>0</td>\n",
       "      <td>98</td>\n",
       "      <td>0</td>\n",
       "      <td>98</td>\n",
       "      <td>0.0</td>\n",
       "    </tr>\n",
       "    <tr>\n",
       "      <th>2287</th>\n",
       "      <td>0</td>\n",
       "      <td>1.0</td>\n",
       "      <td>22</td>\n",
       "      <td>98</td>\n",
       "      <td>0.0</td>\n",
       "      <td>NaN</td>\n",
       "      <td>0</td>\n",
       "      <td>98</td>\n",
       "      <td>0</td>\n",
       "      <td>98</td>\n",
       "      <td>0.0</td>\n",
       "    </tr>\n",
       "    <tr>\n",
       "      <th>3885</th>\n",
       "      <td>0</td>\n",
       "      <td>1.0</td>\n",
       "      <td>38</td>\n",
       "      <td>98</td>\n",
       "      <td>12.0</td>\n",
       "      <td>NaN</td>\n",
       "      <td>0</td>\n",
       "      <td>98</td>\n",
       "      <td>0</td>\n",
       "      <td>98</td>\n",
       "      <td>0.0</td>\n",
       "    </tr>\n",
       "    <tr>\n",
       "      <th>4418</th>\n",
       "      <td>0</td>\n",
       "      <td>1.0</td>\n",
       "      <td>21</td>\n",
       "      <td>98</td>\n",
       "      <td>0.0</td>\n",
       "      <td>0.0</td>\n",
       "      <td>0</td>\n",
       "      <td>98</td>\n",
       "      <td>0</td>\n",
       "      <td>98</td>\n",
       "      <td>0.0</td>\n",
       "    </tr>\n",
       "    <tr>\n",
       "      <th>4706</th>\n",
       "      <td>0</td>\n",
       "      <td>1.0</td>\n",
       "      <td>21</td>\n",
       "      <td>98</td>\n",
       "      <td>0.0</td>\n",
       "      <td>2000.0</td>\n",
       "      <td>0</td>\n",
       "      <td>98</td>\n",
       "      <td>0</td>\n",
       "      <td>98</td>\n",
       "      <td>0.0</td>\n",
       "    </tr>\n",
       "    <tr>\n",
       "      <th>...</th>\n",
       "      <td>...</td>\n",
       "      <td>...</td>\n",
       "      <td>...</td>\n",
       "      <td>...</td>\n",
       "      <td>...</td>\n",
       "      <td>...</td>\n",
       "      <td>...</td>\n",
       "      <td>...</td>\n",
       "      <td>...</td>\n",
       "      <td>...</td>\n",
       "      <td>...</td>\n",
       "    </tr>\n",
       "    <tr>\n",
       "      <th>147775</th>\n",
       "      <td>1</td>\n",
       "      <td>1.0</td>\n",
       "      <td>68</td>\n",
       "      <td>98</td>\n",
       "      <td>255.0</td>\n",
       "      <td>NaN</td>\n",
       "      <td>0</td>\n",
       "      <td>98</td>\n",
       "      <td>0</td>\n",
       "      <td>98</td>\n",
       "      <td>0.0</td>\n",
       "    </tr>\n",
       "    <tr>\n",
       "      <th>149154</th>\n",
       "      <td>1</td>\n",
       "      <td>1.0</td>\n",
       "      <td>24</td>\n",
       "      <td>98</td>\n",
       "      <td>54.0</td>\n",
       "      <td>NaN</td>\n",
       "      <td>0</td>\n",
       "      <td>98</td>\n",
       "      <td>0</td>\n",
       "      <td>98</td>\n",
       "      <td>0.0</td>\n",
       "    </tr>\n",
       "    <tr>\n",
       "      <th>149240</th>\n",
       "      <td>0</td>\n",
       "      <td>1.0</td>\n",
       "      <td>26</td>\n",
       "      <td>98</td>\n",
       "      <td>0.0</td>\n",
       "      <td>2000.0</td>\n",
       "      <td>0</td>\n",
       "      <td>98</td>\n",
       "      <td>0</td>\n",
       "      <td>98</td>\n",
       "      <td>0.0</td>\n",
       "    </tr>\n",
       "    <tr>\n",
       "      <th>149440</th>\n",
       "      <td>1</td>\n",
       "      <td>1.0</td>\n",
       "      <td>34</td>\n",
       "      <td>98</td>\n",
       "      <td>9.0</td>\n",
       "      <td>NaN</td>\n",
       "      <td>0</td>\n",
       "      <td>98</td>\n",
       "      <td>0</td>\n",
       "      <td>98</td>\n",
       "      <td>0.0</td>\n",
       "    </tr>\n",
       "    <tr>\n",
       "      <th>149770</th>\n",
       "      <td>0</td>\n",
       "      <td>1.0</td>\n",
       "      <td>23</td>\n",
       "      <td>98</td>\n",
       "      <td>0.0</td>\n",
       "      <td>NaN</td>\n",
       "      <td>0</td>\n",
       "      <td>98</td>\n",
       "      <td>0</td>\n",
       "      <td>98</td>\n",
       "      <td>NaN</td>\n",
       "    </tr>\n",
       "  </tbody>\n",
       "</table>\n",
       "<p>269 rows × 11 columns</p>\n",
       "</div>"
      ],
      "text/plain": [
       "        serious_loan  financial_state_rate  age  count_of_small_past_due  \\\n",
       "id                                                                         \n",
       "1734               1                   1.0   27                       98   \n",
       "2287               0                   1.0   22                       98   \n",
       "3885               0                   1.0   38                       98   \n",
       "4418               0                   1.0   21                       98   \n",
       "4706               0                   1.0   21                       98   \n",
       "...              ...                   ...  ...                      ...   \n",
       "147775             1                   1.0   68                       98   \n",
       "149154             1                   1.0   24                       98   \n",
       "149240             0                   1.0   26                       98   \n",
       "149440             1                   1.0   34                       98   \n",
       "149770             0                   1.0   23                       98   \n",
       "\n",
       "        debt_ratio  monthly_income  number_of_credit_lines  \\\n",
       "id                                                           \n",
       "1734           0.0          2700.0                       0   \n",
       "2287           0.0             NaN                       0   \n",
       "3885          12.0             NaN                       0   \n",
       "4418           0.0             0.0                       0   \n",
       "4706           0.0          2000.0                       0   \n",
       "...            ...             ...                     ...   \n",
       "147775       255.0             NaN                       0   \n",
       "149154        54.0             NaN                       0   \n",
       "149240         0.0          2000.0                       0   \n",
       "149440         9.0             NaN                       0   \n",
       "149770         0.0             NaN                       0   \n",
       "\n",
       "        count_of_big_past_due  number_of_estate_loans  \\\n",
       "id                                                      \n",
       "1734                       98                       0   \n",
       "2287                       98                       0   \n",
       "3885                       98                       0   \n",
       "4418                       98                       0   \n",
       "4706                       98                       0   \n",
       "...                       ...                     ...   \n",
       "147775                     98                       0   \n",
       "149154                     98                       0   \n",
       "149240                     98                       0   \n",
       "149440                     98                       0   \n",
       "149770                     98                       0   \n",
       "\n",
       "        count_of_medium_past_due  number_of_dependents  \n",
       "id                                                      \n",
       "1734                          98                   0.0  \n",
       "2287                          98                   0.0  \n",
       "3885                          98                   0.0  \n",
       "4418                          98                   0.0  \n",
       "4706                          98                   0.0  \n",
       "...                          ...                   ...  \n",
       "147775                        98                   0.0  \n",
       "149154                        98                   0.0  \n",
       "149240                        98                   0.0  \n",
       "149440                        98                   0.0  \n",
       "149770                        98                   NaN  \n",
       "\n",
       "[269 rows x 11 columns]"
      ]
     },
     "execution_count": 45,
     "metadata": {},
     "output_type": "execute_result"
    }
   ],
   "source": [
    "cs_training.query('count_of_small_past_due > 80')"
   ]
  },
  {
   "cell_type": "markdown",
   "metadata": {},
   "source": [
    "Таких объектов всего 225, удалим их"
   ]
  },
  {
   "cell_type": "code",
   "execution_count": 46,
   "metadata": {},
   "outputs": [],
   "source": [
    "cs_training = cs_training.drop(cs_training.query('count_of_small_past_due > 80').index.tolist())"
   ]
  },
  {
   "cell_type": "markdown",
   "metadata": {},
   "source": []
  },
  {
   "cell_type": "markdown",
   "metadata": {},
   "source": [
    "## Анализ параметра debt_ratio"
   ]
  },
  {
   "cell_type": "code",
   "execution_count": 47,
   "metadata": {},
   "outputs": [
    {
     "data": {
      "text/plain": [
       "count    148942.000000\n",
       "mean        353.842557\n",
       "std        2043.341664\n",
       "min           0.000000\n",
       "25%           0.176107\n",
       "50%           0.367165\n",
       "75%           0.868529\n",
       "max      329664.000000\n",
       "Name: debt_ratio, dtype: float64"
      ]
     },
     "metadata": {},
     "output_type": "display_data"
    }
   ],
   "source": [
    "display(cs_training['debt_ratio'].describe())"
   ]
  },
  {
   "cell_type": "markdown",
   "metadata": {},
   "source": [
    "В данном признаке не может быть значений больше 1, иначе это бы означала, что у человека нет денег е только для оплаты долга, но и на пищу"
   ]
  },
  {
   "cell_type": "code",
   "execution_count": 48,
   "metadata": {
    "scrolled": true
   },
   "outputs": [
    {
     "data": {
      "text/html": [
       "<div>\n",
       "<style scoped>\n",
       "    .dataframe tbody tr th:only-of-type {\n",
       "        vertical-align: middle;\n",
       "    }\n",
       "\n",
       "    .dataframe tbody tr th {\n",
       "        vertical-align: top;\n",
       "    }\n",
       "\n",
       "    .dataframe thead th {\n",
       "        text-align: right;\n",
       "    }\n",
       "</style>\n",
       "<table border=\"1\" class=\"dataframe\">\n",
       "  <thead>\n",
       "    <tr style=\"text-align: right;\">\n",
       "      <th></th>\n",
       "      <th>serious_loan</th>\n",
       "      <th>financial_state_rate</th>\n",
       "      <th>age</th>\n",
       "      <th>count_of_small_past_due</th>\n",
       "      <th>debt_ratio</th>\n",
       "      <th>monthly_income</th>\n",
       "      <th>number_of_credit_lines</th>\n",
       "      <th>count_of_big_past_due</th>\n",
       "      <th>number_of_estate_loans</th>\n",
       "      <th>count_of_medium_past_due</th>\n",
       "      <th>number_of_dependents</th>\n",
       "    </tr>\n",
       "    <tr>\n",
       "      <th>id</th>\n",
       "      <th></th>\n",
       "      <th></th>\n",
       "      <th></th>\n",
       "      <th></th>\n",
       "      <th></th>\n",
       "      <th></th>\n",
       "      <th></th>\n",
       "      <th></th>\n",
       "      <th></th>\n",
       "      <th></th>\n",
       "      <th></th>\n",
       "    </tr>\n",
       "  </thead>\n",
       "  <tbody>\n",
       "    <tr>\n",
       "      <th>7</th>\n",
       "      <td>0</td>\n",
       "      <td>0.305682</td>\n",
       "      <td>57</td>\n",
       "      <td>0</td>\n",
       "      <td>5710.000000</td>\n",
       "      <td>NaN</td>\n",
       "      <td>8</td>\n",
       "      <td>0</td>\n",
       "      <td>3</td>\n",
       "      <td>0</td>\n",
       "      <td>0.0</td>\n",
       "    </tr>\n",
       "    <tr>\n",
       "      <th>9</th>\n",
       "      <td>0</td>\n",
       "      <td>0.116951</td>\n",
       "      <td>27</td>\n",
       "      <td>0</td>\n",
       "      <td>46.000000</td>\n",
       "      <td>NaN</td>\n",
       "      <td>2</td>\n",
       "      <td>0</td>\n",
       "      <td>0</td>\n",
       "      <td>0</td>\n",
       "      <td>NaN</td>\n",
       "    </tr>\n",
       "    <tr>\n",
       "      <th>15</th>\n",
       "      <td>0</td>\n",
       "      <td>0.019657</td>\n",
       "      <td>76</td>\n",
       "      <td>0</td>\n",
       "      <td>477.000000</td>\n",
       "      <td>0.0</td>\n",
       "      <td>6</td>\n",
       "      <td>0</td>\n",
       "      <td>1</td>\n",
       "      <td>0</td>\n",
       "      <td>0.0</td>\n",
       "    </tr>\n",
       "    <tr>\n",
       "      <th>17</th>\n",
       "      <td>0</td>\n",
       "      <td>0.061086</td>\n",
       "      <td>78</td>\n",
       "      <td>0</td>\n",
       "      <td>2058.000000</td>\n",
       "      <td>NaN</td>\n",
       "      <td>10</td>\n",
       "      <td>0</td>\n",
       "      <td>2</td>\n",
       "      <td>0</td>\n",
       "      <td>0.0</td>\n",
       "    </tr>\n",
       "    <tr>\n",
       "      <th>26</th>\n",
       "      <td>1</td>\n",
       "      <td>0.392248</td>\n",
       "      <td>50</td>\n",
       "      <td>0</td>\n",
       "      <td>1.595253</td>\n",
       "      <td>4676.0</td>\n",
       "      <td>14</td>\n",
       "      <td>0</td>\n",
       "      <td>3</td>\n",
       "      <td>0</td>\n",
       "      <td>1.0</td>\n",
       "    </tr>\n",
       "    <tr>\n",
       "      <th>...</th>\n",
       "      <td>...</td>\n",
       "      <td>...</td>\n",
       "      <td>...</td>\n",
       "      <td>...</td>\n",
       "      <td>...</td>\n",
       "      <td>...</td>\n",
       "      <td>...</td>\n",
       "      <td>...</td>\n",
       "      <td>...</td>\n",
       "      <td>...</td>\n",
       "      <td>...</td>\n",
       "    </tr>\n",
       "    <tr>\n",
       "      <th>149977</th>\n",
       "      <td>0</td>\n",
       "      <td>0.000627</td>\n",
       "      <td>76</td>\n",
       "      <td>0</td>\n",
       "      <td>60.000000</td>\n",
       "      <td>NaN</td>\n",
       "      <td>5</td>\n",
       "      <td>0</td>\n",
       "      <td>0</td>\n",
       "      <td>0</td>\n",
       "      <td>0.0</td>\n",
       "    </tr>\n",
       "    <tr>\n",
       "      <th>149978</th>\n",
       "      <td>0</td>\n",
       "      <td>0.236450</td>\n",
       "      <td>29</td>\n",
       "      <td>0</td>\n",
       "      <td>349.000000</td>\n",
       "      <td>NaN</td>\n",
       "      <td>3</td>\n",
       "      <td>0</td>\n",
       "      <td>0</td>\n",
       "      <td>0</td>\n",
       "      <td>0.0</td>\n",
       "    </tr>\n",
       "    <tr>\n",
       "      <th>149985</th>\n",
       "      <td>0</td>\n",
       "      <td>0.037548</td>\n",
       "      <td>84</td>\n",
       "      <td>0</td>\n",
       "      <td>25.000000</td>\n",
       "      <td>NaN</td>\n",
       "      <td>5</td>\n",
       "      <td>0</td>\n",
       "      <td>0</td>\n",
       "      <td>0</td>\n",
       "      <td>0.0</td>\n",
       "    </tr>\n",
       "    <tr>\n",
       "      <th>149993</th>\n",
       "      <td>0</td>\n",
       "      <td>0.871976</td>\n",
       "      <td>50</td>\n",
       "      <td>0</td>\n",
       "      <td>4132.000000</td>\n",
       "      <td>NaN</td>\n",
       "      <td>11</td>\n",
       "      <td>0</td>\n",
       "      <td>1</td>\n",
       "      <td>0</td>\n",
       "      <td>3.0</td>\n",
       "    </tr>\n",
       "    <tr>\n",
       "      <th>149998</th>\n",
       "      <td>0</td>\n",
       "      <td>0.246044</td>\n",
       "      <td>58</td>\n",
       "      <td>0</td>\n",
       "      <td>3870.000000</td>\n",
       "      <td>NaN</td>\n",
       "      <td>18</td>\n",
       "      <td>0</td>\n",
       "      <td>1</td>\n",
       "      <td>0</td>\n",
       "      <td>0.0</td>\n",
       "    </tr>\n",
       "  </tbody>\n",
       "</table>\n",
       "<p>34890 rows × 11 columns</p>\n",
       "</div>"
      ],
      "text/plain": [
       "        serious_loan  financial_state_rate  age  count_of_small_past_due  \\\n",
       "id                                                                         \n",
       "7                  0              0.305682   57                        0   \n",
       "9                  0              0.116951   27                        0   \n",
       "15                 0              0.019657   76                        0   \n",
       "17                 0              0.061086   78                        0   \n",
       "26                 1              0.392248   50                        0   \n",
       "...              ...                   ...  ...                      ...   \n",
       "149977             0              0.000627   76                        0   \n",
       "149978             0              0.236450   29                        0   \n",
       "149985             0              0.037548   84                        0   \n",
       "149993             0              0.871976   50                        0   \n",
       "149998             0              0.246044   58                        0   \n",
       "\n",
       "         debt_ratio  monthly_income  number_of_credit_lines  \\\n",
       "id                                                            \n",
       "7       5710.000000             NaN                       8   \n",
       "9         46.000000             NaN                       2   \n",
       "15       477.000000             0.0                       6   \n",
       "17      2058.000000             NaN                      10   \n",
       "26         1.595253          4676.0                      14   \n",
       "...             ...             ...                     ...   \n",
       "149977    60.000000             NaN                       5   \n",
       "149978   349.000000             NaN                       3   \n",
       "149985    25.000000             NaN                       5   \n",
       "149993  4132.000000             NaN                      11   \n",
       "149998  3870.000000             NaN                      18   \n",
       "\n",
       "        count_of_big_past_due  number_of_estate_loans  \\\n",
       "id                                                      \n",
       "7                           0                       3   \n",
       "9                           0                       0   \n",
       "15                          0                       1   \n",
       "17                          0                       2   \n",
       "26                          0                       3   \n",
       "...                       ...                     ...   \n",
       "149977                      0                       0   \n",
       "149978                      0                       0   \n",
       "149985                      0                       0   \n",
       "149993                      0                       1   \n",
       "149998                      0                       1   \n",
       "\n",
       "        count_of_medium_past_due  number_of_dependents  \n",
       "id                                                      \n",
       "7                              0                   0.0  \n",
       "9                              0                   NaN  \n",
       "15                             0                   0.0  \n",
       "17                             0                   0.0  \n",
       "26                             0                   1.0  \n",
       "...                          ...                   ...  \n",
       "149977                         0                   0.0  \n",
       "149978                         0                   0.0  \n",
       "149985                         0                   0.0  \n",
       "149993                         0                   3.0  \n",
       "149998                         0                   0.0  \n",
       "\n",
       "[34890 rows x 11 columns]"
      ]
     },
     "execution_count": 48,
     "metadata": {},
     "output_type": "execute_result"
    }
   ],
   "source": [
    "cs_training.query('debt_ratio > 1')"
   ]
  },
  {
   "cell_type": "code",
   "execution_count": 49,
   "metadata": {},
   "outputs": [],
   "source": [
    "cs_training = cs_training.drop(cs_training.query('debt_ratio > 1').index.tolist())"
   ]
  },
  {
   "cell_type": "code",
   "execution_count": 50,
   "metadata": {},
   "outputs": [
    {
     "data": {
      "text/plain": [
       "count    114052.000000\n",
       "mean          0.303751\n",
       "std           0.226111\n",
       "min           0.000000\n",
       "25%           0.127362\n",
       "50%           0.275235\n",
       "75%           0.438757\n",
       "max           1.000000\n",
       "Name: debt_ratio, dtype: float64"
      ]
     },
     "metadata": {},
     "output_type": "display_data"
    }
   ],
   "source": [
    "display(cs_training['debt_ratio'].describe())"
   ]
  },
  {
   "cell_type": "markdown",
   "metadata": {},
   "source": [
    "## Анализ параметра monthly_income"
   ]
  },
  {
   "cell_type": "code",
   "execution_count": 51,
   "metadata": {
    "scrolled": true
   },
   "outputs": [
    {
     "data": {
      "text/plain": [
       "count    1.123200e+05\n",
       "mean     6.960850e+03\n",
       "std      1.481449e+04\n",
       "min      0.000000e+00\n",
       "25%      3.646000e+03\n",
       "50%      5.600000e+03\n",
       "75%      8.416250e+03\n",
       "max      3.008750e+06\n",
       "Name: monthly_income, dtype: float64"
      ]
     },
     "execution_count": 51,
     "metadata": {},
     "output_type": "execute_result"
    }
   ],
   "source": [
    "cs_training['monthly_income'].describe()"
   ]
  },
  {
   "cell_type": "code",
   "execution_count": 52,
   "metadata": {
    "scrolled": true
   },
   "outputs": [
    {
     "data": {
      "text/plain": [
       "1732"
      ]
     },
     "execution_count": 52,
     "metadata": {},
     "output_type": "execute_result"
    }
   ],
   "source": [
    "cs_training['monthly_income'].isnull().sum()"
   ]
  },
  {
   "cell_type": "code",
   "execution_count": 53,
   "metadata": {},
   "outputs": [],
   "source": [
    "cs_training = cs_training.dropna(subset=['monthly_income'], axis = 0)"
   ]
  },
  {
   "cell_type": "code",
   "execution_count": 54,
   "metadata": {
    "scrolled": false
   },
   "outputs": [
    {
     "data": {
      "text/plain": [
       "<matplotlib.axes._subplots.AxesSubplot at 0x7fb97e782e50>"
      ]
     },
     "execution_count": 54,
     "metadata": {},
     "output_type": "execute_result"
    },
    {
     "data": {
      "image/png": "[encoded data removed]",
      "text/plain": [
       "<Figure size 432x288 with 1 Axes>"
      ]
     },
     "metadata": {
      "needs_background": "light"
     },
     "output_type": "display_data"
    }
   ],
   "source": [
    "cs_training.boxplot(column='monthly_income')"
   ]
  },
  {
   "cell_type": "code",
   "execution_count": 55,
   "metadata": {
    "scrolled": true
   },
   "outputs": [
    {
     "name": "stdout",
     "output_type": "stream",
     "text": [
      "Количество строк, выбранных для удаления monthly_income: 6023. Количество итераций 4\n",
      "\n"
     ]
    }
   ],
   "source": [
    "cs_training,_,_ = removing_outliers('monthly_income',cs_training)"
   ]
  },
  {
   "cell_type": "code",
   "execution_count": 56,
   "metadata": {
    "scrolled": true
   },
   "outputs": [
    {
     "name": "stdout",
     "output_type": "stream",
     "text": [
      "<class 'pandas.core.frame.DataFrame'>\n",
      "Int64Index: 106297 entries, 1 to 150000\n",
      "Data columns (total 11 columns):\n",
      " #   Column                    Non-Null Count   Dtype  \n",
      "---  ------                    --------------   -----  \n",
      " 0   serious_loan              106297 non-null  int64  \n",
      " 1   financial_state_rate      106297 non-null  float64\n",
      " 2   age                       106297 non-null  int64  \n",
      " 3   count_of_small_past_due   106297 non-null  int64  \n",
      " 4   debt_ratio                106297 non-null  float64\n",
      " 5   monthly_income            106297 non-null  float64\n",
      " 6   number_of_credit_lines    106297 non-null  int64  \n",
      " 7   count_of_big_past_due     106297 non-null  int64  \n",
      " 8   number_of_estate_loans    106297 non-null  int64  \n",
      " 9   count_of_medium_past_due  106297 non-null  int64  \n",
      " 10  number_of_dependents      106297 non-null  float64\n",
      "dtypes: float64(4), int64(7)\n",
      "memory usage: 14.7 MB\n"
     ]
    }
   ],
   "source": [
    "cs_training.info()"
   ]
  },
  {
   "cell_type": "markdown",
   "metadata": {},
   "source": [
    "## Анализ параметра number_of_credit_lines"
   ]
  },
  {
   "cell_type": "code",
   "execution_count": 57,
   "metadata": {
    "scrolled": true
   },
   "outputs": [
    {
     "data": {
      "text/plain": [
       "count    106297.000000\n",
       "mean          8.532216\n",
       "std           5.018585\n",
       "min           0.000000\n",
       "25%           5.000000\n",
       "50%           8.000000\n",
       "75%          11.000000\n",
       "max          57.000000\n",
       "Name: number_of_credit_lines, dtype: float64"
      ]
     },
     "execution_count": 57,
     "metadata": {},
     "output_type": "execute_result"
    }
   ],
   "source": [
    "cs_training['number_of_credit_lines'].describe()"
   ]
  },
  {
   "cell_type": "code",
   "execution_count": 58,
   "metadata": {
    "scrolled": true
   },
   "outputs": [
    {
     "data": {
      "text/plain": [
       "<matplotlib.axes._subplots.AxesSubplot at 0x7fb97c842940>"
      ]
     },
     "execution_count": 58,
     "metadata": {},
     "output_type": "execute_result"
    },
    {
     "data": {
      "image/png": "[encoded data removed]",
      "text/plain": [
       "<Figure size 432x288 with 1 Axes>"
      ]
     },
     "metadata": {
      "needs_background": "light"
     },
     "output_type": "display_data"
    }
   ],
   "source": [
    "cs_training.boxplot(column='number_of_credit_lines')"
   ]
  },
  {
   "cell_type": "code",
   "execution_count": 59,
   "metadata": {},
   "outputs": [
    {
     "name": "stdout",
     "output_type": "stream",
     "text": [
      "Количество строк, выбранных для удаления number_of_credit_lines: 2630. Количество итераций 2\n",
      "\n"
     ]
    }
   ],
   "source": [
    "cs_training,_,_ = removing_outliers('number_of_credit_lines',cs_training)"
   ]
  },
  {
   "cell_type": "code",
   "execution_count": 60,
   "metadata": {
    "scrolled": true
   },
   "outputs": [
    {
     "data": {
      "text/plain": [
       "<matplotlib.axes._subplots.AxesSubplot at 0x7fb97c8f6190>"
      ]
     },
     "execution_count": 60,
     "metadata": {},
     "output_type": "execute_result"
    },
    {
     "data": {
      "image/png": "[encoded data removed]",
      "text/plain": [
       "<Figure size 432x288 with 1 Axes>"
      ]
     },
     "metadata": {
      "needs_background": "light"
     },
     "output_type": "display_data"
    }
   ],
   "source": [
    "cs_training.boxplot(column='number_of_credit_lines')"
   ]
  },
  {
   "cell_type": "markdown",
   "metadata": {},
   "source": [
    "## Анализ параметра count_of_big_past_due"
   ]
  },
  {
   "cell_type": "code",
   "execution_count": 61,
   "metadata": {
    "scrolled": true
   },
   "outputs": [
    {
     "data": {
      "text/plain": [
       "count    103667.000000\n",
       "mean          0.091726\n",
       "std           0.477927\n",
       "min           0.000000\n",
       "25%           0.000000\n",
       "50%           0.000000\n",
       "75%           0.000000\n",
       "max          17.000000\n",
       "Name: count_of_big_past_due, dtype: float64"
      ]
     },
     "execution_count": 61,
     "metadata": {},
     "output_type": "execute_result"
    }
   ],
   "source": [
    "cs_training['count_of_big_past_due'].describe()"
   ]
  },
  {
   "cell_type": "markdown",
   "metadata": {},
   "source": [
    "## Анализ параметра number_of_estate_loans"
   ]
  },
  {
   "cell_type": "code",
   "execution_count": 62,
   "metadata": {
    "scrolled": true
   },
   "outputs": [
    {
     "data": {
      "text/plain": [
       "count    103667.000000\n",
       "mean          0.940724\n",
       "std           0.968504\n",
       "min           0.000000\n",
       "25%           0.000000\n",
       "50%           1.000000\n",
       "75%           2.000000\n",
       "max          13.000000\n",
       "Name: number_of_estate_loans, dtype: float64"
      ]
     },
     "execution_count": 62,
     "metadata": {},
     "output_type": "execute_result"
    }
   ],
   "source": [
    "cs_training['number_of_estate_loans'].describe()"
   ]
  },
  {
   "cell_type": "code",
   "execution_count": 63,
   "metadata": {
    "scrolled": true
   },
   "outputs": [
    {
     "data": {
      "text/plain": [
       "<matplotlib.axes._subplots.AxesSubplot at 0x7fb97d398640>"
      ]
     },
     "execution_count": 63,
     "metadata": {},
     "output_type": "execute_result"
    },
    {
     "data": {
      "image/png": "[encoded data removed]",
      "text/plain": [
       "<Figure size 432x288 with 1 Axes>"
      ]
     },
     "metadata": {
      "needs_background": "light"
     },
     "output_type": "display_data"
    }
   ],
   "source": [
    "cs_training['number_of_estate_loans'].hist()"
   ]
  },
  {
   "cell_type": "code",
   "execution_count": 64,
   "metadata": {},
   "outputs": [
    {
     "data": {
      "text/plain": [
       "<matplotlib.axes._subplots.AxesSubplot at 0x7fb97d0d3580>"
      ]
     },
     "execution_count": 64,
     "metadata": {},
     "output_type": "execute_result"
    },
    {
     "data": {
      "image/png": "[encoded data removed]",
      "text/plain": [
       "<Figure size 432x288 with 1 Axes>"
      ]
     },
     "metadata": {
      "needs_background": "light"
     },
     "output_type": "display_data"
    }
   ],
   "source": [
    "cs_training.boxplot(column='number_of_estate_loans')"
   ]
  },
  {
   "cell_type": "code",
   "execution_count": 65,
   "metadata": {
    "scrolled": true
   },
   "outputs": [
    {
     "name": "stdout",
     "output_type": "stream",
     "text": [
      "Количество строк, выбранных для удаления number_of_estate_loans: 188. Количество итераций 2\n",
      "\n"
     ]
    }
   ],
   "source": [
    "cs_training,_,_ = removing_outliers('number_of_estate_loans',cs_training)"
   ]
  },
  {
   "cell_type": "markdown",
   "metadata": {},
   "source": [
    "## Анализ параметра count_of_medium_past_due"
   ]
  },
  {
   "cell_type": "code",
   "execution_count": 66,
   "metadata": {},
   "outputs": [
    {
     "data": {
      "text/plain": [
       "count    103479.000000\n",
       "mean          0.065897\n",
       "std           0.324878\n",
       "min           0.000000\n",
       "25%           0.000000\n",
       "50%           0.000000\n",
       "75%           0.000000\n",
       "max          11.000000\n",
       "Name: count_of_medium_past_due, dtype: float64"
      ]
     },
     "execution_count": 66,
     "metadata": {},
     "output_type": "execute_result"
    }
   ],
   "source": [
    "cs_training['count_of_medium_past_due'].describe()"
   ]
  },
  {
   "cell_type": "markdown",
   "metadata": {},
   "source": [
    "## Анализ параметра number_of_dependents"
   ]
  },
  {
   "cell_type": "code",
   "execution_count": 67,
   "metadata": {
    "scrolled": true
   },
   "outputs": [
    {
     "data": {
      "text/plain": [
       "count    103479.000000\n",
       "mean          0.832584\n",
       "std           1.136263\n",
       "min           0.000000\n",
       "25%           0.000000\n",
       "50%           0.000000\n",
       "75%           1.000000\n",
       "max          20.000000\n",
       "Name: number_of_dependents, dtype: float64"
      ]
     },
     "execution_count": 67,
     "metadata": {},
     "output_type": "execute_result"
    }
   ],
   "source": [
    "cs_training['number_of_dependents'].describe()"
   ]
  },
  {
   "cell_type": "code",
   "execution_count": 68,
   "metadata": {},
   "outputs": [],
   "source": [
    "cs_training = cs_training.drop(cs_training.query('number_of_dependents > 10').index.tolist())"
   ]
  },
  {
   "cell_type": "markdown",
   "metadata": {},
   "source": [
    "## Проверка на дубликаты"
   ]
  },
  {
   "cell_type": "code",
   "execution_count": 69,
   "metadata": {},
   "outputs": [
    {
     "name": "stdout",
     "output_type": "stream",
     "text": [
      "Количество дубликатов в выборке: 96\n"
     ]
    }
   ],
   "source": [
    "print(f\"Количество дубликатов в выборке: {cs_training.duplicated().sum()}\")"
   ]
  },
  {
   "cell_type": "markdown",
   "metadata": {},
   "source": [
    "Удалим все найденный дубликаты"
   ]
  },
  {
   "cell_type": "code",
   "execution_count": 70,
   "metadata": {},
   "outputs": [],
   "source": [
    "cs_training = cs_training.drop_duplicates()"
   ]
  },
  {
   "cell_type": "markdown",
   "metadata": {},
   "source": [
    "Проверим удаленные дубликаты "
   ]
  },
  {
   "cell_type": "code",
   "execution_count": 71,
   "metadata": {},
   "outputs": [
    {
     "name": "stdout",
     "output_type": "stream",
     "text": [
      "Количество дубликатов в выборке: 0\n"
     ]
    }
   ],
   "source": [
    "print(f\"Количество дубликатов в выборке: {cs_training.duplicated().sum()}\")"
   ]
  },
  {
   "cell_type": "markdown",
   "metadata": {},
   "source": [
    "Отлично дубликаты удалены, едем дальше"
   ]
  },
  {
   "cell_type": "markdown",
   "metadata": {},
   "source": [
    "## Посмотрим на выбросы"
   ]
  },
  {
   "cell_type": "code",
   "execution_count": 72,
   "metadata": {
    "scrolled": false
   },
   "outputs": [
    {
     "data": {
      "text/plain": [
       "<matplotlib.axes._subplots.AxesSubplot at 0x7fb9824b5220>"
      ]
     },
     "execution_count": 72,
     "metadata": {},
     "output_type": "execute_result"
    },
    {
     "data": {
      "image/png": "[encoded data removed]",
      "text/plain": [
       "<Figure size 1440x360 with 1 Axes>"
      ]
     },
     "metadata": {
      "needs_background": "light"
     },
     "output_type": "display_data"
    }
   ],
   "source": [
    "\n",
    "cs_training.boxplot(figsize=(20,5))"
   ]
  },
  {
   "cell_type": "markdown",
   "metadata": {},
   "source": [
    "Заметим, что больше всего выбросов в признаке monthly_income"
   ]
  },
  {
   "cell_type": "markdown",
   "metadata": {},
   "source": [
    "## Анализ пременных по WOE и IV"
   ]
  },
  {
   "cell_type": "code",
   "execution_count": 73,
   "metadata": {
    "scrolled": false
   },
   "outputs": [
    {
     "data": {
      "text/plain": [
       "['financial_state_rate',\n",
       " 'age',\n",
       " 'debt_ratio',\n",
       " 'monthly_income',\n",
       " 'number_of_credit_lines',\n",
       " 'number_of_dependents']"
      ]
     },
     "execution_count": 73,
     "metadata": {},
     "output_type": "execute_result"
    }
   ],
   "source": [
    "labels = cs_training.columns.tolist()\n",
    "labels.remove(\"serious_loan\")\n",
    "labels.remove(\"count_of_big_past_due\")\n",
    "labels.remove(\"count_of_medium_past_due\")\n",
    "labels.remove(\"count_of_small_past_due\")\n",
    "labels.remove(\"number_of_estate_loans\")\n",
    "\n",
    "labels"
   ]
  },
  {
   "cell_type": "code",
   "execution_count": 74,
   "metadata": {},
   "outputs": [
    {
     "name": "stdout",
     "output_type": "stream",
     "text": [
      "financial_state_rate\n"
     ]
    },
    {
     "data": {
      "image/png": "[encoded data removed]",
      "text/plain": [
       "<Figure size 432x288 with 1 Axes>"
      ]
     },
     "metadata": {
      "needs_background": "light"
     },
     "output_type": "display_data"
    },
    {
     "name": "stdout",
     "output_type": "stream",
     "text": [
      "age\n"
     ]
    },
    {
     "data": {
      "image/png": "[encoded data removed]",
      "text/plain": [
       "<Figure size 432x288 with 1 Axes>"
      ]
     },
     "metadata": {
      "needs_background": "light"
     },
     "output_type": "display_data"
    },
    {
     "name": "stdout",
     "output_type": "stream",
     "text": [
      "debt_ratio\n"
     ]
    },
    {
     "data": {
      "image/png": "[encoded data removed]",
      "text/plain": [
       "<Figure size 432x288 with 1 Axes>"
      ]
     },
     "metadata": {
      "needs_background": "light"
     },
     "output_type": "display_data"
    },
    {
     "name": "stdout",
     "output_type": "stream",
     "text": [
      "monthly_income\n"
     ]
    },
    {
     "data": {
      "image/png": "[encoded data removed]",
      "text/plain": [
       "<Figure size 432x288 with 1 Axes>"
      ]
     },
     "metadata": {
      "needs_background": "light"
     },
     "output_type": "display_data"
    },
    {
     "name": "stdout",
     "output_type": "stream",
     "text": [
      "number_of_credit_lines\n"
     ]
    },
    {
     "data": {
      "image/png": "[encoded data removed]",
      "text/plain": [
       "<Figure size 432x288 with 1 Axes>"
      ]
     },
     "metadata": {
      "needs_background": "light"
     },
     "output_type": "display_data"
    },
    {
     "name": "stdout",
     "output_type": "stream",
     "text": [
      "number_of_dependents\n"
     ]
    },
    {
     "data": {
      "image/png": "[encoded data removed]",
      "text/plain": [
       "<Figure size 432x288 with 1 Axes>"
      ]
     },
     "metadata": {
      "needs_background": "light"
     },
     "output_type": "display_data"
    }
   ],
   "source": [
    "for i in labels:\n",
    "    print(i)\n",
    "    graph_for_best_bin(cs_training,i,'serious_loan',n=2,q=20)"
   ]
  },
  {
   "cell_type": "code",
   "execution_count": 75,
   "metadata": {
    "scrolled": true
   },
   "outputs": [],
   "source": [
    "# print(non)"
   ]
  },
  {
   "cell_type": "code",
   "execution_count": 76,
   "metadata": {},
   "outputs": [],
   "source": [
    "cs_training['age'] = pd.qcut(cs_training['age'],\n",
    "                             8,duplicates='drop')\n",
    "cs_training['financial_state_rate'] = pd.qcut(cs_training['financial_state_rate'],\n",
    "                                              10,duplicates='drop')\n",
    "cs_training['debt_ratio'] = pd.qcut(cs_training['debt_ratio'],\n",
    "                                    11,duplicates='drop')\n",
    "cs_training['monthly_income'] = pd.qcut(cs_training['monthly_income'],\n",
    "                                        9,duplicates='drop')\n",
    "cs_training['number_of_credit_lines'] = pd.qcut(cs_training['number_of_credit_lines'],\n",
    "                                        9,duplicates='drop')\n",
    "cs_training['number_of_dependents'] = pd.qcut(cs_training['number_of_dependents'],\n",
    "                                              3,duplicates='drop')\n",
    "cs_training['number_of_estate_loans'] = pd.qcut(cs_training['number_of_estate_loans'],\n",
    "                                                5,duplicates='drop')\n"
   ]
  },
  {
   "cell_type": "code",
   "execution_count": 77,
   "metadata": {
    "scrolled": false
   },
   "outputs": [],
   "source": [
    "# cs_training['age'] = pd.qcut(cs_training['age'], 5, \n",
    "#                            labels=['Age_lt_38',\n",
    "#                                    'Age_38_to_46',\n",
    "#                                    'Age_46_to_54',\n",
    "#                                    'Age_54_to_64',\n",
    "#                                    'Age_gt_64'],duplicates='drop')\n",
    "# cs_training['financial_state_rate'] = pd.qcut(cs_training['financial_state_rate'], 5, \n",
    "#                            labels=['financial_state_rate_lt_0.0218',\n",
    "#                                    'financial_state_rate_0.0218_to_0.094',\n",
    "#                                    'financial_state_rate_0.094_to_0.294',\n",
    "#                                    'financial_state_rate_0.294_to_0.705',\n",
    "#                                    'financial_state_rate_gt_0.705'],duplicates='drop')\n",
    "# cs_training['debt_ratio'] = pd.qcut(cs_training['debt_ratio'], 5, \n",
    "#                            labels=['debt_ratio_lt_0.0969',\n",
    "#                                    'debt_ratio_0.0969_to_0.223',\n",
    "#                                    'debt_ratio_0.223_to_0.338',\n",
    "#                                    'debt_ratio_0.338_to_0.486',\n",
    "#                                    'debt_ratio_gt_0.486'],duplicates='drop')\n",
    "# cs_training['monthly_income'] = pd.qcut(cs_training['monthly_income'], 5, \n",
    "#                            labels=['monthly_income_lt_3146',\n",
    "#                                    'monthly_income_3146_to_4583',\n",
    "#                                    'monthly_income_4583_to_6166',\n",
    "#                                    'monthly_income_6166_to_8498',\n",
    "#                                    'monthly_income_gt_8498'],duplicates='drop')\n",
    "# cs_training['number_of_dependents'] = pd.qcut(cs_training['number_of_dependents'], 5, \n",
    "#                            labels=['number_of_dependents_lt_1',\n",
    "#                                    'number_of_dependents_1_to_2',\n",
    "#                                    'number_of_dependents_2_to_10'],duplicates='drop')\n",
    "# cs_training['number_of_estate_loans'] = pd.qcut(cs_training['number_of_estate_loans'],5, \n",
    "#                            labels=['number_of_estate_loans_lt_1',\n",
    "#                                    'number_of_estate_loans_1_to_2',\n",
    "#                                    'number_of_estate_loans_2_to_5'],duplicates='drop')"
   ]
  },
  {
   "cell_type": "code",
   "execution_count": 78,
   "metadata": {
    "scrolled": true
   },
   "outputs": [
    {
     "name": "stdout",
     "output_type": "stream",
     "text": [
      "WoE and IV for column: financial_state_rate\n"
     ]
    },
    {
     "data": {
      "text/html": [
       "<div>\n",
       "<style scoped>\n",
       "    .dataframe tbody tr th:only-of-type {\n",
       "        vertical-align: middle;\n",
       "    }\n",
       "\n",
       "    .dataframe tbody tr th {\n",
       "        vertical-align: top;\n",
       "    }\n",
       "\n",
       "    .dataframe thead th {\n",
       "        text-align: right;\n",
       "    }\n",
       "</style>\n",
       "<table border=\"1\" class=\"dataframe\">\n",
       "  <thead>\n",
       "    <tr style=\"text-align: right;\">\n",
       "      <th></th>\n",
       "      <th>Value</th>\n",
       "      <th>All</th>\n",
       "      <th>Good</th>\n",
       "      <th>Bad</th>\n",
       "      <th>Distr_Good</th>\n",
       "      <th>Distr_Bad</th>\n",
       "      <th>WoE</th>\n",
       "      <th>IV</th>\n",
       "    </tr>\n",
       "  </thead>\n",
       "  <tbody>\n",
       "    <tr>\n",
       "      <th>6</th>\n",
       "      <td>(0.971, 1.0]</td>\n",
       "      <td>10338</td>\n",
       "      <td>7976</td>\n",
       "      <td>2362</td>\n",
       "      <td>0.082665</td>\n",
       "      <td>0.342567</td>\n",
       "      <td>-1.421673</td>\n",
       "      <td>0.369496</td>\n",
       "    </tr>\n",
       "    <tr>\n",
       "      <th>0</th>\n",
       "      <td>(0.705, 0.971]</td>\n",
       "      <td>10338</td>\n",
       "      <td>8709</td>\n",
       "      <td>1629</td>\n",
       "      <td>0.090262</td>\n",
       "      <td>0.236258</td>\n",
       "      <td>-0.962211</td>\n",
       "      <td>0.140479</td>\n",
       "    </tr>\n",
       "    <tr>\n",
       "      <th>1</th>\n",
       "      <td>(0.465, 0.705]</td>\n",
       "      <td>10338</td>\n",
       "      <td>9415</td>\n",
       "      <td>923</td>\n",
       "      <td>0.097579</td>\n",
       "      <td>0.133865</td>\n",
       "      <td>-0.316171</td>\n",
       "      <td>0.011473</td>\n",
       "    </tr>\n",
       "    <tr>\n",
       "      <th>8</th>\n",
       "      <td>(0.294, 0.465]</td>\n",
       "      <td>10338</td>\n",
       "      <td>9783</td>\n",
       "      <td>555</td>\n",
       "      <td>0.101393</td>\n",
       "      <td>0.080493</td>\n",
       "      <td>0.230832</td>\n",
       "      <td>0.004824</td>\n",
       "    </tr>\n",
       "    <tr>\n",
       "      <th>2</th>\n",
       "      <td>(0.172, 0.294]</td>\n",
       "      <td>10338</td>\n",
       "      <td>9982</td>\n",
       "      <td>356</td>\n",
       "      <td>0.103455</td>\n",
       "      <td>0.051632</td>\n",
       "      <td>0.695007</td>\n",
       "      <td>0.036018</td>\n",
       "    </tr>\n",
       "    <tr>\n",
       "      <th>9</th>\n",
       "      <td>(-0.001, 0.00405]</td>\n",
       "      <td>10339</td>\n",
       "      <td>10048</td>\n",
       "      <td>291</td>\n",
       "      <td>0.104139</td>\n",
       "      <td>0.042204</td>\n",
       "      <td>0.903204</td>\n",
       "      <td>0.055940</td>\n",
       "    </tr>\n",
       "    <tr>\n",
       "      <th>4</th>\n",
       "      <td>(0.094, 0.172]</td>\n",
       "      <td>10338</td>\n",
       "      <td>10049</td>\n",
       "      <td>289</td>\n",
       "      <td>0.104150</td>\n",
       "      <td>0.041914</td>\n",
       "      <td>0.910200</td>\n",
       "      <td>0.056647</td>\n",
       "    </tr>\n",
       "    <tr>\n",
       "      <th>7</th>\n",
       "      <td>(0.0485, 0.094]</td>\n",
       "      <td>10338</td>\n",
       "      <td>10128</td>\n",
       "      <td>210</td>\n",
       "      <td>0.104969</td>\n",
       "      <td>0.030457</td>\n",
       "      <td>1.237350</td>\n",
       "      <td>0.092197</td>\n",
       "    </tr>\n",
       "    <tr>\n",
       "      <th>5</th>\n",
       "      <td>(0.0218, 0.0485]</td>\n",
       "      <td>10338</td>\n",
       "      <td>10187</td>\n",
       "      <td>151</td>\n",
       "      <td>0.105580</td>\n",
       "      <td>0.021900</td>\n",
       "      <td>1.572986</td>\n",
       "      <td>0.131628</td>\n",
       "    </tr>\n",
       "    <tr>\n",
       "      <th>3</th>\n",
       "      <td>(0.00405, 0.0218]</td>\n",
       "      <td>10338</td>\n",
       "      <td>10209</td>\n",
       "      <td>129</td>\n",
       "      <td>0.105808</td>\n",
       "      <td>0.018709</td>\n",
       "      <td>1.732611</td>\n",
       "      <td>0.150909</td>\n",
       "    </tr>\n",
       "  </tbody>\n",
       "</table>\n",
       "</div>"
      ],
      "text/plain": [
       "               Value    All   Good   Bad  Distr_Good  Distr_Bad       WoE  \\\n",
       "6       (0.971, 1.0]  10338   7976  2362    0.082665   0.342567 -1.421673   \n",
       "0     (0.705, 0.971]  10338   8709  1629    0.090262   0.236258 -0.962211   \n",
       "1     (0.465, 0.705]  10338   9415   923    0.097579   0.133865 -0.316171   \n",
       "8     (0.294, 0.465]  10338   9783   555    0.101393   0.080493  0.230832   \n",
       "2     (0.172, 0.294]  10338   9982   356    0.103455   0.051632  0.695007   \n",
       "9  (-0.001, 0.00405]  10339  10048   291    0.104139   0.042204  0.903204   \n",
       "4     (0.094, 0.172]  10338  10049   289    0.104150   0.041914  0.910200   \n",
       "7    (0.0485, 0.094]  10338  10128   210    0.104969   0.030457  1.237350   \n",
       "5   (0.0218, 0.0485]  10338  10187   151    0.105580   0.021900  1.572986   \n",
       "3  (0.00405, 0.0218]  10338  10209   129    0.105808   0.018709  1.732611   \n",
       "\n",
       "         IV  \n",
       "6  0.369496  \n",
       "0  0.140479  \n",
       "1  0.011473  \n",
       "8  0.004824  \n",
       "2  0.036018  \n",
       "9  0.055940  \n",
       "4  0.056647  \n",
       "7  0.092197  \n",
       "5  0.131628  \n",
       "3  0.150909  "
      ]
     },
     "metadata": {},
     "output_type": "display_data"
    },
    {
     "name": "stdout",
     "output_type": "stream",
     "text": [
      "IV score: 1.05\n",
      "\n",
      "\n",
      "WoE and IV for column: age\n"
     ]
    },
    {
     "data": {
      "text/html": [
       "<div>\n",
       "<style scoped>\n",
       "    .dataframe tbody tr th:only-of-type {\n",
       "        vertical-align: middle;\n",
       "    }\n",
       "\n",
       "    .dataframe tbody tr th {\n",
       "        vertical-align: top;\n",
       "    }\n",
       "\n",
       "    .dataframe thead th {\n",
       "        text-align: right;\n",
       "    }\n",
       "</style>\n",
       "<table border=\"1\" class=\"dataframe\">\n",
       "  <thead>\n",
       "    <tr style=\"text-align: right;\">\n",
       "      <th></th>\n",
       "      <th>Value</th>\n",
       "      <th>All</th>\n",
       "      <th>Good</th>\n",
       "      <th>Bad</th>\n",
       "      <th>Distr_Good</th>\n",
       "      <th>Distr_Bad</th>\n",
       "      <th>WoE</th>\n",
       "      <th>IV</th>\n",
       "    </tr>\n",
       "  </thead>\n",
       "  <tbody>\n",
       "    <tr>\n",
       "      <th>1</th>\n",
       "      <td>(20.999, 33.0]</td>\n",
       "      <td>13277</td>\n",
       "      <td>11872</td>\n",
       "      <td>1405</td>\n",
       "      <td>0.123044</td>\n",
       "      <td>0.203771</td>\n",
       "      <td>-0.504456</td>\n",
       "      <td>0.040723</td>\n",
       "    </tr>\n",
       "    <tr>\n",
       "      <th>0</th>\n",
       "      <td>(33.0, 40.0]</td>\n",
       "      <td>13700</td>\n",
       "      <td>12475</td>\n",
       "      <td>1225</td>\n",
       "      <td>0.129293</td>\n",
       "      <td>0.177665</td>\n",
       "      <td>-0.317816</td>\n",
       "      <td>0.015373</td>\n",
       "    </tr>\n",
       "    <tr>\n",
       "      <th>6</th>\n",
       "      <td>(40.0, 45.0]</td>\n",
       "      <td>11926</td>\n",
       "      <td>10965</td>\n",
       "      <td>961</td>\n",
       "      <td>0.113643</td>\n",
       "      <td>0.139376</td>\n",
       "      <td>-0.204112</td>\n",
       "      <td>0.005252</td>\n",
       "    </tr>\n",
       "    <tr>\n",
       "      <th>4</th>\n",
       "      <td>(45.0, 50.0]</td>\n",
       "      <td>13352</td>\n",
       "      <td>12308</td>\n",
       "      <td>1044</td>\n",
       "      <td>0.127563</td>\n",
       "      <td>0.151414</td>\n",
       "      <td>-0.171411</td>\n",
       "      <td>0.004088</td>\n",
       "    </tr>\n",
       "    <tr>\n",
       "      <th>3</th>\n",
       "      <td>(50.0, 56.0]</td>\n",
       "      <td>14517</td>\n",
       "      <td>13555</td>\n",
       "      <td>962</td>\n",
       "      <td>0.140487</td>\n",
       "      <td>0.139521</td>\n",
       "      <td>0.006895</td>\n",
       "      <td>0.000007</td>\n",
       "    </tr>\n",
       "    <tr>\n",
       "      <th>7</th>\n",
       "      <td>(56.0, 61.0]</td>\n",
       "      <td>10802</td>\n",
       "      <td>10260</td>\n",
       "      <td>542</td>\n",
       "      <td>0.106337</td>\n",
       "      <td>0.078608</td>\n",
       "      <td>0.302141</td>\n",
       "      <td>0.008378</td>\n",
       "    </tr>\n",
       "    <tr>\n",
       "      <th>5</th>\n",
       "      <td>(61.0, 69.0]</td>\n",
       "      <td>13746</td>\n",
       "      <td>13292</td>\n",
       "      <td>454</td>\n",
       "      <td>0.137761</td>\n",
       "      <td>0.065845</td>\n",
       "      <td>0.738219</td>\n",
       "      <td>0.053090</td>\n",
       "    </tr>\n",
       "    <tr>\n",
       "      <th>2</th>\n",
       "      <td>(69.0, 103.0]</td>\n",
       "      <td>12061</td>\n",
       "      <td>11759</td>\n",
       "      <td>302</td>\n",
       "      <td>0.121873</td>\n",
       "      <td>0.043800</td>\n",
       "      <td>1.023346</td>\n",
       "      <td>0.079895</td>\n",
       "    </tr>\n",
       "  </tbody>\n",
       "</table>\n",
       "</div>"
      ],
      "text/plain": [
       "            Value    All   Good   Bad  Distr_Good  Distr_Bad       WoE  \\\n",
       "1  (20.999, 33.0]  13277  11872  1405    0.123044   0.203771 -0.504456   \n",
       "0    (33.0, 40.0]  13700  12475  1225    0.129293   0.177665 -0.317816   \n",
       "6    (40.0, 45.0]  11926  10965   961    0.113643   0.139376 -0.204112   \n",
       "4    (45.0, 50.0]  13352  12308  1044    0.127563   0.151414 -0.171411   \n",
       "3    (50.0, 56.0]  14517  13555   962    0.140487   0.139521  0.006895   \n",
       "7    (56.0, 61.0]  10802  10260   542    0.106337   0.078608  0.302141   \n",
       "5    (61.0, 69.0]  13746  13292   454    0.137761   0.065845  0.738219   \n",
       "2   (69.0, 103.0]  12061  11759   302    0.121873   0.043800  1.023346   \n",
       "\n",
       "         IV  \n",
       "1  0.040723  \n",
       "0  0.015373  \n",
       "6  0.005252  \n",
       "4  0.004088  \n",
       "3  0.000007  \n",
       "7  0.008378  \n",
       "5  0.053090  \n",
       "2  0.079895  "
      ]
     },
     "metadata": {},
     "output_type": "display_data"
    },
    {
     "name": "stdout",
     "output_type": "stream",
     "text": [
      "IV score: 0.21\n",
      "\n",
      "\n",
      "WoE and IV for column: count_of_small_past_due\n"
     ]
    },
    {
     "data": {
      "text/html": [
       "<div>\n",
       "<style scoped>\n",
       "    .dataframe tbody tr th:only-of-type {\n",
       "        vertical-align: middle;\n",
       "    }\n",
       "\n",
       "    .dataframe tbody tr th {\n",
       "        vertical-align: top;\n",
       "    }\n",
       "\n",
       "    .dataframe thead th {\n",
       "        text-align: right;\n",
       "    }\n",
       "</style>\n",
       "<table border=\"1\" class=\"dataframe\">\n",
       "  <thead>\n",
       "    <tr style=\"text-align: right;\">\n",
       "      <th></th>\n",
       "      <th>Value</th>\n",
       "      <th>All</th>\n",
       "      <th>Good</th>\n",
       "      <th>Bad</th>\n",
       "      <th>Distr_Good</th>\n",
       "      <th>Distr_Bad</th>\n",
       "      <th>WoE</th>\n",
       "      <th>IV</th>\n",
       "    </tr>\n",
       "  </thead>\n",
       "  <tbody>\n",
       "    <tr>\n",
       "      <th>7</th>\n",
       "      <td>6</td>\n",
       "      <td>96</td>\n",
       "      <td>48</td>\n",
       "      <td>48</td>\n",
       "      <td>0.000497</td>\n",
       "      <td>0.006962</td>\n",
       "      <td>-2.638601</td>\n",
       "      <td>0.017056</td>\n",
       "    </tr>\n",
       "    <tr>\n",
       "      <th>8</th>\n",
       "      <td>12</td>\n",
       "      <td>2</td>\n",
       "      <td>1</td>\n",
       "      <td>1</td>\n",
       "      <td>0.000010</td>\n",
       "      <td>0.000145</td>\n",
       "      <td>-2.638601</td>\n",
       "      <td>0.000355</td>\n",
       "    </tr>\n",
       "    <tr>\n",
       "      <th>10</th>\n",
       "      <td>10</td>\n",
       "      <td>2</td>\n",
       "      <td>1</td>\n",
       "      <td>1</td>\n",
       "      <td>0.000010</td>\n",
       "      <td>0.000145</td>\n",
       "      <td>-2.638601</td>\n",
       "      <td>0.000355</td>\n",
       "    </tr>\n",
       "    <tr>\n",
       "      <th>5</th>\n",
       "      <td>7</td>\n",
       "      <td>37</td>\n",
       "      <td>19</td>\n",
       "      <td>18</td>\n",
       "      <td>0.000197</td>\n",
       "      <td>0.002611</td>\n",
       "      <td>-2.584534</td>\n",
       "      <td>0.006238</td>\n",
       "    </tr>\n",
       "    <tr>\n",
       "      <th>4</th>\n",
       "      <td>5</td>\n",
       "      <td>220</td>\n",
       "      <td>121</td>\n",
       "      <td>99</td>\n",
       "      <td>0.001254</td>\n",
       "      <td>0.014358</td>\n",
       "      <td>-2.437931</td>\n",
       "      <td>0.031947</td>\n",
       "    </tr>\n",
       "    <tr>\n",
       "      <th>6</th>\n",
       "      <td>4</td>\n",
       "      <td>522</td>\n",
       "      <td>289</td>\n",
       "      <td>233</td>\n",
       "      <td>0.002995</td>\n",
       "      <td>0.033793</td>\n",
       "      <td>-2.423213</td>\n",
       "      <td>0.074629</td>\n",
       "    </tr>\n",
       "    <tr>\n",
       "      <th>9</th>\n",
       "      <td>8</td>\n",
       "      <td>12</td>\n",
       "      <td>7</td>\n",
       "      <td>5</td>\n",
       "      <td>0.000073</td>\n",
       "      <td>0.000725</td>\n",
       "      <td>-2.302129</td>\n",
       "      <td>0.001502</td>\n",
       "    </tr>\n",
       "    <tr>\n",
       "      <th>2</th>\n",
       "      <td>3</td>\n",
       "      <td>1252</td>\n",
       "      <td>821</td>\n",
       "      <td>431</td>\n",
       "      <td>0.008509</td>\n",
       "      <td>0.062509</td>\n",
       "      <td>-1.994186</td>\n",
       "      <td>0.107686</td>\n",
       "    </tr>\n",
       "    <tr>\n",
       "      <th>3</th>\n",
       "      <td>2</td>\n",
       "      <td>3306</td>\n",
       "      <td>2442</td>\n",
       "      <td>864</td>\n",
       "      <td>0.025309</td>\n",
       "      <td>0.125308</td>\n",
       "      <td>-1.599602</td>\n",
       "      <td>0.159958</td>\n",
       "    </tr>\n",
       "    <tr>\n",
       "      <th>11</th>\n",
       "      <td>9</td>\n",
       "      <td>5</td>\n",
       "      <td>4</td>\n",
       "      <td>1</td>\n",
       "      <td>0.000041</td>\n",
       "      <td>0.000145</td>\n",
       "      <td>-1.252307</td>\n",
       "      <td>0.000130</td>\n",
       "    </tr>\n",
       "    <tr>\n",
       "      <th>1</th>\n",
       "      <td>1</td>\n",
       "      <td>11490</td>\n",
       "      <td>9808</td>\n",
       "      <td>1682</td>\n",
       "      <td>0.101652</td>\n",
       "      <td>0.243945</td>\n",
       "      <td>-0.875387</td>\n",
       "      <td>0.124561</td>\n",
       "    </tr>\n",
       "    <tr>\n",
       "      <th>12</th>\n",
       "      <td>13</td>\n",
       "      <td>1</td>\n",
       "      <td>0</td>\n",
       "      <td>1</td>\n",
       "      <td>0.000000</td>\n",
       "      <td>0.000145</td>\n",
       "      <td>0.000000</td>\n",
       "      <td>-0.000000</td>\n",
       "    </tr>\n",
       "    <tr>\n",
       "      <th>13</th>\n",
       "      <td>11</td>\n",
       "      <td>1</td>\n",
       "      <td>0</td>\n",
       "      <td>1</td>\n",
       "      <td>0.000000</td>\n",
       "      <td>0.000145</td>\n",
       "      <td>0.000000</td>\n",
       "      <td>-0.000000</td>\n",
       "    </tr>\n",
       "    <tr>\n",
       "      <th>0</th>\n",
       "      <td>0</td>\n",
       "      <td>86435</td>\n",
       "      <td>82925</td>\n",
       "      <td>3510</td>\n",
       "      <td>0.859451</td>\n",
       "      <td>0.509065</td>\n",
       "      <td>0.523719</td>\n",
       "      <td>0.183504</td>\n",
       "    </tr>\n",
       "  </tbody>\n",
       "</table>\n",
       "</div>"
      ],
      "text/plain": [
       "    Value    All   Good   Bad  Distr_Good  Distr_Bad       WoE        IV\n",
       "7       6     96     48    48    0.000497   0.006962 -2.638601  0.017056\n",
       "8      12      2      1     1    0.000010   0.000145 -2.638601  0.000355\n",
       "10     10      2      1     1    0.000010   0.000145 -2.638601  0.000355\n",
       "5       7     37     19    18    0.000197   0.002611 -2.584534  0.006238\n",
       "4       5    220    121    99    0.001254   0.014358 -2.437931  0.031947\n",
       "6       4    522    289   233    0.002995   0.033793 -2.423213  0.074629\n",
       "9       8     12      7     5    0.000073   0.000725 -2.302129  0.001502\n",
       "2       3   1252    821   431    0.008509   0.062509 -1.994186  0.107686\n",
       "3       2   3306   2442   864    0.025309   0.125308 -1.599602  0.159958\n",
       "11      9      5      4     1    0.000041   0.000145 -1.252307  0.000130\n",
       "1       1  11490   9808  1682    0.101652   0.243945 -0.875387  0.124561\n",
       "12     13      1      0     1    0.000000   0.000145  0.000000 -0.000000\n",
       "13     11      1      0     1    0.000000   0.000145  0.000000 -0.000000\n",
       "0       0  86435  82925  3510    0.859451   0.509065  0.523719  0.183504"
      ]
     },
     "metadata": {},
     "output_type": "display_data"
    },
    {
     "name": "stdout",
     "output_type": "stream",
     "text": [
      "IV score: 0.71\n",
      "\n",
      "\n",
      "WoE and IV for column: debt_ratio\n"
     ]
    },
    {
     "data": {
      "text/html": [
       "<div>\n",
       "<style scoped>\n",
       "    .dataframe tbody tr th:only-of-type {\n",
       "        vertical-align: middle;\n",
       "    }\n",
       "\n",
       "    .dataframe tbody tr th {\n",
       "        vertical-align: top;\n",
       "    }\n",
       "\n",
       "    .dataframe thead th {\n",
       "        text-align: right;\n",
       "    }\n",
       "</style>\n",
       "<table border=\"1\" class=\"dataframe\">\n",
       "  <thead>\n",
       "    <tr style=\"text-align: right;\">\n",
       "      <th></th>\n",
       "      <th>Value</th>\n",
       "      <th>All</th>\n",
       "      <th>Good</th>\n",
       "      <th>Bad</th>\n",
       "      <th>Distr_Good</th>\n",
       "      <th>Distr_Bad</th>\n",
       "      <th>WoE</th>\n",
       "      <th>IV</th>\n",
       "    </tr>\n",
       "  </thead>\n",
       "  <tbody>\n",
       "    <tr>\n",
       "      <th>10</th>\n",
       "      <td>(0.639, 1.0]</td>\n",
       "      <td>9399</td>\n",
       "      <td>8395</td>\n",
       "      <td>1004</td>\n",
       "      <td>0.087007</td>\n",
       "      <td>0.145613</td>\n",
       "      <td>-0.514957</td>\n",
       "      <td>0.030179</td>\n",
       "    </tr>\n",
       "    <tr>\n",
       "      <th>5</th>\n",
       "      <td>(0.505, 0.639]</td>\n",
       "      <td>9398</td>\n",
       "      <td>8551</td>\n",
       "      <td>847</td>\n",
       "      <td>0.088624</td>\n",
       "      <td>0.122843</td>\n",
       "      <td>-0.326499</td>\n",
       "      <td>0.011172</td>\n",
       "    </tr>\n",
       "    <tr>\n",
       "      <th>8</th>\n",
       "      <td>(0.423, 0.505]</td>\n",
       "      <td>9398</td>\n",
       "      <td>8721</td>\n",
       "      <td>677</td>\n",
       "      <td>0.090386</td>\n",
       "      <td>0.098187</td>\n",
       "      <td>-0.082783</td>\n",
       "      <td>0.000646</td>\n",
       "    </tr>\n",
       "    <tr>\n",
       "      <th>1</th>\n",
       "      <td>(0.0136, 0.0828]</td>\n",
       "      <td>9396</td>\n",
       "      <td>8773</td>\n",
       "      <td>623</td>\n",
       "      <td>0.090925</td>\n",
       "      <td>0.090355</td>\n",
       "      <td>0.006286</td>\n",
       "      <td>0.000004</td>\n",
       "    </tr>\n",
       "    <tr>\n",
       "      <th>0</th>\n",
       "      <td>(0.0828, 0.147]</td>\n",
       "      <td>9398</td>\n",
       "      <td>8786</td>\n",
       "      <td>612</td>\n",
       "      <td>0.091060</td>\n",
       "      <td>0.088760</td>\n",
       "      <td>0.025581</td>\n",
       "      <td>0.000059</td>\n",
       "    </tr>\n",
       "    <tr>\n",
       "      <th>7</th>\n",
       "      <td>(0.147, 0.203]</td>\n",
       "      <td>9398</td>\n",
       "      <td>8797</td>\n",
       "      <td>601</td>\n",
       "      <td>0.091174</td>\n",
       "      <td>0.087165</td>\n",
       "      <td>0.044970</td>\n",
       "      <td>0.000180</td>\n",
       "    </tr>\n",
       "    <tr>\n",
       "      <th>2</th>\n",
       "      <td>(0.36, 0.423]</td>\n",
       "      <td>9398</td>\n",
       "      <td>8814</td>\n",
       "      <td>584</td>\n",
       "      <td>0.091350</td>\n",
       "      <td>0.084699</td>\n",
       "      <td>0.075594</td>\n",
       "      <td>0.000503</td>\n",
       "    </tr>\n",
       "    <tr>\n",
       "      <th>4</th>\n",
       "      <td>(0.306, 0.36]</td>\n",
       "      <td>9398</td>\n",
       "      <td>8870</td>\n",
       "      <td>528</td>\n",
       "      <td>0.091930</td>\n",
       "      <td>0.076577</td>\n",
       "      <td>0.182732</td>\n",
       "      <td>0.002806</td>\n",
       "    </tr>\n",
       "    <tr>\n",
       "      <th>3</th>\n",
       "      <td>(0.203, 0.254]</td>\n",
       "      <td>9398</td>\n",
       "      <td>8884</td>\n",
       "      <td>514</td>\n",
       "      <td>0.092076</td>\n",
       "      <td>0.074547</td>\n",
       "      <td>0.211183</td>\n",
       "      <td>0.003702</td>\n",
       "    </tr>\n",
       "    <tr>\n",
       "      <th>6</th>\n",
       "      <td>(0.254, 0.306]</td>\n",
       "      <td>9399</td>\n",
       "      <td>8885</td>\n",
       "      <td>514</td>\n",
       "      <td>0.092086</td>\n",
       "      <td>0.074547</td>\n",
       "      <td>0.211295</td>\n",
       "      <td>0.003706</td>\n",
       "    </tr>\n",
       "    <tr>\n",
       "      <th>9</th>\n",
       "      <td>(-0.001, 0.0136]</td>\n",
       "      <td>9401</td>\n",
       "      <td>9010</td>\n",
       "      <td>391</td>\n",
       "      <td>0.093381</td>\n",
       "      <td>0.056708</td>\n",
       "      <td>0.498781</td>\n",
       "      <td>0.018292</td>\n",
       "    </tr>\n",
       "  </tbody>\n",
       "</table>\n",
       "</div>"
      ],
      "text/plain": [
       "               Value   All  Good   Bad  Distr_Good  Distr_Bad       WoE  \\\n",
       "10      (0.639, 1.0]  9399  8395  1004    0.087007   0.145613 -0.514957   \n",
       "5     (0.505, 0.639]  9398  8551   847    0.088624   0.122843 -0.326499   \n",
       "8     (0.423, 0.505]  9398  8721   677    0.090386   0.098187 -0.082783   \n",
       "1   (0.0136, 0.0828]  9396  8773   623    0.090925   0.090355  0.006286   \n",
       "0    (0.0828, 0.147]  9398  8786   612    0.091060   0.088760  0.025581   \n",
       "7     (0.147, 0.203]  9398  8797   601    0.091174   0.087165  0.044970   \n",
       "2      (0.36, 0.423]  9398  8814   584    0.091350   0.084699  0.075594   \n",
       "4      (0.306, 0.36]  9398  8870   528    0.091930   0.076577  0.182732   \n",
       "3     (0.203, 0.254]  9398  8884   514    0.092076   0.074547  0.211183   \n",
       "6     (0.254, 0.306]  9399  8885   514    0.092086   0.074547  0.211295   \n",
       "9   (-0.001, 0.0136]  9401  9010   391    0.093381   0.056708  0.498781   \n",
       "\n",
       "          IV  \n",
       "10  0.030179  \n",
       "5   0.011172  \n",
       "8   0.000646  \n",
       "1   0.000004  \n",
       "0   0.000059  \n",
       "7   0.000180  \n",
       "2   0.000503  \n",
       "4   0.002806  \n",
       "3   0.003702  \n",
       "6   0.003706  \n",
       "9   0.018292  "
      ]
     },
     "metadata": {},
     "output_type": "display_data"
    },
    {
     "name": "stdout",
     "output_type": "stream",
     "text": [
      "IV score: 0.07\n",
      "\n",
      "\n",
      "WoE and IV for column: monthly_income\n"
     ]
    },
    {
     "data": {
      "text/html": [
       "<div>\n",
       "<style scoped>\n",
       "    .dataframe tbody tr th:only-of-type {\n",
       "        vertical-align: middle;\n",
       "    }\n",
       "\n",
       "    .dataframe tbody tr th {\n",
       "        vertical-align: top;\n",
       "    }\n",
       "\n",
       "    .dataframe thead th {\n",
       "        text-align: right;\n",
       "    }\n",
       "</style>\n",
       "<table border=\"1\" class=\"dataframe\">\n",
       "  <thead>\n",
       "    <tr style=\"text-align: right;\">\n",
       "      <th></th>\n",
       "      <th>Value</th>\n",
       "      <th>All</th>\n",
       "      <th>Good</th>\n",
       "      <th>Bad</th>\n",
       "      <th>Distr_Good</th>\n",
       "      <th>Distr_Bad</th>\n",
       "      <th>WoE</th>\n",
       "      <th>IV</th>\n",
       "    </tr>\n",
       "  </thead>\n",
       "  <tbody>\n",
       "    <tr>\n",
       "      <th>0</th>\n",
       "      <td>(2463.0, 3333.0]</td>\n",
       "      <td>11879</td>\n",
       "      <td>10771</td>\n",
       "      <td>1108</td>\n",
       "      <td>0.111633</td>\n",
       "      <td>0.160696</td>\n",
       "      <td>-0.364301</td>\n",
       "      <td>0.017874</td>\n",
       "    </tr>\n",
       "    <tr>\n",
       "      <th>5</th>\n",
       "      <td>(-0.001, 2463.0]</td>\n",
       "      <td>11489</td>\n",
       "      <td>10465</td>\n",
       "      <td>1024</td>\n",
       "      <td>0.108461</td>\n",
       "      <td>0.148513</td>\n",
       "      <td>-0.314282</td>\n",
       "      <td>0.012588</td>\n",
       "    </tr>\n",
       "    <tr>\n",
       "      <th>1</th>\n",
       "      <td>(3333.0, 4100.0]</td>\n",
       "      <td>11422</td>\n",
       "      <td>10539</td>\n",
       "      <td>883</td>\n",
       "      <td>0.109228</td>\n",
       "      <td>0.128064</td>\n",
       "      <td>-0.159089</td>\n",
       "      <td>0.002997</td>\n",
       "    </tr>\n",
       "    <tr>\n",
       "      <th>8</th>\n",
       "      <td>(4100.0, 5000.0]</td>\n",
       "      <td>13501</td>\n",
       "      <td>12532</td>\n",
       "      <td>969</td>\n",
       "      <td>0.129884</td>\n",
       "      <td>0.140537</td>\n",
       "      <td>-0.078825</td>\n",
       "      <td>0.000840</td>\n",
       "    </tr>\n",
       "    <tr>\n",
       "      <th>7</th>\n",
       "      <td>(5000.0, 5830.0]</td>\n",
       "      <td>9152</td>\n",
       "      <td>8525</td>\n",
       "      <td>627</td>\n",
       "      <td>0.088355</td>\n",
       "      <td>0.090935</td>\n",
       "      <td>-0.028790</td>\n",
       "      <td>0.000074</td>\n",
       "    </tr>\n",
       "    <tr>\n",
       "      <th>2</th>\n",
       "      <td>(5830.0, 6833.0]</td>\n",
       "      <td>11492</td>\n",
       "      <td>10797</td>\n",
       "      <td>695</td>\n",
       "      <td>0.111902</td>\n",
       "      <td>0.100798</td>\n",
       "      <td>0.104510</td>\n",
       "      <td>0.001161</td>\n",
       "    </tr>\n",
       "    <tr>\n",
       "      <th>6</th>\n",
       "      <td>(6833.0, 8166.0]</td>\n",
       "      <td>11547</td>\n",
       "      <td>10958</td>\n",
       "      <td>589</td>\n",
       "      <td>0.113571</td>\n",
       "      <td>0.085424</td>\n",
       "      <td>0.284797</td>\n",
       "      <td>0.008016</td>\n",
       "    </tr>\n",
       "    <tr>\n",
       "      <th>4</th>\n",
       "      <td>(8166.0, 10000.0]</td>\n",
       "      <td>11524</td>\n",
       "      <td>10954</td>\n",
       "      <td>570</td>\n",
       "      <td>0.113529</td>\n",
       "      <td>0.082669</td>\n",
       "      <td>0.317222</td>\n",
       "      <td>0.009790</td>\n",
       "    </tr>\n",
       "    <tr>\n",
       "      <th>3</th>\n",
       "      <td>(10000.0, 14521.0]</td>\n",
       "      <td>11375</td>\n",
       "      <td>10945</td>\n",
       "      <td>430</td>\n",
       "      <td>0.113436</td>\n",
       "      <td>0.062364</td>\n",
       "      <td>0.598251</td>\n",
       "      <td>0.030554</td>\n",
       "    </tr>\n",
       "  </tbody>\n",
       "</table>\n",
       "</div>"
      ],
      "text/plain": [
       "                Value    All   Good   Bad  Distr_Good  Distr_Bad       WoE  \\\n",
       "0    (2463.0, 3333.0]  11879  10771  1108    0.111633   0.160696 -0.364301   \n",
       "5    (-0.001, 2463.0]  11489  10465  1024    0.108461   0.148513 -0.314282   \n",
       "1    (3333.0, 4100.0]  11422  10539   883    0.109228   0.128064 -0.159089   \n",
       "8    (4100.0, 5000.0]  13501  12532   969    0.129884   0.140537 -0.078825   \n",
       "7    (5000.0, 5830.0]   9152   8525   627    0.088355   0.090935 -0.028790   \n",
       "2    (5830.0, 6833.0]  11492  10797   695    0.111902   0.100798  0.104510   \n",
       "6    (6833.0, 8166.0]  11547  10958   589    0.113571   0.085424  0.284797   \n",
       "4   (8166.0, 10000.0]  11524  10954   570    0.113529   0.082669  0.317222   \n",
       "3  (10000.0, 14521.0]  11375  10945   430    0.113436   0.062364  0.598251   \n",
       "\n",
       "         IV  \n",
       "0  0.017874  \n",
       "5  0.012588  \n",
       "1  0.002997  \n",
       "8  0.000840  \n",
       "7  0.000074  \n",
       "2  0.001161  \n",
       "6  0.008016  \n",
       "4  0.009790  \n",
       "3  0.030554  "
      ]
     },
     "metadata": {},
     "output_type": "display_data"
    },
    {
     "name": "stdout",
     "output_type": "stream",
     "text": [
      "IV score: 0.08\n",
      "\n",
      "\n",
      "WoE and IV for column: number_of_credit_lines\n"
     ]
    },
    {
     "data": {
      "text/html": [
       "<div>\n",
       "<style scoped>\n",
       "    .dataframe tbody tr th:only-of-type {\n",
       "        vertical-align: middle;\n",
       "    }\n",
       "\n",
       "    .dataframe tbody tr th {\n",
       "        vertical-align: top;\n",
       "    }\n",
       "\n",
       "    .dataframe thead th {\n",
       "        text-align: right;\n",
       "    }\n",
       "</style>\n",
       "<table border=\"1\" class=\"dataframe\">\n",
       "  <thead>\n",
       "    <tr style=\"text-align: right;\">\n",
       "      <th></th>\n",
       "      <th>Value</th>\n",
       "      <th>All</th>\n",
       "      <th>Good</th>\n",
       "      <th>Bad</th>\n",
       "      <th>Distr_Good</th>\n",
       "      <th>Distr_Bad</th>\n",
       "      <th>WoE</th>\n",
       "      <th>IV</th>\n",
       "    </tr>\n",
       "  </thead>\n",
       "  <tbody>\n",
       "    <tr>\n",
       "      <th>1</th>\n",
       "      <td>(-0.001, 3.0]</td>\n",
       "      <td>14112</td>\n",
       "      <td>12594</td>\n",
       "      <td>1518</td>\n",
       "      <td>0.130527</td>\n",
       "      <td>0.220160</td>\n",
       "      <td>-0.522775</td>\n",
       "      <td>0.046858</td>\n",
       "    </tr>\n",
       "    <tr>\n",
       "      <th>0</th>\n",
       "      <td>(3.0, 5.0]</td>\n",
       "      <td>17185</td>\n",
       "      <td>16020</td>\n",
       "      <td>1165</td>\n",
       "      <td>0.166034</td>\n",
       "      <td>0.168963</td>\n",
       "      <td>-0.017485</td>\n",
       "      <td>0.000051</td>\n",
       "    </tr>\n",
       "    <tr>\n",
       "      <th>7</th>\n",
       "      <td>(14.0, 20.0]</td>\n",
       "      <td>9445</td>\n",
       "      <td>8823</td>\n",
       "      <td>622</td>\n",
       "      <td>0.091443</td>\n",
       "      <td>0.090210</td>\n",
       "      <td>0.013576</td>\n",
       "      <td>0.000017</td>\n",
       "    </tr>\n",
       "    <tr>\n",
       "      <th>4</th>\n",
       "      <td>(11.0, 14.0]</td>\n",
       "      <td>12417</td>\n",
       "      <td>11667</td>\n",
       "      <td>750</td>\n",
       "      <td>0.120919</td>\n",
       "      <td>0.108774</td>\n",
       "      <td>0.105845</td>\n",
       "      <td>0.001285</td>\n",
       "    </tr>\n",
       "    <tr>\n",
       "      <th>5</th>\n",
       "      <td>(8.0, 10.0]</td>\n",
       "      <td>15449</td>\n",
       "      <td>14527</td>\n",
       "      <td>922</td>\n",
       "      <td>0.150561</td>\n",
       "      <td>0.133720</td>\n",
       "      <td>0.118618</td>\n",
       "      <td>0.001998</td>\n",
       "    </tr>\n",
       "    <tr>\n",
       "      <th>6</th>\n",
       "      <td>(5.0, 6.0]</td>\n",
       "      <td>9841</td>\n",
       "      <td>9263</td>\n",
       "      <td>578</td>\n",
       "      <td>0.096004</td>\n",
       "      <td>0.083829</td>\n",
       "      <td>0.135608</td>\n",
       "      <td>0.001651</td>\n",
       "    </tr>\n",
       "    <tr>\n",
       "      <th>3</th>\n",
       "      <td>(6.0, 7.0]</td>\n",
       "      <td>9686</td>\n",
       "      <td>9136</td>\n",
       "      <td>550</td>\n",
       "      <td>0.094687</td>\n",
       "      <td>0.079768</td>\n",
       "      <td>0.171458</td>\n",
       "      <td>0.002558</td>\n",
       "    </tr>\n",
       "    <tr>\n",
       "      <th>8</th>\n",
       "      <td>(10.0, 11.0]</td>\n",
       "      <td>6067</td>\n",
       "      <td>5727</td>\n",
       "      <td>340</td>\n",
       "      <td>0.059356</td>\n",
       "      <td>0.049311</td>\n",
       "      <td>0.185400</td>\n",
       "      <td>0.001862</td>\n",
       "    </tr>\n",
       "    <tr>\n",
       "      <th>2</th>\n",
       "      <td>(7.0, 8.0]</td>\n",
       "      <td>9179</td>\n",
       "      <td>8729</td>\n",
       "      <td>450</td>\n",
       "      <td>0.090469</td>\n",
       "      <td>0.065265</td>\n",
       "      <td>0.326557</td>\n",
       "      <td>0.008231</td>\n",
       "    </tr>\n",
       "  </tbody>\n",
       "</table>\n",
       "</div>"
      ],
      "text/plain": [
       "           Value    All   Good   Bad  Distr_Good  Distr_Bad       WoE  \\\n",
       "1  (-0.001, 3.0]  14112  12594  1518    0.130527   0.220160 -0.522775   \n",
       "0     (3.0, 5.0]  17185  16020  1165    0.166034   0.168963 -0.017485   \n",
       "7   (14.0, 20.0]   9445   8823   622    0.091443   0.090210  0.013576   \n",
       "4   (11.0, 14.0]  12417  11667   750    0.120919   0.108774  0.105845   \n",
       "5    (8.0, 10.0]  15449  14527   922    0.150561   0.133720  0.118618   \n",
       "6     (5.0, 6.0]   9841   9263   578    0.096004   0.083829  0.135608   \n",
       "3     (6.0, 7.0]   9686   9136   550    0.094687   0.079768  0.171458   \n",
       "8   (10.0, 11.0]   6067   5727   340    0.059356   0.049311  0.185400   \n",
       "2     (7.0, 8.0]   9179   8729   450    0.090469   0.065265  0.326557   \n",
       "\n",
       "         IV  \n",
       "1  0.046858  \n",
       "0  0.000051  \n",
       "7  0.000017  \n",
       "4  0.001285  \n",
       "5  0.001998  \n",
       "6  0.001651  \n",
       "3  0.002558  \n",
       "8  0.001862  \n",
       "2  0.008231  "
      ]
     },
     "metadata": {},
     "output_type": "display_data"
    },
    {
     "name": "stdout",
     "output_type": "stream",
     "text": [
      "IV score: 0.06\n",
      "\n",
      "\n",
      "WoE and IV for column: count_of_big_past_due\n"
     ]
    },
    {
     "data": {
      "text/html": [
       "<div>\n",
       "<style scoped>\n",
       "    .dataframe tbody tr th:only-of-type {\n",
       "        vertical-align: middle;\n",
       "    }\n",
       "\n",
       "    .dataframe tbody tr th {\n",
       "        vertical-align: top;\n",
       "    }\n",
       "\n",
       "    .dataframe thead th {\n",
       "        text-align: right;\n",
       "    }\n",
       "</style>\n",
       "<table border=\"1\" class=\"dataframe\">\n",
       "  <thead>\n",
       "    <tr style=\"text-align: right;\">\n",
       "      <th></th>\n",
       "      <th>Value</th>\n",
       "      <th>All</th>\n",
       "      <th>Good</th>\n",
       "      <th>Bad</th>\n",
       "      <th>Distr_Good</th>\n",
       "      <th>Distr_Bad</th>\n",
       "      <th>WoE</th>\n",
       "      <th>IV</th>\n",
       "    </tr>\n",
       "  </thead>\n",
       "  <tbody>\n",
       "    <tr>\n",
       "      <th>10</th>\n",
       "      <td>9</td>\n",
       "      <td>13</td>\n",
       "      <td>2</td>\n",
       "      <td>11</td>\n",
       "      <td>0.000021</td>\n",
       "      <td>0.001595</td>\n",
       "      <td>-4.343350</td>\n",
       "      <td>0.006839</td>\n",
       "    </tr>\n",
       "    <tr>\n",
       "      <th>8</th>\n",
       "      <td>7</td>\n",
       "      <td>21</td>\n",
       "      <td>4</td>\n",
       "      <td>17</td>\n",
       "      <td>0.000041</td>\n",
       "      <td>0.002466</td>\n",
       "      <td>-4.085520</td>\n",
       "      <td>0.009904</td>\n",
       "    </tr>\n",
       "    <tr>\n",
       "      <th>4</th>\n",
       "      <td>4</td>\n",
       "      <td>204</td>\n",
       "      <td>63</td>\n",
       "      <td>141</td>\n",
       "      <td>0.000653</td>\n",
       "      <td>0.020450</td>\n",
       "      <td>-3.444227</td>\n",
       "      <td>0.068184</td>\n",
       "    </tr>\n",
       "    <tr>\n",
       "      <th>12</th>\n",
       "      <td>11</td>\n",
       "      <td>3</td>\n",
       "      <td>1</td>\n",
       "      <td>2</td>\n",
       "      <td>0.000010</td>\n",
       "      <td>0.000290</td>\n",
       "      <td>-3.331749</td>\n",
       "      <td>0.000932</td>\n",
       "    </tr>\n",
       "    <tr>\n",
       "      <th>5</th>\n",
       "      <td>10</td>\n",
       "      <td>3</td>\n",
       "      <td>1</td>\n",
       "      <td>2</td>\n",
       "      <td>0.000010</td>\n",
       "      <td>0.000290</td>\n",
       "      <td>-3.331749</td>\n",
       "      <td>0.000932</td>\n",
       "    </tr>\n",
       "    <tr>\n",
       "      <th>6</th>\n",
       "      <td>5</td>\n",
       "      <td>86</td>\n",
       "      <td>32</td>\n",
       "      <td>54</td>\n",
       "      <td>0.000332</td>\n",
       "      <td>0.007832</td>\n",
       "      <td>-3.161850</td>\n",
       "      <td>0.023714</td>\n",
       "    </tr>\n",
       "    <tr>\n",
       "      <th>7</th>\n",
       "      <td>6</td>\n",
       "      <td>48</td>\n",
       "      <td>19</td>\n",
       "      <td>29</td>\n",
       "      <td>0.000197</td>\n",
       "      <td>0.004206</td>\n",
       "      <td>-3.061458</td>\n",
       "      <td>0.012273</td>\n",
       "    </tr>\n",
       "    <tr>\n",
       "      <th>9</th>\n",
       "      <td>8</td>\n",
       "      <td>12</td>\n",
       "      <td>5</td>\n",
       "      <td>7</td>\n",
       "      <td>0.000052</td>\n",
       "      <td>0.001015</td>\n",
       "      <td>-2.975074</td>\n",
       "      <td>0.002866</td>\n",
       "    </tr>\n",
       "    <tr>\n",
       "      <th>2</th>\n",
       "      <td>3</td>\n",
       "      <td>478</td>\n",
       "      <td>204</td>\n",
       "      <td>274</td>\n",
       "      <td>0.002114</td>\n",
       "      <td>0.039739</td>\n",
       "      <td>-2.933610</td>\n",
       "      <td>0.110376</td>\n",
       "    </tr>\n",
       "    <tr>\n",
       "      <th>13</th>\n",
       "      <td>13</td>\n",
       "      <td>2</td>\n",
       "      <td>1</td>\n",
       "      <td>1</td>\n",
       "      <td>0.000010</td>\n",
       "      <td>0.000145</td>\n",
       "      <td>-2.638601</td>\n",
       "      <td>0.000355</td>\n",
       "    </tr>\n",
       "    <tr>\n",
       "      <th>16</th>\n",
       "      <td>12</td>\n",
       "      <td>2</td>\n",
       "      <td>1</td>\n",
       "      <td>1</td>\n",
       "      <td>0.000010</td>\n",
       "      <td>0.000145</td>\n",
       "      <td>-2.638601</td>\n",
       "      <td>0.000355</td>\n",
       "    </tr>\n",
       "    <tr>\n",
       "      <th>3</th>\n",
       "      <td>2</td>\n",
       "      <td>1095</td>\n",
       "      <td>552</td>\n",
       "      <td>543</td>\n",
       "      <td>0.005721</td>\n",
       "      <td>0.078753</td>\n",
       "      <td>-2.622163</td>\n",
       "      <td>0.191501</td>\n",
       "    </tr>\n",
       "    <tr>\n",
       "      <th>1</th>\n",
       "      <td>1</td>\n",
       "      <td>3815</td>\n",
       "      <td>2552</td>\n",
       "      <td>1263</td>\n",
       "      <td>0.026449</td>\n",
       "      <td>0.183176</td>\n",
       "      <td>-1.935214</td>\n",
       "      <td>0.303300</td>\n",
       "    </tr>\n",
       "    <tr>\n",
       "      <th>11</th>\n",
       "      <td>15</td>\n",
       "      <td>1</td>\n",
       "      <td>1</td>\n",
       "      <td>0</td>\n",
       "      <td>0.000010</td>\n",
       "      <td>0.000000</td>\n",
       "      <td>0.000000</td>\n",
       "      <td>0.000000</td>\n",
       "    </tr>\n",
       "    <tr>\n",
       "      <th>14</th>\n",
       "      <td>14</td>\n",
       "      <td>1</td>\n",
       "      <td>1</td>\n",
       "      <td>0</td>\n",
       "      <td>0.000010</td>\n",
       "      <td>0.000000</td>\n",
       "      <td>0.000000</td>\n",
       "      <td>0.000000</td>\n",
       "    </tr>\n",
       "    <tr>\n",
       "      <th>15</th>\n",
       "      <td>17</td>\n",
       "      <td>1</td>\n",
       "      <td>0</td>\n",
       "      <td>1</td>\n",
       "      <td>0.000000</td>\n",
       "      <td>0.000145</td>\n",
       "      <td>0.000000</td>\n",
       "      <td>-0.000000</td>\n",
       "    </tr>\n",
       "    <tr>\n",
       "      <th>0</th>\n",
       "      <td>0</td>\n",
       "      <td>97596</td>\n",
       "      <td>93047</td>\n",
       "      <td>4549</td>\n",
       "      <td>0.964358</td>\n",
       "      <td>0.659753</td>\n",
       "      <td>0.379596</td>\n",
       "      <td>0.115626</td>\n",
       "    </tr>\n",
       "  </tbody>\n",
       "</table>\n",
       "</div>"
      ],
      "text/plain": [
       "    Value    All   Good   Bad  Distr_Good  Distr_Bad       WoE        IV\n",
       "10      9     13      2    11    0.000021   0.001595 -4.343350  0.006839\n",
       "8       7     21      4    17    0.000041   0.002466 -4.085520  0.009904\n",
       "4       4    204     63   141    0.000653   0.020450 -3.444227  0.068184\n",
       "12     11      3      1     2    0.000010   0.000290 -3.331749  0.000932\n",
       "5      10      3      1     2    0.000010   0.000290 -3.331749  0.000932\n",
       "6       5     86     32    54    0.000332   0.007832 -3.161850  0.023714\n",
       "7       6     48     19    29    0.000197   0.004206 -3.061458  0.012273\n",
       "9       8     12      5     7    0.000052   0.001015 -2.975074  0.002866\n",
       "2       3    478    204   274    0.002114   0.039739 -2.933610  0.110376\n",
       "13     13      2      1     1    0.000010   0.000145 -2.638601  0.000355\n",
       "16     12      2      1     1    0.000010   0.000145 -2.638601  0.000355\n",
       "3       2   1095    552   543    0.005721   0.078753 -2.622163  0.191501\n",
       "1       1   3815   2552  1263    0.026449   0.183176 -1.935214  0.303300\n",
       "11     15      1      1     0    0.000010   0.000000  0.000000  0.000000\n",
       "14     14      1      1     0    0.000010   0.000000  0.000000  0.000000\n",
       "15     17      1      0     1    0.000000   0.000145  0.000000 -0.000000\n",
       "0       0  97596  93047  4549    0.964358   0.659753  0.379596  0.115626"
      ]
     },
     "metadata": {},
     "output_type": "display_data"
    },
    {
     "name": "stdout",
     "output_type": "stream",
     "text": [
      "IV score: 0.85\n",
      "\n",
      "\n",
      "WoE and IV for column: number_of_estate_loans\n"
     ]
    },
    {
     "data": {
      "text/html": [
       "<div>\n",
       "<style scoped>\n",
       "    .dataframe tbody tr th:only-of-type {\n",
       "        vertical-align: middle;\n",
       "    }\n",
       "\n",
       "    .dataframe tbody tr th {\n",
       "        vertical-align: top;\n",
       "    }\n",
       "\n",
       "    .dataframe thead th {\n",
       "        text-align: right;\n",
       "    }\n",
       "</style>\n",
       "<table border=\"1\" class=\"dataframe\">\n",
       "  <thead>\n",
       "    <tr style=\"text-align: right;\">\n",
       "      <th></th>\n",
       "      <th>Value</th>\n",
       "      <th>All</th>\n",
       "      <th>Good</th>\n",
       "      <th>Bad</th>\n",
       "      <th>Distr_Good</th>\n",
       "      <th>Distr_Bad</th>\n",
       "      <th>WoE</th>\n",
       "      <th>IV</th>\n",
       "    </tr>\n",
       "  </thead>\n",
       "  <tbody>\n",
       "    <tr>\n",
       "      <th>0</th>\n",
       "      <td>(-0.001, 1.0]</td>\n",
       "      <td>76909</td>\n",
       "      <td>71549</td>\n",
       "      <td>5360</td>\n",
       "      <td>0.741548</td>\n",
       "      <td>0.777375</td>\n",
       "      <td>-0.047183</td>\n",
       "      <td>0.001690</td>\n",
       "    </tr>\n",
       "    <tr>\n",
       "      <th>2</th>\n",
       "      <td>(2.0, 5.0]</td>\n",
       "      <td>5084</td>\n",
       "      <td>4734</td>\n",
       "      <td>350</td>\n",
       "      <td>0.049064</td>\n",
       "      <td>0.050761</td>\n",
       "      <td>-0.034009</td>\n",
       "      <td>0.000058</td>\n",
       "    </tr>\n",
       "    <tr>\n",
       "      <th>1</th>\n",
       "      <td>(1.0, 2.0]</td>\n",
       "      <td>21388</td>\n",
       "      <td>20203</td>\n",
       "      <td>1185</td>\n",
       "      <td>0.209388</td>\n",
       "      <td>0.171864</td>\n",
       "      <td>0.197487</td>\n",
       "      <td>0.007411</td>\n",
       "    </tr>\n",
       "  </tbody>\n",
       "</table>\n",
       "</div>"
      ],
      "text/plain": [
       "           Value    All   Good   Bad  Distr_Good  Distr_Bad       WoE  \\\n",
       "0  (-0.001, 1.0]  76909  71549  5360    0.741548   0.777375 -0.047183   \n",
       "2     (2.0, 5.0]   5084   4734   350    0.049064   0.050761 -0.034009   \n",
       "1     (1.0, 2.0]  21388  20203  1185    0.209388   0.171864  0.197487   \n",
       "\n",
       "         IV  \n",
       "0  0.001690  \n",
       "2  0.000058  \n",
       "1  0.007411  "
      ]
     },
     "metadata": {},
     "output_type": "display_data"
    },
    {
     "name": "stdout",
     "output_type": "stream",
     "text": [
      "IV score: 0.01\n",
      "\n",
      "\n",
      "WoE and IV for column: count_of_medium_past_due\n"
     ]
    },
    {
     "data": {
      "text/html": [
       "<div>\n",
       "<style scoped>\n",
       "    .dataframe tbody tr th:only-of-type {\n",
       "        vertical-align: middle;\n",
       "    }\n",
       "\n",
       "    .dataframe tbody tr th {\n",
       "        vertical-align: top;\n",
       "    }\n",
       "\n",
       "    .dataframe thead th {\n",
       "        text-align: right;\n",
       "    }\n",
       "</style>\n",
       "<table border=\"1\" class=\"dataframe\">\n",
       "  <thead>\n",
       "    <tr style=\"text-align: right;\">\n",
       "      <th></th>\n",
       "      <th>Value</th>\n",
       "      <th>All</th>\n",
       "      <th>Good</th>\n",
       "      <th>Bad</th>\n",
       "      <th>Distr_Good</th>\n",
       "      <th>Distr_Bad</th>\n",
       "      <th>WoE</th>\n",
       "      <th>IV</th>\n",
       "    </tr>\n",
       "  </thead>\n",
       "  <tbody>\n",
       "    <tr>\n",
       "      <th>6</th>\n",
       "      <td>6</td>\n",
       "      <td>11</td>\n",
       "      <td>3</td>\n",
       "      <td>8</td>\n",
       "      <td>0.000031</td>\n",
       "      <td>0.001160</td>\n",
       "      <td>-3.619431</td>\n",
       "      <td>0.004087</td>\n",
       "    </tr>\n",
       "    <tr>\n",
       "      <th>3</th>\n",
       "      <td>4</td>\n",
       "      <td>67</td>\n",
       "      <td>26</td>\n",
       "      <td>41</td>\n",
       "      <td>0.000269</td>\n",
       "      <td>0.005946</td>\n",
       "      <td>-3.094077</td>\n",
       "      <td>0.017565</td>\n",
       "    </tr>\n",
       "    <tr>\n",
       "      <th>4</th>\n",
       "      <td>3</td>\n",
       "      <td>220</td>\n",
       "      <td>90</td>\n",
       "      <td>130</td>\n",
       "      <td>0.000933</td>\n",
       "      <td>0.018854</td>\n",
       "      <td>-3.006326</td>\n",
       "      <td>0.053878</td>\n",
       "    </tr>\n",
       "    <tr>\n",
       "      <th>2</th>\n",
       "      <td>2</td>\n",
       "      <td>772</td>\n",
       "      <td>393</td>\n",
       "      <td>379</td>\n",
       "      <td>0.004073</td>\n",
       "      <td>0.054967</td>\n",
       "      <td>-2.602328</td>\n",
       "      <td>0.132444</td>\n",
       "    </tr>\n",
       "    <tr>\n",
       "      <th>5</th>\n",
       "      <td>5</td>\n",
       "      <td>18</td>\n",
       "      <td>11</td>\n",
       "      <td>7</td>\n",
       "      <td>0.000114</td>\n",
       "      <td>0.001015</td>\n",
       "      <td>-2.186616</td>\n",
       "      <td>0.001971</td>\n",
       "    </tr>\n",
       "    <tr>\n",
       "      <th>1</th>\n",
       "      <td>1</td>\n",
       "      <td>4166</td>\n",
       "      <td>2915</td>\n",
       "      <td>1251</td>\n",
       "      <td>0.030212</td>\n",
       "      <td>0.181436</td>\n",
       "      <td>-1.792675</td>\n",
       "      <td>0.271096</td>\n",
       "    </tr>\n",
       "    <tr>\n",
       "      <th>7</th>\n",
       "      <td>7</td>\n",
       "      <td>2</td>\n",
       "      <td>0</td>\n",
       "      <td>2</td>\n",
       "      <td>0.000000</td>\n",
       "      <td>0.000290</td>\n",
       "      <td>0.000000</td>\n",
       "      <td>-0.000000</td>\n",
       "    </tr>\n",
       "    <tr>\n",
       "      <th>8</th>\n",
       "      <td>11</td>\n",
       "      <td>1</td>\n",
       "      <td>0</td>\n",
       "      <td>1</td>\n",
       "      <td>0.000000</td>\n",
       "      <td>0.000145</td>\n",
       "      <td>0.000000</td>\n",
       "      <td>-0.000000</td>\n",
       "    </tr>\n",
       "    <tr>\n",
       "      <th>0</th>\n",
       "      <td>0</td>\n",
       "      <td>98124</td>\n",
       "      <td>93048</td>\n",
       "      <td>5076</td>\n",
       "      <td>0.964368</td>\n",
       "      <td>0.736186</td>\n",
       "      <td>0.269991</td>\n",
       "      <td>0.061607</td>\n",
       "    </tr>\n",
       "  </tbody>\n",
       "</table>\n",
       "</div>"
      ],
      "text/plain": [
       "   Value    All   Good   Bad  Distr_Good  Distr_Bad       WoE        IV\n",
       "6      6     11      3     8    0.000031   0.001160 -3.619431  0.004087\n",
       "3      4     67     26    41    0.000269   0.005946 -3.094077  0.017565\n",
       "4      3    220     90   130    0.000933   0.018854 -3.006326  0.053878\n",
       "2      2    772    393   379    0.004073   0.054967 -2.602328  0.132444\n",
       "5      5     18     11     7    0.000114   0.001015 -2.186616  0.001971\n",
       "1      1   4166   2915  1251    0.030212   0.181436 -1.792675  0.271096\n",
       "7      7      2      0     2    0.000000   0.000290  0.000000 -0.000000\n",
       "8     11      1      0     1    0.000000   0.000145  0.000000 -0.000000\n",
       "0      0  98124  93048  5076    0.964368   0.736186  0.269991  0.061607"
      ]
     },
     "metadata": {},
     "output_type": "display_data"
    },
    {
     "name": "stdout",
     "output_type": "stream",
     "text": [
      "IV score: 0.54\n",
      "\n",
      "\n",
      "WoE and IV for column: number_of_dependents\n"
     ]
    },
    {
     "data": {
      "text/html": [
       "<div>\n",
       "<style scoped>\n",
       "    .dataframe tbody tr th:only-of-type {\n",
       "        vertical-align: middle;\n",
       "    }\n",
       "\n",
       "    .dataframe tbody tr th {\n",
       "        vertical-align: top;\n",
       "    }\n",
       "\n",
       "    .dataframe thead th {\n",
       "        text-align: right;\n",
       "    }\n",
       "</style>\n",
       "<table border=\"1\" class=\"dataframe\">\n",
       "  <thead>\n",
       "    <tr style=\"text-align: right;\">\n",
       "      <th></th>\n",
       "      <th>Value</th>\n",
       "      <th>All</th>\n",
       "      <th>Good</th>\n",
       "      <th>Bad</th>\n",
       "      <th>Distr_Good</th>\n",
       "      <th>Distr_Bad</th>\n",
       "      <th>WoE</th>\n",
       "      <th>IV</th>\n",
       "    </tr>\n",
       "  </thead>\n",
       "  <tbody>\n",
       "    <tr>\n",
       "      <th>1</th>\n",
       "      <td>(1.0, 10.0]</td>\n",
       "      <td>25443</td>\n",
       "      <td>23265</td>\n",
       "      <td>2178</td>\n",
       "      <td>0.241123</td>\n",
       "      <td>0.315881</td>\n",
       "      <td>-0.270058</td>\n",
       "      <td>0.020189</td>\n",
       "    </tr>\n",
       "    <tr>\n",
       "      <th>0</th>\n",
       "      <td>(-0.001, 1.0]</td>\n",
       "      <td>77938</td>\n",
       "      <td>73221</td>\n",
       "      <td>4717</td>\n",
       "      <td>0.758877</td>\n",
       "      <td>0.684119</td>\n",
       "      <td>0.103708</td>\n",
       "      <td>0.007753</td>\n",
       "    </tr>\n",
       "  </tbody>\n",
       "</table>\n",
       "</div>"
      ],
      "text/plain": [
       "           Value    All   Good   Bad  Distr_Good  Distr_Bad       WoE  \\\n",
       "1    (1.0, 10.0]  25443  23265  2178    0.241123   0.315881 -0.270058   \n",
       "0  (-0.001, 1.0]  77938  73221  4717    0.758877   0.684119  0.103708   \n",
       "\n",
       "         IV  \n",
       "1  0.020189  \n",
       "0  0.007753  "
      ]
     },
     "metadata": {},
     "output_type": "display_data"
    },
    {
     "name": "stdout",
     "output_type": "stream",
     "text": [
      "IV score: 0.03\n",
      "\n",
      "\n"
     ]
    }
   ],
   "source": [
    "list_of_inv = []\n",
    "for col in cs_training.drop([\"serious_loan\"],axis = 1).columns:\n",
    "        print('WoE and IV for column: {}'.format(col))\n",
    "        df, iv = calculate_woe_iv(cs_training, col, 'serious_loan')\n",
    "        list_of_inv += [round(iv,2)]\n",
    "        display(df)\n",
    "        print('IV score: {:.2f}'.format(iv))\n",
    "        print('\\n')"
   ]
  },
  {
   "cell_type": "code",
   "execution_count": 79,
   "metadata": {},
   "outputs": [],
   "source": [
    "inv_dict = {label:iv for label,iv in zip(cs_training.drop([\"serious_loan\"],axis = 1).columns.tolist(),list_of_inv)}"
   ]
  },
  {
   "cell_type": "code",
   "execution_count": 80,
   "metadata": {
    "scrolled": false
   },
   "outputs": [],
   "source": [
    "inv_dict = {label:iv for label,iv in sorted(inv_dict.items(),key= lambda x:x[1])}"
   ]
  },
  {
   "cell_type": "code",
   "execution_count": null,
   "metadata": {},
   "outputs": [],
   "source": []
  },
  {
   "cell_type": "markdown",
   "metadata": {},
   "source": [
    "### IV diagram"
   ]
  },
  {
   "cell_type": "code",
   "execution_count": 81,
   "metadata": {
    "scrolled": true
   },
   "outputs": [
    {
     "data": {
      "image/png": "[encoded data removed]",
      "text/plain": [
       "<Figure size 1800x720 with 1 Axes>"
      ]
     },
     "metadata": {
      "needs_background": "light"
     },
     "output_type": "display_data"
    }
   ],
   "source": [
    "fig,ax = plt.subplots(figsize = (25,10))\n",
    "ax.plot([0.1]*(len(inv_dict.keys())),color = 'red',linewidth=5)\n",
    "ax.bar(inv_dict.keys(),inv_dict.values())\n",
    "plt.title('IV Диаграмма')\n",
    "plt.show()\n"
   ]
  },
  {
   "cell_type": "code",
   "execution_count": 83,
   "metadata": {},
   "outputs": [],
   "source": [
    "column_to_drop = [label for label,iv in inv_dict.items() if iv<0.1]"
   ]
  },
  {
   "cell_type": "code",
   "execution_count": 84,
   "metadata": {},
   "outputs": [],
   "source": [
    "cs_training = cs_training.drop(column_to_drop,axis = 1)"
   ]
  },
  {
   "cell_type": "code",
   "execution_count": 85,
   "metadata": {
    "scrolled": true
   },
   "outputs": [
    {
     "data": {
      "text/plain": [
       "['number_of_estate_loans',\n",
       " 'number_of_dependents',\n",
       " 'number_of_credit_lines',\n",
       " 'debt_ratio',\n",
       " 'monthly_income']"
      ]
     },
     "execution_count": 85,
     "metadata": {},
     "output_type": "execute_result"
    }
   ],
   "source": [
    "column_to_drop"
   ]
  },
  {
   "cell_type": "code",
   "execution_count": 86,
   "metadata": {},
   "outputs": [],
   "source": [
    "# print(none)"
   ]
  },
  {
   "cell_type": "markdown",
   "metadata": {},
   "source": [
    "## Теперь, когда выборка обработана перейдем к более подробному ее разбору"
   ]
  },
  {
   "cell_type": "code",
   "execution_count": 87,
   "metadata": {},
   "outputs": [
    {
     "name": "stdout",
     "output_type": "stream",
     "text": [
      "<class 'pandas.core.frame.DataFrame'>\n",
      "Int64Index: 103381 entries, 2 to 150000\n",
      "Data columns (total 6 columns):\n",
      " #   Column                    Non-Null Count   Dtype   \n",
      "---  ------                    --------------   -----   \n",
      " 0   serious_loan              103381 non-null  int64   \n",
      " 1   financial_state_rate      103381 non-null  category\n",
      " 2   age                       103381 non-null  category\n",
      " 3   count_of_small_past_due   103381 non-null  int64   \n",
      " 4   count_of_big_past_due     103381 non-null  int64   \n",
      " 5   count_of_medium_past_due  103381 non-null  int64   \n",
      "dtypes: category(2), int64(4)\n",
      "memory usage: 4.1 MB\n"
     ]
    }
   ],
   "source": [
    "cs_training.info()"
   ]
  },
  {
   "cell_type": "code",
   "execution_count": 88,
   "metadata": {
    "scrolled": true
   },
   "outputs": [
    {
     "data": {
      "text/html": [
       "<style  type=\"text/css\" >\n",
       "    #T_687b4850_b9be_11eb_a643_3c7d0a043019 th {\n",
       "          font-size: 7pt;\n",
       "    }    #T_687b4850_b9be_11eb_a643_3c7d0a043019 td {\n",
       "          padding: 0em 0em;\n",
       "    }    #T_687b4850_b9be_11eb_a643_3c7d0a043019 th:hover {\n",
       "          font-size: 12pt;\n",
       "    }    #T_687b4850_b9be_11eb_a643_3c7d0a043019 tr:hover td:hover {\n",
       "          max-width: 200px;\n",
       "          font-size: 12pt;\n",
       "    }#T_687b4850_b9be_11eb_a643_3c7d0a043019row0_col0,#T_687b4850_b9be_11eb_a643_3c7d0a043019row1_col1,#T_687b4850_b9be_11eb_a643_3c7d0a043019row2_col2,#T_687b4850_b9be_11eb_a643_3c7d0a043019row3_col3{\n",
       "            background-color:  #4479bb;\n",
       "            color:  #000000;\n",
       "            max-width:  80px;\n",
       "            font-size:  10pt;\n",
       "        }#T_687b4850_b9be_11eb_a643_3c7d0a043019row0_col1{\n",
       "            background-color:  #d83e5d;\n",
       "            color:  #f1f1f1;\n",
       "            max-width:  80px;\n",
       "            font-size:  10pt;\n",
       "        }#T_687b4850_b9be_11eb_a643_3c7d0a043019row0_col2{\n",
       "            background-color:  #db5570;\n",
       "            color:  #000000;\n",
       "            max-width:  80px;\n",
       "            font-size:  10pt;\n",
       "        }#T_687b4850_b9be_11eb_a643_3c7d0a043019row0_col3,#T_687b4850_b9be_11eb_a643_3c7d0a043019row1_col2,#T_687b4850_b9be_11eb_a643_3c7d0a043019row2_col1,#T_687b4850_b9be_11eb_a643_3c7d0a043019row3_col0{\n",
       "            background-color:  #d73c5b;\n",
       "            color:  #f1f1f1;\n",
       "            max-width:  80px;\n",
       "            font-size:  10pt;\n",
       "        }#T_687b4850_b9be_11eb_a643_3c7d0a043019row1_col0{\n",
       "            background-color:  #da516c;\n",
       "            color:  #000000;\n",
       "            max-width:  80px;\n",
       "            font-size:  10pt;\n",
       "        }#T_687b4850_b9be_11eb_a643_3c7d0a043019row1_col3{\n",
       "            background-color:  #dc5e77;\n",
       "            color:  #000000;\n",
       "            max-width:  80px;\n",
       "            font-size:  10pt;\n",
       "        }#T_687b4850_b9be_11eb_a643_3c7d0a043019row2_col0{\n",
       "            background-color:  #de667e;\n",
       "            color:  #000000;\n",
       "            max-width:  80px;\n",
       "            font-size:  10pt;\n",
       "        }#T_687b4850_b9be_11eb_a643_3c7d0a043019row2_col3{\n",
       "            background-color:  #dc5973;\n",
       "            color:  #000000;\n",
       "            max-width:  80px;\n",
       "            font-size:  10pt;\n",
       "        }#T_687b4850_b9be_11eb_a643_3c7d0a043019row3_col1{\n",
       "            background-color:  #da4b68;\n",
       "            color:  #000000;\n",
       "            max-width:  80px;\n",
       "            font-size:  10pt;\n",
       "        }#T_687b4850_b9be_11eb_a643_3c7d0a043019row3_col2{\n",
       "            background-color:  #d94764;\n",
       "            color:  #f1f1f1;\n",
       "            max-width:  80px;\n",
       "            font-size:  10pt;\n",
       "        }</style><table id=\"T_687b4850_b9be_11eb_a643_3c7d0a043019\" ><thead>    <tr>        <th class=\"blank level0\" ></th>        <th class=\"col_heading level0 col0\" >serious_loan</th>        <th class=\"col_heading level0 col1\" >count_of_small_past_due</th>        <th class=\"col_heading level0 col2\" >count_of_big_past_due</th>        <th class=\"col_heading level0 col3\" >count_of_medium_past_due</th>    </tr></thead><tbody>\n",
       "                <tr>\n",
       "                        <th id=\"T_687b4850_b9be_11eb_a643_3c7d0a043019level0_row0\" class=\"row_heading level0 row0\" >serious_loan</th>\n",
       "                        <td id=\"T_687b4850_b9be_11eb_a643_3c7d0a043019row0_col0\" class=\"data row0 col0\" >1.00</td>\n",
       "                        <td id=\"T_687b4850_b9be_11eb_a643_3c7d0a043019row0_col1\" class=\"data row0 col1\" >0.27</td>\n",
       "                        <td id=\"T_687b4850_b9be_11eb_a643_3c7d0a043019row0_col2\" class=\"data row0 col2\" >0.32</td>\n",
       "                        <td id=\"T_687b4850_b9be_11eb_a643_3c7d0a043019row0_col3\" class=\"data row0 col3\" >0.26</td>\n",
       "            </tr>\n",
       "            <tr>\n",
       "                        <th id=\"T_687b4850_b9be_11eb_a643_3c7d0a043019level0_row1\" class=\"row_heading level0 row1\" >count_of_small_past_due</th>\n",
       "                        <td id=\"T_687b4850_b9be_11eb_a643_3c7d0a043019row1_col0\" class=\"data row1 col0\" >0.27</td>\n",
       "                        <td id=\"T_687b4850_b9be_11eb_a643_3c7d0a043019row1_col1\" class=\"data row1 col1\" >1.00</td>\n",
       "                        <td id=\"T_687b4850_b9be_11eb_a643_3c7d0a043019row1_col2\" class=\"data row1 col2\" >0.22</td>\n",
       "                        <td id=\"T_687b4850_b9be_11eb_a643_3c7d0a043019row1_col3\" class=\"data row1 col3\" >0.30</td>\n",
       "            </tr>\n",
       "            <tr>\n",
       "                        <th id=\"T_687b4850_b9be_11eb_a643_3c7d0a043019level0_row2\" class=\"row_heading level0 row2\" >count_of_big_past_due</th>\n",
       "                        <td id=\"T_687b4850_b9be_11eb_a643_3c7d0a043019row2_col0\" class=\"data row2 col0\" >0.32</td>\n",
       "                        <td id=\"T_687b4850_b9be_11eb_a643_3c7d0a043019row2_col1\" class=\"data row2 col1\" >0.22</td>\n",
       "                        <td id=\"T_687b4850_b9be_11eb_a643_3c7d0a043019row2_col2\" class=\"data row2 col2\" >1.00</td>\n",
       "                        <td id=\"T_687b4850_b9be_11eb_a643_3c7d0a043019row2_col3\" class=\"data row2 col3\" >0.29</td>\n",
       "            </tr>\n",
       "            <tr>\n",
       "                        <th id=\"T_687b4850_b9be_11eb_a643_3c7d0a043019level0_row3\" class=\"row_heading level0 row3\" >count_of_medium_past_due</th>\n",
       "                        <td id=\"T_687b4850_b9be_11eb_a643_3c7d0a043019row3_col0\" class=\"data row3 col0\" >0.26</td>\n",
       "                        <td id=\"T_687b4850_b9be_11eb_a643_3c7d0a043019row3_col1\" class=\"data row3 col1\" >0.30</td>\n",
       "                        <td id=\"T_687b4850_b9be_11eb_a643_3c7d0a043019row3_col2\" class=\"data row3 col2\" >0.29</td>\n",
       "                        <td id=\"T_687b4850_b9be_11eb_a643_3c7d0a043019row3_col3\" class=\"data row3 col3\" >1.00</td>\n",
       "            </tr>\n",
       "    </tbody></table>"
      ],
      "text/plain": [
       "<pandas.io.formats.style.Styler at 0x7fb97c595be0>"
      ]
     },
     "execution_count": 88,
     "metadata": {},
     "output_type": "execute_result"
    },
    {
     "data": {
      "image/png": "[encoded data removed]",
      "text/plain": [
       "<Figure size 432x288 with 2 Axes>"
      ]
     },
     "metadata": {
      "needs_background": "light"
     },
     "output_type": "display_data"
    }
   ],
   "source": [
    "corr = cs_training.corr()\n",
    "cmap=sns.diverging_palette(5, 250, as_cmap=True)\n",
    "\n",
    "def magnify():\n",
    "    return [dict(selector=\"th\",\n",
    "                 props=[(\"font-size\", \"7pt\")]),\n",
    "            dict(selector=\"td\",\n",
    "                 props=[('padding', \"0em 0em\")]),\n",
    "            dict(selector=\"th:hover\",\n",
    "                 props=[(\"font-size\", \"12pt\")]),\n",
    "            dict(selector=\"tr:hover td:hover\",\n",
    "                 props=[('max-width', '200px'),\n",
    "                        ('font-size', '12pt')])\n",
    "]\n",
    "sns.heatmap(corr, \n",
    "        xticklabels=corr.columns,\n",
    "        yticklabels=corr.columns)\n",
    "\n",
    "corr.style.background_gradient(cmap, axis=1)\\\n",
    "    .set_properties(**{'max-width': '80px', 'font-size': '10pt'})\\\n",
    "    .set_precision(2)\\\n",
    "    .set_table_styles(magnify())"
   ]
  },
  {
   "cell_type": "markdown",
   "metadata": {},
   "source": [
    "Как мы можем наблюдать, в нашей выборке не представлено признаков с сильной корреляцией. Пропуски и корректность значений в выборке обработаны. Перейдем к построении моделей"
   ]
  },
  {
   "cell_type": "markdown",
   "metadata": {},
   "source": [
    "# Разделение на выборки"
   ]
  },
  {
   "cell_type": "code",
   "execution_count": null,
   "metadata": {},
   "outputs": [],
   "source": [
    "# oversample = SMOTE()\n",
    "# X,y = oversample.fit_resample(cs_training.drop([\"serious_loan\"],axis = 1),cs_training[\"serious_loan\"])"
   ]
  },
  {
   "cell_type": "code",
   "execution_count": 91,
   "metadata": {},
   "outputs": [],
   "source": [
    "cs_training = pd.get_dummies(cs_training)"
   ]
  },
  {
   "cell_type": "code",
   "execution_count": 92,
   "metadata": {},
   "outputs": [
    {
     "data": {
      "image/png": "[encoded data removed]",
      "text/plain": [
       "<Figure size 432x288 with 1 Axes>"
      ]
     },
     "metadata": {
      "needs_background": "light"
     },
     "output_type": "display_data"
    }
   ],
   "source": [
    "(design_train,\n",
    " design_test,\n",
    " target_train,\n",
    " target_test) = train_test_split(cs_training.drop([\"serious_loan\"],axis = 1),cs_training[\"serious_loan\"],random_state = 42, test_size = 0.2)\n",
    "# (design_train,\n",
    "#  design_test,\n",
    "#  target_train,\n",
    "#  target_test) = train_test_split(X,\n",
    "#                                  y,random_state = 42,\n",
    "#                                  test_size = 0.2)\n",
    "\n",
    "# oversample = SMOTE()\n",
    "# design_train, target_train = oversample.fit_resample(design_train, target_train)\n",
    "# design_train = pd.DataFrame(design_train,columns=cs_training.drop([\"serious_loan\"],axis = 1).columns)\n",
    "# target_train = pd.Series(target_train)\n",
    "(design_valid,\n",
    " design_test,\n",
    " target_valid,\n",
    " target_test) = train_test_split(design_test, target_test, random_state = 42, test_size = 0.5)\n",
    "\n",
    "debt_test = gen_debt(500000,50000,design_test.shape[0],design_test.shape[0]*2)"
   ]
  },
  {
   "cell_type": "markdown",
   "metadata": {},
   "source": [
    "# Обучение "
   ]
  },
  {
   "cell_type": "code",
   "execution_count": null,
   "metadata": {},
   "outputs": [],
   "source": [
    "pca = PCA().fit(design_valid)\n",
    "plt.plot(np.cumsum(pca.explained_variance_ratio_))\n",
    "plt.xlabel('number of components')\n",
    "plt.ylabel('cumulative explained variance');"
   ]
  },
  {
   "cell_type": "markdown",
   "metadata": {},
   "source": [
    "## Random Forest"
   ]
  },
  {
   "cell_type": "code",
   "execution_count": 93,
   "metadata": {},
   "outputs": [],
   "source": [
    "steps = [('smote',SMOTE()),('stand',StandardScaler()),('PCA',PCA(n_components=7)), ('model', RandomForestClassifier(n_jobs=-1,\n",
    "                                                            n_estimators=1000,max_depth=10))]\n",
    "RF = Pipeline(steps=steps)"
   ]
  },
  {
   "cell_type": "code",
   "execution_count": 94,
   "metadata": {
    "scrolled": true
   },
   "outputs": [
    {
     "data": {
      "text/plain": [
       "Pipeline(steps=[('smote', SMOTE()), ('stand', StandardScaler()),\n",
       "                ('PCA', PCA(n_components=7)),\n",
       "                ('model',\n",
       "                 RandomForestClassifier(max_depth=10, n_estimators=1000,\n",
       "                                        n_jobs=-1))])"
      ]
     },
     "execution_count": 94,
     "metadata": {},
     "output_type": "execute_result"
    }
   ],
   "source": [
    "RF.fit(design_train,target_train)"
   ]
  },
  {
   "cell_type": "code",
   "execution_count": 95,
   "metadata": {
    "scrolled": true
   },
   "outputs": [],
   "source": [
    "RF_valid_pred = RF.predict(design_valid)\n",
    "predictions_RandomForest = RF.predict_proba(design_valid)"
   ]
  },
  {
   "cell_type": "code",
   "execution_count": 96,
   "metadata": {},
   "outputs": [
    {
     "data": {
      "text/plain": [
       "<BarContainer object of 7 artists>"
      ]
     },
     "execution_count": 96,
     "metadata": {},
     "output_type": "execute_result"
    },
    {
     "data": {
      "image/png": "[encoded data removed]",
      "text/plain": [
       "<Figure size 3600x576 with 1 Axes>"
      ]
     },
     "metadata": {
      "needs_background": "light"
     },
     "output_type": "display_data"
    }
   ],
   "source": [
    "importtance_dict = {label:val for label,val in zip(design_valid.columns,RF['model'].feature_importances_)}\n",
    "importtance_dict = dict(sorted(importtance_dict.items(), key=lambda item: item[1],reverse=True))\n",
    "\n",
    "fig,ax = plt.subplots(figsize = (50,8))\n",
    "\n",
    "ax.bar(importtance_dict.keys(),importtance_dict.values())"
   ]
  },
  {
   "cell_type": "code",
   "execution_count": null,
   "metadata": {
    "scrolled": true
   },
   "outputs": [],
   "source": [
    "f1_score(target_valid,RF_valid_pred)"
   ]
  },
  {
   "cell_type": "code",
   "execution_count": 97,
   "metadata": {},
   "outputs": [
    {
     "data": {
      "text/plain": [
       "array([0.42709568, 0.16460759, 0.61640756, ..., 0.52147081, 0.15717984,\n",
       "       0.26560847])"
      ]
     },
     "execution_count": 97,
     "metadata": {},
     "output_type": "execute_result"
    }
   ],
   "source": [
    "predictions_RandomForest[:,1]"
   ]
  },
  {
   "cell_type": "code",
   "execution_count": 98,
   "metadata": {
    "scrolled": true
   },
   "outputs": [
    {
     "name": "stdout",
     "output_type": "stream",
     "text": [
      "Best f1: 0.5362515670706226, threshold: 0.4561531192543312\n",
      "Best accuracy: 0.9356742116463532, threshold: 0.9388936671904223\n"
     ]
    },
    {
     "data": {
      "image/png": "[encoded data removed]",
      "text/plain": [
       "<Figure size 720x360 with 1 Axes>"
      ]
     },
     "metadata": {
      "needs_background": "light"
     },
     "output_type": "display_data"
    }
   ],
   "source": [
    "best_threshold(target_valid,predictions_RandomForest[:,1],\"RandomForest\",beta = 2.5)"
   ]
  },
  {
   "cell_type": "code",
   "execution_count": 103,
   "metadata": {
    "scrolled": true
   },
   "outputs": [
    {
     "name": "stdout",
     "output_type": "stream",
     "text": [
      "gini 0.65\n",
      "max benefit 148306023.71381503\n",
      "best_threshold 0.5678391959798995\n"
     ]
    },
    {
     "data": {
      "image/png": "[encoded data removed]",
      "text/plain": [
       "<Figure size 1440x360 with 1 Axes>"
      ]
     },
     "metadata": {
      "needs_background": "light"
     },
     "output_type": "display_data"
    }
   ],
   "source": [
    "benefit_plot(design_valid,target_valid,\n",
    "             predictions_RandomForest[:,1],200,debt_test,\n",
    "             lgd=0.5)"
   ]
  },
  {
   "cell_type": "code",
   "execution_count": 104,
   "metadata": {},
   "outputs": [
    {
     "data": {
      "text/plain": [
       "0.020467836257309788"
      ]
     },
     "execution_count": 104,
     "metadata": {},
     "output_type": "execute_result"
    }
   ],
   "source": [
    "target_rate_test(target_valid,(predictions_RandomForest[:,1]>0.8)*1.)"
   ]
  },
  {
   "cell_type": "code",
   "execution_count": 105,
   "metadata": {},
   "outputs": [],
   "source": [
    "RF_test_pred = RF.predict(design_test)\n",
    "predictions_test_RandomForest = RF.predict_proba(design_test)"
   ]
  },
  {
   "cell_type": "code",
   "execution_count": null,
   "metadata": {},
   "outputs": [],
   "source": []
  },
  {
   "cell_type": "code",
   "execution_count": 106,
   "metadata": {
    "scrolled": true
   },
   "outputs": [
    {
     "name": "stdout",
     "output_type": "stream",
     "text": [
      "Best f1: 0.522802991041682, threshold: 0.5084430749730594\n",
      "Best accuracy: 0.9356804333107651, threshold: 0.9430524004788583\n"
     ]
    },
    {
     "data": {
      "image/png": "[encoded data removed]",
      "text/plain": [
       "<Figure size 720x360 with 1 Axes>"
      ]
     },
     "metadata": {
      "needs_background": "light"
     },
     "output_type": "display_data"
    }
   ],
   "source": [
    "best_threshold(target_test,predictions_test_RandomForest[:,1],\"RandomForest\",beta=2.5)"
   ]
  },
  {
   "cell_type": "code",
   "execution_count": 108,
   "metadata": {},
   "outputs": [
    {
     "name": "stdout",
     "output_type": "stream",
     "text": [
      "gini 0.65\n",
      "max benefit 141312645.42726842\n",
      "best_threshold 0.5125628140703518\n"
     ]
    },
    {
     "data": {
      "image/png": "[encoded data removed]",
      "text/plain": [
       "<Figure size 1440x360 with 1 Axes>"
      ]
     },
     "metadata": {
      "needs_background": "light"
     },
     "output_type": "display_data"
    }
   ],
   "source": [
    "benefit_plot(design_test,target_test,\n",
    "             predictions_test_RandomForest[:,1],200,debt_test,\n",
    "             lgd=0.5)"
   ]
  },
  {
   "cell_type": "code",
   "execution_count": null,
   "metadata": {},
   "outputs": [],
   "source": [
    "\n",
    "new_RF_preds = [1 if i >= 0.5106375002174267 else 0 for i in predictions_test_RandomForest[:,1] ]"
   ]
  },
  {
   "cell_type": "code",
   "execution_count": null,
   "metadata": {
    "scrolled": true
   },
   "outputs": [],
   "source": [
    "confusion_matrix(target_test,new_RF_preds)"
   ]
  },
  {
   "cell_type": "code",
   "execution_count": null,
   "metadata": {},
   "outputs": [],
   "source": [
    "target_test.value_counts()"
   ]
  },
  {
   "cell_type": "markdown",
   "metadata": {},
   "source": [
    "## SVM"
   ]
  },
  {
   "cell_type": "code",
   "execution_count": null,
   "metadata": {
    "scrolled": true
   },
   "outputs": [],
   "source": [
    "clf = make_pipeline(StandardScaler(), SVC(class_weight= 'balanced',probability=True,max_iter = 100))\n",
    "clf.fit(design_train,target_train)"
   ]
  },
  {
   "cell_type": "code",
   "execution_count": null,
   "metadata": {},
   "outputs": [],
   "source": [
    "SVC_valid_pred = clf.predict(design_valid)"
   ]
  },
  {
   "cell_type": "code",
   "execution_count": null,
   "metadata": {},
   "outputs": [],
   "source": [
    "SVC_valid_proba = clf.predict_proba(design_valid)"
   ]
  },
  {
   "cell_type": "code",
   "execution_count": null,
   "metadata": {},
   "outputs": [],
   "source": [
    "pd.Series(SVC_valid_proba[:,1]).describe()"
   ]
  },
  {
   "cell_type": "code",
   "execution_count": null,
   "metadata": {},
   "outputs": [],
   "source": [
    "best_threshold(target_valid,SVC_valid_proba[:,1],\"SVC\",beta = 2.5)"
   ]
  },
  {
   "cell_type": "code",
   "execution_count": null,
   "metadata": {},
   "outputs": [],
   "source": [
    "f1_score(target_valid,SVC_valid_pred)"
   ]
  },
  {
   "cell_type": "markdown",
   "metadata": {},
   "source": [
    "## Catboost"
   ]
  },
  {
   "cell_type": "code",
   "execution_count": null,
   "metadata": {
    "scrolled": true
   },
   "outputs": [],
   "source": [
    "# f1_scores = []\n",
    "# for i in range(1,16):\n",
    "#     model = CatBoostClassifier(iterations=1000,\n",
    "#                                depth=i,\n",
    "#                                class_weights=[0.07,0.93],\n",
    "#                                learning_rate=0.01,\n",
    "#                                loss_function='Logloss',\n",
    "#                                verbose=200)\n",
    "#     # train the model\n",
    "#     model.fit(design_train,target_train)\n",
    "#     f1_scores += [f1_score(target_valid,model.predict(design_valid))]"
   ]
  },
  {
   "cell_type": "code",
   "execution_count": null,
   "metadata": {},
   "outputs": [],
   "source": [
    "model_catboost = CatBoostClassifier(iterations=1000,\n",
    "                               depth=2,\n",
    "                               learning_rate=0.01,\n",
    "                               loss_function='Logloss',\n",
    "                               verbose=200)"
   ]
  },
  {
   "cell_type": "code",
   "execution_count": null,
   "metadata": {},
   "outputs": [],
   "source": [
    "steps_cat = [('over', SMOTE()),('stand',StandardScaler()), ('model', model_catboost)]\n",
    "catboost_pipe = Pipeline(steps=steps_cat)"
   ]
  },
  {
   "cell_type": "code",
   "execution_count": null,
   "metadata": {},
   "outputs": [],
   "source": [
    "# plt.plot(range(1,16),f1_scores)"
   ]
  },
  {
   "cell_type": "code",
   "execution_count": null,
   "metadata": {},
   "outputs": [],
   "source": [
    "catboost_pipe.fit(design_train,target_train)"
   ]
  },
  {
   "cell_type": "code",
   "execution_count": null,
   "metadata": {},
   "outputs": [],
   "source": [
    "catboost_pred = catboost_pipe.predict(design_valid)"
   ]
  },
  {
   "cell_type": "code",
   "execution_count": null,
   "metadata": {},
   "outputs": [],
   "source": [
    "catboost_pred"
   ]
  },
  {
   "cell_type": "code",
   "execution_count": null,
   "metadata": {},
   "outputs": [],
   "source": [
    "f1_score(target_valid,catboost_pred)"
   ]
  },
  {
   "cell_type": "code",
   "execution_count": null,
   "metadata": {},
   "outputs": [],
   "source": [
    "catboost_prob_preds = catboost_pipe.predict_proba(design_valid)"
   ]
  },
  {
   "cell_type": "code",
   "execution_count": null,
   "metadata": {},
   "outputs": [],
   "source": [
    "catboost_prob_preds[:,1]"
   ]
  },
  {
   "cell_type": "code",
   "execution_count": null,
   "metadata": {
    "scrolled": false
   },
   "outputs": [],
   "source": [
    "best_threshold(target_valid,catboost_prob_preds[:,1],\"CatBoost\",beta = 2.5)"
   ]
  },
  {
   "cell_type": "code",
   "execution_count": null,
   "metadata": {},
   "outputs": [],
   "source": [
    "\n",
    "new_catboost_preds = [1 if i >= 0.5318516302117285 else 0 for i in catboost_prob_preds[:,1]]"
   ]
  },
  {
   "cell_type": "code",
   "execution_count": null,
   "metadata": {},
   "outputs": [],
   "source": [
    "confusion_matrix(target_valid,new_catboost_preds)"
   ]
  },
  {
   "cell_type": "code",
   "execution_count": null,
   "metadata": {},
   "outputs": [],
   "source": [
    "# model_log = LogisticRegression(max_iter=1000)"
   ]
  },
  {
   "cell_type": "code",
   "execution_count": null,
   "metadata": {},
   "outputs": [],
   "source": [
    "# wing = WingsOfEvidence(bin_minimal_size=0.05, bin_size_increase=0.05, is_monotone=False)"
   ]
  },
  {
   "cell_type": "markdown",
   "metadata": {},
   "source": [
    "## Log reg"
   ]
  },
  {
   "cell_type": "code",
   "execution_count": 109,
   "metadata": {},
   "outputs": [],
   "source": [
    "steps_log = [('smote',SMOTE()),('stand',StandardScaler()), ('logistic', LogisticRegression(\n",
    " C= 0.001,\n",
    " max_iter= 100,\n",
    " penalty= 'l2',\n",
    " solver= 'liblinear'))]\n",
    "search = Pipeline(steps=steps_log)\n"
   ]
  },
  {
   "cell_type": "code",
   "execution_count": null,
   "metadata": {},
   "outputs": [],
   "source": [
    "# param_grid = {\n",
    "#     'logistic__C': np.logspace(-4, 4, 20),\n",
    "#     'logistic__max_iter':np.array([100,200,400,600,800,1000]),\n",
    "#     'logistic__penalty':np.array(['l1','l2']),\n",
    "#     'logistic__solver' : ['liblinear']\n",
    "# }\n",
    "# search = GridSearchCV(log_pipe, param_grid, n_jobs=-1)"
   ]
  },
  {
   "cell_type": "code",
   "execution_count": 110,
   "metadata": {
    "scrolled": false
   },
   "outputs": [
    {
     "data": {
      "text/plain": [
       "Pipeline(steps=[('smote', SMOTE()), ('stand', StandardScaler()),\n",
       "                ('logistic', LogisticRegression(C=0.001, solver='liblinear'))])"
      ]
     },
     "execution_count": 110,
     "metadata": {},
     "output_type": "execute_result"
    }
   ],
   "source": [
    "search.fit(design_train,target_train)"
   ]
  },
  {
   "cell_type": "code",
   "execution_count": null,
   "metadata": {},
   "outputs": [],
   "source": [
    "# search.best_params_"
   ]
  },
  {
   "cell_type": "code",
   "execution_count": 111,
   "metadata": {},
   "outputs": [],
   "source": [
    "log_preds = search.predict(design_valid)"
   ]
  },
  {
   "cell_type": "code",
   "execution_count": null,
   "metadata": {},
   "outputs": [],
   "source": [
    "f1_score(target_valid,log_preds)"
   ]
  },
  {
   "cell_type": "code",
   "execution_count": 112,
   "metadata": {
    "scrolled": true
   },
   "outputs": [
    {
     "name": "stdout",
     "output_type": "stream",
     "text": [
      "Best f1: 0.538014240506329, threshold: 0.5734333232520696\n",
      "Best accuracy: 0.9373186302959954, threshold: 0.9414251507056614\n"
     ]
    },
    {
     "data": {
      "image/png": "[encoded data removed]",
      "text/plain": [
       "<Figure size 720x360 with 1 Axes>"
      ]
     },
     "metadata": {
      "needs_background": "light"
     },
     "output_type": "display_data"
    }
   ],
   "source": [
    "log_prob_preds = search.predict_proba(design_valid)\n",
    "best_threshold(target_valid,log_prob_preds[:,1],\"Logres\",beta=2.5)"
   ]
  },
  {
   "cell_type": "code",
   "execution_count": 113,
   "metadata": {},
   "outputs": [
    {
     "name": "stdout",
     "output_type": "stream",
     "text": [
      "gini 0.67\n",
      "max benefit 149369195.66297895\n",
      "best_threshold 0.5879396984924623\n"
     ]
    },
    {
     "data": {
      "image/png": "[encoded data removed]",
      "text/plain": [
       "<Figure size 1440x360 with 1 Axes>"
      ]
     },
     "metadata": {
      "needs_background": "light"
     },
     "output_type": "display_data"
    }
   ],
   "source": [
    "benefit_plot(design_valid,target_valid,\n",
    "             log_prob_preds[:,1],200,debt_test,\n",
    "             lgd=0.5)"
   ]
  },
  {
   "cell_type": "code",
   "execution_count": null,
   "metadata": {
    "scrolled": false
   },
   "outputs": [],
   "source": [
    "confusion_matrix(target_valid,log_preds)"
   ]
  },
  {
   "cell_type": "code",
   "execution_count": null,
   "metadata": {},
   "outputs": [],
   "source": [
    "new_list_preds = [1 if i > 0.59 else 0 for i in log_prob_preds[:,1] ]"
   ]
  },
  {
   "cell_type": "code",
   "execution_count": null,
   "metadata": {},
   "outputs": [],
   "source": [
    "confusion_matrix(target_valid,(log_prob_preds[:,1]>0.59)*1.)"
   ]
  },
  {
   "cell_type": "code",
   "execution_count": null,
   "metadata": {
    "scrolled": true
   },
   "outputs": [],
   "source": [
    "target_valid.value_counts()"
   ]
  },
  {
   "cell_type": "code",
   "execution_count": 114,
   "metadata": {},
   "outputs": [],
   "source": [
    "log_preds_test = search.predict(design_test)\n",
    "log_preds_test_proba = search.predict_proba(design_test)"
   ]
  },
  {
   "cell_type": "code",
   "execution_count": 115,
   "metadata": {},
   "outputs": [
    {
     "name": "stdout",
     "output_type": "stream",
     "text": [
      "Best f1: 0.5202169981916818, threshold: 0.4918191994009392\n",
      "Best accuracy: 0.9366476448399265, threshold: 0.956529919032655\n"
     ]
    },
    {
     "data": {
      "image/png": "[encoded data removed]",
      "text/plain": [
       "<Figure size 720x360 with 1 Axes>"
      ]
     },
     "metadata": {
      "needs_background": "light"
     },
     "output_type": "display_data"
    }
   ],
   "source": [
    "best_threshold(target_test,log_preds_test_proba[:,1],\"Logres\",beta=2.5)"
   ]
  },
  {
   "cell_type": "markdown",
   "metadata": {},
   "source": [
    "## Произведем расчет кредитного риска"
   ]
  },
  {
   "cell_type": "code",
   "execution_count": 116,
   "metadata": {
    "scrolled": true
   },
   "outputs": [
    {
     "name": "stdout",
     "output_type": "stream",
     "text": [
      "gini 0.66\n",
      "max benefit 142216528.91770393\n",
      "best_threshold 0.5829145728643216\n"
     ]
    },
    {
     "data": {
      "image/png": "[encoded data removed]",
      "text/plain": [
       "<Figure size 1440x360 with 1 Axes>"
      ]
     },
     "metadata": {
      "needs_background": "light"
     },
     "output_type": "display_data"
    }
   ],
   "source": [
    "benefit_plot(design_test,target_test,\n",
    "             log_preds_test_proba[:,1],200,debt_test,lgd=0.5)"
   ]
  },
  {
   "cell_type": "code",
   "execution_count": null,
   "metadata": {
    "scrolled": true
   },
   "outputs": [],
   "source": [
    "# for lab in design_train.columns:\n",
    "#     # Create the data that we will plot\n",
    "#     pdp_goals = pdp.pdp_isolate(model=search,\n",
    "#                                 dataset=design_train,\n",
    "#                                 model_features=design_train.columns,\n",
    "#                                 feature=lab)\n",
    "#     # plot it\n",
    "#     pdp.pdp_plot(pdp_goals, lab)\n",
    "#     plt.show()"
   ]
  },
  {
   "cell_type": "markdown",
   "metadata": {},
   "source": [
    "## Baseline model"
   ]
  },
  {
   "cell_type": "code",
   "execution_count": 118,
   "metadata": {},
   "outputs": [],
   "source": [
    "dummy_clf = DummyClassifier(strategy=\"uniform\")"
   ]
  },
  {
   "cell_type": "code",
   "execution_count": 119,
   "metadata": {},
   "outputs": [
    {
     "data": {
      "text/plain": [
       "DummyClassifier(strategy='uniform')"
      ]
     },
     "execution_count": 119,
     "metadata": {},
     "output_type": "execute_result"
    }
   ],
   "source": [
    "dummy_clf.fit(design_train,target_train)"
   ]
  },
  {
   "cell_type": "code",
   "execution_count": 120,
   "metadata": {},
   "outputs": [],
   "source": [
    "preds_test_base = dummy_clf.predict(design_test)\n",
    "preds_test_proba_base = dummy_clf.predict_proba(design_test)"
   ]
  },
  {
   "cell_type": "code",
   "execution_count": 121,
   "metadata": {},
   "outputs": [
    {
     "name": "stdout",
     "output_type": "stream",
     "text": [
      "Best f1: 0, threshold: -1\n",
      "Best accuracy: 0.933649289099526, threshold: 1.5\n"
     ]
    },
    {
     "data": {
      "image/png": "[encoded data removed]",
      "text/plain": [
       "<Figure size 720x360 with 1 Axes>"
      ]
     },
     "metadata": {
      "needs_background": "light"
     },
     "output_type": "display_data"
    }
   ],
   "source": [
    "best_threshold(target_test,preds_test_proba_base[:,1],\"Base\",beta=2.5)"
   ]
  },
  {
   "cell_type": "code",
   "execution_count": 123,
   "metadata": {},
   "outputs": [
    {
     "name": "stdout",
     "output_type": "stream",
     "text": [
      "gini 0.0\n",
      "max benefit 69592586.60950604\n",
      "best_threshold 0.5025125628140703\n"
     ]
    },
    {
     "data": {
      "image/png": "[encoded data removed]",
      "text/plain": [
       "<Figure size 1440x360 with 1 Axes>"
      ]
     },
     "metadata": {
      "needs_background": "light"
     },
     "output_type": "display_data"
    }
   ],
   "source": [
    "benefit_plot(design_test,target_test,\n",
    "             preds_test_proba_base[:,1],200,debt_test,lgd=0.5)"
   ]
  },
  {
   "cell_type": "markdown",
   "metadata": {},
   "source": [
    "# Тест"
   ]
  },
  {
   "cell_type": "markdown",
   "metadata": {},
   "source": [
    "## Тест 1"
   ]
  },
  {
   "cell_type": "code",
   "execution_count": null,
   "metadata": {
    "scrolled": true
   },
   "outputs": [],
   "source": [
    "get_gini(target_valid,log_prob_preds[:,1])"
   ]
  },
  {
   "cell_type": "markdown",
   "metadata": {},
   "source": [
    "## Тест 2"
   ]
  },
  {
   "cell_type": "code",
   "execution_count": null,
   "metadata": {},
   "outputs": [],
   "source": [
    "second_test = design_test.merge(target_test, on='id')\n",
    "second_test['proba'] = log_preds_test_proba[:,1]"
   ]
  },
  {
   "cell_type": "code",
   "execution_count": null,
   "metadata": {
    "scrolled": true
   },
   "outputs": [],
   "source": [
    "frac_df = pd.DataFrame(columns = ['name','gini'])\n",
    "count = 0\n",
    "labels = ['financial_state_rate_(-0.001, 0.00405]',\n",
    "       'financial_state_rate_(0.00405, 0.0218]',\n",
    "       'financial_state_rate_(0.0218, 0.0485]',\n",
    "       'financial_state_rate_(0.0485, 0.094]',\n",
    "       'financial_state_rate_(0.094, 0.172]',\n",
    "       'financial_state_rate_(0.172, 0.294]',\n",
    "       'financial_state_rate_(0.294, 0.465]',\n",
    "       'financial_state_rate_(0.465, 0.705]',\n",
    "       'financial_state_rate_(0.705, 0.971]',\n",
    "       'financial_state_rate_(0.971, 1.0]', 'age_(20.999, 33.0]',\n",
    "       'age_(33.0, 40.0]', 'age_(40.0, 45.0]', 'age_(45.0, 50.0]',\n",
    "       'age_(50.0, 56.0]', 'age_(56.0, 61.0]', 'age_(61.0, 69.0]',\n",
    "       'age_(69.0, 103.0]']\n",
    "for label in tqdm(labels):\n",
    "        second_test_target = second_test[second_test[label]== 1][\"serious_loan\"]\n",
    "        second_test_proba = second_test[second_test[label]== 1][\"proba\"]\n",
    "        gini = get_gini(second_test_target,second_test_proba)\n",
    "        frac_df.loc[count,'name'] = label\n",
    "        frac_df.loc[count,'gini'] = gini\n",
    "        count += 1     \n",
    "frac_df  = frac_df.set_index(\"name\")"
   ]
  },
  {
   "cell_type": "code",
   "execution_count": null,
   "metadata": {},
   "outputs": [],
   "source": [
    "def highlight_max(s):\n",
    "    '''\n",
    "    highlight the maximum in a Series yellow.\n",
    "    '''\n",
    "    res = []\n",
    "    for v in s:\n",
    "        if v > 0.35:\n",
    "            res += ['background-color: green']\n",
    "        elif v > 0.25:\n",
    "            res += ['background-color: yellow']\n",
    "        else:\n",
    "            res += ['background-color: red']\n",
    "    return res"
   ]
  },
  {
   "cell_type": "code",
   "execution_count": null,
   "metadata": {},
   "outputs": [],
   "source": [
    "frac_df.style.apply(highlight_max,axis=0)"
   ]
  }
 ],
 "metadata": {
  "kernelspec": {
   "display_name": "Python 3",
   "language": "python",
   "name": "python3"
  },
  "language_info": {
   "codemirror_mode": {
    "name": "ipython",
    "version": 3
   },
   "file_extension": ".py",
   "mimetype": "text/x-python",
   "name": "python",
   "nbconvert_exporter": "python",
   "pygments_lexer": "ipython3",
   "version": "3.8.3"
  },
  "toc": {
   "base_numbering": 1,
   "nav_menu": {},
   "number_sections": true,
   "sideBar": true,
   "skip_h1_title": false,
   "title_cell": "Содержание",
   "title_sidebar": "Contents",
   "toc_cell": true,
   "toc_position": {
    "height": "429.71429443359375px",
    "left": "82px",
    "top": "93.85713958740234px",
    "width": "212px"
   },
   "toc_section_display": true,
   "toc_window_display": true
  }
 },
 "nbformat": 4,
 "nbformat_minor": 4
}
