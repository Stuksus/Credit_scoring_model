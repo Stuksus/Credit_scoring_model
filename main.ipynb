{
 "cells": [
  {
   "cell_type": "markdown",
   "metadata": {
    "toc": true
   },
   "source": [
    "<h1>Содержание<span class=\"tocSkip\"></span></h1>\n",
    "<div class=\"toc\"><ul class=\"toc-item\"><li><span><a href=\"#Импорт-библиотек\" data-toc-modified-id=\"Импорт-библиотек-1\"><span class=\"toc-item-num\">1&nbsp;&nbsp;</span>Импорт библиотек</a></span></li><li><span><a href=\"#Дополнительные-функции\" data-toc-modified-id=\"Дополнительные-функции-2\"><span class=\"toc-item-num\">2&nbsp;&nbsp;</span>Дополнительные функции</a></span><ul class=\"toc-item\"><li><span><a href=\"#Процедура-вывода-краткой-информации-о-таблице\" data-toc-modified-id=\"Процедура-вывода-краткой-информации-о-таблице-2.1\"><span class=\"toc-item-num\">2.1&nbsp;&nbsp;</span>Процедура вывода краткой информации о таблице</a></span></li></ul></li><li><span><a href=\"#Загрузка-данных\" data-toc-modified-id=\"Загрузка-данных-3\"><span class=\"toc-item-num\">3&nbsp;&nbsp;</span>Загрузка данных</a></span><ul class=\"toc-item\"><li><span><a href=\"#Посмотрим-все-фалы-в-нашем-распоряжении\" data-toc-modified-id=\"Посмотрим-все-фалы-в-нашем-распоряжении-3.1\"><span class=\"toc-item-num\">3.1&nbsp;&nbsp;</span>Посмотрим все фалы в нашем распоряжении</a></span><ul class=\"toc-item\"><li><span><a href=\"#data-dict\" data-toc-modified-id=\"data-dict-3.1.1\"><span class=\"toc-item-num\">3.1.1&nbsp;&nbsp;</span>data-dict</a></span><ul class=\"toc-item\"><li><span><a href=\"#Вывод:\" data-toc-modified-id=\"Вывод:-3.1.1.1\"><span class=\"toc-item-num\">3.1.1.1&nbsp;&nbsp;</span>Вывод:</a></span></li></ul></li><li><span><a href=\"#sampleEntry\" data-toc-modified-id=\"sampleEntry-3.1.2\"><span class=\"toc-item-num\">3.1.2&nbsp;&nbsp;</span>sampleEntry</a></span><ul class=\"toc-item\"><li><span><a href=\"#Вывод:\" data-toc-modified-id=\"Вывод:-3.1.2.1\"><span class=\"toc-item-num\">3.1.2.1&nbsp;&nbsp;</span>Вывод:</a></span></li></ul></li><li><span><a href=\"#cs-test\" data-toc-modified-id=\"cs-test-3.1.3\"><span class=\"toc-item-num\">3.1.3&nbsp;&nbsp;</span>cs-test</a></span><ul class=\"toc-item\"><li><span><a href=\"#Выводы\" data-toc-modified-id=\"Выводы-3.1.3.1\"><span class=\"toc-item-num\">3.1.3.1&nbsp;&nbsp;</span>Выводы</a></span></li></ul></li><li><span><a href=\"#cs-training\" data-toc-modified-id=\"cs-training-3.1.4\"><span class=\"toc-item-num\">3.1.4&nbsp;&nbsp;</span>cs-training</a></span><ul class=\"toc-item\"><li><span><a href=\"#Выводы\" data-toc-modified-id=\"Выводы-3.1.4.1\"><span class=\"toc-item-num\">3.1.4.1&nbsp;&nbsp;</span>Выводы</a></span></li></ul></li></ul></li><li><span><a href=\"#Выводы\" data-toc-modified-id=\"Выводы-3.2\"><span class=\"toc-item-num\">3.2&nbsp;&nbsp;</span>Выводы</a></span></li></ul></li><li><span><a href=\"#Анализ-данных\" data-toc-modified-id=\"Анализ-данных-4\"><span class=\"toc-item-num\">4&nbsp;&nbsp;</span>Анализ данных</a></span><ul class=\"toc-item\"><li><span><a href=\"#Анализ-параметра-serious_loan\" data-toc-modified-id=\"Анализ-параметра-serious_loan-4.1\"><span class=\"toc-item-num\">4.1&nbsp;&nbsp;</span>Анализ параметра serious_loan</a></span></li><li><span><a href=\"#Анализ-параметра-age\" data-toc-modified-id=\"Анализ-параметра-age-4.2\"><span class=\"toc-item-num\">4.2&nbsp;&nbsp;</span>Анализ параметра age</a></span></li><li><span><a href=\"#Анализ-параметра-financial_state_rate\" data-toc-modified-id=\"Анализ-параметра-financial_state_rate-4.3\"><span class=\"toc-item-num\">4.3&nbsp;&nbsp;</span>Анализ параметра financial_state_rate</a></span></li><li><span><a href=\"#Анализ-параметра-count_of_small_past_due\" data-toc-modified-id=\"Анализ-параметра-count_of_small_past_due-4.4\"><span class=\"toc-item-num\">4.4&nbsp;&nbsp;</span>Анализ параметра count_of_small_past_due</a></span></li><li><span><a href=\"#Анализ-параметра-debt_ratio\" data-toc-modified-id=\"Анализ-параметра-debt_ratio-4.5\"><span class=\"toc-item-num\">4.5&nbsp;&nbsp;</span>Анализ параметра debt_ratio</a></span></li><li><span><a href=\"#Анализ-параметра-monthly_income\" data-toc-modified-id=\"Анализ-параметра-monthly_income-4.6\"><span class=\"toc-item-num\">4.6&nbsp;&nbsp;</span>Анализ параметра monthly_income</a></span></li><li><span><a href=\"#Анализ-параметра-number_of_credit_lines\" data-toc-modified-id=\"Анализ-параметра-number_of_credit_lines-4.7\"><span class=\"toc-item-num\">4.7&nbsp;&nbsp;</span>Анализ параметра number_of_credit_lines</a></span></li><li><span><a href=\"#Анализ-параметра-count_of_big_past_due\" data-toc-modified-id=\"Анализ-параметра-count_of_big_past_due-4.8\"><span class=\"toc-item-num\">4.8&nbsp;&nbsp;</span>Анализ параметра count_of_big_past_due</a></span></li><li><span><a href=\"#Анализ-параметра-number_of_estate_loans\" data-toc-modified-id=\"Анализ-параметра-number_of_estate_loans-4.9\"><span class=\"toc-item-num\">4.9&nbsp;&nbsp;</span>Анализ параметра number_of_estate_loans</a></span></li><li><span><a href=\"#Анализ-параметра-count_of_medium_past_due\" data-toc-modified-id=\"Анализ-параметра-count_of_medium_past_due-4.10\"><span class=\"toc-item-num\">4.10&nbsp;&nbsp;</span>Анализ параметра count_of_medium_past_due</a></span></li><li><span><a href=\"#Анализ-параметра-number_of_dependents\" data-toc-modified-id=\"Анализ-параметра-number_of_dependents-4.11\"><span class=\"toc-item-num\">4.11&nbsp;&nbsp;</span>Анализ параметра number_of_dependents</a></span></li><li><span><a href=\"#Проверка-на-дубликаты\" data-toc-modified-id=\"Проверка-на-дубликаты-4.12\"><span class=\"toc-item-num\">4.12&nbsp;&nbsp;</span>Проверка на дубликаты</a></span></li><li><span><a href=\"#Посмотрим-на-выбросы\" data-toc-modified-id=\"Посмотрим-на-выбросы-4.13\"><span class=\"toc-item-num\">4.13&nbsp;&nbsp;</span>Посмотрим на выбросы</a></span></li><li><span><a href=\"#Теперь,-когда-выборка-обработана-перейдем-к-более-подробному-ее-разбору\" data-toc-modified-id=\"Теперь,-когда-выборка-обработана-перейдем-к-более-подробному-ее-разбору-4.14\"><span class=\"toc-item-num\">4.14&nbsp;&nbsp;</span>Теперь, когда выборка обработана перейдем к более подробному ее разбору</a></span></li></ul></li><li><span><a href=\"#Разделение-на-выборки\" data-toc-modified-id=\"Разделение-на-выборки-5\"><span class=\"toc-item-num\">5&nbsp;&nbsp;</span>Разделение на выборки</a></span></li><li><span><a href=\"#Обучение\" data-toc-modified-id=\"Обучение-6\"><span class=\"toc-item-num\">6&nbsp;&nbsp;</span>Обучение</a></span></li></ul></div>"
   ]
  },
  {
   "cell_type": "markdown",
   "metadata": {},
   "source": [
    "# Импорт библиотек \n"
   ]
  },
  {
   "cell_type": "code",
   "execution_count": 1,
   "metadata": {},
   "outputs": [],
   "source": [
    "import pandas as pd\n",
    "import numpy as np\n",
    "import matplotlib.pyplot as plt\n",
    "import seaborn as sns\n",
    "from sklearn.pipeline import make_pipeline\n",
    "from sklearn.preprocessing import StandardScaler\n",
    "from sklearn.model_selection import train_test_split\n",
    "from sklearn.model_selection import GridSearchCV\n",
    "from sklearn.svm import SVC\n",
    "from sklearn.ensemble import RandomForestClassifier\n",
    "from sklearn.linear_model import LogisticRegression\n",
    "from sklearn.metrics import auc\n",
    "from sklearn.metrics import roc_curve\n",
    "from sklearn.metrics import f1_score\n",
    "from sklearn.metrics import accuracy_score\n",
    "from catboost import CatBoostClassifier, Pool"
   ]
  },
  {
   "cell_type": "markdown",
   "metadata": {},
   "source": [
    "# Дополнительные функции"
   ]
  },
  {
   "cell_type": "markdown",
   "metadata": {},
   "source": [
    "## Процедура вывода краткой информации о таблице"
   ]
  },
  {
   "cell_type": "code",
   "execution_count": 2,
   "metadata": {},
   "outputs": [],
   "source": [
    "def get_info_start(frame):\n",
    "    \"\"\"\n",
    "    Процедура выводит краткую информацию о переданной таблице\n",
    "    \"\"\"\n",
    "    # Размер таблицы\n",
    "    print(\"Размеры данных: \",frame.shape)\n",
    "    # Имена столбцов\n",
    "    print(\"Имена столбцов: \",frame.columns.values)\n",
    "    # Отображение первых пяти строк таблицы\n",
    "    display(frame.head())\n",
    "    \n",
    "def removing_outliers(column,frame, count = 0,total_outliers = 0):\n",
    "        \"\"\"\n",
    "        Метод удаления выбросов с помощью межквартильного размаха\n",
    "        \"\"\"\n",
    "        # Получим квантиль 25%\n",
    "        q25=np.array(frame[column].describe(percentiles=[.25,.75]).loc['25%'])\n",
    "        # Получим квантиль 75%\n",
    "        q75=np.array(frame[column].describe(percentiles=[.25,.75]).loc['75%'])\n",
    "        # Получим первую границу\n",
    "        first_part=q25-1.5*(q75-q25)\n",
    "        # Получим 2 границу\n",
    "        second_part=q75+1.5*(q75-q25)\n",
    "        # Инициализируем список для индексов, подготовленных к удалению\n",
    "        index_del= []\n",
    "        # Переберем все значения и проверим на принадлежность к установленному отрезку\n",
    "        for index, element in enumerate(frame[column]):\n",
    "            if first_part > element or second_part< element:\n",
    "                index_del.extend(frame[frame[column] == element].index)\n",
    "        index_del= list(set(index_del))\n",
    "        leng = len(index_del)\n",
    "        count += 1\n",
    "        \n",
    "        # Удалим выбранные индексы\n",
    "        frame = frame.drop(index_del,axis=0)\n",
    "        if leng > 0:\n",
    "            frame,leng,total_outliers = removing_outliers(column,frame, count,total_outliers+leng)\n",
    "        else:\n",
    "            print('Количество строк, выбранных для удаления {}: {}. Количество итераций {}'.format(column,total_outliers,count),end = \"\\n\\n\")\n",
    "        return frame,leng,total_outliers\n",
    "\n",
    "def best_threshold(target_vector,predictions,model_name):\n",
    "    # Первичное получение данных метрики ROC-кривой\n",
    "    fpr, tpr, thresholds = roc_curve(np.array(target_vector), predictions, pos_label=1)\n",
    "    best_accuracy = 0\n",
    "    best_f1 = 0\n",
    "    best_threshold = -1\n",
    "    best_threshold_f1 = -1\n",
    "    #Найдем площадь под кривой\n",
    "    auc_value = round(auc(fpr,tpr),2)\n",
    "    \n",
    "    #Если площадь будеть меньше 0.5, это означает, что нужно нужно вычесть каждую вероятность из 1\n",
    "    if auc_value < 0.5:\n",
    "        predictions = 1 - predictions\n",
    "        fpr, tpr, thresholds = roc_curve(np.array(target_vector), predictions.data.numpy(), pos_label=1)\n",
    "        auc_value = round(auc(fpr,tpr),2)\n",
    "        \n",
    "    # переберем все пороги в поисках наилучшей точности\n",
    "    for threshold in thresholds:\n",
    "        pre_marker = np.array(predictions > threshold)\n",
    "        accuracy = accuracy_score(target_vector,pre_marker)\n",
    "        if accuracy > best_accuracy:\n",
    "            best_accuracy = accuracy\n",
    "            best_threshold = threshold\n",
    "\n",
    "    for threshold in thresholds:\n",
    "        pre_marker = np.array(predictions > threshold)\n",
    "        f1_threshold = f1_score(target_vector,pre_marker)\n",
    "        if f1_threshold > best_f1:\n",
    "            best_f1 = f1_threshold\n",
    "            best_threshold_f1 = threshold\n",
    "            \n",
    "    #Построим ROC-кривую\n",
    "    fig,ax = plt.subplots(figsize= (10,5))\n",
    "    ax.plot(np.arange(0,1.1,0.1),np.arange(0,1.1,0.1),label = 'BaseLine',ls = '--')\n",
    "    ax.plot(fpr,\n",
    "            tpr,\n",
    "            label = f\"{model_name} (area = {auc_value}, best_accuracy = {best_accuracy}, best_f1 = {best_f1})\")\n",
    "    ax.legend()\n",
    "    ax.set_xlim((0,1))\n",
    "    ax.set_ylim((0,1))\n",
    "    print(\"Best f1: {}, threshold: {}\".format(best_f1,best_threshold_f1))\n",
    "    print(\"Best accuracy: {}, threshold: {}\".format(best_accuracy,best_threshold))"
   ]
  },
  {
   "cell_type": "markdown",
   "metadata": {},
   "source": [
    "# Загрузка данных"
   ]
  },
  {
   "cell_type": "markdown",
   "metadata": {},
   "source": [
    "## Посмотрим все фалы в нашем распоряжении"
   ]
  },
  {
   "cell_type": "code",
   "execution_count": 3,
   "metadata": {},
   "outputs": [
    {
     "name": "stdout",
     "output_type": "stream",
     "text": [
      "cs-test.csv     cs-training.csv data-dict.xls   sampleEntry.csv\r\n"
     ]
    }
   ],
   "source": [
    "!ls ./datasets"
   ]
  },
  {
   "cell_type": "markdown",
   "metadata": {},
   "source": [
    "Мне предоставлено 4 файла. Рассмотрим каждый из них"
   ]
  },
  {
   "cell_type": "markdown",
   "metadata": {},
   "source": [
    "### data-dict\n"
   ]
  },
  {
   "cell_type": "code",
   "execution_count": 4,
   "metadata": {},
   "outputs": [],
   "source": [
    "# укажем параметры header = 1, чтобы корректно отобразить заголовки столбцов \n",
    "data_dict = pd.read_excel('./datasets/data-dict.xls',header=1)"
   ]
  },
  {
   "cell_type": "code",
   "execution_count": 5,
   "metadata": {
    "scrolled": true
   },
   "outputs": [
    {
     "name": "stdout",
     "output_type": "stream",
     "text": [
      "Размеры данных:  (11, 3)\n",
      "Имена столбцов:  ['Variable Name' 'Description' 'Type']\n"
     ]
    },
    {
     "data": {
      "text/html": [
       "<div>\n",
       "<style scoped>\n",
       "    .dataframe tbody tr th:only-of-type {\n",
       "        vertical-align: middle;\n",
       "    }\n",
       "\n",
       "    .dataframe tbody tr th {\n",
       "        vertical-align: top;\n",
       "    }\n",
       "\n",
       "    .dataframe thead th {\n",
       "        text-align: right;\n",
       "    }\n",
       "</style>\n",
       "<table border=\"1\" class=\"dataframe\">\n",
       "  <thead>\n",
       "    <tr style=\"text-align: right;\">\n",
       "      <th></th>\n",
       "      <th>Variable Name</th>\n",
       "      <th>Description</th>\n",
       "      <th>Type</th>\n",
       "    </tr>\n",
       "  </thead>\n",
       "  <tbody>\n",
       "    <tr>\n",
       "      <th>0</th>\n",
       "      <td>SeriousDlqin2yrs</td>\n",
       "      <td>Person experienced 90 days past due delinquenc...</td>\n",
       "      <td>Y/N</td>\n",
       "    </tr>\n",
       "    <tr>\n",
       "      <th>1</th>\n",
       "      <td>RevolvingUtilizationOfUnsecuredLines</td>\n",
       "      <td>Total balance on credit cards and personal lin...</td>\n",
       "      <td>percentage</td>\n",
       "    </tr>\n",
       "    <tr>\n",
       "      <th>2</th>\n",
       "      <td>age</td>\n",
       "      <td>Age of borrower in years</td>\n",
       "      <td>integer</td>\n",
       "    </tr>\n",
       "    <tr>\n",
       "      <th>3</th>\n",
       "      <td>NumberOfTime30-59DaysPastDueNotWorse</td>\n",
       "      <td>Number of times borrower has been 30-59 days p...</td>\n",
       "      <td>integer</td>\n",
       "    </tr>\n",
       "    <tr>\n",
       "      <th>4</th>\n",
       "      <td>DebtRatio</td>\n",
       "      <td>Monthly debt payments, alimony,living costs di...</td>\n",
       "      <td>percentage</td>\n",
       "    </tr>\n",
       "  </tbody>\n",
       "</table>\n",
       "</div>"
      ],
      "text/plain": [
       "                          Variable Name  \\\n",
       "0                      SeriousDlqin2yrs   \n",
       "1  RevolvingUtilizationOfUnsecuredLines   \n",
       "2                                   age   \n",
       "3  NumberOfTime30-59DaysPastDueNotWorse   \n",
       "4                             DebtRatio   \n",
       "\n",
       "                                         Description        Type  \n",
       "0  Person experienced 90 days past due delinquenc...         Y/N  \n",
       "1  Total balance on credit cards and personal lin...  percentage  \n",
       "2                           Age of borrower in years     integer  \n",
       "3  Number of times borrower has been 30-59 days p...     integer  \n",
       "4  Monthly debt payments, alimony,living costs di...  percentage  "
      ]
     },
     "metadata": {},
     "output_type": "display_data"
    }
   ],
   "source": [
    "get_info_start(data_dict)"
   ]
  },
  {
   "cell_type": "markdown",
   "metadata": {},
   "source": [
    "В данной таблице 3 столбца и 11 строк. Выведем их все"
   ]
  },
  {
   "cell_type": "code",
   "execution_count": 6,
   "metadata": {},
   "outputs": [
    {
     "data": {
      "text/html": [
       "<div>\n",
       "<style scoped>\n",
       "    .dataframe tbody tr th:only-of-type {\n",
       "        vertical-align: middle;\n",
       "    }\n",
       "\n",
       "    .dataframe tbody tr th {\n",
       "        vertical-align: top;\n",
       "    }\n",
       "\n",
       "    .dataframe thead th {\n",
       "        text-align: right;\n",
       "    }\n",
       "</style>\n",
       "<table border=\"1\" class=\"dataframe\">\n",
       "  <thead>\n",
       "    <tr style=\"text-align: right;\">\n",
       "      <th></th>\n",
       "      <th>Variable Name</th>\n",
       "      <th>Description</th>\n",
       "      <th>Type</th>\n",
       "    </tr>\n",
       "  </thead>\n",
       "  <tbody>\n",
       "    <tr>\n",
       "      <th>0</th>\n",
       "      <td>SeriousDlqin2yrs</td>\n",
       "      <td>Person experienced 90 days past due delinquenc...</td>\n",
       "      <td>Y/N</td>\n",
       "    </tr>\n",
       "    <tr>\n",
       "      <th>1</th>\n",
       "      <td>RevolvingUtilizationOfUnsecuredLines</td>\n",
       "      <td>Total balance on credit cards and personal lin...</td>\n",
       "      <td>percentage</td>\n",
       "    </tr>\n",
       "    <tr>\n",
       "      <th>2</th>\n",
       "      <td>age</td>\n",
       "      <td>Age of borrower in years</td>\n",
       "      <td>integer</td>\n",
       "    </tr>\n",
       "    <tr>\n",
       "      <th>3</th>\n",
       "      <td>NumberOfTime30-59DaysPastDueNotWorse</td>\n",
       "      <td>Number of times borrower has been 30-59 days p...</td>\n",
       "      <td>integer</td>\n",
       "    </tr>\n",
       "    <tr>\n",
       "      <th>4</th>\n",
       "      <td>DebtRatio</td>\n",
       "      <td>Monthly debt payments, alimony,living costs di...</td>\n",
       "      <td>percentage</td>\n",
       "    </tr>\n",
       "    <tr>\n",
       "      <th>5</th>\n",
       "      <td>MonthlyIncome</td>\n",
       "      <td>Monthly income</td>\n",
       "      <td>real</td>\n",
       "    </tr>\n",
       "    <tr>\n",
       "      <th>6</th>\n",
       "      <td>NumberOfOpenCreditLinesAndLoans</td>\n",
       "      <td>Number of Open loans (installment like car loa...</td>\n",
       "      <td>integer</td>\n",
       "    </tr>\n",
       "    <tr>\n",
       "      <th>7</th>\n",
       "      <td>NumberOfTimes90DaysLate</td>\n",
       "      <td>Number of times borrower has been 90 days or m...</td>\n",
       "      <td>integer</td>\n",
       "    </tr>\n",
       "    <tr>\n",
       "      <th>8</th>\n",
       "      <td>NumberRealEstateLoansOrLines</td>\n",
       "      <td>Number of mortgage and real estate loans inclu...</td>\n",
       "      <td>integer</td>\n",
       "    </tr>\n",
       "    <tr>\n",
       "      <th>9</th>\n",
       "      <td>NumberOfTime60-89DaysPastDueNotWorse</td>\n",
       "      <td>Number of times borrower has been 60-89 days p...</td>\n",
       "      <td>integer</td>\n",
       "    </tr>\n",
       "    <tr>\n",
       "      <th>10</th>\n",
       "      <td>NumberOfDependents</td>\n",
       "      <td>Number of dependents in family excluding thems...</td>\n",
       "      <td>integer</td>\n",
       "    </tr>\n",
       "  </tbody>\n",
       "</table>\n",
       "</div>"
      ],
      "text/plain": [
       "                           Variable Name  \\\n",
       "0                       SeriousDlqin2yrs   \n",
       "1   RevolvingUtilizationOfUnsecuredLines   \n",
       "2                                    age   \n",
       "3   NumberOfTime30-59DaysPastDueNotWorse   \n",
       "4                              DebtRatio   \n",
       "5                          MonthlyIncome   \n",
       "6        NumberOfOpenCreditLinesAndLoans   \n",
       "7                NumberOfTimes90DaysLate   \n",
       "8           NumberRealEstateLoansOrLines   \n",
       "9   NumberOfTime60-89DaysPastDueNotWorse   \n",
       "10                    NumberOfDependents   \n",
       "\n",
       "                                          Description        Type  \n",
       "0   Person experienced 90 days past due delinquenc...         Y/N  \n",
       "1   Total balance on credit cards and personal lin...  percentage  \n",
       "2                            Age of borrower in years     integer  \n",
       "3   Number of times borrower has been 30-59 days p...     integer  \n",
       "4   Monthly debt payments, alimony,living costs di...  percentage  \n",
       "5                                      Monthly income        real  \n",
       "6   Number of Open loans (installment like car loa...     integer  \n",
       "7   Number of times borrower has been 90 days or m...     integer  \n",
       "8   Number of mortgage and real estate loans inclu...     integer  \n",
       "9   Number of times borrower has been 60-89 days p...     integer  \n",
       "10  Number of dependents in family excluding thems...     integer  "
      ]
     },
     "execution_count": 6,
     "metadata": {},
     "output_type": "execute_result"
    }
   ],
   "source": [
    "data_dict"
   ]
  },
  {
   "cell_type": "markdown",
   "metadata": {},
   "source": [
    "#### Вывод: \n",
    "В данной таблице указаны имена переменных, их описание и тип"
   ]
  },
  {
   "cell_type": "markdown",
   "metadata": {},
   "source": [
    "### sampleEntry"
   ]
  },
  {
   "cell_type": "code",
   "execution_count": 7,
   "metadata": {},
   "outputs": [],
   "source": [
    "sampleEntry = pd.read_csv('./datasets/sampleEntry.csv')"
   ]
  },
  {
   "cell_type": "code",
   "execution_count": 8,
   "metadata": {},
   "outputs": [
    {
     "name": "stdout",
     "output_type": "stream",
     "text": [
      "Размеры данных:  (101503, 2)\n",
      "Имена столбцов:  ['Id' 'Probability']\n"
     ]
    },
    {
     "data": {
      "text/html": [
       "<div>\n",
       "<style scoped>\n",
       "    .dataframe tbody tr th:only-of-type {\n",
       "        vertical-align: middle;\n",
       "    }\n",
       "\n",
       "    .dataframe tbody tr th {\n",
       "        vertical-align: top;\n",
       "    }\n",
       "\n",
       "    .dataframe thead th {\n",
       "        text-align: right;\n",
       "    }\n",
       "</style>\n",
       "<table border=\"1\" class=\"dataframe\">\n",
       "  <thead>\n",
       "    <tr style=\"text-align: right;\">\n",
       "      <th></th>\n",
       "      <th>Id</th>\n",
       "      <th>Probability</th>\n",
       "    </tr>\n",
       "  </thead>\n",
       "  <tbody>\n",
       "    <tr>\n",
       "      <th>0</th>\n",
       "      <td>1</td>\n",
       "      <td>0.080807</td>\n",
       "    </tr>\n",
       "    <tr>\n",
       "      <th>1</th>\n",
       "      <td>2</td>\n",
       "      <td>0.040719</td>\n",
       "    </tr>\n",
       "    <tr>\n",
       "      <th>2</th>\n",
       "      <td>3</td>\n",
       "      <td>0.011968</td>\n",
       "    </tr>\n",
       "    <tr>\n",
       "      <th>3</th>\n",
       "      <td>4</td>\n",
       "      <td>0.067640</td>\n",
       "    </tr>\n",
       "    <tr>\n",
       "      <th>4</th>\n",
       "      <td>5</td>\n",
       "      <td>0.108264</td>\n",
       "    </tr>\n",
       "  </tbody>\n",
       "</table>\n",
       "</div>"
      ],
      "text/plain": [
       "   Id  Probability\n",
       "0   1     0.080807\n",
       "1   2     0.040719\n",
       "2   3     0.011968\n",
       "3   4     0.067640\n",
       "4   5     0.108264"
      ]
     },
     "metadata": {},
     "output_type": "display_data"
    }
   ],
   "source": [
    "get_info_start(sampleEntry)"
   ]
  },
  {
   "cell_type": "markdown",
   "metadata": {},
   "source": [
    "#### Вывод:\n",
    "Основываясь на полученных выше параметрах можно заключить, что в данной таблице храниться пример сабмита. В дальнейшем эта таблица нам не понадобиться, поэтому ее можно удалить"
   ]
  },
  {
   "cell_type": "code",
   "execution_count": 9,
   "metadata": {},
   "outputs": [],
   "source": [
    "del sampleEntry"
   ]
  },
  {
   "cell_type": "markdown",
   "metadata": {},
   "source": [
    "### cs-test"
   ]
  },
  {
   "cell_type": "code",
   "execution_count": 10,
   "metadata": {},
   "outputs": [],
   "source": [
    "cs_test = pd.read_csv(\"./datasets/cs-test.csv\")"
   ]
  },
  {
   "cell_type": "code",
   "execution_count": 11,
   "metadata": {},
   "outputs": [
    {
     "name": "stdout",
     "output_type": "stream",
     "text": [
      "Размеры данных:  (101503, 12)\n",
      "Имена столбцов:  ['Unnamed: 0' 'SeriousDlqin2yrs' 'RevolvingUtilizationOfUnsecuredLines'\n",
      " 'age' 'NumberOfTime30-59DaysPastDueNotWorse' 'DebtRatio' 'MonthlyIncome'\n",
      " 'NumberOfOpenCreditLinesAndLoans' 'NumberOfTimes90DaysLate'\n",
      " 'NumberRealEstateLoansOrLines' 'NumberOfTime60-89DaysPastDueNotWorse'\n",
      " 'NumberOfDependents']\n"
     ]
    },
    {
     "data": {
      "text/html": [
       "<div>\n",
       "<style scoped>\n",
       "    .dataframe tbody tr th:only-of-type {\n",
       "        vertical-align: middle;\n",
       "    }\n",
       "\n",
       "    .dataframe tbody tr th {\n",
       "        vertical-align: top;\n",
       "    }\n",
       "\n",
       "    .dataframe thead th {\n",
       "        text-align: right;\n",
       "    }\n",
       "</style>\n",
       "<table border=\"1\" class=\"dataframe\">\n",
       "  <thead>\n",
       "    <tr style=\"text-align: right;\">\n",
       "      <th></th>\n",
       "      <th>Unnamed: 0</th>\n",
       "      <th>SeriousDlqin2yrs</th>\n",
       "      <th>RevolvingUtilizationOfUnsecuredLines</th>\n",
       "      <th>age</th>\n",
       "      <th>NumberOfTime30-59DaysPastDueNotWorse</th>\n",
       "      <th>DebtRatio</th>\n",
       "      <th>MonthlyIncome</th>\n",
       "      <th>NumberOfOpenCreditLinesAndLoans</th>\n",
       "      <th>NumberOfTimes90DaysLate</th>\n",
       "      <th>NumberRealEstateLoansOrLines</th>\n",
       "      <th>NumberOfTime60-89DaysPastDueNotWorse</th>\n",
       "      <th>NumberOfDependents</th>\n",
       "    </tr>\n",
       "  </thead>\n",
       "  <tbody>\n",
       "    <tr>\n",
       "      <th>0</th>\n",
       "      <td>1</td>\n",
       "      <td>NaN</td>\n",
       "      <td>0.885519</td>\n",
       "      <td>43</td>\n",
       "      <td>0</td>\n",
       "      <td>0.177513</td>\n",
       "      <td>5700.0</td>\n",
       "      <td>4</td>\n",
       "      <td>0</td>\n",
       "      <td>0</td>\n",
       "      <td>0</td>\n",
       "      <td>0.0</td>\n",
       "    </tr>\n",
       "    <tr>\n",
       "      <th>1</th>\n",
       "      <td>2</td>\n",
       "      <td>NaN</td>\n",
       "      <td>0.463295</td>\n",
       "      <td>57</td>\n",
       "      <td>0</td>\n",
       "      <td>0.527237</td>\n",
       "      <td>9141.0</td>\n",
       "      <td>15</td>\n",
       "      <td>0</td>\n",
       "      <td>4</td>\n",
       "      <td>0</td>\n",
       "      <td>2.0</td>\n",
       "    </tr>\n",
       "    <tr>\n",
       "      <th>2</th>\n",
       "      <td>3</td>\n",
       "      <td>NaN</td>\n",
       "      <td>0.043275</td>\n",
       "      <td>59</td>\n",
       "      <td>0</td>\n",
       "      <td>0.687648</td>\n",
       "      <td>5083.0</td>\n",
       "      <td>12</td>\n",
       "      <td>0</td>\n",
       "      <td>1</td>\n",
       "      <td>0</td>\n",
       "      <td>2.0</td>\n",
       "    </tr>\n",
       "    <tr>\n",
       "      <th>3</th>\n",
       "      <td>4</td>\n",
       "      <td>NaN</td>\n",
       "      <td>0.280308</td>\n",
       "      <td>38</td>\n",
       "      <td>1</td>\n",
       "      <td>0.925961</td>\n",
       "      <td>3200.0</td>\n",
       "      <td>7</td>\n",
       "      <td>0</td>\n",
       "      <td>2</td>\n",
       "      <td>0</td>\n",
       "      <td>0.0</td>\n",
       "    </tr>\n",
       "    <tr>\n",
       "      <th>4</th>\n",
       "      <td>5</td>\n",
       "      <td>NaN</td>\n",
       "      <td>1.000000</td>\n",
       "      <td>27</td>\n",
       "      <td>0</td>\n",
       "      <td>0.019917</td>\n",
       "      <td>3865.0</td>\n",
       "      <td>4</td>\n",
       "      <td>0</td>\n",
       "      <td>0</td>\n",
       "      <td>0</td>\n",
       "      <td>1.0</td>\n",
       "    </tr>\n",
       "  </tbody>\n",
       "</table>\n",
       "</div>"
      ],
      "text/plain": [
       "   Unnamed: 0  SeriousDlqin2yrs  RevolvingUtilizationOfUnsecuredLines  age  \\\n",
       "0           1               NaN                              0.885519   43   \n",
       "1           2               NaN                              0.463295   57   \n",
       "2           3               NaN                              0.043275   59   \n",
       "3           4               NaN                              0.280308   38   \n",
       "4           5               NaN                              1.000000   27   \n",
       "\n",
       "   NumberOfTime30-59DaysPastDueNotWorse  DebtRatio  MonthlyIncome  \\\n",
       "0                                     0   0.177513         5700.0   \n",
       "1                                     0   0.527237         9141.0   \n",
       "2                                     0   0.687648         5083.0   \n",
       "3                                     1   0.925961         3200.0   \n",
       "4                                     0   0.019917         3865.0   \n",
       "\n",
       "   NumberOfOpenCreditLinesAndLoans  NumberOfTimes90DaysLate  \\\n",
       "0                                4                        0   \n",
       "1                               15                        0   \n",
       "2                               12                        0   \n",
       "3                                7                        0   \n",
       "4                                4                        0   \n",
       "\n",
       "   NumberRealEstateLoansOrLines  NumberOfTime60-89DaysPastDueNotWorse  \\\n",
       "0                             0                                     0   \n",
       "1                             4                                     0   \n",
       "2                             1                                     0   \n",
       "3                             2                                     0   \n",
       "4                             0                                     0   \n",
       "\n",
       "   NumberOfDependents  \n",
       "0                 0.0  \n",
       "1                 2.0  \n",
       "2                 2.0  \n",
       "3                 0.0  \n",
       "4                 1.0  "
      ]
     },
     "metadata": {},
     "output_type": "display_data"
    }
   ],
   "source": [
    "get_info_start(cs_test)"
   ]
  },
  {
   "cell_type": "markdown",
   "metadata": {},
   "source": [
    "Можно заметить, что у нас присутствует неизвестный признак \"Unnamed: 0\", который вероятнее всего является id объекта. Наилучшим способом сохранить его и при этом не дать ему повлиять на качество дальнейшего обучение, это установить его как индекс строк в таблице."
   ]
  },
  {
   "cell_type": "code",
   "execution_count": 12,
   "metadata": {},
   "outputs": [],
   "source": [
    "cs_test = cs_test.set_index('Unnamed: 0')\n",
    "cs_test.index.name = 'id'"
   ]
  },
  {
   "cell_type": "markdown",
   "metadata": {},
   "source": [
    "Повторно отобразим данные после внесенных изменений"
   ]
  },
  {
   "cell_type": "code",
   "execution_count": 13,
   "metadata": {},
   "outputs": [
    {
     "name": "stdout",
     "output_type": "stream",
     "text": [
      "Размеры данных:  (101503, 11)\n",
      "Имена столбцов:  ['SeriousDlqin2yrs' 'RevolvingUtilizationOfUnsecuredLines' 'age'\n",
      " 'NumberOfTime30-59DaysPastDueNotWorse' 'DebtRatio' 'MonthlyIncome'\n",
      " 'NumberOfOpenCreditLinesAndLoans' 'NumberOfTimes90DaysLate'\n",
      " 'NumberRealEstateLoansOrLines' 'NumberOfTime60-89DaysPastDueNotWorse'\n",
      " 'NumberOfDependents']\n"
     ]
    },
    {
     "data": {
      "text/html": [
       "<div>\n",
       "<style scoped>\n",
       "    .dataframe tbody tr th:only-of-type {\n",
       "        vertical-align: middle;\n",
       "    }\n",
       "\n",
       "    .dataframe tbody tr th {\n",
       "        vertical-align: top;\n",
       "    }\n",
       "\n",
       "    .dataframe thead th {\n",
       "        text-align: right;\n",
       "    }\n",
       "</style>\n",
       "<table border=\"1\" class=\"dataframe\">\n",
       "  <thead>\n",
       "    <tr style=\"text-align: right;\">\n",
       "      <th></th>\n",
       "      <th>SeriousDlqin2yrs</th>\n",
       "      <th>RevolvingUtilizationOfUnsecuredLines</th>\n",
       "      <th>age</th>\n",
       "      <th>NumberOfTime30-59DaysPastDueNotWorse</th>\n",
       "      <th>DebtRatio</th>\n",
       "      <th>MonthlyIncome</th>\n",
       "      <th>NumberOfOpenCreditLinesAndLoans</th>\n",
       "      <th>NumberOfTimes90DaysLate</th>\n",
       "      <th>NumberRealEstateLoansOrLines</th>\n",
       "      <th>NumberOfTime60-89DaysPastDueNotWorse</th>\n",
       "      <th>NumberOfDependents</th>\n",
       "    </tr>\n",
       "    <tr>\n",
       "      <th>id</th>\n",
       "      <th></th>\n",
       "      <th></th>\n",
       "      <th></th>\n",
       "      <th></th>\n",
       "      <th></th>\n",
       "      <th></th>\n",
       "      <th></th>\n",
       "      <th></th>\n",
       "      <th></th>\n",
       "      <th></th>\n",
       "      <th></th>\n",
       "    </tr>\n",
       "  </thead>\n",
       "  <tbody>\n",
       "    <tr>\n",
       "      <th>1</th>\n",
       "      <td>NaN</td>\n",
       "      <td>0.885519</td>\n",
       "      <td>43</td>\n",
       "      <td>0</td>\n",
       "      <td>0.177513</td>\n",
       "      <td>5700.0</td>\n",
       "      <td>4</td>\n",
       "      <td>0</td>\n",
       "      <td>0</td>\n",
       "      <td>0</td>\n",
       "      <td>0.0</td>\n",
       "    </tr>\n",
       "    <tr>\n",
       "      <th>2</th>\n",
       "      <td>NaN</td>\n",
       "      <td>0.463295</td>\n",
       "      <td>57</td>\n",
       "      <td>0</td>\n",
       "      <td>0.527237</td>\n",
       "      <td>9141.0</td>\n",
       "      <td>15</td>\n",
       "      <td>0</td>\n",
       "      <td>4</td>\n",
       "      <td>0</td>\n",
       "      <td>2.0</td>\n",
       "    </tr>\n",
       "    <tr>\n",
       "      <th>3</th>\n",
       "      <td>NaN</td>\n",
       "      <td>0.043275</td>\n",
       "      <td>59</td>\n",
       "      <td>0</td>\n",
       "      <td>0.687648</td>\n",
       "      <td>5083.0</td>\n",
       "      <td>12</td>\n",
       "      <td>0</td>\n",
       "      <td>1</td>\n",
       "      <td>0</td>\n",
       "      <td>2.0</td>\n",
       "    </tr>\n",
       "    <tr>\n",
       "      <th>4</th>\n",
       "      <td>NaN</td>\n",
       "      <td>0.280308</td>\n",
       "      <td>38</td>\n",
       "      <td>1</td>\n",
       "      <td>0.925961</td>\n",
       "      <td>3200.0</td>\n",
       "      <td>7</td>\n",
       "      <td>0</td>\n",
       "      <td>2</td>\n",
       "      <td>0</td>\n",
       "      <td>0.0</td>\n",
       "    </tr>\n",
       "    <tr>\n",
       "      <th>5</th>\n",
       "      <td>NaN</td>\n",
       "      <td>1.000000</td>\n",
       "      <td>27</td>\n",
       "      <td>0</td>\n",
       "      <td>0.019917</td>\n",
       "      <td>3865.0</td>\n",
       "      <td>4</td>\n",
       "      <td>0</td>\n",
       "      <td>0</td>\n",
       "      <td>0</td>\n",
       "      <td>1.0</td>\n",
       "    </tr>\n",
       "  </tbody>\n",
       "</table>\n",
       "</div>"
      ],
      "text/plain": [
       "    SeriousDlqin2yrs  RevolvingUtilizationOfUnsecuredLines  age  \\\n",
       "id                                                                \n",
       "1                NaN                              0.885519   43   \n",
       "2                NaN                              0.463295   57   \n",
       "3                NaN                              0.043275   59   \n",
       "4                NaN                              0.280308   38   \n",
       "5                NaN                              1.000000   27   \n",
       "\n",
       "    NumberOfTime30-59DaysPastDueNotWorse  DebtRatio  MonthlyIncome  \\\n",
       "id                                                                   \n",
       "1                                      0   0.177513         5700.0   \n",
       "2                                      0   0.527237         9141.0   \n",
       "3                                      0   0.687648         5083.0   \n",
       "4                                      1   0.925961         3200.0   \n",
       "5                                      0   0.019917         3865.0   \n",
       "\n",
       "    NumberOfOpenCreditLinesAndLoans  NumberOfTimes90DaysLate  \\\n",
       "id                                                             \n",
       "1                                 4                        0   \n",
       "2                                15                        0   \n",
       "3                                12                        0   \n",
       "4                                 7                        0   \n",
       "5                                 4                        0   \n",
       "\n",
       "    NumberRealEstateLoansOrLines  NumberOfTime60-89DaysPastDueNotWorse  \\\n",
       "id                                                                       \n",
       "1                              0                                     0   \n",
       "2                              4                                     0   \n",
       "3                              1                                     0   \n",
       "4                              2                                     0   \n",
       "5                              0                                     0   \n",
       "\n",
       "    NumberOfDependents  \n",
       "id                      \n",
       "1                  0.0  \n",
       "2                  2.0  \n",
       "3                  2.0  \n",
       "4                  0.0  \n",
       "5                  1.0  "
      ]
     },
     "metadata": {},
     "output_type": "display_data"
    }
   ],
   "source": [
    "get_info_start(cs_test)"
   ]
  },
  {
   "cell_type": "markdown",
   "metadata": {},
   "source": [
    "По полученным данным видно, что названия столбцов содержаться в разных регистрах имеют не одну форму записи, это следует исправить. Кроме того, раз мы исправим названия столбцов, следует добавить новые в таблицу \"data-dict\", чтобы сохранить данные в ней актуальными "
   ]
  },
  {
   "cell_type": "code",
   "execution_count": 14,
   "metadata": {},
   "outputs": [],
   "source": [
    "# Исправим и переименуем столбцы\n",
    "cs_test.columns = ['serious_loan','financial_state_rate','age',\n",
    " 'count_of_small_past_due','debt_ratio','monthly_income',\n",
    " 'number_of_credit_lines', 'count_of_big_past_due',\n",
    " 'number_of_estate_loans', 'count_of_medium_past_due',\n",
    " 'number_of_dependents']\n",
    "#  Добавим новые названия в таблицу data-dict\n",
    "data_dict.insert(1,\"new_var_name\",cs_test.columns)"
   ]
  },
  {
   "cell_type": "markdown",
   "metadata": {},
   "source": [
    "Посмотрим что у нас получилось "
   ]
  },
  {
   "cell_type": "code",
   "execution_count": 15,
   "metadata": {},
   "outputs": [
    {
     "name": "stdout",
     "output_type": "stream",
     "text": [
      "Размеры данных:  (101503, 11)\n",
      "Имена столбцов:  ['serious_loan' 'financial_state_rate' 'age' 'count_of_small_past_due'\n",
      " 'debt_ratio' 'monthly_income' 'number_of_credit_lines'\n",
      " 'count_of_big_past_due' 'number_of_estate_loans'\n",
      " 'count_of_medium_past_due' 'number_of_dependents']\n"
     ]
    },
    {
     "data": {
      "text/html": [
       "<div>\n",
       "<style scoped>\n",
       "    .dataframe tbody tr th:only-of-type {\n",
       "        vertical-align: middle;\n",
       "    }\n",
       "\n",
       "    .dataframe tbody tr th {\n",
       "        vertical-align: top;\n",
       "    }\n",
       "\n",
       "    .dataframe thead th {\n",
       "        text-align: right;\n",
       "    }\n",
       "</style>\n",
       "<table border=\"1\" class=\"dataframe\">\n",
       "  <thead>\n",
       "    <tr style=\"text-align: right;\">\n",
       "      <th></th>\n",
       "      <th>serious_loan</th>\n",
       "      <th>financial_state_rate</th>\n",
       "      <th>age</th>\n",
       "      <th>count_of_small_past_due</th>\n",
       "      <th>debt_ratio</th>\n",
       "      <th>monthly_income</th>\n",
       "      <th>number_of_credit_lines</th>\n",
       "      <th>count_of_big_past_due</th>\n",
       "      <th>number_of_estate_loans</th>\n",
       "      <th>count_of_medium_past_due</th>\n",
       "      <th>number_of_dependents</th>\n",
       "    </tr>\n",
       "    <tr>\n",
       "      <th>id</th>\n",
       "      <th></th>\n",
       "      <th></th>\n",
       "      <th></th>\n",
       "      <th></th>\n",
       "      <th></th>\n",
       "      <th></th>\n",
       "      <th></th>\n",
       "      <th></th>\n",
       "      <th></th>\n",
       "      <th></th>\n",
       "      <th></th>\n",
       "    </tr>\n",
       "  </thead>\n",
       "  <tbody>\n",
       "    <tr>\n",
       "      <th>1</th>\n",
       "      <td>NaN</td>\n",
       "      <td>0.885519</td>\n",
       "      <td>43</td>\n",
       "      <td>0</td>\n",
       "      <td>0.177513</td>\n",
       "      <td>5700.0</td>\n",
       "      <td>4</td>\n",
       "      <td>0</td>\n",
       "      <td>0</td>\n",
       "      <td>0</td>\n",
       "      <td>0.0</td>\n",
       "    </tr>\n",
       "    <tr>\n",
       "      <th>2</th>\n",
       "      <td>NaN</td>\n",
       "      <td>0.463295</td>\n",
       "      <td>57</td>\n",
       "      <td>0</td>\n",
       "      <td>0.527237</td>\n",
       "      <td>9141.0</td>\n",
       "      <td>15</td>\n",
       "      <td>0</td>\n",
       "      <td>4</td>\n",
       "      <td>0</td>\n",
       "      <td>2.0</td>\n",
       "    </tr>\n",
       "    <tr>\n",
       "      <th>3</th>\n",
       "      <td>NaN</td>\n",
       "      <td>0.043275</td>\n",
       "      <td>59</td>\n",
       "      <td>0</td>\n",
       "      <td>0.687648</td>\n",
       "      <td>5083.0</td>\n",
       "      <td>12</td>\n",
       "      <td>0</td>\n",
       "      <td>1</td>\n",
       "      <td>0</td>\n",
       "      <td>2.0</td>\n",
       "    </tr>\n",
       "    <tr>\n",
       "      <th>4</th>\n",
       "      <td>NaN</td>\n",
       "      <td>0.280308</td>\n",
       "      <td>38</td>\n",
       "      <td>1</td>\n",
       "      <td>0.925961</td>\n",
       "      <td>3200.0</td>\n",
       "      <td>7</td>\n",
       "      <td>0</td>\n",
       "      <td>2</td>\n",
       "      <td>0</td>\n",
       "      <td>0.0</td>\n",
       "    </tr>\n",
       "    <tr>\n",
       "      <th>5</th>\n",
       "      <td>NaN</td>\n",
       "      <td>1.000000</td>\n",
       "      <td>27</td>\n",
       "      <td>0</td>\n",
       "      <td>0.019917</td>\n",
       "      <td>3865.0</td>\n",
       "      <td>4</td>\n",
       "      <td>0</td>\n",
       "      <td>0</td>\n",
       "      <td>0</td>\n",
       "      <td>1.0</td>\n",
       "    </tr>\n",
       "  </tbody>\n",
       "</table>\n",
       "</div>"
      ],
      "text/plain": [
       "    serious_loan  financial_state_rate  age  count_of_small_past_due  \\\n",
       "id                                                                     \n",
       "1            NaN              0.885519   43                        0   \n",
       "2            NaN              0.463295   57                        0   \n",
       "3            NaN              0.043275   59                        0   \n",
       "4            NaN              0.280308   38                        1   \n",
       "5            NaN              1.000000   27                        0   \n",
       "\n",
       "    debt_ratio  monthly_income  number_of_credit_lines  count_of_big_past_due  \\\n",
       "id                                                                              \n",
       "1     0.177513          5700.0                       4                      0   \n",
       "2     0.527237          9141.0                      15                      0   \n",
       "3     0.687648          5083.0                      12                      0   \n",
       "4     0.925961          3200.0                       7                      0   \n",
       "5     0.019917          3865.0                       4                      0   \n",
       "\n",
       "    number_of_estate_loans  count_of_medium_past_due  number_of_dependents  \n",
       "id                                                                          \n",
       "1                        0                         0                   0.0  \n",
       "2                        4                         0                   2.0  \n",
       "3                        1                         0                   2.0  \n",
       "4                        2                         0                   0.0  \n",
       "5                        0                         0                   1.0  "
      ]
     },
     "metadata": {},
     "output_type": "display_data"
    }
   ],
   "source": [
    "get_info_start(cs_test)"
   ]
  },
  {
   "cell_type": "code",
   "execution_count": 16,
   "metadata": {
    "scrolled": true
   },
   "outputs": [
    {
     "data": {
      "text/html": [
       "<div>\n",
       "<style scoped>\n",
       "    .dataframe tbody tr th:only-of-type {\n",
       "        vertical-align: middle;\n",
       "    }\n",
       "\n",
       "    .dataframe tbody tr th {\n",
       "        vertical-align: top;\n",
       "    }\n",
       "\n",
       "    .dataframe thead th {\n",
       "        text-align: right;\n",
       "    }\n",
       "</style>\n",
       "<table border=\"1\" class=\"dataframe\">\n",
       "  <thead>\n",
       "    <tr style=\"text-align: right;\">\n",
       "      <th></th>\n",
       "      <th>Variable Name</th>\n",
       "      <th>new_var_name</th>\n",
       "      <th>Description</th>\n",
       "      <th>Type</th>\n",
       "    </tr>\n",
       "  </thead>\n",
       "  <tbody>\n",
       "    <tr>\n",
       "      <th>0</th>\n",
       "      <td>SeriousDlqin2yrs</td>\n",
       "      <td>serious_loan</td>\n",
       "      <td>Person experienced 90 days past due delinquenc...</td>\n",
       "      <td>Y/N</td>\n",
       "    </tr>\n",
       "    <tr>\n",
       "      <th>1</th>\n",
       "      <td>RevolvingUtilizationOfUnsecuredLines</td>\n",
       "      <td>financial_state_rate</td>\n",
       "      <td>Total balance on credit cards and personal lin...</td>\n",
       "      <td>percentage</td>\n",
       "    </tr>\n",
       "    <tr>\n",
       "      <th>2</th>\n",
       "      <td>age</td>\n",
       "      <td>age</td>\n",
       "      <td>Age of borrower in years</td>\n",
       "      <td>integer</td>\n",
       "    </tr>\n",
       "    <tr>\n",
       "      <th>3</th>\n",
       "      <td>NumberOfTime30-59DaysPastDueNotWorse</td>\n",
       "      <td>count_of_small_past_due</td>\n",
       "      <td>Number of times borrower has been 30-59 days p...</td>\n",
       "      <td>integer</td>\n",
       "    </tr>\n",
       "    <tr>\n",
       "      <th>4</th>\n",
       "      <td>DebtRatio</td>\n",
       "      <td>debt_ratio</td>\n",
       "      <td>Monthly debt payments, alimony,living costs di...</td>\n",
       "      <td>percentage</td>\n",
       "    </tr>\n",
       "  </tbody>\n",
       "</table>\n",
       "</div>"
      ],
      "text/plain": [
       "                          Variable Name             new_var_name  \\\n",
       "0                      SeriousDlqin2yrs             serious_loan   \n",
       "1  RevolvingUtilizationOfUnsecuredLines     financial_state_rate   \n",
       "2                                   age                      age   \n",
       "3  NumberOfTime30-59DaysPastDueNotWorse  count_of_small_past_due   \n",
       "4                             DebtRatio               debt_ratio   \n",
       "\n",
       "                                         Description        Type  \n",
       "0  Person experienced 90 days past due delinquenc...         Y/N  \n",
       "1  Total balance on credit cards and personal lin...  percentage  \n",
       "2                           Age of borrower in years     integer  \n",
       "3  Number of times borrower has been 30-59 days p...     integer  \n",
       "4  Monthly debt payments, alimony,living costs di...  percentage  "
      ]
     },
     "execution_count": 16,
     "metadata": {},
     "output_type": "execute_result"
    }
   ],
   "source": [
    "data_dict.head()"
   ]
  },
  {
   "cell_type": "markdown",
   "metadata": {},
   "source": [
    "Как видно из представленных выше результатов, все прошло успешно. Осталось только проверить таблицу на корректность типов данных"
   ]
  },
  {
   "cell_type": "code",
   "execution_count": 17,
   "metadata": {
    "scrolled": true
   },
   "outputs": [
    {
     "name": "stdout",
     "output_type": "stream",
     "text": [
      "<class 'pandas.core.frame.DataFrame'>\n",
      "Int64Index: 101503 entries, 1 to 101503\n",
      "Data columns (total 11 columns):\n",
      " #   Column                    Non-Null Count   Dtype  \n",
      "---  ------                    --------------   -----  \n",
      " 0   serious_loan              0 non-null       float64\n",
      " 1   financial_state_rate      101503 non-null  float64\n",
      " 2   age                       101503 non-null  int64  \n",
      " 3   count_of_small_past_due   101503 non-null  int64  \n",
      " 4   debt_ratio                101503 non-null  float64\n",
      " 5   monthly_income            81400 non-null   float64\n",
      " 6   number_of_credit_lines    101503 non-null  int64  \n",
      " 7   count_of_big_past_due     101503 non-null  int64  \n",
      " 8   number_of_estate_loans    101503 non-null  int64  \n",
      " 9   count_of_medium_past_due  101503 non-null  int64  \n",
      " 10  number_of_dependents      98877 non-null   float64\n",
      "dtypes: float64(5), int64(6)\n",
      "memory usage: 9.3 MB\n"
     ]
    }
   ],
   "source": [
    "cs_test.info()"
   ]
  },
  {
   "cell_type": "markdown",
   "metadata": {},
   "source": [
    "Заметим, что тип в столбце \"number_of_dependents\" не совпадает с эталонным, количество иждивенцев не может быть дробным числом. Прежде чем принимать какие либо действия посмотрим на распределение значение в данном столбце "
   ]
  },
  {
   "cell_type": "code",
   "execution_count": 18,
   "metadata": {
    "scrolled": true
   },
   "outputs": [
    {
     "data": {
      "text/plain": [
       "count    98877.000000\n",
       "mean         0.769046\n",
       "std          1.136778\n",
       "min          0.000000\n",
       "25%          0.000000\n",
       "50%          0.000000\n",
       "75%          1.000000\n",
       "max         43.000000\n",
       "Name: number_of_dependents, dtype: float64"
      ]
     },
     "execution_count": 18,
     "metadata": {},
     "output_type": "execute_result"
    }
   ],
   "source": [
    "cs_test[\"number_of_dependents\"].describe()"
   ]
  },
  {
   "cell_type": "markdown",
   "metadata": {},
   "source": [
    "На значения стоило посмотреть, так как причина неправильного типа могло быть некорректное положение разделителя целой и дробной части, тогда бы значение 2 могло превратиться в (0.2). Но как мы можем видеть выше, в основном это предположительно корректные данные, которые хранятся в не эталонном типе. Если же посмотреть на приведенную выше информацию, то можно заметить, что причиной этому стали пропуски. Поэтому прежде чем приводить данный столбец к эталонному типу стоит обработать пропуски, это будет сделано в следующий разделах, когда мы займемся обработкой данных"
   ]
  },
  {
   "cell_type": "markdown",
   "metadata": {},
   "source": [
    "#### Выводы \n",
    "- Данная таблица содержит тестовые данные для сабмита\n",
    "- Были изменены названия столбцов\n",
    "- Таблица data_dict пополнилась текущими значениями названий столбцов\n",
    "- Обнаружено отклонение типа столбца \"number_of_dependents\" от эталонного "
   ]
  },
  {
   "cell_type": "code",
   "execution_count": null,
   "metadata": {},
   "outputs": [],
   "source": []
  },
  {
   "cell_type": "markdown",
   "metadata": {},
   "source": [
    "### cs-training"
   ]
  },
  {
   "cell_type": "code",
   "execution_count": 19,
   "metadata": {},
   "outputs": [],
   "source": [
    "cs_training = pd.read_csv(\"./datasets/cs-training.csv\")"
   ]
  },
  {
   "cell_type": "code",
   "execution_count": 20,
   "metadata": {},
   "outputs": [
    {
     "name": "stdout",
     "output_type": "stream",
     "text": [
      "Размеры данных:  (150000, 12)\n",
      "Имена столбцов:  ['Unnamed: 0' 'SeriousDlqin2yrs' 'RevolvingUtilizationOfUnsecuredLines'\n",
      " 'age' 'NumberOfTime30-59DaysPastDueNotWorse' 'DebtRatio' 'MonthlyIncome'\n",
      " 'NumberOfOpenCreditLinesAndLoans' 'NumberOfTimes90DaysLate'\n",
      " 'NumberRealEstateLoansOrLines' 'NumberOfTime60-89DaysPastDueNotWorse'\n",
      " 'NumberOfDependents']\n"
     ]
    },
    {
     "data": {
      "text/html": [
       "<div>\n",
       "<style scoped>\n",
       "    .dataframe tbody tr th:only-of-type {\n",
       "        vertical-align: middle;\n",
       "    }\n",
       "\n",
       "    .dataframe tbody tr th {\n",
       "        vertical-align: top;\n",
       "    }\n",
       "\n",
       "    .dataframe thead th {\n",
       "        text-align: right;\n",
       "    }\n",
       "</style>\n",
       "<table border=\"1\" class=\"dataframe\">\n",
       "  <thead>\n",
       "    <tr style=\"text-align: right;\">\n",
       "      <th></th>\n",
       "      <th>Unnamed: 0</th>\n",
       "      <th>SeriousDlqin2yrs</th>\n",
       "      <th>RevolvingUtilizationOfUnsecuredLines</th>\n",
       "      <th>age</th>\n",
       "      <th>NumberOfTime30-59DaysPastDueNotWorse</th>\n",
       "      <th>DebtRatio</th>\n",
       "      <th>MonthlyIncome</th>\n",
       "      <th>NumberOfOpenCreditLinesAndLoans</th>\n",
       "      <th>NumberOfTimes90DaysLate</th>\n",
       "      <th>NumberRealEstateLoansOrLines</th>\n",
       "      <th>NumberOfTime60-89DaysPastDueNotWorse</th>\n",
       "      <th>NumberOfDependents</th>\n",
       "    </tr>\n",
       "  </thead>\n",
       "  <tbody>\n",
       "    <tr>\n",
       "      <th>0</th>\n",
       "      <td>1</td>\n",
       "      <td>1</td>\n",
       "      <td>0.766127</td>\n",
       "      <td>45</td>\n",
       "      <td>2</td>\n",
       "      <td>0.802982</td>\n",
       "      <td>9120.0</td>\n",
       "      <td>13</td>\n",
       "      <td>0</td>\n",
       "      <td>6</td>\n",
       "      <td>0</td>\n",
       "      <td>2.0</td>\n",
       "    </tr>\n",
       "    <tr>\n",
       "      <th>1</th>\n",
       "      <td>2</td>\n",
       "      <td>0</td>\n",
       "      <td>0.957151</td>\n",
       "      <td>40</td>\n",
       "      <td>0</td>\n",
       "      <td>0.121876</td>\n",
       "      <td>2600.0</td>\n",
       "      <td>4</td>\n",
       "      <td>0</td>\n",
       "      <td>0</td>\n",
       "      <td>0</td>\n",
       "      <td>1.0</td>\n",
       "    </tr>\n",
       "    <tr>\n",
       "      <th>2</th>\n",
       "      <td>3</td>\n",
       "      <td>0</td>\n",
       "      <td>0.658180</td>\n",
       "      <td>38</td>\n",
       "      <td>1</td>\n",
       "      <td>0.085113</td>\n",
       "      <td>3042.0</td>\n",
       "      <td>2</td>\n",
       "      <td>1</td>\n",
       "      <td>0</td>\n",
       "      <td>0</td>\n",
       "      <td>0.0</td>\n",
       "    </tr>\n",
       "    <tr>\n",
       "      <th>3</th>\n",
       "      <td>4</td>\n",
       "      <td>0</td>\n",
       "      <td>0.233810</td>\n",
       "      <td>30</td>\n",
       "      <td>0</td>\n",
       "      <td>0.036050</td>\n",
       "      <td>3300.0</td>\n",
       "      <td>5</td>\n",
       "      <td>0</td>\n",
       "      <td>0</td>\n",
       "      <td>0</td>\n",
       "      <td>0.0</td>\n",
       "    </tr>\n",
       "    <tr>\n",
       "      <th>4</th>\n",
       "      <td>5</td>\n",
       "      <td>0</td>\n",
       "      <td>0.907239</td>\n",
       "      <td>49</td>\n",
       "      <td>1</td>\n",
       "      <td>0.024926</td>\n",
       "      <td>63588.0</td>\n",
       "      <td>7</td>\n",
       "      <td>0</td>\n",
       "      <td>1</td>\n",
       "      <td>0</td>\n",
       "      <td>0.0</td>\n",
       "    </tr>\n",
       "  </tbody>\n",
       "</table>\n",
       "</div>"
      ],
      "text/plain": [
       "   Unnamed: 0  SeriousDlqin2yrs  RevolvingUtilizationOfUnsecuredLines  age  \\\n",
       "0           1                 1                              0.766127   45   \n",
       "1           2                 0                              0.957151   40   \n",
       "2           3                 0                              0.658180   38   \n",
       "3           4                 0                              0.233810   30   \n",
       "4           5                 0                              0.907239   49   \n",
       "\n",
       "   NumberOfTime30-59DaysPastDueNotWorse  DebtRatio  MonthlyIncome  \\\n",
       "0                                     2   0.802982         9120.0   \n",
       "1                                     0   0.121876         2600.0   \n",
       "2                                     1   0.085113         3042.0   \n",
       "3                                     0   0.036050         3300.0   \n",
       "4                                     1   0.024926        63588.0   \n",
       "\n",
       "   NumberOfOpenCreditLinesAndLoans  NumberOfTimes90DaysLate  \\\n",
       "0                               13                        0   \n",
       "1                                4                        0   \n",
       "2                                2                        1   \n",
       "3                                5                        0   \n",
       "4                                7                        0   \n",
       "\n",
       "   NumberRealEstateLoansOrLines  NumberOfTime60-89DaysPastDueNotWorse  \\\n",
       "0                             6                                     0   \n",
       "1                             0                                     0   \n",
       "2                             0                                     0   \n",
       "3                             0                                     0   \n",
       "4                             1                                     0   \n",
       "\n",
       "   NumberOfDependents  \n",
       "0                 2.0  \n",
       "1                 1.0  \n",
       "2                 0.0  \n",
       "3                 0.0  \n",
       "4                 0.0  "
      ]
     },
     "metadata": {},
     "output_type": "display_data"
    }
   ],
   "source": [
    "get_info_start(cs_training)"
   ]
  },
  {
   "cell_type": "markdown",
   "metadata": {},
   "source": [
    "Можно заметить, что у нас присутствует неизвестный признак \"Unnamed: 0\", который вероятнее всего является id объекта. Наилучшим способом сохранить его и при этом не дать ему повлиять на качество дальнейшего обучения, это установить его как индекс строк в таблице."
   ]
  },
  {
   "cell_type": "code",
   "execution_count": 21,
   "metadata": {},
   "outputs": [],
   "source": [
    "cs_training = cs_training.set_index('Unnamed: 0')\n",
    "cs_training.index.name = 'id'"
   ]
  },
  {
   "cell_type": "markdown",
   "metadata": {},
   "source": [
    "Посмотрим на данные еще раз"
   ]
  },
  {
   "cell_type": "code",
   "execution_count": 22,
   "metadata": {},
   "outputs": [
    {
     "name": "stdout",
     "output_type": "stream",
     "text": [
      "Размеры данных:  (150000, 11)\n",
      "Имена столбцов:  ['SeriousDlqin2yrs' 'RevolvingUtilizationOfUnsecuredLines' 'age'\n",
      " 'NumberOfTime30-59DaysPastDueNotWorse' 'DebtRatio' 'MonthlyIncome'\n",
      " 'NumberOfOpenCreditLinesAndLoans' 'NumberOfTimes90DaysLate'\n",
      " 'NumberRealEstateLoansOrLines' 'NumberOfTime60-89DaysPastDueNotWorse'\n",
      " 'NumberOfDependents']\n"
     ]
    },
    {
     "data": {
      "text/html": [
       "<div>\n",
       "<style scoped>\n",
       "    .dataframe tbody tr th:only-of-type {\n",
       "        vertical-align: middle;\n",
       "    }\n",
       "\n",
       "    .dataframe tbody tr th {\n",
       "        vertical-align: top;\n",
       "    }\n",
       "\n",
       "    .dataframe thead th {\n",
       "        text-align: right;\n",
       "    }\n",
       "</style>\n",
       "<table border=\"1\" class=\"dataframe\">\n",
       "  <thead>\n",
       "    <tr style=\"text-align: right;\">\n",
       "      <th></th>\n",
       "      <th>SeriousDlqin2yrs</th>\n",
       "      <th>RevolvingUtilizationOfUnsecuredLines</th>\n",
       "      <th>age</th>\n",
       "      <th>NumberOfTime30-59DaysPastDueNotWorse</th>\n",
       "      <th>DebtRatio</th>\n",
       "      <th>MonthlyIncome</th>\n",
       "      <th>NumberOfOpenCreditLinesAndLoans</th>\n",
       "      <th>NumberOfTimes90DaysLate</th>\n",
       "      <th>NumberRealEstateLoansOrLines</th>\n",
       "      <th>NumberOfTime60-89DaysPastDueNotWorse</th>\n",
       "      <th>NumberOfDependents</th>\n",
       "    </tr>\n",
       "    <tr>\n",
       "      <th>id</th>\n",
       "      <th></th>\n",
       "      <th></th>\n",
       "      <th></th>\n",
       "      <th></th>\n",
       "      <th></th>\n",
       "      <th></th>\n",
       "      <th></th>\n",
       "      <th></th>\n",
       "      <th></th>\n",
       "      <th></th>\n",
       "      <th></th>\n",
       "    </tr>\n",
       "  </thead>\n",
       "  <tbody>\n",
       "    <tr>\n",
       "      <th>1</th>\n",
       "      <td>1</td>\n",
       "      <td>0.766127</td>\n",
       "      <td>45</td>\n",
       "      <td>2</td>\n",
       "      <td>0.802982</td>\n",
       "      <td>9120.0</td>\n",
       "      <td>13</td>\n",
       "      <td>0</td>\n",
       "      <td>6</td>\n",
       "      <td>0</td>\n",
       "      <td>2.0</td>\n",
       "    </tr>\n",
       "    <tr>\n",
       "      <th>2</th>\n",
       "      <td>0</td>\n",
       "      <td>0.957151</td>\n",
       "      <td>40</td>\n",
       "      <td>0</td>\n",
       "      <td>0.121876</td>\n",
       "      <td>2600.0</td>\n",
       "      <td>4</td>\n",
       "      <td>0</td>\n",
       "      <td>0</td>\n",
       "      <td>0</td>\n",
       "      <td>1.0</td>\n",
       "    </tr>\n",
       "    <tr>\n",
       "      <th>3</th>\n",
       "      <td>0</td>\n",
       "      <td>0.658180</td>\n",
       "      <td>38</td>\n",
       "      <td>1</td>\n",
       "      <td>0.085113</td>\n",
       "      <td>3042.0</td>\n",
       "      <td>2</td>\n",
       "      <td>1</td>\n",
       "      <td>0</td>\n",
       "      <td>0</td>\n",
       "      <td>0.0</td>\n",
       "    </tr>\n",
       "    <tr>\n",
       "      <th>4</th>\n",
       "      <td>0</td>\n",
       "      <td>0.233810</td>\n",
       "      <td>30</td>\n",
       "      <td>0</td>\n",
       "      <td>0.036050</td>\n",
       "      <td>3300.0</td>\n",
       "      <td>5</td>\n",
       "      <td>0</td>\n",
       "      <td>0</td>\n",
       "      <td>0</td>\n",
       "      <td>0.0</td>\n",
       "    </tr>\n",
       "    <tr>\n",
       "      <th>5</th>\n",
       "      <td>0</td>\n",
       "      <td>0.907239</td>\n",
       "      <td>49</td>\n",
       "      <td>1</td>\n",
       "      <td>0.024926</td>\n",
       "      <td>63588.0</td>\n",
       "      <td>7</td>\n",
       "      <td>0</td>\n",
       "      <td>1</td>\n",
       "      <td>0</td>\n",
       "      <td>0.0</td>\n",
       "    </tr>\n",
       "  </tbody>\n",
       "</table>\n",
       "</div>"
      ],
      "text/plain": [
       "    SeriousDlqin2yrs  RevolvingUtilizationOfUnsecuredLines  age  \\\n",
       "id                                                                \n",
       "1                  1                              0.766127   45   \n",
       "2                  0                              0.957151   40   \n",
       "3                  0                              0.658180   38   \n",
       "4                  0                              0.233810   30   \n",
       "5                  0                              0.907239   49   \n",
       "\n",
       "    NumberOfTime30-59DaysPastDueNotWorse  DebtRatio  MonthlyIncome  \\\n",
       "id                                                                   \n",
       "1                                      2   0.802982         9120.0   \n",
       "2                                      0   0.121876         2600.0   \n",
       "3                                      1   0.085113         3042.0   \n",
       "4                                      0   0.036050         3300.0   \n",
       "5                                      1   0.024926        63588.0   \n",
       "\n",
       "    NumberOfOpenCreditLinesAndLoans  NumberOfTimes90DaysLate  \\\n",
       "id                                                             \n",
       "1                                13                        0   \n",
       "2                                 4                        0   \n",
       "3                                 2                        1   \n",
       "4                                 5                        0   \n",
       "5                                 7                        0   \n",
       "\n",
       "    NumberRealEstateLoansOrLines  NumberOfTime60-89DaysPastDueNotWorse  \\\n",
       "id                                                                       \n",
       "1                              6                                     0   \n",
       "2                              0                                     0   \n",
       "3                              0                                     0   \n",
       "4                              0                                     0   \n",
       "5                              1                                     0   \n",
       "\n",
       "    NumberOfDependents  \n",
       "id                      \n",
       "1                  2.0  \n",
       "2                  1.0  \n",
       "3                  0.0  \n",
       "4                  0.0  \n",
       "5                  0.0  "
      ]
     },
     "metadata": {},
     "output_type": "display_data"
    }
   ],
   "source": [
    "get_info_start(cs_training)"
   ]
  },
  {
   "cell_type": "markdown",
   "metadata": {},
   "source": [
    "Переименуем столбцы в соответствии с предыдущими преобразованиями"
   ]
  },
  {
   "cell_type": "code",
   "execution_count": 23,
   "metadata": {},
   "outputs": [],
   "source": [
    "# Исправим и переименуем столбцы\n",
    "cs_training.columns = ['serious_loan','financial_state_rate','age',\n",
    " 'count_of_small_past_due','debt_ratio','monthly_income',\n",
    " 'number_of_credit_lines', 'count_of_big_past_due',\n",
    " 'number_of_estate_loans', 'count_of_medium_past_due',\n",
    " 'number_of_dependents']"
   ]
  },
  {
   "cell_type": "markdown",
   "metadata": {},
   "source": [
    "Посмотрим на результат"
   ]
  },
  {
   "cell_type": "code",
   "execution_count": 24,
   "metadata": {},
   "outputs": [
    {
     "data": {
      "text/html": [
       "<div>\n",
       "<style scoped>\n",
       "    .dataframe tbody tr th:only-of-type {\n",
       "        vertical-align: middle;\n",
       "    }\n",
       "\n",
       "    .dataframe tbody tr th {\n",
       "        vertical-align: top;\n",
       "    }\n",
       "\n",
       "    .dataframe thead th {\n",
       "        text-align: right;\n",
       "    }\n",
       "</style>\n",
       "<table border=\"1\" class=\"dataframe\">\n",
       "  <thead>\n",
       "    <tr style=\"text-align: right;\">\n",
       "      <th></th>\n",
       "      <th>serious_loan</th>\n",
       "      <th>financial_state_rate</th>\n",
       "      <th>age</th>\n",
       "      <th>count_of_small_past_due</th>\n",
       "      <th>debt_ratio</th>\n",
       "      <th>monthly_income</th>\n",
       "      <th>number_of_credit_lines</th>\n",
       "      <th>count_of_big_past_due</th>\n",
       "      <th>number_of_estate_loans</th>\n",
       "      <th>count_of_medium_past_due</th>\n",
       "      <th>number_of_dependents</th>\n",
       "    </tr>\n",
       "    <tr>\n",
       "      <th>id</th>\n",
       "      <th></th>\n",
       "      <th></th>\n",
       "      <th></th>\n",
       "      <th></th>\n",
       "      <th></th>\n",
       "      <th></th>\n",
       "      <th></th>\n",
       "      <th></th>\n",
       "      <th></th>\n",
       "      <th></th>\n",
       "      <th></th>\n",
       "    </tr>\n",
       "  </thead>\n",
       "  <tbody>\n",
       "    <tr>\n",
       "      <th>1</th>\n",
       "      <td>1</td>\n",
       "      <td>0.766127</td>\n",
       "      <td>45</td>\n",
       "      <td>2</td>\n",
       "      <td>0.802982</td>\n",
       "      <td>9120.0</td>\n",
       "      <td>13</td>\n",
       "      <td>0</td>\n",
       "      <td>6</td>\n",
       "      <td>0</td>\n",
       "      <td>2.0</td>\n",
       "    </tr>\n",
       "    <tr>\n",
       "      <th>2</th>\n",
       "      <td>0</td>\n",
       "      <td>0.957151</td>\n",
       "      <td>40</td>\n",
       "      <td>0</td>\n",
       "      <td>0.121876</td>\n",
       "      <td>2600.0</td>\n",
       "      <td>4</td>\n",
       "      <td>0</td>\n",
       "      <td>0</td>\n",
       "      <td>0</td>\n",
       "      <td>1.0</td>\n",
       "    </tr>\n",
       "    <tr>\n",
       "      <th>3</th>\n",
       "      <td>0</td>\n",
       "      <td>0.658180</td>\n",
       "      <td>38</td>\n",
       "      <td>1</td>\n",
       "      <td>0.085113</td>\n",
       "      <td>3042.0</td>\n",
       "      <td>2</td>\n",
       "      <td>1</td>\n",
       "      <td>0</td>\n",
       "      <td>0</td>\n",
       "      <td>0.0</td>\n",
       "    </tr>\n",
       "    <tr>\n",
       "      <th>4</th>\n",
       "      <td>0</td>\n",
       "      <td>0.233810</td>\n",
       "      <td>30</td>\n",
       "      <td>0</td>\n",
       "      <td>0.036050</td>\n",
       "      <td>3300.0</td>\n",
       "      <td>5</td>\n",
       "      <td>0</td>\n",
       "      <td>0</td>\n",
       "      <td>0</td>\n",
       "      <td>0.0</td>\n",
       "    </tr>\n",
       "    <tr>\n",
       "      <th>5</th>\n",
       "      <td>0</td>\n",
       "      <td>0.907239</td>\n",
       "      <td>49</td>\n",
       "      <td>1</td>\n",
       "      <td>0.024926</td>\n",
       "      <td>63588.0</td>\n",
       "      <td>7</td>\n",
       "      <td>0</td>\n",
       "      <td>1</td>\n",
       "      <td>0</td>\n",
       "      <td>0.0</td>\n",
       "    </tr>\n",
       "  </tbody>\n",
       "</table>\n",
       "</div>"
      ],
      "text/plain": [
       "    serious_loan  financial_state_rate  age  count_of_small_past_due  \\\n",
       "id                                                                     \n",
       "1              1              0.766127   45                        2   \n",
       "2              0              0.957151   40                        0   \n",
       "3              0              0.658180   38                        1   \n",
       "4              0              0.233810   30                        0   \n",
       "5              0              0.907239   49                        1   \n",
       "\n",
       "    debt_ratio  monthly_income  number_of_credit_lines  count_of_big_past_due  \\\n",
       "id                                                                              \n",
       "1     0.802982          9120.0                      13                      0   \n",
       "2     0.121876          2600.0                       4                      0   \n",
       "3     0.085113          3042.0                       2                      1   \n",
       "4     0.036050          3300.0                       5                      0   \n",
       "5     0.024926         63588.0                       7                      0   \n",
       "\n",
       "    number_of_estate_loans  count_of_medium_past_due  number_of_dependents  \n",
       "id                                                                          \n",
       "1                        6                         0                   2.0  \n",
       "2                        0                         0                   1.0  \n",
       "3                        0                         0                   0.0  \n",
       "4                        0                         0                   0.0  \n",
       "5                        1                         0                   0.0  "
      ]
     },
     "execution_count": 24,
     "metadata": {},
     "output_type": "execute_result"
    }
   ],
   "source": [
    "cs_training.head()"
   ]
  },
  {
   "cell_type": "markdown",
   "metadata": {},
   "source": [
    "Теперь проверим типы в данном фрейме"
   ]
  },
  {
   "cell_type": "code",
   "execution_count": 25,
   "metadata": {},
   "outputs": [
    {
     "name": "stdout",
     "output_type": "stream",
     "text": [
      "<class 'pandas.core.frame.DataFrame'>\n",
      "Int64Index: 150000 entries, 1 to 150000\n",
      "Data columns (total 11 columns):\n",
      " #   Column                    Non-Null Count   Dtype  \n",
      "---  ------                    --------------   -----  \n",
      " 0   serious_loan              150000 non-null  int64  \n",
      " 1   financial_state_rate      150000 non-null  float64\n",
      " 2   age                       150000 non-null  int64  \n",
      " 3   count_of_small_past_due   150000 non-null  int64  \n",
      " 4   debt_ratio                150000 non-null  float64\n",
      " 5   monthly_income            120269 non-null  float64\n",
      " 6   number_of_credit_lines    150000 non-null  int64  \n",
      " 7   count_of_big_past_due     150000 non-null  int64  \n",
      " 8   number_of_estate_loans    150000 non-null  int64  \n",
      " 9   count_of_medium_past_due  150000 non-null  int64  \n",
      " 10  number_of_dependents      146076 non-null  float64\n",
      "dtypes: float64(4), int64(7)\n",
      "memory usage: 13.7 MB\n"
     ]
    }
   ],
   "source": [
    "cs_training.info()"
   ]
  },
  {
   "cell_type": "markdown",
   "metadata": {},
   "source": [
    "Заметим, что тут так же как и в предыдущей таблице тип данных в столбце \"number_of_dependents\" отличается от эталонного, в данном случае в столбце так же присутствуют пропуски, которые искажают тип данных. В процессе дальнейшего анализа и обработки данные особенности будут исправлены "
   ]
  },
  {
   "cell_type": "markdown",
   "metadata": {},
   "source": [
    "#### Выводы \n",
    "- Данная таблица содержит тренировочные данные для сабмита\n",
    "- Были изменены названия столбцов\n",
    "- Обнаружено отклонение типа столбца \"number_of_dependents\" от эталонного "
   ]
  },
  {
   "cell_type": "markdown",
   "metadata": {},
   "source": [
    "## Выводы\n",
    "- В нашем распоряжении 3 основных файла:\n",
    "    - \"data-dict.xls\" файл описывающий признаки и их типы\n",
    "    - \"cs-test.csv\" файл с тестовыми данными\n",
    "    - \"cs-training.csv\" файл с тренировочными данными\n",
    "- В процессе изучения данных был выделен целевой признак: \"serious_loan\""
   ]
  },
  {
   "cell_type": "markdown",
   "metadata": {},
   "source": [
    "# Анализ данных"
   ]
  },
  {
   "cell_type": "code",
   "execution_count": 26,
   "metadata": {
    "scrolled": true
   },
   "outputs": [
    {
     "data": {
      "text/html": [
       "<div>\n",
       "<style scoped>\n",
       "    .dataframe tbody tr th:only-of-type {\n",
       "        vertical-align: middle;\n",
       "    }\n",
       "\n",
       "    .dataframe tbody tr th {\n",
       "        vertical-align: top;\n",
       "    }\n",
       "\n",
       "    .dataframe thead th {\n",
       "        text-align: right;\n",
       "    }\n",
       "</style>\n",
       "<table border=\"1\" class=\"dataframe\">\n",
       "  <thead>\n",
       "    <tr style=\"text-align: right;\">\n",
       "      <th></th>\n",
       "      <th>serious_loan</th>\n",
       "      <th>financial_state_rate</th>\n",
       "      <th>age</th>\n",
       "      <th>count_of_small_past_due</th>\n",
       "      <th>debt_ratio</th>\n",
       "      <th>monthly_income</th>\n",
       "      <th>number_of_credit_lines</th>\n",
       "      <th>count_of_big_past_due</th>\n",
       "      <th>number_of_estate_loans</th>\n",
       "      <th>count_of_medium_past_due</th>\n",
       "      <th>number_of_dependents</th>\n",
       "    </tr>\n",
       "    <tr>\n",
       "      <th>id</th>\n",
       "      <th></th>\n",
       "      <th></th>\n",
       "      <th></th>\n",
       "      <th></th>\n",
       "      <th></th>\n",
       "      <th></th>\n",
       "      <th></th>\n",
       "      <th></th>\n",
       "      <th></th>\n",
       "      <th></th>\n",
       "      <th></th>\n",
       "    </tr>\n",
       "  </thead>\n",
       "  <tbody>\n",
       "    <tr>\n",
       "      <th>1</th>\n",
       "      <td>1</td>\n",
       "      <td>0.766127</td>\n",
       "      <td>45</td>\n",
       "      <td>2</td>\n",
       "      <td>0.802982</td>\n",
       "      <td>9120.0</td>\n",
       "      <td>13</td>\n",
       "      <td>0</td>\n",
       "      <td>6</td>\n",
       "      <td>0</td>\n",
       "      <td>2.0</td>\n",
       "    </tr>\n",
       "    <tr>\n",
       "      <th>2</th>\n",
       "      <td>0</td>\n",
       "      <td>0.957151</td>\n",
       "      <td>40</td>\n",
       "      <td>0</td>\n",
       "      <td>0.121876</td>\n",
       "      <td>2600.0</td>\n",
       "      <td>4</td>\n",
       "      <td>0</td>\n",
       "      <td>0</td>\n",
       "      <td>0</td>\n",
       "      <td>1.0</td>\n",
       "    </tr>\n",
       "    <tr>\n",
       "      <th>3</th>\n",
       "      <td>0</td>\n",
       "      <td>0.658180</td>\n",
       "      <td>38</td>\n",
       "      <td>1</td>\n",
       "      <td>0.085113</td>\n",
       "      <td>3042.0</td>\n",
       "      <td>2</td>\n",
       "      <td>1</td>\n",
       "      <td>0</td>\n",
       "      <td>0</td>\n",
       "      <td>0.0</td>\n",
       "    </tr>\n",
       "    <tr>\n",
       "      <th>4</th>\n",
       "      <td>0</td>\n",
       "      <td>0.233810</td>\n",
       "      <td>30</td>\n",
       "      <td>0</td>\n",
       "      <td>0.036050</td>\n",
       "      <td>3300.0</td>\n",
       "      <td>5</td>\n",
       "      <td>0</td>\n",
       "      <td>0</td>\n",
       "      <td>0</td>\n",
       "      <td>0.0</td>\n",
       "    </tr>\n",
       "    <tr>\n",
       "      <th>5</th>\n",
       "      <td>0</td>\n",
       "      <td>0.907239</td>\n",
       "      <td>49</td>\n",
       "      <td>1</td>\n",
       "      <td>0.024926</td>\n",
       "      <td>63588.0</td>\n",
       "      <td>7</td>\n",
       "      <td>0</td>\n",
       "      <td>1</td>\n",
       "      <td>0</td>\n",
       "      <td>0.0</td>\n",
       "    </tr>\n",
       "  </tbody>\n",
       "</table>\n",
       "</div>"
      ],
      "text/plain": [
       "    serious_loan  financial_state_rate  age  count_of_small_past_due  \\\n",
       "id                                                                     \n",
       "1              1              0.766127   45                        2   \n",
       "2              0              0.957151   40                        0   \n",
       "3              0              0.658180   38                        1   \n",
       "4              0              0.233810   30                        0   \n",
       "5              0              0.907239   49                        1   \n",
       "\n",
       "    debt_ratio  monthly_income  number_of_credit_lines  count_of_big_past_due  \\\n",
       "id                                                                              \n",
       "1     0.802982          9120.0                      13                      0   \n",
       "2     0.121876          2600.0                       4                      0   \n",
       "3     0.085113          3042.0                       2                      1   \n",
       "4     0.036050          3300.0                       5                      0   \n",
       "5     0.024926         63588.0                       7                      0   \n",
       "\n",
       "    number_of_estate_loans  count_of_medium_past_due  number_of_dependents  \n",
       "id                                                                          \n",
       "1                        6                         0                   2.0  \n",
       "2                        0                         0                   1.0  \n",
       "3                        0                         0                   0.0  \n",
       "4                        0                         0                   0.0  \n",
       "5                        1                         0                   0.0  "
      ]
     },
     "execution_count": 26,
     "metadata": {},
     "output_type": "execute_result"
    }
   ],
   "source": [
    "cs_training.head()"
   ]
  },
  {
   "cell_type": "markdown",
   "metadata": {},
   "source": [
    "## Анализ параметра serious_loan"
   ]
  },
  {
   "cell_type": "code",
   "execution_count": 27,
   "metadata": {},
   "outputs": [
    {
     "data": {
      "text/plain": [
       "0    0.93316\n",
       "1    0.06684\n",
       "Name: serious_loan, dtype: float64"
      ]
     },
     "execution_count": 27,
     "metadata": {},
     "output_type": "execute_result"
    }
   ],
   "source": [
    "cs_training[\"serious_loan\"].value_counts(normalize=True)"
   ]
  },
  {
   "cell_type": "markdown",
   "metadata": {},
   "source": [
    "Заметим, что тренировочная выборка кране не сбалансирована по классам, 93% принадлежат 1 классу. Эту проблему можно решать несколькими методами:\n",
    "- Downsampling \n",
    "- Upsampling \n",
    "- Генерация синтетические образцов из меньшего класса, с помощью SMOTE\n",
    "\n",
    "\n",
    "Займемся этим в предобработке, в данном разделе мы только изучаем и корректируем предоставленные нам данные"
   ]
  },
  {
   "cell_type": "markdown",
   "metadata": {},
   "source": [
    "## Анализ параметра age"
   ]
  },
  {
   "cell_type": "markdown",
   "metadata": {},
   "source": [
    "Начнем с того, что посмотрим в каком возрасте люди склонны к серьезным долгам. Для удобства преобразуем данные по возрасту к строгим промежуткам, то есть категоризируем возраст. но сначала посмотрим распределение признака"
   ]
  },
  {
   "cell_type": "code",
   "execution_count": 28,
   "metadata": {
    "scrolled": false
   },
   "outputs": [
    {
     "data": {
      "text/plain": [
       "count    150000.000000\n",
       "mean         52.295207\n",
       "std          14.771866\n",
       "min           0.000000\n",
       "25%          41.000000\n",
       "50%          52.000000\n",
       "75%          63.000000\n",
       "max         109.000000\n",
       "Name: age, dtype: float64"
      ]
     },
     "metadata": {},
     "output_type": "display_data"
    }
   ],
   "source": [
    "display(cs_training['age'].describe())"
   ]
  },
  {
   "cell_type": "markdown",
   "metadata": {},
   "source": [
    "Обратим внимание, что минимальное значение 0, что достаточно далеко от реальности, разберемся, сколько таких нулей и какие еще значения встречаются возраста кредитования"
   ]
  },
  {
   "cell_type": "code",
   "execution_count": 29,
   "metadata": {
    "scrolled": true
   },
   "outputs": [
    {
     "name": "stdout",
     "output_type": "stream",
     "text": [
      "Количество объектов с значением параметра возраста равного 0: 1\n"
     ]
    }
   ],
   "source": [
    "print(f\"Количество объектов с значением параметра возраста равного 0: {cs_training.query('age == 0').shape[0]}\")"
   ]
  },
  {
   "cell_type": "code",
   "execution_count": 30,
   "metadata": {},
   "outputs": [
    {
     "data": {
      "text/html": [
       "<div>\n",
       "<style scoped>\n",
       "    .dataframe tbody tr th:only-of-type {\n",
       "        vertical-align: middle;\n",
       "    }\n",
       "\n",
       "    .dataframe tbody tr th {\n",
       "        vertical-align: top;\n",
       "    }\n",
       "\n",
       "    .dataframe thead th {\n",
       "        text-align: right;\n",
       "    }\n",
       "</style>\n",
       "<table border=\"1\" class=\"dataframe\">\n",
       "  <thead>\n",
       "    <tr style=\"text-align: right;\">\n",
       "      <th></th>\n",
       "      <th>serious_loan</th>\n",
       "      <th>financial_state_rate</th>\n",
       "      <th>age</th>\n",
       "      <th>count_of_small_past_due</th>\n",
       "      <th>debt_ratio</th>\n",
       "      <th>monthly_income</th>\n",
       "      <th>number_of_credit_lines</th>\n",
       "      <th>count_of_big_past_due</th>\n",
       "      <th>number_of_estate_loans</th>\n",
       "      <th>count_of_medium_past_due</th>\n",
       "      <th>number_of_dependents</th>\n",
       "    </tr>\n",
       "    <tr>\n",
       "      <th>id</th>\n",
       "      <th></th>\n",
       "      <th></th>\n",
       "      <th></th>\n",
       "      <th></th>\n",
       "      <th></th>\n",
       "      <th></th>\n",
       "      <th></th>\n",
       "      <th></th>\n",
       "      <th></th>\n",
       "      <th></th>\n",
       "      <th></th>\n",
       "    </tr>\n",
       "  </thead>\n",
       "  <tbody>\n",
       "    <tr>\n",
       "      <th>1732</th>\n",
       "      <td>0</td>\n",
       "      <td>0.369472</td>\n",
       "      <td>21</td>\n",
       "      <td>0</td>\n",
       "      <td>7.000000</td>\n",
       "      <td>NaN</td>\n",
       "      <td>1</td>\n",
       "      <td>0</td>\n",
       "      <td>0</td>\n",
       "      <td>0</td>\n",
       "      <td>0.0</td>\n",
       "    </tr>\n",
       "    <tr>\n",
       "      <th>2792</th>\n",
       "      <td>0</td>\n",
       "      <td>1.000000</td>\n",
       "      <td>21</td>\n",
       "      <td>0</td>\n",
       "      <td>0.000000</td>\n",
       "      <td>300.0</td>\n",
       "      <td>1</td>\n",
       "      <td>0</td>\n",
       "      <td>0</td>\n",
       "      <td>0</td>\n",
       "      <td>0.0</td>\n",
       "    </tr>\n",
       "    <tr>\n",
       "      <th>3369</th>\n",
       "      <td>0</td>\n",
       "      <td>1.000000</td>\n",
       "      <td>21</td>\n",
       "      <td>0</td>\n",
       "      <td>10.000000</td>\n",
       "      <td>NaN</td>\n",
       "      <td>0</td>\n",
       "      <td>0</td>\n",
       "      <td>0</td>\n",
       "      <td>0</td>\n",
       "      <td>NaN</td>\n",
       "    </tr>\n",
       "    <tr>\n",
       "      <th>3717</th>\n",
       "      <td>0</td>\n",
       "      <td>1.000000</td>\n",
       "      <td>21</td>\n",
       "      <td>0</td>\n",
       "      <td>0.000000</td>\n",
       "      <td>280.0</td>\n",
       "      <td>1</td>\n",
       "      <td>0</td>\n",
       "      <td>0</td>\n",
       "      <td>0</td>\n",
       "      <td>0.0</td>\n",
       "    </tr>\n",
       "    <tr>\n",
       "      <th>4418</th>\n",
       "      <td>0</td>\n",
       "      <td>1.000000</td>\n",
       "      <td>21</td>\n",
       "      <td>98</td>\n",
       "      <td>0.000000</td>\n",
       "      <td>0.0</td>\n",
       "      <td>0</td>\n",
       "      <td>98</td>\n",
       "      <td>0</td>\n",
       "      <td>98</td>\n",
       "      <td>0.0</td>\n",
       "    </tr>\n",
       "    <tr>\n",
       "      <th>...</th>\n",
       "      <td>...</td>\n",
       "      <td>...</td>\n",
       "      <td>...</td>\n",
       "      <td>...</td>\n",
       "      <td>...</td>\n",
       "      <td>...</td>\n",
       "      <td>...</td>\n",
       "      <td>...</td>\n",
       "      <td>...</td>\n",
       "      <td>...</td>\n",
       "      <td>...</td>\n",
       "    </tr>\n",
       "    <tr>\n",
       "      <th>147496</th>\n",
       "      <td>0</td>\n",
       "      <td>1.000000</td>\n",
       "      <td>21</td>\n",
       "      <td>0</td>\n",
       "      <td>0.000000</td>\n",
       "      <td>700.0</td>\n",
       "      <td>1</td>\n",
       "      <td>0</td>\n",
       "      <td>0</td>\n",
       "      <td>0</td>\n",
       "      <td>0.0</td>\n",
       "    </tr>\n",
       "    <tr>\n",
       "      <th>147521</th>\n",
       "      <td>0</td>\n",
       "      <td>1.107892</td>\n",
       "      <td>21</td>\n",
       "      <td>0</td>\n",
       "      <td>0.008248</td>\n",
       "      <td>4000.0</td>\n",
       "      <td>2</td>\n",
       "      <td>0</td>\n",
       "      <td>0</td>\n",
       "      <td>0</td>\n",
       "      <td>0.0</td>\n",
       "    </tr>\n",
       "    <tr>\n",
       "      <th>148327</th>\n",
       "      <td>0</td>\n",
       "      <td>0.000000</td>\n",
       "      <td>21</td>\n",
       "      <td>0</td>\n",
       "      <td>0.000000</td>\n",
       "      <td>2000.0</td>\n",
       "      <td>1</td>\n",
       "      <td>0</td>\n",
       "      <td>0</td>\n",
       "      <td>0</td>\n",
       "      <td>0.0</td>\n",
       "    </tr>\n",
       "    <tr>\n",
       "      <th>149183</th>\n",
       "      <td>0</td>\n",
       "      <td>0.369630</td>\n",
       "      <td>21</td>\n",
       "      <td>0</td>\n",
       "      <td>0.010989</td>\n",
       "      <td>1000.0</td>\n",
       "      <td>1</td>\n",
       "      <td>0</td>\n",
       "      <td>0</td>\n",
       "      <td>0</td>\n",
       "      <td>0.0</td>\n",
       "    </tr>\n",
       "    <tr>\n",
       "      <th>149687</th>\n",
       "      <td>0</td>\n",
       "      <td>0.000000</td>\n",
       "      <td>21</td>\n",
       "      <td>0</td>\n",
       "      <td>0.082796</td>\n",
       "      <td>929.0</td>\n",
       "      <td>1</td>\n",
       "      <td>0</td>\n",
       "      <td>0</td>\n",
       "      <td>0</td>\n",
       "      <td>0.0</td>\n",
       "    </tr>\n",
       "  </tbody>\n",
       "</table>\n",
       "<p>184 rows × 11 columns</p>\n",
       "</div>"
      ],
      "text/plain": [
       "        serious_loan  financial_state_rate  age  count_of_small_past_due  \\\n",
       "id                                                                         \n",
       "1732               0              0.369472   21                        0   \n",
       "2792               0              1.000000   21                        0   \n",
       "3369               0              1.000000   21                        0   \n",
       "3717               0              1.000000   21                        0   \n",
       "4418               0              1.000000   21                       98   \n",
       "...              ...                   ...  ...                      ...   \n",
       "147496             0              1.000000   21                        0   \n",
       "147521             0              1.107892   21                        0   \n",
       "148327             0              0.000000   21                        0   \n",
       "149183             0              0.369630   21                        0   \n",
       "149687             0              0.000000   21                        0   \n",
       "\n",
       "        debt_ratio  monthly_income  number_of_credit_lines  \\\n",
       "id                                                           \n",
       "1732      7.000000             NaN                       1   \n",
       "2792      0.000000           300.0                       1   \n",
       "3369     10.000000             NaN                       0   \n",
       "3717      0.000000           280.0                       1   \n",
       "4418      0.000000             0.0                       0   \n",
       "...            ...             ...                     ...   \n",
       "147496    0.000000           700.0                       1   \n",
       "147521    0.008248          4000.0                       2   \n",
       "148327    0.000000          2000.0                       1   \n",
       "149183    0.010989          1000.0                       1   \n",
       "149687    0.082796           929.0                       1   \n",
       "\n",
       "        count_of_big_past_due  number_of_estate_loans  \\\n",
       "id                                                      \n",
       "1732                        0                       0   \n",
       "2792                        0                       0   \n",
       "3369                        0                       0   \n",
       "3717                        0                       0   \n",
       "4418                       98                       0   \n",
       "...                       ...                     ...   \n",
       "147496                      0                       0   \n",
       "147521                      0                       0   \n",
       "148327                      0                       0   \n",
       "149183                      0                       0   \n",
       "149687                      0                       0   \n",
       "\n",
       "        count_of_medium_past_due  number_of_dependents  \n",
       "id                                                      \n",
       "1732                           0                   0.0  \n",
       "2792                           0                   0.0  \n",
       "3369                           0                   NaN  \n",
       "3717                           0                   0.0  \n",
       "4418                          98                   0.0  \n",
       "...                          ...                   ...  \n",
       "147496                         0                   0.0  \n",
       "147521                         0                   0.0  \n",
       "148327                         0                   0.0  \n",
       "149183                         0                   0.0  \n",
       "149687                         0                   0.0  \n",
       "\n",
       "[184 rows x 11 columns]"
      ]
     },
     "execution_count": 30,
     "metadata": {},
     "output_type": "execute_result"
    }
   ],
   "source": [
    "cs_training.query(\"age < 22\")"
   ]
  },
  {
   "cell_type": "markdown",
   "metadata": {},
   "source": [
    "Эмпирическим методом мы определили, что стартовый возраст кредитования - 21 год, в выборке так же присутствует 1 объект с возрастом 0 лет, но вероятнее всего это ошибка при заполнении. Удалим данный объект"
   ]
  },
  {
   "cell_type": "code",
   "execution_count": 31,
   "metadata": {},
   "outputs": [],
   "source": [
    "cs_training = cs_training.drop(cs_training.query('age == 0').index.tolist(),axis = 0)"
   ]
  },
  {
   "cell_type": "markdown",
   "metadata": {},
   "source": [
    "В данном признаке отсутствуют пропуски, так что двигаемся дальше "
   ]
  },
  {
   "cell_type": "markdown",
   "metadata": {},
   "source": [
    "## Анализ параметра financial_state_rate"
   ]
  },
  {
   "cell_type": "code",
   "execution_count": 32,
   "metadata": {
    "scrolled": true
   },
   "outputs": [
    {
     "data": {
      "text/plain": [
       "count    149999.000000\n",
       "mean          6.048472\n",
       "std         249.756203\n",
       "min           0.000000\n",
       "25%           0.029867\n",
       "50%           0.154176\n",
       "75%           0.559044\n",
       "max       50708.000000\n",
       "Name: financial_state_rate, dtype: float64"
      ]
     },
     "metadata": {},
     "output_type": "display_data"
    }
   ],
   "source": [
    "display(cs_training['financial_state_rate'].describe())"
   ]
  },
  {
   "cell_type": "code",
   "execution_count": 33,
   "metadata": {
    "scrolled": false
   },
   "outputs": [
    {
     "data": {
      "text/plain": [
       "<matplotlib.axes._subplots.AxesSubplot at 0x7f8ab31944c0>"
      ]
     },
     "execution_count": 33,
     "metadata": {},
     "output_type": "execute_result"
    },
    {
     "data": {
      "image/png": "[encoded data removed]",
      "text/plain": [
       "<Figure size 432x288 with 1 Axes>"
      ]
     },
     "metadata": {
      "needs_background": "light"
     },
     "output_type": "display_data"
    }
   ],
   "source": [
    "cs_training.boxplot(column='financial_state_rate')"
   ]
  },
  {
   "cell_type": "code",
   "execution_count": 34,
   "metadata": {},
   "outputs": [
    {
     "name": "stdout",
     "output_type": "stream",
     "text": [
      "Количество строк, выбранных для удаления financial_state_rate: 788. Количество итераций 3\n",
      "\n"
     ]
    }
   ],
   "source": [
    "cs_training,_,_ = removing_outliers(\"financial_state_rate\",cs_training)"
   ]
  },
  {
   "cell_type": "markdown",
   "metadata": {},
   "source": [
    "Посмотрим на результаты"
   ]
  },
  {
   "cell_type": "code",
   "execution_count": 35,
   "metadata": {},
   "outputs": [
    {
     "data": {
      "text/plain": [
       "<matplotlib.axes._subplots.AxesSubplot at 0x7f8ab32039a0>"
      ]
     },
     "execution_count": 35,
     "metadata": {},
     "output_type": "execute_result"
    },
    {
     "data": {
      "image/png": "[encoded data removed]",
      "text/plain": [
       "<Figure size 432x288 with 1 Axes>"
      ]
     },
     "metadata": {
      "needs_background": "light"
     },
     "output_type": "display_data"
    }
   ],
   "source": [
    "cs_training.boxplot(column='financial_state_rate')"
   ]
  },
  {
   "cell_type": "markdown",
   "metadata": {},
   "source": [
    "В процессе обработки данного признака было удалено 788 объектов, что составило 0.5% от всей выборки"
   ]
  },
  {
   "cell_type": "code",
   "execution_count": 36,
   "metadata": {
    "scrolled": true
   },
   "outputs": [
    {
     "data": {
      "text/plain": [
       "count    149211.000000\n",
       "mean          0.316816\n",
       "std           0.349541\n",
       "min           0.000000\n",
       "25%           0.029570\n",
       "50%           0.151796\n",
       "75%           0.548955\n",
       "max           1.325581\n",
       "Name: financial_state_rate, dtype: float64"
      ]
     },
     "metadata": {},
     "output_type": "display_data"
    }
   ],
   "source": [
    "display(cs_training['financial_state_rate'].describe())"
   ]
  },
  {
   "cell_type": "markdown",
   "metadata": {},
   "source": [
    "Скорректируем данные, в данном признаке не может быть больше 1, так ка сумма лимитов не может быть меньше суммы балансов"
   ]
  },
  {
   "cell_type": "code",
   "execution_count": 37,
   "metadata": {
    "scrolled": true
   },
   "outputs": [],
   "source": [
    "cs_training['financial_state_rate'] = cs_training['financial_state_rate'].apply(lambda x: 1 if x > 1 else x)\n",
    "# cs_training = cs_training.drop(cs_training.query('financial_state_rate > 1').index.tolist())"
   ]
  },
  {
   "cell_type": "markdown",
   "metadata": {},
   "source": [
    "## Анализ параметра count_of_small_past_due"
   ]
  },
  {
   "cell_type": "code",
   "execution_count": 38,
   "metadata": {
    "scrolled": true
   },
   "outputs": [
    {
     "data": {
      "text/plain": [
       "count    149211.000000\n",
       "mean          0.419480\n",
       "std           4.203059\n",
       "min           0.000000\n",
       "25%           0.000000\n",
       "50%           0.000000\n",
       "75%           0.000000\n",
       "max          98.000000\n",
       "Name: count_of_small_past_due, dtype: float64"
      ]
     },
     "metadata": {},
     "output_type": "display_data"
    }
   ],
   "source": [
    "display(cs_training['count_of_small_past_due'].describe())"
   ]
  },
  {
   "cell_type": "code",
   "execution_count": 39,
   "metadata": {
    "scrolled": true
   },
   "outputs": [
    {
     "data": {
      "text/plain": [
       "<matplotlib.axes._subplots.AxesSubplot at 0x7f8a99c7c190>"
      ]
     },
     "execution_count": 39,
     "metadata": {},
     "output_type": "execute_result"
    },
    {
     "data": {
      "image/png": "[encoded data removed]",
      "text/plain": [
       "<Figure size 432x288 with 1 Axes>"
      ]
     },
     "metadata": {
      "needs_background": "light"
     },
     "output_type": "display_data"
    }
   ],
   "source": [
    "cs_training.boxplot(column='count_of_small_past_due')"
   ]
  },
  {
   "cell_type": "markdown",
   "metadata": {},
   "source": [
    "Этот признак нельзя однозначно очистить от выбросов, но как мы можем видеть присутствует сильный разрыв, между значениями попадающими в отрезки до 20 и больше 80. Я считаю, что значения больше 80 стоит удалить. Посмотрим много ли их"
   ]
  },
  {
   "cell_type": "code",
   "execution_count": 40,
   "metadata": {
    "scrolled": true
   },
   "outputs": [
    {
     "data": {
      "text/html": [
       "<div>\n",
       "<style scoped>\n",
       "    .dataframe tbody tr th:only-of-type {\n",
       "        vertical-align: middle;\n",
       "    }\n",
       "\n",
       "    .dataframe tbody tr th {\n",
       "        vertical-align: top;\n",
       "    }\n",
       "\n",
       "    .dataframe thead th {\n",
       "        text-align: right;\n",
       "    }\n",
       "</style>\n",
       "<table border=\"1\" class=\"dataframe\">\n",
       "  <thead>\n",
       "    <tr style=\"text-align: right;\">\n",
       "      <th></th>\n",
       "      <th>serious_loan</th>\n",
       "      <th>financial_state_rate</th>\n",
       "      <th>age</th>\n",
       "      <th>count_of_small_past_due</th>\n",
       "      <th>debt_ratio</th>\n",
       "      <th>monthly_income</th>\n",
       "      <th>number_of_credit_lines</th>\n",
       "      <th>count_of_big_past_due</th>\n",
       "      <th>number_of_estate_loans</th>\n",
       "      <th>count_of_medium_past_due</th>\n",
       "      <th>number_of_dependents</th>\n",
       "    </tr>\n",
       "    <tr>\n",
       "      <th>id</th>\n",
       "      <th></th>\n",
       "      <th></th>\n",
       "      <th></th>\n",
       "      <th></th>\n",
       "      <th></th>\n",
       "      <th></th>\n",
       "      <th></th>\n",
       "      <th></th>\n",
       "      <th></th>\n",
       "      <th></th>\n",
       "      <th></th>\n",
       "    </tr>\n",
       "  </thead>\n",
       "  <tbody>\n",
       "    <tr>\n",
       "      <th>1734</th>\n",
       "      <td>1</td>\n",
       "      <td>1.0</td>\n",
       "      <td>27</td>\n",
       "      <td>98</td>\n",
       "      <td>0.0</td>\n",
       "      <td>2700.0</td>\n",
       "      <td>0</td>\n",
       "      <td>98</td>\n",
       "      <td>0</td>\n",
       "      <td>98</td>\n",
       "      <td>0.0</td>\n",
       "    </tr>\n",
       "    <tr>\n",
       "      <th>2287</th>\n",
       "      <td>0</td>\n",
       "      <td>1.0</td>\n",
       "      <td>22</td>\n",
       "      <td>98</td>\n",
       "      <td>0.0</td>\n",
       "      <td>NaN</td>\n",
       "      <td>0</td>\n",
       "      <td>98</td>\n",
       "      <td>0</td>\n",
       "      <td>98</td>\n",
       "      <td>0.0</td>\n",
       "    </tr>\n",
       "    <tr>\n",
       "      <th>3885</th>\n",
       "      <td>0</td>\n",
       "      <td>1.0</td>\n",
       "      <td>38</td>\n",
       "      <td>98</td>\n",
       "      <td>12.0</td>\n",
       "      <td>NaN</td>\n",
       "      <td>0</td>\n",
       "      <td>98</td>\n",
       "      <td>0</td>\n",
       "      <td>98</td>\n",
       "      <td>0.0</td>\n",
       "    </tr>\n",
       "    <tr>\n",
       "      <th>4418</th>\n",
       "      <td>0</td>\n",
       "      <td>1.0</td>\n",
       "      <td>21</td>\n",
       "      <td>98</td>\n",
       "      <td>0.0</td>\n",
       "      <td>0.0</td>\n",
       "      <td>0</td>\n",
       "      <td>98</td>\n",
       "      <td>0</td>\n",
       "      <td>98</td>\n",
       "      <td>0.0</td>\n",
       "    </tr>\n",
       "    <tr>\n",
       "      <th>4706</th>\n",
       "      <td>0</td>\n",
       "      <td>1.0</td>\n",
       "      <td>21</td>\n",
       "      <td>98</td>\n",
       "      <td>0.0</td>\n",
       "      <td>2000.0</td>\n",
       "      <td>0</td>\n",
       "      <td>98</td>\n",
       "      <td>0</td>\n",
       "      <td>98</td>\n",
       "      <td>0.0</td>\n",
       "    </tr>\n",
       "    <tr>\n",
       "      <th>...</th>\n",
       "      <td>...</td>\n",
       "      <td>...</td>\n",
       "      <td>...</td>\n",
       "      <td>...</td>\n",
       "      <td>...</td>\n",
       "      <td>...</td>\n",
       "      <td>...</td>\n",
       "      <td>...</td>\n",
       "      <td>...</td>\n",
       "      <td>...</td>\n",
       "      <td>...</td>\n",
       "    </tr>\n",
       "    <tr>\n",
       "      <th>147775</th>\n",
       "      <td>1</td>\n",
       "      <td>1.0</td>\n",
       "      <td>68</td>\n",
       "      <td>98</td>\n",
       "      <td>255.0</td>\n",
       "      <td>NaN</td>\n",
       "      <td>0</td>\n",
       "      <td>98</td>\n",
       "      <td>0</td>\n",
       "      <td>98</td>\n",
       "      <td>0.0</td>\n",
       "    </tr>\n",
       "    <tr>\n",
       "      <th>149154</th>\n",
       "      <td>1</td>\n",
       "      <td>1.0</td>\n",
       "      <td>24</td>\n",
       "      <td>98</td>\n",
       "      <td>54.0</td>\n",
       "      <td>NaN</td>\n",
       "      <td>0</td>\n",
       "      <td>98</td>\n",
       "      <td>0</td>\n",
       "      <td>98</td>\n",
       "      <td>0.0</td>\n",
       "    </tr>\n",
       "    <tr>\n",
       "      <th>149240</th>\n",
       "      <td>0</td>\n",
       "      <td>1.0</td>\n",
       "      <td>26</td>\n",
       "      <td>98</td>\n",
       "      <td>0.0</td>\n",
       "      <td>2000.0</td>\n",
       "      <td>0</td>\n",
       "      <td>98</td>\n",
       "      <td>0</td>\n",
       "      <td>98</td>\n",
       "      <td>0.0</td>\n",
       "    </tr>\n",
       "    <tr>\n",
       "      <th>149440</th>\n",
       "      <td>1</td>\n",
       "      <td>1.0</td>\n",
       "      <td>34</td>\n",
       "      <td>98</td>\n",
       "      <td>9.0</td>\n",
       "      <td>NaN</td>\n",
       "      <td>0</td>\n",
       "      <td>98</td>\n",
       "      <td>0</td>\n",
       "      <td>98</td>\n",
       "      <td>0.0</td>\n",
       "    </tr>\n",
       "    <tr>\n",
       "      <th>149770</th>\n",
       "      <td>0</td>\n",
       "      <td>1.0</td>\n",
       "      <td>23</td>\n",
       "      <td>98</td>\n",
       "      <td>0.0</td>\n",
       "      <td>NaN</td>\n",
       "      <td>0</td>\n",
       "      <td>98</td>\n",
       "      <td>0</td>\n",
       "      <td>98</td>\n",
       "      <td>NaN</td>\n",
       "    </tr>\n",
       "  </tbody>\n",
       "</table>\n",
       "<p>269 rows × 11 columns</p>\n",
       "</div>"
      ],
      "text/plain": [
       "        serious_loan  financial_state_rate  age  count_of_small_past_due  \\\n",
       "id                                                                         \n",
       "1734               1                   1.0   27                       98   \n",
       "2287               0                   1.0   22                       98   \n",
       "3885               0                   1.0   38                       98   \n",
       "4418               0                   1.0   21                       98   \n",
       "4706               0                   1.0   21                       98   \n",
       "...              ...                   ...  ...                      ...   \n",
       "147775             1                   1.0   68                       98   \n",
       "149154             1                   1.0   24                       98   \n",
       "149240             0                   1.0   26                       98   \n",
       "149440             1                   1.0   34                       98   \n",
       "149770             0                   1.0   23                       98   \n",
       "\n",
       "        debt_ratio  monthly_income  number_of_credit_lines  \\\n",
       "id                                                           \n",
       "1734           0.0          2700.0                       0   \n",
       "2287           0.0             NaN                       0   \n",
       "3885          12.0             NaN                       0   \n",
       "4418           0.0             0.0                       0   \n",
       "4706           0.0          2000.0                       0   \n",
       "...            ...             ...                     ...   \n",
       "147775       255.0             NaN                       0   \n",
       "149154        54.0             NaN                       0   \n",
       "149240         0.0          2000.0                       0   \n",
       "149440         9.0             NaN                       0   \n",
       "149770         0.0             NaN                       0   \n",
       "\n",
       "        count_of_big_past_due  number_of_estate_loans  \\\n",
       "id                                                      \n",
       "1734                       98                       0   \n",
       "2287                       98                       0   \n",
       "3885                       98                       0   \n",
       "4418                       98                       0   \n",
       "4706                       98                       0   \n",
       "...                       ...                     ...   \n",
       "147775                     98                       0   \n",
       "149154                     98                       0   \n",
       "149240                     98                       0   \n",
       "149440                     98                       0   \n",
       "149770                     98                       0   \n",
       "\n",
       "        count_of_medium_past_due  number_of_dependents  \n",
       "id                                                      \n",
       "1734                          98                   0.0  \n",
       "2287                          98                   0.0  \n",
       "3885                          98                   0.0  \n",
       "4418                          98                   0.0  \n",
       "4706                          98                   0.0  \n",
       "...                          ...                   ...  \n",
       "147775                        98                   0.0  \n",
       "149154                        98                   0.0  \n",
       "149240                        98                   0.0  \n",
       "149440                        98                   0.0  \n",
       "149770                        98                   NaN  \n",
       "\n",
       "[269 rows x 11 columns]"
      ]
     },
     "execution_count": 40,
     "metadata": {},
     "output_type": "execute_result"
    }
   ],
   "source": [
    "cs_training.query('count_of_small_past_due > 80')"
   ]
  },
  {
   "cell_type": "markdown",
   "metadata": {},
   "source": [
    "Таких объектов всего 225, удалим их"
   ]
  },
  {
   "cell_type": "code",
   "execution_count": 41,
   "metadata": {},
   "outputs": [],
   "source": [
    "cs_training = cs_training.drop(cs_training.query('count_of_small_past_due > 80').index.tolist())"
   ]
  },
  {
   "cell_type": "markdown",
   "metadata": {},
   "source": []
  },
  {
   "cell_type": "markdown",
   "metadata": {},
   "source": [
    "## Анализ параметра debt_ratio"
   ]
  },
  {
   "cell_type": "code",
   "execution_count": 42,
   "metadata": {},
   "outputs": [
    {
     "data": {
      "text/plain": [
       "count    148942.000000\n",
       "mean        353.842557\n",
       "std        2043.341664\n",
       "min           0.000000\n",
       "25%           0.176107\n",
       "50%           0.367165\n",
       "75%           0.868529\n",
       "max      329664.000000\n",
       "Name: debt_ratio, dtype: float64"
      ]
     },
     "metadata": {},
     "output_type": "display_data"
    }
   ],
   "source": [
    "display(cs_training['debt_ratio'].describe())"
   ]
  },
  {
   "cell_type": "markdown",
   "metadata": {},
   "source": [
    "В данном признаке не может быть значений больше 1, иначе это бы означала, что у человека нет денег е только для оплаты долга, но и на пищу"
   ]
  },
  {
   "cell_type": "code",
   "execution_count": 43,
   "metadata": {
    "scrolled": true
   },
   "outputs": [
    {
     "data": {
      "text/html": [
       "<div>\n",
       "<style scoped>\n",
       "    .dataframe tbody tr th:only-of-type {\n",
       "        vertical-align: middle;\n",
       "    }\n",
       "\n",
       "    .dataframe tbody tr th {\n",
       "        vertical-align: top;\n",
       "    }\n",
       "\n",
       "    .dataframe thead th {\n",
       "        text-align: right;\n",
       "    }\n",
       "</style>\n",
       "<table border=\"1\" class=\"dataframe\">\n",
       "  <thead>\n",
       "    <tr style=\"text-align: right;\">\n",
       "      <th></th>\n",
       "      <th>serious_loan</th>\n",
       "      <th>financial_state_rate</th>\n",
       "      <th>age</th>\n",
       "      <th>count_of_small_past_due</th>\n",
       "      <th>debt_ratio</th>\n",
       "      <th>monthly_income</th>\n",
       "      <th>number_of_credit_lines</th>\n",
       "      <th>count_of_big_past_due</th>\n",
       "      <th>number_of_estate_loans</th>\n",
       "      <th>count_of_medium_past_due</th>\n",
       "      <th>number_of_dependents</th>\n",
       "    </tr>\n",
       "    <tr>\n",
       "      <th>id</th>\n",
       "      <th></th>\n",
       "      <th></th>\n",
       "      <th></th>\n",
       "      <th></th>\n",
       "      <th></th>\n",
       "      <th></th>\n",
       "      <th></th>\n",
       "      <th></th>\n",
       "      <th></th>\n",
       "      <th></th>\n",
       "      <th></th>\n",
       "    </tr>\n",
       "  </thead>\n",
       "  <tbody>\n",
       "    <tr>\n",
       "      <th>7</th>\n",
       "      <td>0</td>\n",
       "      <td>0.305682</td>\n",
       "      <td>57</td>\n",
       "      <td>0</td>\n",
       "      <td>5710.000000</td>\n",
       "      <td>NaN</td>\n",
       "      <td>8</td>\n",
       "      <td>0</td>\n",
       "      <td>3</td>\n",
       "      <td>0</td>\n",
       "      <td>0.0</td>\n",
       "    </tr>\n",
       "    <tr>\n",
       "      <th>9</th>\n",
       "      <td>0</td>\n",
       "      <td>0.116951</td>\n",
       "      <td>27</td>\n",
       "      <td>0</td>\n",
       "      <td>46.000000</td>\n",
       "      <td>NaN</td>\n",
       "      <td>2</td>\n",
       "      <td>0</td>\n",
       "      <td>0</td>\n",
       "      <td>0</td>\n",
       "      <td>NaN</td>\n",
       "    </tr>\n",
       "    <tr>\n",
       "      <th>15</th>\n",
       "      <td>0</td>\n",
       "      <td>0.019657</td>\n",
       "      <td>76</td>\n",
       "      <td>0</td>\n",
       "      <td>477.000000</td>\n",
       "      <td>0.0</td>\n",
       "      <td>6</td>\n",
       "      <td>0</td>\n",
       "      <td>1</td>\n",
       "      <td>0</td>\n",
       "      <td>0.0</td>\n",
       "    </tr>\n",
       "    <tr>\n",
       "      <th>17</th>\n",
       "      <td>0</td>\n",
       "      <td>0.061086</td>\n",
       "      <td>78</td>\n",
       "      <td>0</td>\n",
       "      <td>2058.000000</td>\n",
       "      <td>NaN</td>\n",
       "      <td>10</td>\n",
       "      <td>0</td>\n",
       "      <td>2</td>\n",
       "      <td>0</td>\n",
       "      <td>0.0</td>\n",
       "    </tr>\n",
       "    <tr>\n",
       "      <th>26</th>\n",
       "      <td>1</td>\n",
       "      <td>0.392248</td>\n",
       "      <td>50</td>\n",
       "      <td>0</td>\n",
       "      <td>1.595253</td>\n",
       "      <td>4676.0</td>\n",
       "      <td>14</td>\n",
       "      <td>0</td>\n",
       "      <td>3</td>\n",
       "      <td>0</td>\n",
       "      <td>1.0</td>\n",
       "    </tr>\n",
       "    <tr>\n",
       "      <th>...</th>\n",
       "      <td>...</td>\n",
       "      <td>...</td>\n",
       "      <td>...</td>\n",
       "      <td>...</td>\n",
       "      <td>...</td>\n",
       "      <td>...</td>\n",
       "      <td>...</td>\n",
       "      <td>...</td>\n",
       "      <td>...</td>\n",
       "      <td>...</td>\n",
       "      <td>...</td>\n",
       "    </tr>\n",
       "    <tr>\n",
       "      <th>149977</th>\n",
       "      <td>0</td>\n",
       "      <td>0.000627</td>\n",
       "      <td>76</td>\n",
       "      <td>0</td>\n",
       "      <td>60.000000</td>\n",
       "      <td>NaN</td>\n",
       "      <td>5</td>\n",
       "      <td>0</td>\n",
       "      <td>0</td>\n",
       "      <td>0</td>\n",
       "      <td>0.0</td>\n",
       "    </tr>\n",
       "    <tr>\n",
       "      <th>149978</th>\n",
       "      <td>0</td>\n",
       "      <td>0.236450</td>\n",
       "      <td>29</td>\n",
       "      <td>0</td>\n",
       "      <td>349.000000</td>\n",
       "      <td>NaN</td>\n",
       "      <td>3</td>\n",
       "      <td>0</td>\n",
       "      <td>0</td>\n",
       "      <td>0</td>\n",
       "      <td>0.0</td>\n",
       "    </tr>\n",
       "    <tr>\n",
       "      <th>149985</th>\n",
       "      <td>0</td>\n",
       "      <td>0.037548</td>\n",
       "      <td>84</td>\n",
       "      <td>0</td>\n",
       "      <td>25.000000</td>\n",
       "      <td>NaN</td>\n",
       "      <td>5</td>\n",
       "      <td>0</td>\n",
       "      <td>0</td>\n",
       "      <td>0</td>\n",
       "      <td>0.0</td>\n",
       "    </tr>\n",
       "    <tr>\n",
       "      <th>149993</th>\n",
       "      <td>0</td>\n",
       "      <td>0.871976</td>\n",
       "      <td>50</td>\n",
       "      <td>0</td>\n",
       "      <td>4132.000000</td>\n",
       "      <td>NaN</td>\n",
       "      <td>11</td>\n",
       "      <td>0</td>\n",
       "      <td>1</td>\n",
       "      <td>0</td>\n",
       "      <td>3.0</td>\n",
       "    </tr>\n",
       "    <tr>\n",
       "      <th>149998</th>\n",
       "      <td>0</td>\n",
       "      <td>0.246044</td>\n",
       "      <td>58</td>\n",
       "      <td>0</td>\n",
       "      <td>3870.000000</td>\n",
       "      <td>NaN</td>\n",
       "      <td>18</td>\n",
       "      <td>0</td>\n",
       "      <td>1</td>\n",
       "      <td>0</td>\n",
       "      <td>0.0</td>\n",
       "    </tr>\n",
       "  </tbody>\n",
       "</table>\n",
       "<p>34890 rows × 11 columns</p>\n",
       "</div>"
      ],
      "text/plain": [
       "        serious_loan  financial_state_rate  age  count_of_small_past_due  \\\n",
       "id                                                                         \n",
       "7                  0              0.305682   57                        0   \n",
       "9                  0              0.116951   27                        0   \n",
       "15                 0              0.019657   76                        0   \n",
       "17                 0              0.061086   78                        0   \n",
       "26                 1              0.392248   50                        0   \n",
       "...              ...                   ...  ...                      ...   \n",
       "149977             0              0.000627   76                        0   \n",
       "149978             0              0.236450   29                        0   \n",
       "149985             0              0.037548   84                        0   \n",
       "149993             0              0.871976   50                        0   \n",
       "149998             0              0.246044   58                        0   \n",
       "\n",
       "         debt_ratio  monthly_income  number_of_credit_lines  \\\n",
       "id                                                            \n",
       "7       5710.000000             NaN                       8   \n",
       "9         46.000000             NaN                       2   \n",
       "15       477.000000             0.0                       6   \n",
       "17      2058.000000             NaN                      10   \n",
       "26         1.595253          4676.0                      14   \n",
       "...             ...             ...                     ...   \n",
       "149977    60.000000             NaN                       5   \n",
       "149978   349.000000             NaN                       3   \n",
       "149985    25.000000             NaN                       5   \n",
       "149993  4132.000000             NaN                      11   \n",
       "149998  3870.000000             NaN                      18   \n",
       "\n",
       "        count_of_big_past_due  number_of_estate_loans  \\\n",
       "id                                                      \n",
       "7                           0                       3   \n",
       "9                           0                       0   \n",
       "15                          0                       1   \n",
       "17                          0                       2   \n",
       "26                          0                       3   \n",
       "...                       ...                     ...   \n",
       "149977                      0                       0   \n",
       "149978                      0                       0   \n",
       "149985                      0                       0   \n",
       "149993                      0                       1   \n",
       "149998                      0                       1   \n",
       "\n",
       "        count_of_medium_past_due  number_of_dependents  \n",
       "id                                                      \n",
       "7                              0                   0.0  \n",
       "9                              0                   NaN  \n",
       "15                             0                   0.0  \n",
       "17                             0                   0.0  \n",
       "26                             0                   1.0  \n",
       "...                          ...                   ...  \n",
       "149977                         0                   0.0  \n",
       "149978                         0                   0.0  \n",
       "149985                         0                   0.0  \n",
       "149993                         0                   3.0  \n",
       "149998                         0                   0.0  \n",
       "\n",
       "[34890 rows x 11 columns]"
      ]
     },
     "execution_count": 43,
     "metadata": {},
     "output_type": "execute_result"
    }
   ],
   "source": [
    "cs_training.query('debt_ratio > 1')"
   ]
  },
  {
   "cell_type": "code",
   "execution_count": 44,
   "metadata": {},
   "outputs": [],
   "source": [
    "cs_training = cs_training.drop(cs_training.query('debt_ratio > 1').index.tolist())"
   ]
  },
  {
   "cell_type": "code",
   "execution_count": 45,
   "metadata": {},
   "outputs": [
    {
     "data": {
      "text/plain": [
       "count    114052.000000\n",
       "mean          0.303751\n",
       "std           0.226111\n",
       "min           0.000000\n",
       "25%           0.127362\n",
       "50%           0.275235\n",
       "75%           0.438757\n",
       "max           1.000000\n",
       "Name: debt_ratio, dtype: float64"
      ]
     },
     "metadata": {},
     "output_type": "display_data"
    }
   ],
   "source": [
    "display(cs_training['debt_ratio'].describe())"
   ]
  },
  {
   "cell_type": "markdown",
   "metadata": {},
   "source": [
    "## Анализ параметра monthly_income"
   ]
  },
  {
   "cell_type": "code",
   "execution_count": 46,
   "metadata": {
    "scrolled": true
   },
   "outputs": [
    {
     "data": {
      "text/plain": [
       "count    1.123200e+05\n",
       "mean     6.960850e+03\n",
       "std      1.481449e+04\n",
       "min      0.000000e+00\n",
       "25%      3.646000e+03\n",
       "50%      5.600000e+03\n",
       "75%      8.416250e+03\n",
       "max      3.008750e+06\n",
       "Name: monthly_income, dtype: float64"
      ]
     },
     "execution_count": 46,
     "metadata": {},
     "output_type": "execute_result"
    }
   ],
   "source": [
    "cs_training['monthly_income'].describe()"
   ]
  },
  {
   "cell_type": "code",
   "execution_count": 47,
   "metadata": {
    "scrolled": true
   },
   "outputs": [
    {
     "data": {
      "text/plain": [
       "1732"
      ]
     },
     "execution_count": 47,
     "metadata": {},
     "output_type": "execute_result"
    }
   ],
   "source": [
    "cs_training['monthly_income'].isnull().sum()"
   ]
  },
  {
   "cell_type": "code",
   "execution_count": 48,
   "metadata": {},
   "outputs": [],
   "source": [
    "cs_training = cs_training.dropna(subset=['monthly_income'], axis = 0)"
   ]
  },
  {
   "cell_type": "code",
   "execution_count": 49,
   "metadata": {
    "scrolled": false
   },
   "outputs": [
    {
     "data": {
      "text/plain": [
       "<matplotlib.axes._subplots.AxesSubplot at 0x7f8a99d44dc0>"
      ]
     },
     "execution_count": 49,
     "metadata": {},
     "output_type": "execute_result"
    },
    {
     "data": {
      "image/png": "[encoded data removed]",
      "text/plain": [
       "<Figure size 432x288 with 1 Axes>"
      ]
     },
     "metadata": {
      "needs_background": "light"
     },
     "output_type": "display_data"
    }
   ],
   "source": [
    "cs_training.boxplot(column='monthly_income')"
   ]
  },
  {
   "cell_type": "code",
   "execution_count": 50,
   "metadata": {
    "scrolled": true
   },
   "outputs": [
    {
     "name": "stdout",
     "output_type": "stream",
     "text": [
      "Количество строк, выбранных для удаления monthly_income: 6023. Количество итераций 4\n",
      "\n"
     ]
    }
   ],
   "source": [
    "cs_training,_,_ = removing_outliers('monthly_income',cs_training)"
   ]
  },
  {
   "cell_type": "code",
   "execution_count": 51,
   "metadata": {
    "scrolled": true
   },
   "outputs": [
    {
     "name": "stdout",
     "output_type": "stream",
     "text": [
      "<class 'pandas.core.frame.DataFrame'>\n",
      "Int64Index: 106297 entries, 1 to 150000\n",
      "Data columns (total 11 columns):\n",
      " #   Column                    Non-Null Count   Dtype  \n",
      "---  ------                    --------------   -----  \n",
      " 0   serious_loan              106297 non-null  int64  \n",
      " 1   financial_state_rate      106297 non-null  float64\n",
      " 2   age                       106297 non-null  int64  \n",
      " 3   count_of_small_past_due   106297 non-null  int64  \n",
      " 4   debt_ratio                106297 non-null  float64\n",
      " 5   monthly_income            106297 non-null  float64\n",
      " 6   number_of_credit_lines    106297 non-null  int64  \n",
      " 7   count_of_big_past_due     106297 non-null  int64  \n",
      " 8   number_of_estate_loans    106297 non-null  int64  \n",
      " 9   count_of_medium_past_due  106297 non-null  int64  \n",
      " 10  number_of_dependents      106297 non-null  float64\n",
      "dtypes: float64(4), int64(7)\n",
      "memory usage: 14.7 MB\n"
     ]
    }
   ],
   "source": [
    "cs_training.info()"
   ]
  },
  {
   "cell_type": "markdown",
   "metadata": {},
   "source": [
    "## Анализ параметра number_of_credit_lines"
   ]
  },
  {
   "cell_type": "code",
   "execution_count": 52,
   "metadata": {
    "scrolled": true
   },
   "outputs": [
    {
     "data": {
      "text/plain": [
       "count    106297.000000\n",
       "mean          8.532216\n",
       "std           5.018585\n",
       "min           0.000000\n",
       "25%           5.000000\n",
       "50%           8.000000\n",
       "75%          11.000000\n",
       "max          57.000000\n",
       "Name: number_of_credit_lines, dtype: float64"
      ]
     },
     "execution_count": 52,
     "metadata": {},
     "output_type": "execute_result"
    }
   ],
   "source": [
    "cs_training['number_of_credit_lines'].describe()"
   ]
  },
  {
   "cell_type": "code",
   "execution_count": 53,
   "metadata": {
    "scrolled": true
   },
   "outputs": [
    {
     "data": {
      "text/plain": [
       "<matplotlib.axes._subplots.AxesSubplot at 0x7f8a99a7e460>"
      ]
     },
     "execution_count": 53,
     "metadata": {},
     "output_type": "execute_result"
    },
    {
     "data": {
      "image/png": "[encoded data removed]",
      "text/plain": [
       "<Figure size 432x288 with 1 Axes>"
      ]
     },
     "metadata": {
      "needs_background": "light"
     },
     "output_type": "display_data"
    }
   ],
   "source": [
    "cs_training.boxplot(column='number_of_credit_lines')"
   ]
  },
  {
   "cell_type": "code",
   "execution_count": 54,
   "metadata": {},
   "outputs": [
    {
     "name": "stdout",
     "output_type": "stream",
     "text": [
      "Количество строк, выбранных для удаления number_of_credit_lines: 2630. Количество итераций 2\n",
      "\n"
     ]
    }
   ],
   "source": [
    "cs_training,_,_ = removing_outliers('number_of_credit_lines',cs_training)"
   ]
  },
  {
   "cell_type": "code",
   "execution_count": 55,
   "metadata": {
    "scrolled": true
   },
   "outputs": [
    {
     "data": {
      "text/plain": [
       "<matplotlib.axes._subplots.AxesSubplot at 0x7f8a99ac4d00>"
      ]
     },
     "execution_count": 55,
     "metadata": {},
     "output_type": "execute_result"
    },
    {
     "data": {
      "image/png": "[encoded data removed]",
      "text/plain": [
       "<Figure size 432x288 with 1 Axes>"
      ]
     },
     "metadata": {
      "needs_background": "light"
     },
     "output_type": "display_data"
    }
   ],
   "source": [
    "cs_training.boxplot(column='number_of_credit_lines')"
   ]
  },
  {
   "cell_type": "markdown",
   "metadata": {},
   "source": [
    "## Анализ параметра count_of_big_past_due"
   ]
  },
  {
   "cell_type": "code",
   "execution_count": 56,
   "metadata": {
    "scrolled": true
   },
   "outputs": [
    {
     "data": {
      "text/plain": [
       "count    103667.000000\n",
       "mean          0.091726\n",
       "std           0.477927\n",
       "min           0.000000\n",
       "25%           0.000000\n",
       "50%           0.000000\n",
       "75%           0.000000\n",
       "max          17.000000\n",
       "Name: count_of_big_past_due, dtype: float64"
      ]
     },
     "execution_count": 56,
     "metadata": {},
     "output_type": "execute_result"
    }
   ],
   "source": [
    "cs_training['count_of_big_past_due'].describe()"
   ]
  },
  {
   "cell_type": "markdown",
   "metadata": {},
   "source": [
    "## Анализ параметра number_of_estate_loans"
   ]
  },
  {
   "cell_type": "code",
   "execution_count": 57,
   "metadata": {
    "scrolled": true
   },
   "outputs": [
    {
     "data": {
      "text/plain": [
       "count    103667.000000\n",
       "mean          0.940724\n",
       "std           0.968504\n",
       "min           0.000000\n",
       "25%           0.000000\n",
       "50%           1.000000\n",
       "75%           2.000000\n",
       "max          13.000000\n",
       "Name: number_of_estate_loans, dtype: float64"
      ]
     },
     "execution_count": 57,
     "metadata": {},
     "output_type": "execute_result"
    }
   ],
   "source": [
    "cs_training['number_of_estate_loans'].describe()"
   ]
  },
  {
   "cell_type": "code",
   "execution_count": 58,
   "metadata": {
    "scrolled": true
   },
   "outputs": [
    {
     "data": {
      "text/plain": [
       "<matplotlib.axes._subplots.AxesSubplot at 0x7f8ab2e3c640>"
      ]
     },
     "execution_count": 58,
     "metadata": {},
     "output_type": "execute_result"
    },
    {
     "data": {
      "image/png": "[encoded data removed]",
      "text/plain": [
       "<Figure size 432x288 with 1 Axes>"
      ]
     },
     "metadata": {
      "needs_background": "light"
     },
     "output_type": "display_data"
    }
   ],
   "source": [
    "cs_training['number_of_estate_loans'].hist()"
   ]
  },
  {
   "cell_type": "code",
   "execution_count": 59,
   "metadata": {},
   "outputs": [
    {
     "data": {
      "text/plain": [
       "<matplotlib.axes._subplots.AxesSubplot at 0x7f8a9bf921f0>"
      ]
     },
     "execution_count": 59,
     "metadata": {},
     "output_type": "execute_result"
    },
    {
     "data": {
      "image/png": "[encoded data removed]",
      "text/plain": [
       "<Figure size 432x288 with 1 Axes>"
      ]
     },
     "metadata": {
      "needs_background": "light"
     },
     "output_type": "display_data"
    }
   ],
   "source": [
    "cs_training.boxplot(column='number_of_estate_loans')"
   ]
  },
  {
   "cell_type": "code",
   "execution_count": 60,
   "metadata": {
    "scrolled": true
   },
   "outputs": [
    {
     "name": "stdout",
     "output_type": "stream",
     "text": [
      "Количество строк, выбранных для удаления number_of_estate_loans: 188. Количество итераций 2\n",
      "\n"
     ]
    }
   ],
   "source": [
    "cs_training,_,_ = removing_outliers('number_of_estate_loans',cs_training)"
   ]
  },
  {
   "cell_type": "markdown",
   "metadata": {},
   "source": [
    "## Анализ параметра count_of_medium_past_due"
   ]
  },
  {
   "cell_type": "code",
   "execution_count": 61,
   "metadata": {},
   "outputs": [
    {
     "data": {
      "text/plain": [
       "count    103479.000000\n",
       "mean          0.065897\n",
       "std           0.324878\n",
       "min           0.000000\n",
       "25%           0.000000\n",
       "50%           0.000000\n",
       "75%           0.000000\n",
       "max          11.000000\n",
       "Name: count_of_medium_past_due, dtype: float64"
      ]
     },
     "execution_count": 61,
     "metadata": {},
     "output_type": "execute_result"
    }
   ],
   "source": [
    "cs_training['count_of_medium_past_due'].describe()"
   ]
  },
  {
   "cell_type": "markdown",
   "metadata": {},
   "source": [
    "## Анализ параметра number_of_dependents"
   ]
  },
  {
   "cell_type": "code",
   "execution_count": 62,
   "metadata": {
    "scrolled": true
   },
   "outputs": [
    {
     "data": {
      "text/plain": [
       "count    103479.000000\n",
       "mean          0.832584\n",
       "std           1.136263\n",
       "min           0.000000\n",
       "25%           0.000000\n",
       "50%           0.000000\n",
       "75%           1.000000\n",
       "max          20.000000\n",
       "Name: number_of_dependents, dtype: float64"
      ]
     },
     "execution_count": 62,
     "metadata": {},
     "output_type": "execute_result"
    }
   ],
   "source": [
    "cs_training['number_of_dependents'].describe()"
   ]
  },
  {
   "cell_type": "code",
   "execution_count": 63,
   "metadata": {},
   "outputs": [],
   "source": [
    "cs_training = cs_training.drop(cs_training.query('number_of_dependents > 10').index.tolist())"
   ]
  },
  {
   "cell_type": "markdown",
   "metadata": {},
   "source": [
    "## Проверка на дубликаты"
   ]
  },
  {
   "cell_type": "code",
   "execution_count": 64,
   "metadata": {},
   "outputs": [
    {
     "name": "stdout",
     "output_type": "stream",
     "text": [
      "Количество дубликатов в выборке: 96\n"
     ]
    }
   ],
   "source": [
    "print(f\"Количество дубликатов в выборке: {cs_training.duplicated().sum()}\")"
   ]
  },
  {
   "cell_type": "markdown",
   "metadata": {},
   "source": [
    "Удалим все найденный дубликаты"
   ]
  },
  {
   "cell_type": "code",
   "execution_count": 65,
   "metadata": {},
   "outputs": [],
   "source": [
    "cs_training = cs_training.drop_duplicates()"
   ]
  },
  {
   "cell_type": "markdown",
   "metadata": {},
   "source": [
    "Проверим удаленные дубликаты "
   ]
  },
  {
   "cell_type": "code",
   "execution_count": 66,
   "metadata": {},
   "outputs": [
    {
     "name": "stdout",
     "output_type": "stream",
     "text": [
      "Количество дубликатов в выборке: 0\n"
     ]
    }
   ],
   "source": [
    "print(f\"Количество дубликатов в выборке: {cs_training.duplicated().sum()}\")"
   ]
  },
  {
   "cell_type": "markdown",
   "metadata": {},
   "source": [
    "Отлично дубликаты удалены, едем дальше"
   ]
  },
  {
   "cell_type": "markdown",
   "metadata": {},
   "source": [
    "## Посмотрим на выбросы"
   ]
  },
  {
   "cell_type": "code",
   "execution_count": 67,
   "metadata": {
    "scrolled": false
   },
   "outputs": [
    {
     "data": {
      "text/plain": [
       "<matplotlib.axes._subplots.AxesSubplot at 0x7f8a99cf6a60>"
      ]
     },
     "execution_count": 67,
     "metadata": {},
     "output_type": "execute_result"
    },
    {
     "data": {
      "image/png": "[encoded data removed]",
      "text/plain": [
       "<Figure size 1440x360 with 1 Axes>"
      ]
     },
     "metadata": {
      "needs_background": "light"
     },
     "output_type": "display_data"
    }
   ],
   "source": [
    "\n",
    "cs_training.boxplot(figsize=(20,5))"
   ]
  },
  {
   "cell_type": "markdown",
   "metadata": {},
   "source": [
    "Заметим, что больше всего выбросов в признаке monthly_income"
   ]
  },
  {
   "cell_type": "markdown",
   "metadata": {},
   "source": [
    "## Теперь, когда выборка обработана перейдем к более подробному ее разбору"
   ]
  },
  {
   "cell_type": "code",
   "execution_count": 68,
   "metadata": {},
   "outputs": [
    {
     "name": "stdout",
     "output_type": "stream",
     "text": [
      "<class 'pandas.core.frame.DataFrame'>\n",
      "Int64Index: 103381 entries, 2 to 150000\n",
      "Data columns (total 11 columns):\n",
      " #   Column                    Non-Null Count   Dtype  \n",
      "---  ------                    --------------   -----  \n",
      " 0   serious_loan              103381 non-null  int64  \n",
      " 1   financial_state_rate      103381 non-null  float64\n",
      " 2   age                       103381 non-null  int64  \n",
      " 3   count_of_small_past_due   103381 non-null  int64  \n",
      " 4   debt_ratio                103381 non-null  float64\n",
      " 5   monthly_income            103381 non-null  float64\n",
      " 6   number_of_credit_lines    103381 non-null  int64  \n",
      " 7   count_of_big_past_due     103381 non-null  int64  \n",
      " 8   number_of_estate_loans    103381 non-null  int64  \n",
      " 9   count_of_medium_past_due  103381 non-null  int64  \n",
      " 10  number_of_dependents      103381 non-null  float64\n",
      "dtypes: float64(4), int64(7)\n",
      "memory usage: 9.5 MB\n"
     ]
    }
   ],
   "source": [
    "cs_training.info()"
   ]
  },
  {
   "cell_type": "code",
   "execution_count": 69,
   "metadata": {},
   "outputs": [
    {
     "data": {
      "text/html": [
       "<style  type=\"text/css\" >\n",
       "    #T_c0678530_9013_11eb_84ad_3c7d0a043019 th {\n",
       "          font-size: 7pt;\n",
       "    }    #T_c0678530_9013_11eb_84ad_3c7d0a043019 td {\n",
       "          padding: 0em 0em;\n",
       "    }    #T_c0678530_9013_11eb_84ad_3c7d0a043019 th:hover {\n",
       "          font-size: 12pt;\n",
       "    }    #T_c0678530_9013_11eb_84ad_3c7d0a043019 tr:hover td:hover {\n",
       "          max-width: 200px;\n",
       "          font-size: 12pt;\n",
       "    }#T_c0678530_9013_11eb_84ad_3c7d0a043019row0_col0,#T_c0678530_9013_11eb_84ad_3c7d0a043019row1_col1,#T_c0678530_9013_11eb_84ad_3c7d0a043019row2_col2,#T_c0678530_9013_11eb_84ad_3c7d0a043019row3_col3,#T_c0678530_9013_11eb_84ad_3c7d0a043019row4_col4,#T_c0678530_9013_11eb_84ad_3c7d0a043019row5_col5,#T_c0678530_9013_11eb_84ad_3c7d0a043019row6_col6,#T_c0678530_9013_11eb_84ad_3c7d0a043019row7_col7,#T_c0678530_9013_11eb_84ad_3c7d0a043019row8_col8,#T_c0678530_9013_11eb_84ad_3c7d0a043019row9_col9,#T_c0678530_9013_11eb_84ad_3c7d0a043019row10_col10{\n",
       "            background-color:  #4479bb;\n",
       "            color:  #000000;\n",
       "            max-width:  80px;\n",
       "            font-size:  10pt;\n",
       "        }#T_c0678530_9013_11eb_84ad_3c7d0a043019row0_col1,#T_c0678530_9013_11eb_84ad_3c7d0a043019row1_col4{\n",
       "            background-color:  #eab7c1;\n",
       "            color:  #000000;\n",
       "            max-width:  80px;\n",
       "            font-size:  10pt;\n",
       "        }#T_c0678530_9013_11eb_84ad_3c7d0a043019row0_col2,#T_c0678530_9013_11eb_84ad_3c7d0a043019row1_col2,#T_c0678530_9013_11eb_84ad_3c7d0a043019row2_col1,#T_c0678530_9013_11eb_84ad_3c7d0a043019row3_col2,#T_c0678530_9013_11eb_84ad_3c7d0a043019row4_col2,#T_c0678530_9013_11eb_84ad_3c7d0a043019row5_col1,#T_c0678530_9013_11eb_84ad_3c7d0a043019row6_col1,#T_c0678530_9013_11eb_84ad_3c7d0a043019row7_col6,#T_c0678530_9013_11eb_84ad_3c7d0a043019row8_col1,#T_c0678530_9013_11eb_84ad_3c7d0a043019row9_col2,#T_c0678530_9013_11eb_84ad_3c7d0a043019row10_col2{\n",
       "            background-color:  #d73c5b;\n",
       "            color:  #f1f1f1;\n",
       "            max-width:  80px;\n",
       "            font-size:  10pt;\n",
       "        }#T_c0678530_9013_11eb_84ad_3c7d0a043019row0_col3,#T_c0678530_9013_11eb_84ad_3c7d0a043019row3_col9,#T_c0678530_9013_11eb_84ad_3c7d0a043019row9_col3{\n",
       "            background-color:  #eab8c2;\n",
       "            color:  #000000;\n",
       "            max-width:  80px;\n",
       "            font-size:  10pt;\n",
       "        }#T_c0678530_9013_11eb_84ad_3c7d0a043019row0_col4{\n",
       "            background-color:  #df7086;\n",
       "            color:  #000000;\n",
       "            max-width:  80px;\n",
       "            font-size:  10pt;\n",
       "        }#T_c0678530_9013_11eb_84ad_3c7d0a043019row0_col5,#T_c0678530_9013_11eb_84ad_3c7d0a043019row9_col8{\n",
       "            background-color:  #d94764;\n",
       "            color:  #f1f1f1;\n",
       "            max-width:  80px;\n",
       "            font-size:  10pt;\n",
       "        }#T_c0678530_9013_11eb_84ad_3c7d0a043019row0_col6,#T_c0678530_9013_11eb_84ad_3c7d0a043019row5_col4,#T_c0678530_9013_11eb_84ad_3c7d0a043019row8_col0,#T_c0678530_9013_11eb_84ad_3c7d0a043019row8_col9{\n",
       "            background-color:  #da506b;\n",
       "            color:  #000000;\n",
       "            max-width:  80px;\n",
       "            font-size:  10pt;\n",
       "        }#T_c0678530_9013_11eb_84ad_3c7d0a043019row0_col7,#T_c0678530_9013_11eb_84ad_3c7d0a043019row7_col0{\n",
       "            background-color:  #ecc6ce;\n",
       "            color:  #000000;\n",
       "            max-width:  80px;\n",
       "            font-size:  10pt;\n",
       "        }#T_c0678530_9013_11eb_84ad_3c7d0a043019row0_col8{\n",
       "            background-color:  #db526e;\n",
       "            color:  #000000;\n",
       "            max-width:  80px;\n",
       "            font-size:  10pt;\n",
       "        }#T_c0678530_9013_11eb_84ad_3c7d0a043019row0_col9,#T_c0678530_9013_11eb_84ad_3c7d0a043019row10_col5{\n",
       "            background-color:  #e9b5bf;\n",
       "            color:  #000000;\n",
       "            max-width:  80px;\n",
       "            font-size:  10pt;\n",
       "        }#T_c0678530_9013_11eb_84ad_3c7d0a043019row0_col10,#T_c0678530_9013_11eb_84ad_3c7d0a043019row8_col2{\n",
       "            background-color:  #df6f85;\n",
       "            color:  #000000;\n",
       "            max-width:  80px;\n",
       "            font-size:  10pt;\n",
       "        }#T_c0678530_9013_11eb_84ad_3c7d0a043019row1_col0{\n",
       "            background-color:  #eed6db;\n",
       "            color:  #000000;\n",
       "            max-width:  80px;\n",
       "            font-size:  10pt;\n",
       "        }#T_c0678530_9013_11eb_84ad_3c7d0a043019row1_col3{\n",
       "            background-color:  #edcfd5;\n",
       "            color:  #000000;\n",
       "            max-width:  80px;\n",
       "            font-size:  10pt;\n",
       "        }#T_c0678530_9013_11eb_84ad_3c7d0a043019row1_col5,#T_c0678530_9013_11eb_84ad_3c7d0a043019row3_col10,#T_c0678530_9013_11eb_84ad_3c7d0a043019row6_col0{\n",
       "            background-color:  #de687f;\n",
       "            color:  #000000;\n",
       "            max-width:  80px;\n",
       "            font-size:  10pt;\n",
       "        }#T_c0678530_9013_11eb_84ad_3c7d0a043019row1_col6,#T_c0678530_9013_11eb_84ad_3c7d0a043019row4_col7,#T_c0678530_9013_11eb_84ad_3c7d0a043019row6_col7{\n",
       "            background-color:  #db546f;\n",
       "            color:  #000000;\n",
       "            max-width:  80px;\n",
       "            font-size:  10pt;\n",
       "        }#T_c0678530_9013_11eb_84ad_3c7d0a043019row1_col7{\n",
       "            background-color:  #edcdd3;\n",
       "            color:  #000000;\n",
       "            max-width:  80px;\n",
       "            font-size:  10pt;\n",
       "        }#T_c0678530_9013_11eb_84ad_3c7d0a043019row1_col8{\n",
       "            background-color:  #df6d84;\n",
       "            color:  #000000;\n",
       "            max-width:  80px;\n",
       "            font-size:  10pt;\n",
       "        }#T_c0678530_9013_11eb_84ad_3c7d0a043019row1_col9{\n",
       "            background-color:  #ebc1c9;\n",
       "            color:  #000000;\n",
       "            max-width:  80px;\n",
       "            font-size:  10pt;\n",
       "        }#T_c0678530_9013_11eb_84ad_3c7d0a043019row1_col10{\n",
       "            background-color:  #e7a4b1;\n",
       "            color:  #000000;\n",
       "            max-width:  80px;\n",
       "            font-size:  10pt;\n",
       "        }#T_c0678530_9013_11eb_84ad_3c7d0a043019row2_col0,#T_c0678530_9013_11eb_84ad_3c7d0a043019row6_col9{\n",
       "            background-color:  #de6c83;\n",
       "            color:  #000000;\n",
       "            max-width:  80px;\n",
       "            font-size:  10pt;\n",
       "        }#T_c0678530_9013_11eb_84ad_3c7d0a043019row2_col3,#T_c0678530_9013_11eb_84ad_3c7d0a043019row2_col9,#T_c0678530_9013_11eb_84ad_3c7d0a043019row3_col4{\n",
       "            background-color:  #e0768b;\n",
       "            color:  #000000;\n",
       "            max-width:  80px;\n",
       "            font-size:  10pt;\n",
       "        }#T_c0678530_9013_11eb_84ad_3c7d0a043019row2_col4{\n",
       "            background-color:  #df7288;\n",
       "            color:  #000000;\n",
       "            max-width:  80px;\n",
       "            font-size:  10pt;\n",
       "        }#T_c0678530_9013_11eb_84ad_3c7d0a043019row2_col5{\n",
       "            background-color:  #e8aab6;\n",
       "            color:  #000000;\n",
       "            max-width:  80px;\n",
       "            font-size:  10pt;\n",
       "        }#T_c0678530_9013_11eb_84ad_3c7d0a043019row2_col6,#T_c0678530_9013_11eb_84ad_3c7d0a043019row7_col9{\n",
       "            background-color:  #eabcc5;\n",
       "            color:  #000000;\n",
       "            max-width:  80px;\n",
       "            font-size:  10pt;\n",
       "        }#T_c0678530_9013_11eb_84ad_3c7d0a043019row2_col7{\n",
       "            background-color:  #e07389;\n",
       "            color:  #000000;\n",
       "            max-width:  80px;\n",
       "            font-size:  10pt;\n",
       "        }#T_c0678530_9013_11eb_84ad_3c7d0a043019row2_col8{\n",
       "            background-color:  #e69caa;\n",
       "            color:  #000000;\n",
       "            max-width:  80px;\n",
       "            font-size:  10pt;\n",
       "        }#T_c0678530_9013_11eb_84ad_3c7d0a043019row2_col10{\n",
       "            background-color:  #da4e6a;\n",
       "            color:  #000000;\n",
       "            max-width:  80px;\n",
       "            font-size:  10pt;\n",
       "        }#T_c0678530_9013_11eb_84ad_3c7d0a043019row3_col0{\n",
       "            background-color:  #e9afbb;\n",
       "            color:  #000000;\n",
       "            max-width:  80px;\n",
       "            font-size:  10pt;\n",
       "        }#T_c0678530_9013_11eb_84ad_3c7d0a043019row3_col1{\n",
       "            background-color:  #e7a5b2;\n",
       "            color:  #000000;\n",
       "            max-width:  80px;\n",
       "            font-size:  10pt;\n",
       "        }#T_c0678530_9013_11eb_84ad_3c7d0a043019row3_col5{\n",
       "            background-color:  #da516c;\n",
       "            color:  #000000;\n",
       "            max-width:  80px;\n",
       "            font-size:  10pt;\n",
       "        }#T_c0678530_9013_11eb_84ad_3c7d0a043019row3_col6,#T_c0678530_9013_11eb_84ad_3c7d0a043019row4_col0,#T_c0678530_9013_11eb_84ad_3c7d0a043019row7_col10{\n",
       "            background-color:  #de6b82;\n",
       "            color:  #000000;\n",
       "            max-width:  80px;\n",
       "            font-size:  10pt;\n",
       "        }#T_c0678530_9013_11eb_84ad_3c7d0a043019row3_col7{\n",
       "            background-color:  #e69ead;\n",
       "            color:  #000000;\n",
       "            max-width:  80px;\n",
       "            font-size:  10pt;\n",
       "        }#T_c0678530_9013_11eb_84ad_3c7d0a043019row3_col8{\n",
       "            background-color:  #dc5973;\n",
       "            color:  #000000;\n",
       "            max-width:  80px;\n",
       "            font-size:  10pt;\n",
       "        }#T_c0678530_9013_11eb_84ad_3c7d0a043019row4_col1{\n",
       "            background-color:  #e38b9d;\n",
       "            color:  #000000;\n",
       "            max-width:  80px;\n",
       "            font-size:  10pt;\n",
       "        }#T_c0678530_9013_11eb_84ad_3c7d0a043019row4_col3,#T_c0678530_9013_11eb_84ad_3c7d0a043019row4_col10{\n",
       "            background-color:  #e17a8f;\n",
       "            color:  #000000;\n",
       "            max-width:  80px;\n",
       "            font-size:  10pt;\n",
       "        }#T_c0678530_9013_11eb_84ad_3c7d0a043019row4_col5,#T_c0678530_9013_11eb_84ad_3c7d0a043019row7_col2,#T_c0678530_9013_11eb_84ad_3c7d0a043019row9_col5{\n",
       "            background-color:  #d84462;\n",
       "            color:  #f1f1f1;\n",
       "            max-width:  80px;\n",
       "            font-size:  10pt;\n",
       "        }#T_c0678530_9013_11eb_84ad_3c7d0a043019row4_col6{\n",
       "            background-color:  #eed3d8;\n",
       "            color:  #000000;\n",
       "            max-width:  80px;\n",
       "            font-size:  10pt;\n",
       "        }#T_c0678530_9013_11eb_84ad_3c7d0a043019row4_col8{\n",
       "            background-color:  #d0dae8;\n",
       "            color:  #000000;\n",
       "            max-width:  80px;\n",
       "            font-size:  10pt;\n",
       "        }#T_c0678530_9013_11eb_84ad_3c7d0a043019row4_col9{\n",
       "            background-color:  #dd657d;\n",
       "            color:  #000000;\n",
       "            max-width:  80px;\n",
       "            font-size:  10pt;\n",
       "        }#T_c0678530_9013_11eb_84ad_3c7d0a043019row5_col0{\n",
       "            background-color:  #da4b68;\n",
       "            color:  #000000;\n",
       "            max-width:  80px;\n",
       "            font-size:  10pt;\n",
       "        }#T_c0678530_9013_11eb_84ad_3c7d0a043019row5_col2,#T_c0678530_9013_11eb_84ad_3c7d0a043019row10_col7,#T_c0678530_9013_11eb_84ad_3c7d0a043019row10_col9{\n",
       "            background-color:  #e28698;\n",
       "            color:  #000000;\n",
       "            max-width:  80px;\n",
       "            font-size:  10pt;\n",
       "        }#T_c0678530_9013_11eb_84ad_3c7d0a043019row5_col3{\n",
       "            background-color:  #dd6179;\n",
       "            color:  #000000;\n",
       "            max-width:  80px;\n",
       "            font-size:  10pt;\n",
       "        }#T_c0678530_9013_11eb_84ad_3c7d0a043019row5_col6{\n",
       "            background-color:  #ecc3cb;\n",
       "            color:  #000000;\n",
       "            max-width:  80px;\n",
       "            font-size:  10pt;\n",
       "        }#T_c0678530_9013_11eb_84ad_3c7d0a043019row5_col7{\n",
       "            background-color:  #da4d69;\n",
       "            color:  #000000;\n",
       "            max-width:  80px;\n",
       "            font-size:  10pt;\n",
       "        }#T_c0678530_9013_11eb_84ad_3c7d0a043019row5_col8,#T_c0678530_9013_11eb_84ad_3c7d0a043019row6_col4,#T_c0678530_9013_11eb_84ad_3c7d0a043019row8_col6{\n",
       "            background-color:  #f1e5e7;\n",
       "            color:  #000000;\n",
       "            max-width:  80px;\n",
       "            font-size:  10pt;\n",
       "        }#T_c0678530_9013_11eb_84ad_3c7d0a043019row5_col9{\n",
       "            background-color:  #db5570;\n",
       "            color:  #000000;\n",
       "            max-width:  80px;\n",
       "            font-size:  10pt;\n",
       "        }#T_c0678530_9013_11eb_84ad_3c7d0a043019row5_col10{\n",
       "            background-color:  #e6a1af;\n",
       "            color:  #000000;\n",
       "            max-width:  80px;\n",
       "            font-size:  10pt;\n",
       "        }#T_c0678530_9013_11eb_84ad_3c7d0a043019row6_col2{\n",
       "            background-color:  #e8abb7;\n",
       "            color:  #000000;\n",
       "            max-width:  80px;\n",
       "            font-size:  10pt;\n",
       "        }#T_c0678530_9013_11eb_84ad_3c7d0a043019row6_col3{\n",
       "            background-color:  #e38a9c;\n",
       "            color:  #000000;\n",
       "            max-width:  80px;\n",
       "            font-size:  10pt;\n",
       "        }#T_c0678530_9013_11eb_84ad_3c7d0a043019row6_col5{\n",
       "            background-color:  #edd0d6;\n",
       "            color:  #000000;\n",
       "            max-width:  80px;\n",
       "            font-size:  10pt;\n",
       "        }#T_c0678530_9013_11eb_84ad_3c7d0a043019row6_col8{\n",
       "            background-color:  #eff0f2;\n",
       "            color:  #000000;\n",
       "            max-width:  80px;\n",
       "            font-size:  10pt;\n",
       "        }#T_c0678530_9013_11eb_84ad_3c7d0a043019row6_col10{\n",
       "            background-color:  #e28396;\n",
       "            color:  #000000;\n",
       "            max-width:  80px;\n",
       "            font-size:  10pt;\n",
       "        }#T_c0678530_9013_11eb_84ad_3c7d0a043019row7_col1,#T_c0678530_9013_11eb_84ad_3c7d0a043019row9_col0{\n",
       "            background-color:  #e8adb8;\n",
       "            color:  #000000;\n",
       "            max-width:  80px;\n",
       "            font-size:  10pt;\n",
       "        }#T_c0678530_9013_11eb_84ad_3c7d0a043019row7_col3{\n",
       "            background-color:  #e7a8b5;\n",
       "            color:  #000000;\n",
       "            max-width:  80px;\n",
       "            font-size:  10pt;\n",
       "        }#T_c0678530_9013_11eb_84ad_3c7d0a043019row7_col4{\n",
       "            background-color:  #dc5b75;\n",
       "            color:  #000000;\n",
       "            max-width:  80px;\n",
       "            font-size:  10pt;\n",
       "        }#T_c0678530_9013_11eb_84ad_3c7d0a043019row7_col5,#T_c0678530_9013_11eb_84ad_3c7d0a043019row9_col6{\n",
       "            background-color:  #d94865;\n",
       "            color:  #000000;\n",
       "            max-width:  80px;\n",
       "            font-size:  10pt;\n",
       "        }#T_c0678530_9013_11eb_84ad_3c7d0a043019row7_col8{\n",
       "            background-color:  #d94663;\n",
       "            color:  #f1f1f1;\n",
       "            max-width:  80px;\n",
       "            font-size:  10pt;\n",
       "        }#T_c0678530_9013_11eb_84ad_3c7d0a043019row8_col3{\n",
       "            background-color:  #dd627b;\n",
       "            color:  #000000;\n",
       "            max-width:  80px;\n",
       "            font-size:  10pt;\n",
       "        }#T_c0678530_9013_11eb_84ad_3c7d0a043019row8_col4{\n",
       "            background-color:  #cfdae7;\n",
       "            color:  #000000;\n",
       "            max-width:  80px;\n",
       "            font-size:  10pt;\n",
       "        }#T_c0678530_9013_11eb_84ad_3c7d0a043019row8_col5{\n",
       "            background-color:  #f0e1e4;\n",
       "            color:  #000000;\n",
       "            max-width:  80px;\n",
       "            font-size:  10pt;\n",
       "        }#T_c0678530_9013_11eb_84ad_3c7d0a043019row8_col7{\n",
       "            background-color:  #d84361;\n",
       "            color:  #f1f1f1;\n",
       "            max-width:  80px;\n",
       "            font-size:  10pt;\n",
       "        }#T_c0678530_9013_11eb_84ad_3c7d0a043019row8_col10{\n",
       "            background-color:  #e28799;\n",
       "            color:  #000000;\n",
       "            max-width:  80px;\n",
       "            font-size:  10pt;\n",
       "        }#T_c0678530_9013_11eb_84ad_3c7d0a043019row9_col1{\n",
       "            background-color:  #e492a3;\n",
       "            color:  #000000;\n",
       "            max-width:  80px;\n",
       "            font-size:  10pt;\n",
       "        }#T_c0678530_9013_11eb_84ad_3c7d0a043019row9_col4,#T_c0678530_9013_11eb_84ad_3c7d0a043019row9_col10{\n",
       "            background-color:  #dd5f78;\n",
       "            color:  #000000;\n",
       "            max-width:  80px;\n",
       "            font-size:  10pt;\n",
       "        }#T_c0678530_9013_11eb_84ad_3c7d0a043019row9_col7{\n",
       "            background-color:  #e9b4be;\n",
       "            color:  #000000;\n",
       "            max-width:  80px;\n",
       "            font-size:  10pt;\n",
       "        }#T_c0678530_9013_11eb_84ad_3c7d0a043019row10_col0,#T_c0678530_9013_11eb_84ad_3c7d0a043019row10_col6{\n",
       "            background-color:  #e3889a;\n",
       "            color:  #000000;\n",
       "            max-width:  80px;\n",
       "            font-size:  10pt;\n",
       "        }#T_c0678530_9013_11eb_84ad_3c7d0a043019row10_col1{\n",
       "            background-color:  #e595a5;\n",
       "            color:  #000000;\n",
       "            max-width:  80px;\n",
       "            font-size:  10pt;\n",
       "        }#T_c0678530_9013_11eb_84ad_3c7d0a043019row10_col3{\n",
       "            background-color:  #e38d9e;\n",
       "            color:  #000000;\n",
       "            max-width:  80px;\n",
       "            font-size:  10pt;\n",
       "        }#T_c0678530_9013_11eb_84ad_3c7d0a043019row10_col4{\n",
       "            background-color:  #e59aa9;\n",
       "            color:  #000000;\n",
       "            max-width:  80px;\n",
       "            font-size:  10pt;\n",
       "        }#T_c0678530_9013_11eb_84ad_3c7d0a043019row10_col8{\n",
       "            background-color:  #e7a3b0;\n",
       "            color:  #000000;\n",
       "            max-width:  80px;\n",
       "            font-size:  10pt;\n",
       "        }</style><table id=\"T_c0678530_9013_11eb_84ad_3c7d0a043019\" ><thead>    <tr>        <th class=\"blank level0\" ></th>        <th class=\"col_heading level0 col0\" >serious_loan</th>        <th class=\"col_heading level0 col1\" >financial_state_rate</th>        <th class=\"col_heading level0 col2\" >age</th>        <th class=\"col_heading level0 col3\" >count_of_small_past_due</th>        <th class=\"col_heading level0 col4\" >debt_ratio</th>        <th class=\"col_heading level0 col5\" >monthly_income</th>        <th class=\"col_heading level0 col6\" >number_of_credit_lines</th>        <th class=\"col_heading level0 col7\" >count_of_big_past_due</th>        <th class=\"col_heading level0 col8\" >number_of_estate_loans</th>        <th class=\"col_heading level0 col9\" >count_of_medium_past_due</th>        <th class=\"col_heading level0 col10\" >number_of_dependents</th>    </tr></thead><tbody>\n",
       "                <tr>\n",
       "                        <th id=\"T_c0678530_9013_11eb_84ad_3c7d0a043019level0_row0\" class=\"row_heading level0 row0\" >serious_loan</th>\n",
       "                        <td id=\"T_c0678530_9013_11eb_84ad_3c7d0a043019row0_col0\" class=\"data row0 col0\" >1.00</td>\n",
       "                        <td id=\"T_c0678530_9013_11eb_84ad_3c7d0a043019row0_col1\" class=\"data row0 col1\" >0.27</td>\n",
       "                        <td id=\"T_c0678530_9013_11eb_84ad_3c7d0a043019row0_col2\" class=\"data row0 col2\" >-0.10</td>\n",
       "                        <td id=\"T_c0678530_9013_11eb_84ad_3c7d0a043019row0_col3\" class=\"data row0 col3\" >0.27</td>\n",
       "                        <td id=\"T_c0678530_9013_11eb_84ad_3c7d0a043019row0_col4\" class=\"data row0 col4\" >0.06</td>\n",
       "                        <td id=\"T_c0678530_9013_11eb_84ad_3c7d0a043019row0_col5\" class=\"data row0 col5\" >-0.07</td>\n",
       "                        <td id=\"T_c0678530_9013_11eb_84ad_3c7d0a043019row0_col6\" class=\"data row0 col6\" >-0.04</td>\n",
       "                        <td id=\"T_c0678530_9013_11eb_84ad_3c7d0a043019row0_col7\" class=\"data row0 col7\" >0.32</td>\n",
       "                        <td id=\"T_c0678530_9013_11eb_84ad_3c7d0a043019row0_col8\" class=\"data row0 col8\" >-0.03</td>\n",
       "                        <td id=\"T_c0678530_9013_11eb_84ad_3c7d0a043019row0_col9\" class=\"data row0 col9\" >0.26</td>\n",
       "                        <td id=\"T_c0678530_9013_11eb_84ad_3c7d0a043019row0_col10\" class=\"data row0 col10\" >0.05</td>\n",
       "            </tr>\n",
       "            <tr>\n",
       "                        <th id=\"T_c0678530_9013_11eb_84ad_3c7d0a043019level0_row1\" class=\"row_heading level0 row1\" >financial_state_rate</th>\n",
       "                        <td id=\"T_c0678530_9013_11eb_84ad_3c7d0a043019row1_col0\" class=\"data row1 col0\" >0.27</td>\n",
       "                        <td id=\"T_c0678530_9013_11eb_84ad_3c7d0a043019row1_col1\" class=\"data row1 col1\" >1.00</td>\n",
       "                        <td id=\"T_c0678530_9013_11eb_84ad_3c7d0a043019row1_col2\" class=\"data row1 col2\" >-0.27</td>\n",
       "                        <td id=\"T_c0678530_9013_11eb_84ad_3c7d0a043019row1_col3\" class=\"data row1 col3\" >0.24</td>\n",
       "                        <td id=\"T_c0678530_9013_11eb_84ad_3c7d0a043019row1_col4\" class=\"data row1 col4\" >0.16</td>\n",
       "                        <td id=\"T_c0678530_9013_11eb_84ad_3c7d0a043019row1_col5\" class=\"data row1 col5\" >-0.12</td>\n",
       "                        <td id=\"T_c0678530_9013_11eb_84ad_3c7d0a043019row1_col6\" class=\"data row1 col6\" >-0.19</td>\n",
       "                        <td id=\"T_c0678530_9013_11eb_84ad_3c7d0a043019row1_col7\" class=\"data row1 col7\" >0.24</td>\n",
       "                        <td id=\"T_c0678530_9013_11eb_84ad_3c7d0a043019row1_col8\" class=\"data row1 col8\" >-0.09</td>\n",
       "                        <td id=\"T_c0678530_9013_11eb_84ad_3c7d0a043019row1_col9\" class=\"data row1 col9\" >0.19</td>\n",
       "                        <td id=\"T_c0678530_9013_11eb_84ad_3c7d0a043019row1_col10\" class=\"data row1 col10\" >0.09</td>\n",
       "            </tr>\n",
       "            <tr>\n",
       "                        <th id=\"T_c0678530_9013_11eb_84ad_3c7d0a043019level0_row2\" class=\"row_heading level0 row2\" >age</th>\n",
       "                        <td id=\"T_c0678530_9013_11eb_84ad_3c7d0a043019row2_col0\" class=\"data row2 col0\" >-0.10</td>\n",
       "                        <td id=\"T_c0678530_9013_11eb_84ad_3c7d0a043019row2_col1\" class=\"data row2 col1\" >-0.27</td>\n",
       "                        <td id=\"T_c0678530_9013_11eb_84ad_3c7d0a043019row2_col2\" class=\"data row2 col2\" >1.00</td>\n",
       "                        <td id=\"T_c0678530_9013_11eb_84ad_3c7d0a043019row2_col3\" class=\"data row2 col3\" >-0.07</td>\n",
       "                        <td id=\"T_c0678530_9013_11eb_84ad_3c7d0a043019row2_col4\" class=\"data row2 col4\" >-0.08</td>\n",
       "                        <td id=\"T_c0678530_9013_11eb_84ad_3c7d0a043019row2_col5\" class=\"data row2 col5\" >0.11</td>\n",
       "                        <td id=\"T_c0678530_9013_11eb_84ad_3c7d0a043019row2_col6\" class=\"data row2 col6\" >0.18</td>\n",
       "                        <td id=\"T_c0678530_9013_11eb_84ad_3c7d0a043019row2_col7\" class=\"data row2 col7\" >-0.08</td>\n",
       "                        <td id=\"T_c0678530_9013_11eb_84ad_3c7d0a043019row2_col8\" class=\"data row2 col8\" >0.06</td>\n",
       "                        <td id=\"T_c0678530_9013_11eb_84ad_3c7d0a043019row2_col9\" class=\"data row2 col9\" >-0.07</td>\n",
       "                        <td id=\"T_c0678530_9013_11eb_84ad_3c7d0a043019row2_col10\" class=\"data row2 col10\" >-0.21</td>\n",
       "            </tr>\n",
       "            <tr>\n",
       "                        <th id=\"T_c0678530_9013_11eb_84ad_3c7d0a043019level0_row3\" class=\"row_heading level0 row3\" >count_of_small_past_due</th>\n",
       "                        <td id=\"T_c0678530_9013_11eb_84ad_3c7d0a043019row3_col0\" class=\"data row3 col0\" >0.27</td>\n",
       "                        <td id=\"T_c0678530_9013_11eb_84ad_3c7d0a043019row3_col1\" class=\"data row3 col1\" >0.24</td>\n",
       "                        <td id=\"T_c0678530_9013_11eb_84ad_3c7d0a043019row3_col2\" class=\"data row3 col2\" >-0.07</td>\n",
       "                        <td id=\"T_c0678530_9013_11eb_84ad_3c7d0a043019row3_col3\" class=\"data row3 col3\" >1.00</td>\n",
       "                        <td id=\"T_c0678530_9013_11eb_84ad_3c7d0a043019row3_col4\" class=\"data row3 col4\" >0.10</td>\n",
       "                        <td id=\"T_c0678530_9013_11eb_84ad_3c7d0a043019row3_col5\" class=\"data row3 col5\" >-0.00</td>\n",
       "                        <td id=\"T_c0678530_9013_11eb_84ad_3c7d0a043019row3_col6\" class=\"data row3 col6\" >0.07</td>\n",
       "                        <td id=\"T_c0678530_9013_11eb_84ad_3c7d0a043019row3_col7\" class=\"data row3 col7\" >0.22</td>\n",
       "                        <td id=\"T_c0678530_9013_11eb_84ad_3c7d0a043019row3_col8\" class=\"data row3 col8\" >0.02</td>\n",
       "                        <td id=\"T_c0678530_9013_11eb_84ad_3c7d0a043019row3_col9\" class=\"data row3 col9\" >0.30</td>\n",
       "                        <td id=\"T_c0678530_9013_11eb_84ad_3c7d0a043019row3_col10\" class=\"data row3 col10\" >0.06</td>\n",
       "            </tr>\n",
       "            <tr>\n",
       "                        <th id=\"T_c0678530_9013_11eb_84ad_3c7d0a043019level0_row4\" class=\"row_heading level0 row4\" >debt_ratio</th>\n",
       "                        <td id=\"T_c0678530_9013_11eb_84ad_3c7d0a043019row4_col0\" class=\"data row4 col0\" >0.06</td>\n",
       "                        <td id=\"T_c0678530_9013_11eb_84ad_3c7d0a043019row4_col1\" class=\"data row4 col1\" >0.16</td>\n",
       "                        <td id=\"T_c0678530_9013_11eb_84ad_3c7d0a043019row4_col2\" class=\"data row4 col2\" >-0.08</td>\n",
       "                        <td id=\"T_c0678530_9013_11eb_84ad_3c7d0a043019row4_col3\" class=\"data row4 col3\" >0.10</td>\n",
       "                        <td id=\"T_c0678530_9013_11eb_84ad_3c7d0a043019row4_col4\" class=\"data row4 col4\" >1.00</td>\n",
       "                        <td id=\"T_c0678530_9013_11eb_84ad_3c7d0a043019row4_col5\" class=\"data row4 col5\" >-0.06</td>\n",
       "                        <td id=\"T_c0678530_9013_11eb_84ad_3c7d0a043019row4_col6\" class=\"data row4 col6\" >0.37</td>\n",
       "                        <td id=\"T_c0678530_9013_11eb_84ad_3c7d0a043019row4_col7\" class=\"data row4 col7\" >-0.01</td>\n",
       "                        <td id=\"T_c0678530_9013_11eb_84ad_3c7d0a043019row4_col8\" class=\"data row4 col8\" >0.56</td>\n",
       "                        <td id=\"T_c0678530_9013_11eb_84ad_3c7d0a043019row4_col9\" class=\"data row4 col9\" >0.04</td>\n",
       "                        <td id=\"T_c0678530_9013_11eb_84ad_3c7d0a043019row4_col10\" class=\"data row4 col10\" >0.11</td>\n",
       "            </tr>\n",
       "            <tr>\n",
       "                        <th id=\"T_c0678530_9013_11eb_84ad_3c7d0a043019level0_row5\" class=\"row_heading level0 row5\" >monthly_income</th>\n",
       "                        <td id=\"T_c0678530_9013_11eb_84ad_3c7d0a043019row5_col0\" class=\"data row5 col0\" >-0.07</td>\n",
       "                        <td id=\"T_c0678530_9013_11eb_84ad_3c7d0a043019row5_col1\" class=\"data row5 col1\" >-0.12</td>\n",
       "                        <td id=\"T_c0678530_9013_11eb_84ad_3c7d0a043019row5_col2\" class=\"data row5 col2\" >0.11</td>\n",
       "                        <td id=\"T_c0678530_9013_11eb_84ad_3c7d0a043019row5_col3\" class=\"data row5 col3\" >-0.00</td>\n",
       "                        <td id=\"T_c0678530_9013_11eb_84ad_3c7d0a043019row5_col4\" class=\"data row5 col4\" >-0.06</td>\n",
       "                        <td id=\"T_c0678530_9013_11eb_84ad_3c7d0a043019row5_col5\" class=\"data row5 col5\" >1.00</td>\n",
       "                        <td id=\"T_c0678530_9013_11eb_84ad_3c7d0a043019row5_col6\" class=\"data row5 col6\" >0.30</td>\n",
       "                        <td id=\"T_c0678530_9013_11eb_84ad_3c7d0a043019row5_col7\" class=\"data row5 col7\" >-0.07</td>\n",
       "                        <td id=\"T_c0678530_9013_11eb_84ad_3c7d0a043019row5_col8\" class=\"data row5 col8\" >0.40</td>\n",
       "                        <td id=\"T_c0678530_9013_11eb_84ad_3c7d0a043019row5_col9\" class=\"data row5 col9\" >-0.04</td>\n",
       "                        <td id=\"T_c0678530_9013_11eb_84ad_3c7d0a043019row5_col10\" class=\"data row5 col10\" >0.19</td>\n",
       "            </tr>\n",
       "            <tr>\n",
       "                        <th id=\"T_c0678530_9013_11eb_84ad_3c7d0a043019level0_row6\" class=\"row_heading level0 row6\" >number_of_credit_lines</th>\n",
       "                        <td id=\"T_c0678530_9013_11eb_84ad_3c7d0a043019row6_col0\" class=\"data row6 col0\" >-0.04</td>\n",
       "                        <td id=\"T_c0678530_9013_11eb_84ad_3c7d0a043019row6_col1\" class=\"data row6 col1\" >-0.19</td>\n",
       "                        <td id=\"T_c0678530_9013_11eb_84ad_3c7d0a043019row6_col2\" class=\"data row6 col2\" >0.18</td>\n",
       "                        <td id=\"T_c0678530_9013_11eb_84ad_3c7d0a043019row6_col3\" class=\"data row6 col3\" >0.07</td>\n",
       "                        <td id=\"T_c0678530_9013_11eb_84ad_3c7d0a043019row6_col4\" class=\"data row6 col4\" >0.37</td>\n",
       "                        <td id=\"T_c0678530_9013_11eb_84ad_3c7d0a043019row6_col5\" class=\"data row6 col5\" >0.30</td>\n",
       "                        <td id=\"T_c0678530_9013_11eb_84ad_3c7d0a043019row6_col6\" class=\"data row6 col6\" >1.00</td>\n",
       "                        <td id=\"T_c0678530_9013_11eb_84ad_3c7d0a043019row6_col7\" class=\"data row6 col7\" >-0.10</td>\n",
       "                        <td id=\"T_c0678530_9013_11eb_84ad_3c7d0a043019row6_col8\" class=\"data row6 col8\" >0.41</td>\n",
       "                        <td id=\"T_c0678530_9013_11eb_84ad_3c7d0a043019row6_col9\" class=\"data row6 col9\" >-0.03</td>\n",
       "                        <td id=\"T_c0678530_9013_11eb_84ad_3c7d0a043019row6_col10\" class=\"data row6 col10\" >0.05</td>\n",
       "            </tr>\n",
       "            <tr>\n",
       "                        <th id=\"T_c0678530_9013_11eb_84ad_3c7d0a043019level0_row7\" class=\"row_heading level0 row7\" >count_of_big_past_due</th>\n",
       "                        <td id=\"T_c0678530_9013_11eb_84ad_3c7d0a043019row7_col0\" class=\"data row7 col0\" >0.32</td>\n",
       "                        <td id=\"T_c0678530_9013_11eb_84ad_3c7d0a043019row7_col1\" class=\"data row7 col1\" >0.24</td>\n",
       "                        <td id=\"T_c0678530_9013_11eb_84ad_3c7d0a043019row7_col2\" class=\"data row7 col2\" >-0.08</td>\n",
       "                        <td id=\"T_c0678530_9013_11eb_84ad_3c7d0a043019row7_col3\" class=\"data row7 col3\" >0.22</td>\n",
       "                        <td id=\"T_c0678530_9013_11eb_84ad_3c7d0a043019row7_col4\" class=\"data row7 col4\" >-0.01</td>\n",
       "                        <td id=\"T_c0678530_9013_11eb_84ad_3c7d0a043019row7_col5\" class=\"data row7 col5\" >-0.07</td>\n",
       "                        <td id=\"T_c0678530_9013_11eb_84ad_3c7d0a043019row7_col6\" class=\"data row7 col6\" >-0.10</td>\n",
       "                        <td id=\"T_c0678530_9013_11eb_84ad_3c7d0a043019row7_col7\" class=\"data row7 col7\" >1.00</td>\n",
       "                        <td id=\"T_c0678530_9013_11eb_84ad_3c7d0a043019row7_col8\" class=\"data row7 col8\" >-0.07</td>\n",
       "                        <td id=\"T_c0678530_9013_11eb_84ad_3c7d0a043019row7_col9\" class=\"data row7 col9\" >0.29</td>\n",
       "                        <td id=\"T_c0678530_9013_11eb_84ad_3c7d0a043019row7_col10\" class=\"data row7 col10\" >0.04</td>\n",
       "            </tr>\n",
       "            <tr>\n",
       "                        <th id=\"T_c0678530_9013_11eb_84ad_3c7d0a043019level0_row8\" class=\"row_heading level0 row8\" >number_of_estate_loans</th>\n",
       "                        <td id=\"T_c0678530_9013_11eb_84ad_3c7d0a043019row8_col0\" class=\"data row8 col0\" >-0.03</td>\n",
       "                        <td id=\"T_c0678530_9013_11eb_84ad_3c7d0a043019row8_col1\" class=\"data row8 col1\" >-0.09</td>\n",
       "                        <td id=\"T_c0678530_9013_11eb_84ad_3c7d0a043019row8_col2\" class=\"data row8 col2\" >0.06</td>\n",
       "                        <td id=\"T_c0678530_9013_11eb_84ad_3c7d0a043019row8_col3\" class=\"data row8 col3\" >0.02</td>\n",
       "                        <td id=\"T_c0678530_9013_11eb_84ad_3c7d0a043019row8_col4\" class=\"data row8 col4\" >0.56</td>\n",
       "                        <td id=\"T_c0678530_9013_11eb_84ad_3c7d0a043019row8_col5\" class=\"data row8 col5\" >0.40</td>\n",
       "                        <td id=\"T_c0678530_9013_11eb_84ad_3c7d0a043019row8_col6\" class=\"data row8 col6\" >0.41</td>\n",
       "                        <td id=\"T_c0678530_9013_11eb_84ad_3c7d0a043019row8_col7\" class=\"data row8 col7\" >-0.07</td>\n",
       "                        <td id=\"T_c0678530_9013_11eb_84ad_3c7d0a043019row8_col8\" class=\"data row8 col8\" >1.00</td>\n",
       "                        <td id=\"T_c0678530_9013_11eb_84ad_3c7d0a043019row8_col9\" class=\"data row8 col9\" >-0.03</td>\n",
       "                        <td id=\"T_c0678530_9013_11eb_84ad_3c7d0a043019row8_col10\" class=\"data row8 col10\" >0.14</td>\n",
       "            </tr>\n",
       "            <tr>\n",
       "                        <th id=\"T_c0678530_9013_11eb_84ad_3c7d0a043019level0_row9\" class=\"row_heading level0 row9\" >count_of_medium_past_due</th>\n",
       "                        <td id=\"T_c0678530_9013_11eb_84ad_3c7d0a043019row9_col0\" class=\"data row9 col0\" >0.26</td>\n",
       "                        <td id=\"T_c0678530_9013_11eb_84ad_3c7d0a043019row9_col1\" class=\"data row9 col1\" >0.19</td>\n",
       "                        <td id=\"T_c0678530_9013_11eb_84ad_3c7d0a043019row9_col2\" class=\"data row9 col2\" >-0.07</td>\n",
       "                        <td id=\"T_c0678530_9013_11eb_84ad_3c7d0a043019row9_col3\" class=\"data row9 col3\" >0.30</td>\n",
       "                        <td id=\"T_c0678530_9013_11eb_84ad_3c7d0a043019row9_col4\" class=\"data row9 col4\" >0.04</td>\n",
       "                        <td id=\"T_c0678530_9013_11eb_84ad_3c7d0a043019row9_col5\" class=\"data row9 col5\" >-0.04</td>\n",
       "                        <td id=\"T_c0678530_9013_11eb_84ad_3c7d0a043019row9_col6\" class=\"data row9 col6\" >-0.03</td>\n",
       "                        <td id=\"T_c0678530_9013_11eb_84ad_3c7d0a043019row9_col7\" class=\"data row9 col7\" >0.29</td>\n",
       "                        <td id=\"T_c0678530_9013_11eb_84ad_3c7d0a043019row9_col8\" class=\"data row9 col8\" >-0.03</td>\n",
       "                        <td id=\"T_c0678530_9013_11eb_84ad_3c7d0a043019row9_col9\" class=\"data row9 col9\" >1.00</td>\n",
       "                        <td id=\"T_c0678530_9013_11eb_84ad_3c7d0a043019row9_col10\" class=\"data row9 col10\" >0.04</td>\n",
       "            </tr>\n",
       "            <tr>\n",
       "                        <th id=\"T_c0678530_9013_11eb_84ad_3c7d0a043019level0_row10\" class=\"row_heading level0 row10\" >number_of_dependents</th>\n",
       "                        <td id=\"T_c0678530_9013_11eb_84ad_3c7d0a043019row10_col0\" class=\"data row10 col0\" >0.05</td>\n",
       "                        <td id=\"T_c0678530_9013_11eb_84ad_3c7d0a043019row10_col1\" class=\"data row10 col1\" >0.09</td>\n",
       "                        <td id=\"T_c0678530_9013_11eb_84ad_3c7d0a043019row10_col2\" class=\"data row10 col2\" >-0.21</td>\n",
       "                        <td id=\"T_c0678530_9013_11eb_84ad_3c7d0a043019row10_col3\" class=\"data row10 col3\" >0.06</td>\n",
       "                        <td id=\"T_c0678530_9013_11eb_84ad_3c7d0a043019row10_col4\" class=\"data row10 col4\" >0.11</td>\n",
       "                        <td id=\"T_c0678530_9013_11eb_84ad_3c7d0a043019row10_col5\" class=\"data row10 col5\" >0.19</td>\n",
       "                        <td id=\"T_c0678530_9013_11eb_84ad_3c7d0a043019row10_col6\" class=\"data row10 col6\" >0.05</td>\n",
       "                        <td id=\"T_c0678530_9013_11eb_84ad_3c7d0a043019row10_col7\" class=\"data row10 col7\" >0.04</td>\n",
       "                        <td id=\"T_c0678530_9013_11eb_84ad_3c7d0a043019row10_col8\" class=\"data row10 col8\" >0.14</td>\n",
       "                        <td id=\"T_c0678530_9013_11eb_84ad_3c7d0a043019row10_col9\" class=\"data row10 col9\" >0.04</td>\n",
       "                        <td id=\"T_c0678530_9013_11eb_84ad_3c7d0a043019row10_col10\" class=\"data row10 col10\" >1.00</td>\n",
       "            </tr>\n",
       "    </tbody></table>"
      ],
      "text/plain": [
       "<pandas.io.formats.style.Styler at 0x7f8ab2d92880>"
      ]
     },
     "execution_count": 69,
     "metadata": {},
     "output_type": "execute_result"
    },
    {
     "data": {
      "image/png": "[encoded data removed]",
      "text/plain": [
       "<Figure size 432x288 with 2 Axes>"
      ]
     },
     "metadata": {
      "needs_background": "light"
     },
     "output_type": "display_data"
    }
   ],
   "source": [
    "corr = cs_training.corr()\n",
    "cmap=sns.diverging_palette(5, 250, as_cmap=True)\n",
    "\n",
    "def magnify():\n",
    "    return [dict(selector=\"th\",\n",
    "                 props=[(\"font-size\", \"7pt\")]),\n",
    "            dict(selector=\"td\",\n",
    "                 props=[('padding', \"0em 0em\")]),\n",
    "            dict(selector=\"th:hover\",\n",
    "                 props=[(\"font-size\", \"12pt\")]),\n",
    "            dict(selector=\"tr:hover td:hover\",\n",
    "                 props=[('max-width', '200px'),\n",
    "                        ('font-size', '12pt')])\n",
    "]\n",
    "sns.heatmap(corr, \n",
    "        xticklabels=corr.columns,\n",
    "        yticklabels=corr.columns)\n",
    "\n",
    "corr.style.background_gradient(cmap, axis=1)\\\n",
    "    .set_properties(**{'max-width': '80px', 'font-size': '10pt'})\\\n",
    "    .set_precision(2)\\\n",
    "    .set_table_styles(magnify())"
   ]
  },
  {
   "cell_type": "markdown",
   "metadata": {},
   "source": [
    "Как мы можем наблюдать, в нашей выборке не представлено признаков с сильной корреляцией. Пропуски и корректность значений в выборке обработаны. Перейдем к построении моделей"
   ]
  },
  {
   "cell_type": "markdown",
   "metadata": {},
   "source": [
    "# Разделение на выборки"
   ]
  },
  {
   "cell_type": "code",
   "execution_count": 70,
   "metadata": {},
   "outputs": [],
   "source": [
    "(design_train,\n",
    " design_test,\n",
    " target_train,\n",
    " target_test) = train_test_split(cs_training.drop([\"serious_loan\"],axis = 1),cs_training[\"serious_loan\"],random_state = 42, test_size = 0.2)\n",
    "\n",
    "(design_valid,\n",
    " design_test,\n",
    " target_valid,\n",
    " target_test) = train_test_split(design_test, target_test, random_state = 42, test_size = 0.5)"
   ]
  },
  {
   "cell_type": "markdown",
   "metadata": {},
   "source": [
    "# Обучение "
   ]
  },
  {
   "cell_type": "code",
   "execution_count": 71,
   "metadata": {},
   "outputs": [],
   "source": [
    "RF = RandomForestClassifier(class_weight=\"balanced\",verbose=10,n_jobs=-1,n_estimators=200,max_depth=10)"
   ]
  },
  {
   "cell_type": "code",
   "execution_count": 72,
   "metadata": {},
   "outputs": [
    {
     "name": "stderr",
     "output_type": "stream",
     "text": [
      "[Parallel(n_jobs=-1)]: Using backend ThreadingBackend with 12 concurrent workers.\n",
      "[Parallel(n_jobs=-1)]: Done   1 tasks      | elapsed:    0.2s\n",
      "[Parallel(n_jobs=-1)]: Done   8 tasks      | elapsed:    0.2s\n"
     ]
    },
    {
     "name": "stdout",
     "output_type": "stream",
     "text": [
      "building tree 1 of 200building tree 2 of 200\n",
      "building tree 3 of 200\n",
      "\n",
      "building tree 4 of 200\n",
      "building tree 5 of 200\n",
      "building tree 6 of 200\n",
      "building tree 7 of 200building tree 8 of 200\n",
      "\n",
      "building tree 9 of 200building tree 10 of 200\n",
      "building tree 11 of 200\n",
      "\n",
      "building tree 12 of 200\n",
      "building tree 13 of 200\n",
      "building tree 14 of 200building tree 15 of 200\n",
      "\n",
      "building tree 16 of 200building tree 17 of 200building tree 18 of 200\n",
      "\n",
      "building tree 19 of 200\n",
      "building tree 20 of 200\n",
      "building tree 21 of 200building tree 22 of 200\n",
      "\n",
      "\n",
      "building tree 23 of 200\n",
      "building tree 24 of 200\n",
      "building tree 25 of 200\n",
      "building tree 26 of 200building tree 27 of 200\n",
      "\n",
      "building tree 28 of 200\n",
      "building tree 29 of 200\n",
      "building tree 30 of 200\n",
      "building tree 31 of 200building tree 32 of 200building tree 33 of 200\n",
      "\n",
      "\n",
      "building tree 34 of 200\n",
      "building tree 35 of 200building tree 36 of 200\n",
      "\n",
      "building tree 37 of 200\n",
      "building tree 38 of 200\n",
      "building tree 39 of 200\n",
      "building tree 40 of 200\n",
      "building tree 41 of 200\n",
      "building tree 42 of 200building tree 43 of 200\n",
      "\n",
      "building tree 44 of 200\n",
      "building tree 45 of 200\n",
      "building tree 46 of 200\n",
      "building tree 47 of 200\n"
     ]
    },
    {
     "name": "stderr",
     "output_type": "stream",
     "text": [
      "[Parallel(n_jobs=-1)]: Done  17 tasks      | elapsed:    0.3s\n",
      "[Parallel(n_jobs=-1)]: Done  26 tasks      | elapsed:    0.4s\n"
     ]
    },
    {
     "name": "stdout",
     "output_type": "stream",
     "text": [
      "building tree 48 of 200\n",
      "building tree 49 of 200\n",
      "building tree 50 of 200\n",
      "building tree 51 of 200\n",
      "building tree 52 of 200\n",
      "building tree 53 of 200\n",
      "building tree 54 of 200\n",
      "building tree 55 of 200\n",
      "building tree 56 of 200building tree 57 of 200\n",
      "\n",
      "building tree 58 of 200\n",
      "building tree 59 of 200building tree 60 of 200\n",
      "\n",
      "building tree 61 of 200\n",
      "building tree 62 of 200\n",
      "building tree 63 of 200\n",
      "building tree 64 of 200\n"
     ]
    },
    {
     "name": "stderr",
     "output_type": "stream",
     "text": [
      "[Parallel(n_jobs=-1)]: Done  37 tasks      | elapsed:    0.5s\n",
      "[Parallel(n_jobs=-1)]: Done  48 tasks      | elapsed:    0.6s\n"
     ]
    },
    {
     "name": "stdout",
     "output_type": "stream",
     "text": [
      "building tree 65 of 200\n",
      "building tree 66 of 200\n",
      "building tree 67 of 200\n",
      "building tree 68 of 200\n",
      "building tree 69 of 200\n",
      "building tree 70 of 200\n",
      "building tree 71 of 200\n",
      "building tree 72 of 200\n",
      "building tree 73 of 200\n",
      "building tree 74 of 200\n",
      "building tree 75 of 200\n",
      "building tree 76 of 200\n",
      "building tree 77 of 200\n",
      "building tree 78 of 200\n",
      "building tree 79 of 200\n",
      "building tree 80 of 200\n",
      "building tree 81 of 200\n",
      "building tree 82 of 200\n",
      "building tree 83 of 200\n",
      "building tree 84 of 200\n",
      "building tree 85 of 200\n"
     ]
    },
    {
     "name": "stderr",
     "output_type": "stream",
     "text": [
      "[Parallel(n_jobs=-1)]: Done  61 tasks      | elapsed:    0.8s\n",
      "[Parallel(n_jobs=-1)]: Done  74 tasks      | elapsed:    0.9s\n"
     ]
    },
    {
     "name": "stdout",
     "output_type": "stream",
     "text": [
      "building tree 86 of 200\n",
      "building tree 87 of 200\n",
      "building tree 88 of 200\n",
      "building tree 89 of 200\n",
      "building tree 90 of 200\n",
      "building tree 91 of 200\n",
      "building tree 92 of 200\n",
      "building tree 93 of 200\n",
      "building tree 94 of 200\n",
      "building tree 95 of 200\n",
      "building tree 96 of 200\n",
      "building tree 97 of 200\n",
      "building tree 98 of 200\n",
      "building tree 99 of 200\n",
      "building tree 100 of 200\n",
      "building tree 101 of 200\n"
     ]
    },
    {
     "name": "stderr",
     "output_type": "stream",
     "text": [
      "[Parallel(n_jobs=-1)]: Done  89 tasks      | elapsed:    1.1s\n",
      "[Parallel(n_jobs=-1)]: Done 104 tasks      | elapsed:    1.3s\n"
     ]
    },
    {
     "name": "stdout",
     "output_type": "stream",
     "text": [
      "building tree 102 of 200building tree 103 of 200building tree 104 of 200\n",
      "\n",
      "\n",
      "building tree 105 of 200\n",
      "building tree 106 of 200\n",
      "building tree 107 of 200\n",
      "building tree 108 of 200\n",
      "building tree 109 of 200\n",
      "building tree 110 of 200\n",
      "building tree 111 of 200\n",
      "building tree 112 of 200\n",
      "building tree 113 of 200\n",
      "building tree 114 of 200\n",
      "building tree 115 of 200\n",
      "building tree 116 of 200building tree 117 of 200\n",
      "building tree 118 of 200\n",
      "\n",
      "building tree 119 of 200\n",
      "building tree 120 of 200building tree 121 of 200\n",
      "\n",
      "building tree 122 of 200\n",
      "building tree 123 of 200\n",
      "building tree 124 of 200\n",
      "building tree 125 of 200\n",
      "building tree 126 of 200\n",
      "building tree 127 of 200\n",
      "building tree 128 of 200\n",
      "building tree 129 of 200\n",
      "building tree 130 of 200\n",
      "building tree 131 of 200\n",
      "building tree 132 of 200\n",
      "building tree 133 of 200\n",
      "building tree 134 of 200\n",
      "building tree 135 of 200\n",
      "building tree 136 of 200\n",
      "building tree 137 of 200\n"
     ]
    },
    {
     "name": "stderr",
     "output_type": "stream",
     "text": [
      "[Parallel(n_jobs=-1)]: Done 121 tasks      | elapsed:    1.5s\n",
      "[Parallel(n_jobs=-1)]: Done 138 tasks      | elapsed:    1.7s\n"
     ]
    },
    {
     "name": "stdout",
     "output_type": "stream",
     "text": [
      "building tree 138 of 200\n",
      "building tree 139 of 200\n",
      "building tree 140 of 200\n",
      "building tree 141 of 200\n",
      "building tree 142 of 200\n",
      "building tree 143 of 200\n",
      "building tree 144 of 200\n",
      "building tree 145 of 200\n",
      "building tree 146 of 200\n",
      "building tree 147 of 200\n",
      "building tree 148 of 200\n",
      "building tree 149 of 200\n",
      "building tree 150 of 200\n",
      "building tree 151 of 200\n",
      "building tree 152 of 200\n",
      "building tree 153 of 200\n",
      "building tree 154 of 200\n",
      "building tree 155 of 200\n",
      "building tree 156 of 200\n",
      "building tree 157 of 200\n",
      "building tree 158 of 200\n",
      "building tree 159 of 200\n",
      "building tree 160 of 200\n",
      "building tree 161 of 200\n",
      "building tree 162 of 200\n",
      "building tree 163 of 200\n",
      "building tree 164 of 200\n",
      "building tree 165 of 200\n",
      "building tree 166 of 200\n",
      "building tree 167 of 200\n",
      "building tree 168 of 200\n",
      "building tree 169 of 200\n",
      "building tree 170 of 200\n",
      "building tree 171 of 200\n",
      "building tree 172 of 200\n",
      "building tree 173 of 200\n",
      "building tree 174 of 200\n",
      "building tree 175 of 200\n"
     ]
    },
    {
     "name": "stderr",
     "output_type": "stream",
     "text": [
      "[Parallel(n_jobs=-1)]: Done 157 tasks      | elapsed:    1.9s\n"
     ]
    },
    {
     "name": "stdout",
     "output_type": "stream",
     "text": [
      "building tree 176 of 200\n",
      "building tree 177 of 200\n",
      "building tree 178 of 200\n",
      "building tree 179 of 200\n",
      "building tree 180 of 200\n",
      "building tree 181 of 200\n",
      "building tree 182 of 200\n",
      "building tree 183 of 200\n",
      "building tree 184 of 200\n",
      "building tree 185 of 200\n",
      "building tree 186 of 200\n",
      "building tree 187 of 200\n",
      "building tree 188 of 200\n",
      "building tree 189 of 200\n",
      "building tree 190 of 200\n",
      "building tree 191 of 200\n",
      "building tree 192 of 200\n",
      "building tree 193 of 200\n",
      "building tree 194 of 200\n",
      "building tree 195 of 200\n",
      "building tree 196 of 200\n"
     ]
    },
    {
     "name": "stderr",
     "output_type": "stream",
     "text": [
      "[Parallel(n_jobs=-1)]: Done 176 tasks      | elapsed:    2.1s\n",
      "[Parallel(n_jobs=-1)]: Done 198 out of 200 | elapsed:    2.3s remaining:    0.0s\n"
     ]
    },
    {
     "name": "stdout",
     "output_type": "stream",
     "text": [
      "building tree 197 of 200\n",
      "building tree 198 of 200\n",
      "building tree 199 of 200\n",
      "building tree 200 of 200\n"
     ]
    },
    {
     "name": "stderr",
     "output_type": "stream",
     "text": [
      "[Parallel(n_jobs=-1)]: Done 200 out of 200 | elapsed:    2.4s finished\n"
     ]
    },
    {
     "data": {
      "text/plain": [
       "RandomForestClassifier(class_weight='balanced', max_depth=10, n_estimators=200,\n",
       "                       n_jobs=-1, verbose=10)"
      ]
     },
     "execution_count": 72,
     "metadata": {},
     "output_type": "execute_result"
    }
   ],
   "source": [
    "RF.fit(design_train,target_train)"
   ]
  },
  {
   "cell_type": "code",
   "execution_count": 73,
   "metadata": {
    "scrolled": true
   },
   "outputs": [
    {
     "name": "stderr",
     "output_type": "stream",
     "text": [
      "[Parallel(n_jobs=12)]: Using backend ThreadingBackend with 12 concurrent workers.\n",
      "[Parallel(n_jobs=12)]: Done   1 tasks      | elapsed:    0.0s\n",
      "[Parallel(n_jobs=12)]: Done   8 tasks      | elapsed:    0.0s\n",
      "[Parallel(n_jobs=12)]: Done  17 tasks      | elapsed:    0.0s\n",
      "[Parallel(n_jobs=12)]: Done  26 tasks      | elapsed:    0.0s\n",
      "[Parallel(n_jobs=12)]: Done  37 tasks      | elapsed:    0.0s\n",
      "[Parallel(n_jobs=12)]: Done  48 tasks      | elapsed:    0.0s\n",
      "[Parallel(n_jobs=12)]: Done  61 tasks      | elapsed:    0.0s\n",
      "[Parallel(n_jobs=12)]: Done  74 tasks      | elapsed:    0.0s\n",
      "[Parallel(n_jobs=12)]: Done  89 tasks      | elapsed:    0.0s\n",
      "[Parallel(n_jobs=12)]: Done 104 tasks      | elapsed:    0.0s\n",
      "[Parallel(n_jobs=12)]: Done 121 tasks      | elapsed:    0.0s\n",
      "[Parallel(n_jobs=12)]: Done 138 tasks      | elapsed:    0.0s\n",
      "[Parallel(n_jobs=12)]: Done 157 tasks      | elapsed:    0.0s\n",
      "[Parallel(n_jobs=12)]: Done 176 tasks      | elapsed:    0.0s\n",
      "[Parallel(n_jobs=12)]: Done 198 out of 200 | elapsed:    0.0s remaining:    0.0s\n",
      "[Parallel(n_jobs=12)]: Done 200 out of 200 | elapsed:    0.0s finished\n",
      "[Parallel(n_jobs=12)]: Using backend ThreadingBackend with 12 concurrent workers.\n",
      "[Parallel(n_jobs=12)]: Done   1 tasks      | elapsed:    0.0s\n",
      "[Parallel(n_jobs=12)]: Done   8 tasks      | elapsed:    0.0s\n",
      "[Parallel(n_jobs=12)]: Done  17 tasks      | elapsed:    0.0s\n",
      "[Parallel(n_jobs=12)]: Done  26 tasks      | elapsed:    0.0s\n",
      "[Parallel(n_jobs=12)]: Done  37 tasks      | elapsed:    0.0s\n",
      "[Parallel(n_jobs=12)]: Done  48 tasks      | elapsed:    0.0s\n",
      "[Parallel(n_jobs=12)]: Done  61 tasks      | elapsed:    0.0s\n",
      "[Parallel(n_jobs=12)]: Done  74 tasks      | elapsed:    0.0s\n",
      "[Parallel(n_jobs=12)]: Done  89 tasks      | elapsed:    0.0s\n",
      "[Parallel(n_jobs=12)]: Done 104 tasks      | elapsed:    0.0s\n",
      "[Parallel(n_jobs=12)]: Done 121 tasks      | elapsed:    0.0s\n",
      "[Parallel(n_jobs=12)]: Done 138 tasks      | elapsed:    0.0s\n",
      "[Parallel(n_jobs=12)]: Done 157 tasks      | elapsed:    0.0s\n",
      "[Parallel(n_jobs=12)]: Done 176 tasks      | elapsed:    0.0s\n",
      "[Parallel(n_jobs=12)]: Done 198 out of 200 | elapsed:    0.0s remaining:    0.0s\n",
      "[Parallel(n_jobs=12)]: Done 200 out of 200 | elapsed:    0.0s finished\n"
     ]
    }
   ],
   "source": [
    "RF_valid_pred = RF.predict(design_valid)\n",
    "predictions_RandomForest = RF.predict_proba(design_valid)"
   ]
  },
  {
   "cell_type": "code",
   "execution_count": 74,
   "metadata": {},
   "outputs": [
    {
     "data": {
      "text/plain": [
       "<BarContainer object of 10 artists>"
      ]
     },
     "execution_count": 74,
     "metadata": {},
     "output_type": "execute_result"
    },
    {
     "data": {
      "image/png": "[encoded data removed]",
      "text/plain": [
       "<Figure size 2160x360 with 1 Axes>"
      ]
     },
     "metadata": {
      "needs_background": "light"
     },
     "output_type": "display_data"
    }
   ],
   "source": [
    "importtance_dict = {label:val for label,val in zip(design_valid.columns,RF.feature_importances_)}\n",
    "importtance_dict = dict(sorted(importtance_dict.items(), key=lambda item: item[1],reverse=True))\n",
    "\n",
    "fig,ax = plt.subplots(figsize = (30,5))\n",
    "\n",
    "ax.bar(importtance_dict.keys(),importtance_dict.values())"
   ]
  },
  {
   "cell_type": "code",
   "execution_count": 75,
   "metadata": {
    "scrolled": true
   },
   "outputs": [
    {
     "data": {
      "text/plain": [
       "0.3507214206437292"
      ]
     },
     "execution_count": 75,
     "metadata": {},
     "output_type": "execute_result"
    }
   ],
   "source": [
    "f1_score(target_valid,RF_valid_pred)"
   ]
  },
  {
   "cell_type": "code",
   "execution_count": 76,
   "metadata": {},
   "outputs": [
    {
     "data": {
      "text/plain": [
       "array([0.38041411, 0.18453521, 0.52671545, ..., 0.48986416, 0.05137062,\n",
       "       0.21323823])"
      ]
     },
     "execution_count": 76,
     "metadata": {},
     "output_type": "execute_result"
    }
   ],
   "source": [
    "predictions_RandomForest[:,1]"
   ]
  },
  {
   "cell_type": "code",
   "execution_count": 77,
   "metadata": {},
   "outputs": [
    {
     "name": "stdout",
     "output_type": "stream",
     "text": [
      "Best f1: 0.40825190010857765, threshold: 0.6105945382063614\n",
      "Best accuracy: 0.9360611336815632, threshold: 0.9102033167055299\n"
     ]
    },
    {
     "data": {
      "image/png": "[encoded data removed]",
      "text/plain": [
       "<Figure size 720x360 with 1 Axes>"
      ]
     },
     "metadata": {
      "needs_background": "light"
     },
     "output_type": "display_data"
    }
   ],
   "source": [
    "best_threshold(target_valid,predictions_RandomForest[:,1],\"RandomForest\")"
   ]
  },
  {
   "cell_type": "code",
   "execution_count": 78,
   "metadata": {},
   "outputs": [
    {
     "name": "stderr",
     "output_type": "stream",
     "text": [
      "[Parallel(n_jobs=12)]: Using backend ThreadingBackend with 12 concurrent workers.\n",
      "[Parallel(n_jobs=12)]: Done   1 tasks      | elapsed:    0.0s\n",
      "[Parallel(n_jobs=12)]: Done   8 tasks      | elapsed:    0.0s\n",
      "[Parallel(n_jobs=12)]: Done  17 tasks      | elapsed:    0.0s\n",
      "[Parallel(n_jobs=12)]: Done  26 tasks      | elapsed:    0.0s\n",
      "[Parallel(n_jobs=12)]: Done  37 tasks      | elapsed:    0.0s\n",
      "[Parallel(n_jobs=12)]: Done  48 tasks      | elapsed:    0.0s\n",
      "[Parallel(n_jobs=12)]: Done  61 tasks      | elapsed:    0.0s\n",
      "[Parallel(n_jobs=12)]: Done  74 tasks      | elapsed:    0.0s\n",
      "[Parallel(n_jobs=12)]: Done  89 tasks      | elapsed:    0.0s\n",
      "[Parallel(n_jobs=12)]: Done 104 tasks      | elapsed:    0.0s\n",
      "[Parallel(n_jobs=12)]: Done 121 tasks      | elapsed:    0.0s\n",
      "[Parallel(n_jobs=12)]: Done 138 tasks      | elapsed:    0.0s\n",
      "[Parallel(n_jobs=12)]: Done 157 tasks      | elapsed:    0.0s\n",
      "[Parallel(n_jobs=12)]: Done 176 tasks      | elapsed:    0.0s\n",
      "[Parallel(n_jobs=12)]: Done 198 out of 200 | elapsed:    0.0s remaining:    0.0s\n",
      "[Parallel(n_jobs=12)]: Done 200 out of 200 | elapsed:    0.0s finished\n",
      "[Parallel(n_jobs=12)]: Using backend ThreadingBackend with 12 concurrent workers.\n",
      "[Parallel(n_jobs=12)]: Done   1 tasks      | elapsed:    0.0s\n",
      "[Parallel(n_jobs=12)]: Done   8 tasks      | elapsed:    0.0s\n",
      "[Parallel(n_jobs=12)]: Done  17 tasks      | elapsed:    0.0s\n",
      "[Parallel(n_jobs=12)]: Done  26 tasks      | elapsed:    0.0s\n",
      "[Parallel(n_jobs=12)]: Done  37 tasks      | elapsed:    0.0s\n",
      "[Parallel(n_jobs=12)]: Done  48 tasks      | elapsed:    0.0s\n",
      "[Parallel(n_jobs=12)]: Done  61 tasks      | elapsed:    0.0s\n",
      "[Parallel(n_jobs=12)]: Done  74 tasks      | elapsed:    0.0s\n",
      "[Parallel(n_jobs=12)]: Done  89 tasks      | elapsed:    0.0s\n",
      "[Parallel(n_jobs=12)]: Done 104 tasks      | elapsed:    0.0s\n",
      "[Parallel(n_jobs=12)]: Done 121 tasks      | elapsed:    0.0s\n",
      "[Parallel(n_jobs=12)]: Done 138 tasks      | elapsed:    0.0s\n",
      "[Parallel(n_jobs=12)]: Done 157 tasks      | elapsed:    0.0s\n",
      "[Parallel(n_jobs=12)]: Done 176 tasks      | elapsed:    0.0s\n",
      "[Parallel(n_jobs=12)]: Done 198 out of 200 | elapsed:    0.0s remaining:    0.0s\n",
      "[Parallel(n_jobs=12)]: Done 200 out of 200 | elapsed:    0.0s finished\n"
     ]
    }
   ],
   "source": [
    "RF_test_pred = RF.predict(design_test)\n",
    "predictions_test_RandomForest = RF.predict_proba(design_test)"
   ]
  },
  {
   "cell_type": "code",
   "execution_count": 79,
   "metadata": {},
   "outputs": [
    {
     "name": "stdout",
     "output_type": "stream",
     "text": [
      "Best f1: 0.3953623188405797, threshold: 0.6376498719440897\n",
      "Best accuracy: 0.936357481381178, threshold: 0.9279850762578302\n"
     ]
    },
    {
     "data": {
      "image/png": "[encoded data removed]",
      "text/plain": [
       "<Figure size 720x360 with 1 Axes>"
      ]
     },
     "metadata": {
      "needs_background": "light"
     },
     "output_type": "display_data"
    }
   ],
   "source": [
    "best_threshold(target_test,predictions_test_RandomForest[:,1],\"RandomForest\")"
   ]
  },
  {
   "cell_type": "code",
   "execution_count": null,
   "metadata": {},
   "outputs": [],
   "source": []
  }
 ],
 "metadata": {
  "kernelspec": {
   "display_name": "Python 3",
   "language": "python",
   "name": "python3"
  },
  "language_info": {
   "codemirror_mode": {
    "name": "ipython",
    "version": 3
   },
   "file_extension": ".py",
   "mimetype": "text/x-python",
   "name": "python",
   "nbconvert_exporter": "python",
   "pygments_lexer": "ipython3",
   "version": "3.8.3"
  },
  "toc": {
   "base_numbering": 1,
   "nav_menu": {},
   "number_sections": true,
   "sideBar": true,
   "skip_h1_title": false,
   "title_cell": "Содержание",
   "title_sidebar": "Contents",
   "toc_cell": true,
   "toc_position": {
    "height": "429.71429443359375px",
    "left": "82px",
    "top": "93.85713958740234px",
    "width": "212px"
   },
   "toc_section_display": true,
   "toc_window_display": true
  }
 },
 "nbformat": 4,
 "nbformat_minor": 4
}
